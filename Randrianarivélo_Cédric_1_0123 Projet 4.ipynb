{
 "cells": [
  {
   "cell_type": "markdown",
   "id": "5c933d9d",
   "metadata": {},
   "source": [
    "#  Notebook 1 de l'analyse exploratoire "
   ]
  },
  {
   "cell_type": "markdown",
   "id": "adc10de9",
   "metadata": {},
   "source": [
    "Dans ce notebook, nous allons effectuer une analyse exploratoire de nos données."
   ]
  },
  {
   "cell_type": "markdown",
   "id": "06bfcaae",
   "metadata": {},
   "source": [
    "# Import des bibliotéque"
   ]
  },
  {
   "cell_type": "code",
   "execution_count": 1,
   "id": "4ab838be",
   "metadata": {},
   "outputs": [],
   "source": [
    "import IPython.display\n",
    "import pandas as pd\n",
    "import numpy as np\n",
    "import matplotlib.pyplot as plt\n",
    "import seaborn as sns\n",
    "import plotly.express as px\n",
    "%matplotlib inline\n",
    "pd.set_option(\"display.max_columns\", 50)"
   ]
  },
  {
   "cell_type": "markdown",
   "id": "80f13059",
   "metadata": {},
   "source": [
    "# Import des données"
   ]
  },
  {
   "cell_type": "code",
   "execution_count": 2,
   "id": "47c922ea",
   "metadata": {},
   "outputs": [],
   "source": [
    "customers = pd.read_csv('olist_customers_dataset.csv')\n",
    "geolocation = pd.read_csv('olist_geolocation_dataset.csv')\n",
    "order_items = pd.read_csv(\"olist_order_items_dataset.csv\")\n",
    "payment = pd.read_csv(\"olist_order_payments_dataset.csv\")\n",
    "reviews = pd.read_csv(\"olist_order_reviews_dataset.csv\")\n",
    "orders = pd.read_csv(\"olist_orders_dataset.csv\")\n",
    "products = pd.read_csv(\"olist_products_dataset.csv\")\n",
    "sellers = pd.read_csv(\"olist_sellers_dataset.csv\")\n",
    "category = pd.read_csv(\"product_category_name_translation.csv\")"
   ]
  },
  {
   "cell_type": "markdown",
   "id": "4389f7ed",
   "metadata": {},
   "source": [
    "#  Milestone 1 : Analyse exploratoire"
   ]
  },
  {
   "cell_type": "markdown",
   "id": "0c0f0dc0",
   "metadata": {},
   "source": [
    "On identifie les doublons dans notre dataset"
   ]
  },
  {
   "cell_type": "code",
   "execution_count": 3,
   "id": "6ad70f72",
   "metadata": {},
   "outputs": [],
   "source": [
    "fichiers = [\n",
    "                customers,\n",
    "                geolocation,\n",
    "                order_items,\n",
    "                payment,\n",
    "                reviews,\n",
    "                orders,\n",
    "                products,\n",
    "                sellers,\n",
    "                category\n",
    "\n",
    "]"
   ]
  },
  {
   "cell_type": "code",
   "execution_count": 4,
   "id": "502d55d9",
   "metadata": {},
   "outputs": [
    {
     "name": "stdout",
     "output_type": "stream",
     "text": [
      "0 doublons\n",
      "261831 doublons\n",
      "0 doublons\n",
      "0 doublons\n",
      "0 doublons\n",
      "0 doublons\n",
      "0 doublons\n",
      "0 doublons\n",
      "0 doublons\n"
     ]
    }
   ],
   "source": [
    "for fi in fichiers :\n",
    "    print(fi.duplicated().sum(), \"doublons\")"
   ]
  },
  {
   "cell_type": "markdown",
   "id": "8dea39a5",
   "metadata": {},
   "source": [
    "## Visualisation des données "
   ]
  },
  {
   "cell_type": "markdown",
   "id": "827ae505",
   "metadata": {},
   "source": [
    "Dans le dataset des customers, on dispose des données caractérisant les clients."
   ]
  },
  {
   "cell_type": "code",
   "execution_count": 5,
   "id": "f7405d50",
   "metadata": {},
   "outputs": [
    {
     "name": "stdout",
     "output_type": "stream",
     "text": [
      " Dans fichier customers il y a : \n",
      " 99441 lignes et 5 colonnes\n"
     ]
    },
    {
     "data": {
      "text/html": [
       "<div>\n",
       "<style scoped>\n",
       "    .dataframe tbody tr th:only-of-type {\n",
       "        vertical-align: middle;\n",
       "    }\n",
       "\n",
       "    .dataframe tbody tr th {\n",
       "        vertical-align: top;\n",
       "    }\n",
       "\n",
       "    .dataframe thead th {\n",
       "        text-align: right;\n",
       "    }\n",
       "</style>\n",
       "<table border=\"1\" class=\"dataframe\">\n",
       "  <thead>\n",
       "    <tr style=\"text-align: right;\">\n",
       "      <th></th>\n",
       "      <th>customer_id</th>\n",
       "      <th>customer_unique_id</th>\n",
       "      <th>customer_zip_code_prefix</th>\n",
       "      <th>customer_city</th>\n",
       "      <th>customer_state</th>\n",
       "    </tr>\n",
       "  </thead>\n",
       "  <tbody>\n",
       "    <tr>\n",
       "      <th>0</th>\n",
       "      <td>06b8999e2fba1a1fbc88172c00ba8bc7</td>\n",
       "      <td>861eff4711a542e4b93843c6dd7febb0</td>\n",
       "      <td>14409</td>\n",
       "      <td>franca</td>\n",
       "      <td>SP</td>\n",
       "    </tr>\n",
       "    <tr>\n",
       "      <th>1</th>\n",
       "      <td>18955e83d337fd6b2def6b18a428ac77</td>\n",
       "      <td>290c77bc529b7ac935b93aa66c333dc3</td>\n",
       "      <td>9790</td>\n",
       "      <td>sao bernardo do campo</td>\n",
       "      <td>SP</td>\n",
       "    </tr>\n",
       "    <tr>\n",
       "      <th>2</th>\n",
       "      <td>4e7b3e00288586ebd08712fdd0374a03</td>\n",
       "      <td>060e732b5b29e8181a18229c7b0b2b5e</td>\n",
       "      <td>1151</td>\n",
       "      <td>sao paulo</td>\n",
       "      <td>SP</td>\n",
       "    </tr>\n",
       "    <tr>\n",
       "      <th>3</th>\n",
       "      <td>b2b6027bc5c5109e529d4dc6358b12c3</td>\n",
       "      <td>259dac757896d24d7702b9acbbff3f3c</td>\n",
       "      <td>8775</td>\n",
       "      <td>mogi das cruzes</td>\n",
       "      <td>SP</td>\n",
       "    </tr>\n",
       "    <tr>\n",
       "      <th>4</th>\n",
       "      <td>4f2d8ab171c80ec8364f7c12e35b23ad</td>\n",
       "      <td>345ecd01c38d18a9036ed96c73b8d066</td>\n",
       "      <td>13056</td>\n",
       "      <td>campinas</td>\n",
       "      <td>SP</td>\n",
       "    </tr>\n",
       "  </tbody>\n",
       "</table>\n",
       "</div>"
      ],
      "text/plain": [
       "                        customer_id                customer_unique_id  \\\n",
       "0  06b8999e2fba1a1fbc88172c00ba8bc7  861eff4711a542e4b93843c6dd7febb0   \n",
       "1  18955e83d337fd6b2def6b18a428ac77  290c77bc529b7ac935b93aa66c333dc3   \n",
       "2  4e7b3e00288586ebd08712fdd0374a03  060e732b5b29e8181a18229c7b0b2b5e   \n",
       "3  b2b6027bc5c5109e529d4dc6358b12c3  259dac757896d24d7702b9acbbff3f3c   \n",
       "4  4f2d8ab171c80ec8364f7c12e35b23ad  345ecd01c38d18a9036ed96c73b8d066   \n",
       "\n",
       "   customer_zip_code_prefix          customer_city customer_state  \n",
       "0                     14409                 franca             SP  \n",
       "1                      9790  sao bernardo do campo             SP  \n",
       "2                      1151              sao paulo             SP  \n",
       "3                      8775        mogi das cruzes             SP  \n",
       "4                     13056               campinas             SP  "
      ]
     },
     "execution_count": 5,
     "metadata": {},
     "output_type": "execute_result"
    }
   ],
   "source": [
    "print(f\" Dans fichier customers il y a : \\n {customers.shape[0]} lignes et {customers.shape[1]} colonnes\")\n",
    "customers.head(5)"
   ]
  },
  {
   "cell_type": "markdown",
   "id": "72114998",
   "metadata": {},
   "source": [
    "Dans le dataset Geolocalisation on dispose des données caractérisant les données géographiques."
   ]
  },
  {
   "cell_type": "code",
   "execution_count": 6,
   "id": "9a7d119b",
   "metadata": {},
   "outputs": [
    {
     "name": "stdout",
     "output_type": "stream",
     "text": [
      " Dans fichier Geolocalisation il y a : \n",
      " 1000163 lignes et 5 colonnes\n"
     ]
    },
    {
     "data": {
      "text/html": [
       "<div>\n",
       "<style scoped>\n",
       "    .dataframe tbody tr th:only-of-type {\n",
       "        vertical-align: middle;\n",
       "    }\n",
       "\n",
       "    .dataframe tbody tr th {\n",
       "        vertical-align: top;\n",
       "    }\n",
       "\n",
       "    .dataframe thead th {\n",
       "        text-align: right;\n",
       "    }\n",
       "</style>\n",
       "<table border=\"1\" class=\"dataframe\">\n",
       "  <thead>\n",
       "    <tr style=\"text-align: right;\">\n",
       "      <th></th>\n",
       "      <th>geolocation_zip_code_prefix</th>\n",
       "      <th>geolocation_lat</th>\n",
       "      <th>geolocation_lng</th>\n",
       "      <th>geolocation_city</th>\n",
       "      <th>geolocation_state</th>\n",
       "    </tr>\n",
       "  </thead>\n",
       "  <tbody>\n",
       "    <tr>\n",
       "      <th>0</th>\n",
       "      <td>1037</td>\n",
       "      <td>-23.545621</td>\n",
       "      <td>-46.639292</td>\n",
       "      <td>sao paulo</td>\n",
       "      <td>SP</td>\n",
       "    </tr>\n",
       "    <tr>\n",
       "      <th>1</th>\n",
       "      <td>1046</td>\n",
       "      <td>-23.546081</td>\n",
       "      <td>-46.644820</td>\n",
       "      <td>sao paulo</td>\n",
       "      <td>SP</td>\n",
       "    </tr>\n",
       "    <tr>\n",
       "      <th>2</th>\n",
       "      <td>1046</td>\n",
       "      <td>-23.546129</td>\n",
       "      <td>-46.642951</td>\n",
       "      <td>sao paulo</td>\n",
       "      <td>SP</td>\n",
       "    </tr>\n",
       "    <tr>\n",
       "      <th>3</th>\n",
       "      <td>1041</td>\n",
       "      <td>-23.544392</td>\n",
       "      <td>-46.639499</td>\n",
       "      <td>sao paulo</td>\n",
       "      <td>SP</td>\n",
       "    </tr>\n",
       "    <tr>\n",
       "      <th>4</th>\n",
       "      <td>1035</td>\n",
       "      <td>-23.541578</td>\n",
       "      <td>-46.641607</td>\n",
       "      <td>sao paulo</td>\n",
       "      <td>SP</td>\n",
       "    </tr>\n",
       "  </tbody>\n",
       "</table>\n",
       "</div>"
      ],
      "text/plain": [
       "   geolocation_zip_code_prefix  geolocation_lat  geolocation_lng  \\\n",
       "0                         1037       -23.545621       -46.639292   \n",
       "1                         1046       -23.546081       -46.644820   \n",
       "2                         1046       -23.546129       -46.642951   \n",
       "3                         1041       -23.544392       -46.639499   \n",
       "4                         1035       -23.541578       -46.641607   \n",
       "\n",
       "  geolocation_city geolocation_state  \n",
       "0        sao paulo                SP  \n",
       "1        sao paulo                SP  \n",
       "2        sao paulo                SP  \n",
       "3        sao paulo                SP  \n",
       "4        sao paulo                SP  "
      ]
     },
     "execution_count": 6,
     "metadata": {},
     "output_type": "execute_result"
    }
   ],
   "source": [
    "print(f\" Dans fichier Geolocalisation il y a : \\n {geolocation.shape[0]} lignes et {geolocation.shape[1]} colonnes\")\n",
    "geolocation.head(5)"
   ]
  },
  {
   "cell_type": "markdown",
   "id": "adf75917",
   "metadata": {},
   "source": [
    "Dans le fichier order items on dipose des données sur les commandes des clients."
   ]
  },
  {
   "cell_type": "code",
   "execution_count": 7,
   "id": "3aedf840",
   "metadata": {},
   "outputs": [
    {
     "name": "stdout",
     "output_type": "stream",
     "text": [
      " Dans fichier order_items  il y a : \n",
      " 112650 lignes et 7 colonnes\n"
     ]
    },
    {
     "data": {
      "text/html": [
       "<div>\n",
       "<style scoped>\n",
       "    .dataframe tbody tr th:only-of-type {\n",
       "        vertical-align: middle;\n",
       "    }\n",
       "\n",
       "    .dataframe tbody tr th {\n",
       "        vertical-align: top;\n",
       "    }\n",
       "\n",
       "    .dataframe thead th {\n",
       "        text-align: right;\n",
       "    }\n",
       "</style>\n",
       "<table border=\"1\" class=\"dataframe\">\n",
       "  <thead>\n",
       "    <tr style=\"text-align: right;\">\n",
       "      <th></th>\n",
       "      <th>order_id</th>\n",
       "      <th>order_item_id</th>\n",
       "      <th>product_id</th>\n",
       "      <th>seller_id</th>\n",
       "      <th>shipping_limit_date</th>\n",
       "      <th>price</th>\n",
       "      <th>freight_value</th>\n",
       "    </tr>\n",
       "  </thead>\n",
       "  <tbody>\n",
       "    <tr>\n",
       "      <th>0</th>\n",
       "      <td>00010242fe8c5a6d1ba2dd792cb16214</td>\n",
       "      <td>1</td>\n",
       "      <td>4244733e06e7ecb4970a6e2683c13e61</td>\n",
       "      <td>48436dade18ac8b2bce089ec2a041202</td>\n",
       "      <td>2017-09-19 09:45:35</td>\n",
       "      <td>58.90</td>\n",
       "      <td>13.29</td>\n",
       "    </tr>\n",
       "    <tr>\n",
       "      <th>1</th>\n",
       "      <td>00018f77f2f0320c557190d7a144bdd3</td>\n",
       "      <td>1</td>\n",
       "      <td>e5f2d52b802189ee658865ca93d83a8f</td>\n",
       "      <td>dd7ddc04e1b6c2c614352b383efe2d36</td>\n",
       "      <td>2017-05-03 11:05:13</td>\n",
       "      <td>239.90</td>\n",
       "      <td>19.93</td>\n",
       "    </tr>\n",
       "    <tr>\n",
       "      <th>2</th>\n",
       "      <td>000229ec398224ef6ca0657da4fc703e</td>\n",
       "      <td>1</td>\n",
       "      <td>c777355d18b72b67abbeef9df44fd0fd</td>\n",
       "      <td>5b51032eddd242adc84c38acab88f23d</td>\n",
       "      <td>2018-01-18 14:48:30</td>\n",
       "      <td>199.00</td>\n",
       "      <td>17.87</td>\n",
       "    </tr>\n",
       "    <tr>\n",
       "      <th>3</th>\n",
       "      <td>00024acbcdf0a6daa1e931b038114c75</td>\n",
       "      <td>1</td>\n",
       "      <td>7634da152a4610f1595efa32f14722fc</td>\n",
       "      <td>9d7a1d34a5052409006425275ba1c2b4</td>\n",
       "      <td>2018-08-15 10:10:18</td>\n",
       "      <td>12.99</td>\n",
       "      <td>12.79</td>\n",
       "    </tr>\n",
       "    <tr>\n",
       "      <th>4</th>\n",
       "      <td>00042b26cf59d7ce69dfabb4e55b4fd9</td>\n",
       "      <td>1</td>\n",
       "      <td>ac6c3623068f30de03045865e4e10089</td>\n",
       "      <td>df560393f3a51e74553ab94004ba5c87</td>\n",
       "      <td>2017-02-13 13:57:51</td>\n",
       "      <td>199.90</td>\n",
       "      <td>18.14</td>\n",
       "    </tr>\n",
       "  </tbody>\n",
       "</table>\n",
       "</div>"
      ],
      "text/plain": [
       "                           order_id  order_item_id  \\\n",
       "0  00010242fe8c5a6d1ba2dd792cb16214              1   \n",
       "1  00018f77f2f0320c557190d7a144bdd3              1   \n",
       "2  000229ec398224ef6ca0657da4fc703e              1   \n",
       "3  00024acbcdf0a6daa1e931b038114c75              1   \n",
       "4  00042b26cf59d7ce69dfabb4e55b4fd9              1   \n",
       "\n",
       "                         product_id                         seller_id  \\\n",
       "0  4244733e06e7ecb4970a6e2683c13e61  48436dade18ac8b2bce089ec2a041202   \n",
       "1  e5f2d52b802189ee658865ca93d83a8f  dd7ddc04e1b6c2c614352b383efe2d36   \n",
       "2  c777355d18b72b67abbeef9df44fd0fd  5b51032eddd242adc84c38acab88f23d   \n",
       "3  7634da152a4610f1595efa32f14722fc  9d7a1d34a5052409006425275ba1c2b4   \n",
       "4  ac6c3623068f30de03045865e4e10089  df560393f3a51e74553ab94004ba5c87   \n",
       "\n",
       "   shipping_limit_date   price  freight_value  \n",
       "0  2017-09-19 09:45:35   58.90          13.29  \n",
       "1  2017-05-03 11:05:13  239.90          19.93  \n",
       "2  2018-01-18 14:48:30  199.00          17.87  \n",
       "3  2018-08-15 10:10:18   12.99          12.79  \n",
       "4  2017-02-13 13:57:51  199.90          18.14  "
      ]
     },
     "execution_count": 7,
     "metadata": {},
     "output_type": "execute_result"
    }
   ],
   "source": [
    "print(f\" Dans fichier order_items  il y a : \\n {order_items.shape[0]} lignes et {order_items .shape[1]} colonnes\")\n",
    "order_items .head(5)"
   ]
  },
  {
   "cell_type": "markdown",
   "id": "f3304cd8",
   "metadata": {},
   "source": [
    "Dans le fichier Payment, on dispose des données de paiement sur les commandes."
   ]
  },
  {
   "cell_type": "code",
   "execution_count": 8,
   "id": "b3c10b6c",
   "metadata": {},
   "outputs": [
    {
     "name": "stdout",
     "output_type": "stream",
     "text": [
      " Dans fichier payment il y a : \n",
      " 103886 lignes et 5 colonnes\n"
     ]
    },
    {
     "data": {
      "text/html": [
       "<div>\n",
       "<style scoped>\n",
       "    .dataframe tbody tr th:only-of-type {\n",
       "        vertical-align: middle;\n",
       "    }\n",
       "\n",
       "    .dataframe tbody tr th {\n",
       "        vertical-align: top;\n",
       "    }\n",
       "\n",
       "    .dataframe thead th {\n",
       "        text-align: right;\n",
       "    }\n",
       "</style>\n",
       "<table border=\"1\" class=\"dataframe\">\n",
       "  <thead>\n",
       "    <tr style=\"text-align: right;\">\n",
       "      <th></th>\n",
       "      <th>order_id</th>\n",
       "      <th>payment_sequential</th>\n",
       "      <th>payment_type</th>\n",
       "      <th>payment_installments</th>\n",
       "      <th>payment_value</th>\n",
       "    </tr>\n",
       "  </thead>\n",
       "  <tbody>\n",
       "    <tr>\n",
       "      <th>0</th>\n",
       "      <td>b81ef226f3fe1789b1e8b2acac839d17</td>\n",
       "      <td>1</td>\n",
       "      <td>credit_card</td>\n",
       "      <td>8</td>\n",
       "      <td>99.33</td>\n",
       "    </tr>\n",
       "    <tr>\n",
       "      <th>1</th>\n",
       "      <td>a9810da82917af2d9aefd1278f1dcfa0</td>\n",
       "      <td>1</td>\n",
       "      <td>credit_card</td>\n",
       "      <td>1</td>\n",
       "      <td>24.39</td>\n",
       "    </tr>\n",
       "    <tr>\n",
       "      <th>2</th>\n",
       "      <td>25e8ea4e93396b6fa0d3dd708e76c1bd</td>\n",
       "      <td>1</td>\n",
       "      <td>credit_card</td>\n",
       "      <td>1</td>\n",
       "      <td>65.71</td>\n",
       "    </tr>\n",
       "    <tr>\n",
       "      <th>3</th>\n",
       "      <td>ba78997921bbcdc1373bb41e913ab953</td>\n",
       "      <td>1</td>\n",
       "      <td>credit_card</td>\n",
       "      <td>8</td>\n",
       "      <td>107.78</td>\n",
       "    </tr>\n",
       "    <tr>\n",
       "      <th>4</th>\n",
       "      <td>42fdf880ba16b47b59251dd489d4441a</td>\n",
       "      <td>1</td>\n",
       "      <td>credit_card</td>\n",
       "      <td>2</td>\n",
       "      <td>128.45</td>\n",
       "    </tr>\n",
       "  </tbody>\n",
       "</table>\n",
       "</div>"
      ],
      "text/plain": [
       "                           order_id  payment_sequential payment_type  \\\n",
       "0  b81ef226f3fe1789b1e8b2acac839d17                   1  credit_card   \n",
       "1  a9810da82917af2d9aefd1278f1dcfa0                   1  credit_card   \n",
       "2  25e8ea4e93396b6fa0d3dd708e76c1bd                   1  credit_card   \n",
       "3  ba78997921bbcdc1373bb41e913ab953                   1  credit_card   \n",
       "4  42fdf880ba16b47b59251dd489d4441a                   1  credit_card   \n",
       "\n",
       "   payment_installments  payment_value  \n",
       "0                     8          99.33  \n",
       "1                     1          24.39  \n",
       "2                     1          65.71  \n",
       "3                     8         107.78  \n",
       "4                     2         128.45  "
      ]
     },
     "execution_count": 8,
     "metadata": {},
     "output_type": "execute_result"
    }
   ],
   "source": [
    "print(f\" Dans fichier payment il y a : \\n {payment.shape[0]} lignes et {payment.shape[1]} colonnes\")\n",
    "payment.head(5)"
   ]
  },
  {
   "cell_type": "markdown",
   "id": "ef61f33e",
   "metadata": {},
   "source": [
    "Dans le fichier reviews, on dipose des données sur les avis sur les commandes."
   ]
  },
  {
   "cell_type": "code",
   "execution_count": 9,
   "id": "4cc1de55",
   "metadata": {},
   "outputs": [
    {
     "name": "stdout",
     "output_type": "stream",
     "text": [
      " Dans fichier reviews il y a : \n",
      " 99224 lignes et 7 colonnes\n"
     ]
    },
    {
     "data": {
      "text/html": [
       "<div>\n",
       "<style scoped>\n",
       "    .dataframe tbody tr th:only-of-type {\n",
       "        vertical-align: middle;\n",
       "    }\n",
       "\n",
       "    .dataframe tbody tr th {\n",
       "        vertical-align: top;\n",
       "    }\n",
       "\n",
       "    .dataframe thead th {\n",
       "        text-align: right;\n",
       "    }\n",
       "</style>\n",
       "<table border=\"1\" class=\"dataframe\">\n",
       "  <thead>\n",
       "    <tr style=\"text-align: right;\">\n",
       "      <th></th>\n",
       "      <th>review_id</th>\n",
       "      <th>order_id</th>\n",
       "      <th>review_score</th>\n",
       "      <th>review_comment_title</th>\n",
       "      <th>review_comment_message</th>\n",
       "      <th>review_creation_date</th>\n",
       "      <th>review_answer_timestamp</th>\n",
       "    </tr>\n",
       "  </thead>\n",
       "  <tbody>\n",
       "    <tr>\n",
       "      <th>0</th>\n",
       "      <td>7bc2406110b926393aa56f80a40eba40</td>\n",
       "      <td>73fc7af87114b39712e6da79b0a377eb</td>\n",
       "      <td>4</td>\n",
       "      <td>NaN</td>\n",
       "      <td>NaN</td>\n",
       "      <td>2018-01-18 00:00:00</td>\n",
       "      <td>2018-01-18 21:46:59</td>\n",
       "    </tr>\n",
       "    <tr>\n",
       "      <th>1</th>\n",
       "      <td>80e641a11e56f04c1ad469d5645fdfde</td>\n",
       "      <td>a548910a1c6147796b98fdf73dbeba33</td>\n",
       "      <td>5</td>\n",
       "      <td>NaN</td>\n",
       "      <td>NaN</td>\n",
       "      <td>2018-03-10 00:00:00</td>\n",
       "      <td>2018-03-11 03:05:13</td>\n",
       "    </tr>\n",
       "    <tr>\n",
       "      <th>2</th>\n",
       "      <td>228ce5500dc1d8e020d8d1322874b6f0</td>\n",
       "      <td>f9e4b658b201a9f2ecdecbb34bed034b</td>\n",
       "      <td>5</td>\n",
       "      <td>NaN</td>\n",
       "      <td>NaN</td>\n",
       "      <td>2018-02-17 00:00:00</td>\n",
       "      <td>2018-02-18 14:36:24</td>\n",
       "    </tr>\n",
       "    <tr>\n",
       "      <th>3</th>\n",
       "      <td>e64fb393e7b32834bb789ff8bb30750e</td>\n",
       "      <td>658677c97b385a9be170737859d3511b</td>\n",
       "      <td>5</td>\n",
       "      <td>NaN</td>\n",
       "      <td>Recebi bem antes do prazo estipulado.</td>\n",
       "      <td>2017-04-21 00:00:00</td>\n",
       "      <td>2017-04-21 22:02:06</td>\n",
       "    </tr>\n",
       "    <tr>\n",
       "      <th>4</th>\n",
       "      <td>f7c4243c7fe1938f181bec41a392bdeb</td>\n",
       "      <td>8e6bfb81e283fa7e4f11123a3fb894f1</td>\n",
       "      <td>5</td>\n",
       "      <td>NaN</td>\n",
       "      <td>Parabéns lojas lannister adorei comprar pela I...</td>\n",
       "      <td>2018-03-01 00:00:00</td>\n",
       "      <td>2018-03-02 10:26:53</td>\n",
       "    </tr>\n",
       "  </tbody>\n",
       "</table>\n",
       "</div>"
      ],
      "text/plain": [
       "                          review_id                          order_id  \\\n",
       "0  7bc2406110b926393aa56f80a40eba40  73fc7af87114b39712e6da79b0a377eb   \n",
       "1  80e641a11e56f04c1ad469d5645fdfde  a548910a1c6147796b98fdf73dbeba33   \n",
       "2  228ce5500dc1d8e020d8d1322874b6f0  f9e4b658b201a9f2ecdecbb34bed034b   \n",
       "3  e64fb393e7b32834bb789ff8bb30750e  658677c97b385a9be170737859d3511b   \n",
       "4  f7c4243c7fe1938f181bec41a392bdeb  8e6bfb81e283fa7e4f11123a3fb894f1   \n",
       "\n",
       "   review_score review_comment_title  \\\n",
       "0             4                  NaN   \n",
       "1             5                  NaN   \n",
       "2             5                  NaN   \n",
       "3             5                  NaN   \n",
       "4             5                  NaN   \n",
       "\n",
       "                              review_comment_message review_creation_date  \\\n",
       "0                                                NaN  2018-01-18 00:00:00   \n",
       "1                                                NaN  2018-03-10 00:00:00   \n",
       "2                                                NaN  2018-02-17 00:00:00   \n",
       "3              Recebi bem antes do prazo estipulado.  2017-04-21 00:00:00   \n",
       "4  Parabéns lojas lannister adorei comprar pela I...  2018-03-01 00:00:00   \n",
       "\n",
       "  review_answer_timestamp  \n",
       "0     2018-01-18 21:46:59  \n",
       "1     2018-03-11 03:05:13  \n",
       "2     2018-02-18 14:36:24  \n",
       "3     2017-04-21 22:02:06  \n",
       "4     2018-03-02 10:26:53  "
      ]
     },
     "execution_count": 9,
     "metadata": {},
     "output_type": "execute_result"
    }
   ],
   "source": [
    "print(f\" Dans fichier reviews il y a : \\n {reviews.shape[0]} lignes et {reviews.shape[1]} colonnes\")\n",
    "reviews.head(5)"
   ]
  },
  {
   "cell_type": "markdown",
   "id": "0f847c82",
   "metadata": {},
   "source": [
    "Dans le fichier Order, on dispose des données sur les détails logistiques des commandes."
   ]
  },
  {
   "cell_type": "code",
   "execution_count": 10,
   "id": "db4e9e78",
   "metadata": {},
   "outputs": [
    {
     "name": "stdout",
     "output_type": "stream",
     "text": [
      " Dans fichier orders il y a : \n",
      " 99441 lignes et 8 colonnes\n"
     ]
    },
    {
     "data": {
      "text/html": [
       "<div>\n",
       "<style scoped>\n",
       "    .dataframe tbody tr th:only-of-type {\n",
       "        vertical-align: middle;\n",
       "    }\n",
       "\n",
       "    .dataframe tbody tr th {\n",
       "        vertical-align: top;\n",
       "    }\n",
       "\n",
       "    .dataframe thead th {\n",
       "        text-align: right;\n",
       "    }\n",
       "</style>\n",
       "<table border=\"1\" class=\"dataframe\">\n",
       "  <thead>\n",
       "    <tr style=\"text-align: right;\">\n",
       "      <th></th>\n",
       "      <th>order_id</th>\n",
       "      <th>customer_id</th>\n",
       "      <th>order_status</th>\n",
       "      <th>order_purchase_timestamp</th>\n",
       "      <th>order_approved_at</th>\n",
       "      <th>order_delivered_carrier_date</th>\n",
       "      <th>order_delivered_customer_date</th>\n",
       "      <th>order_estimated_delivery_date</th>\n",
       "    </tr>\n",
       "  </thead>\n",
       "  <tbody>\n",
       "    <tr>\n",
       "      <th>0</th>\n",
       "      <td>e481f51cbdc54678b7cc49136f2d6af7</td>\n",
       "      <td>9ef432eb6251297304e76186b10a928d</td>\n",
       "      <td>delivered</td>\n",
       "      <td>2017-10-02 10:56:33</td>\n",
       "      <td>2017-10-02 11:07:15</td>\n",
       "      <td>2017-10-04 19:55:00</td>\n",
       "      <td>2017-10-10 21:25:13</td>\n",
       "      <td>2017-10-18 00:00:00</td>\n",
       "    </tr>\n",
       "    <tr>\n",
       "      <th>1</th>\n",
       "      <td>53cdb2fc8bc7dce0b6741e2150273451</td>\n",
       "      <td>b0830fb4747a6c6d20dea0b8c802d7ef</td>\n",
       "      <td>delivered</td>\n",
       "      <td>2018-07-24 20:41:37</td>\n",
       "      <td>2018-07-26 03:24:27</td>\n",
       "      <td>2018-07-26 14:31:00</td>\n",
       "      <td>2018-08-07 15:27:45</td>\n",
       "      <td>2018-08-13 00:00:00</td>\n",
       "    </tr>\n",
       "    <tr>\n",
       "      <th>2</th>\n",
       "      <td>47770eb9100c2d0c44946d9cf07ec65d</td>\n",
       "      <td>41ce2a54c0b03bf3443c3d931a367089</td>\n",
       "      <td>delivered</td>\n",
       "      <td>2018-08-08 08:38:49</td>\n",
       "      <td>2018-08-08 08:55:23</td>\n",
       "      <td>2018-08-08 13:50:00</td>\n",
       "      <td>2018-08-17 18:06:29</td>\n",
       "      <td>2018-09-04 00:00:00</td>\n",
       "    </tr>\n",
       "    <tr>\n",
       "      <th>3</th>\n",
       "      <td>949d5b44dbf5de918fe9c16f97b45f8a</td>\n",
       "      <td>f88197465ea7920adcdbec7375364d82</td>\n",
       "      <td>delivered</td>\n",
       "      <td>2017-11-18 19:28:06</td>\n",
       "      <td>2017-11-18 19:45:59</td>\n",
       "      <td>2017-11-22 13:39:59</td>\n",
       "      <td>2017-12-02 00:28:42</td>\n",
       "      <td>2017-12-15 00:00:00</td>\n",
       "    </tr>\n",
       "    <tr>\n",
       "      <th>4</th>\n",
       "      <td>ad21c59c0840e6cb83a9ceb5573f8159</td>\n",
       "      <td>8ab97904e6daea8866dbdbc4fb7aad2c</td>\n",
       "      <td>delivered</td>\n",
       "      <td>2018-02-13 21:18:39</td>\n",
       "      <td>2018-02-13 22:20:29</td>\n",
       "      <td>2018-02-14 19:46:34</td>\n",
       "      <td>2018-02-16 18:17:02</td>\n",
       "      <td>2018-02-26 00:00:00</td>\n",
       "    </tr>\n",
       "  </tbody>\n",
       "</table>\n",
       "</div>"
      ],
      "text/plain": [
       "                           order_id                       customer_id  \\\n",
       "0  e481f51cbdc54678b7cc49136f2d6af7  9ef432eb6251297304e76186b10a928d   \n",
       "1  53cdb2fc8bc7dce0b6741e2150273451  b0830fb4747a6c6d20dea0b8c802d7ef   \n",
       "2  47770eb9100c2d0c44946d9cf07ec65d  41ce2a54c0b03bf3443c3d931a367089   \n",
       "3  949d5b44dbf5de918fe9c16f97b45f8a  f88197465ea7920adcdbec7375364d82   \n",
       "4  ad21c59c0840e6cb83a9ceb5573f8159  8ab97904e6daea8866dbdbc4fb7aad2c   \n",
       "\n",
       "  order_status order_purchase_timestamp    order_approved_at  \\\n",
       "0    delivered      2017-10-02 10:56:33  2017-10-02 11:07:15   \n",
       "1    delivered      2018-07-24 20:41:37  2018-07-26 03:24:27   \n",
       "2    delivered      2018-08-08 08:38:49  2018-08-08 08:55:23   \n",
       "3    delivered      2017-11-18 19:28:06  2017-11-18 19:45:59   \n",
       "4    delivered      2018-02-13 21:18:39  2018-02-13 22:20:29   \n",
       "\n",
       "  order_delivered_carrier_date order_delivered_customer_date  \\\n",
       "0          2017-10-04 19:55:00           2017-10-10 21:25:13   \n",
       "1          2018-07-26 14:31:00           2018-08-07 15:27:45   \n",
       "2          2018-08-08 13:50:00           2018-08-17 18:06:29   \n",
       "3          2017-11-22 13:39:59           2017-12-02 00:28:42   \n",
       "4          2018-02-14 19:46:34           2018-02-16 18:17:02   \n",
       "\n",
       "  order_estimated_delivery_date  \n",
       "0           2017-10-18 00:00:00  \n",
       "1           2018-08-13 00:00:00  \n",
       "2           2018-09-04 00:00:00  \n",
       "3           2017-12-15 00:00:00  \n",
       "4           2018-02-26 00:00:00  "
      ]
     },
     "execution_count": 10,
     "metadata": {},
     "output_type": "execute_result"
    }
   ],
   "source": [
    "print(f\" Dans fichier orders il y a : \\n {orders.shape[0]} lignes et {orders.shape[1]} colonnes\")\n",
    "orders.head(5)"
   ]
  },
  {
   "cell_type": "markdown",
   "id": "f1730d4e",
   "metadata": {},
   "source": [
    "On dispose des données sur les produits vendus."
   ]
  },
  {
   "cell_type": "code",
   "execution_count": 11,
   "id": "1314afdb",
   "metadata": {},
   "outputs": [
    {
     "name": "stdout",
     "output_type": "stream",
     "text": [
      " Dans fichier products il y a : \n",
      " 32951 lignes et 9 colonnes\n"
     ]
    },
    {
     "data": {
      "text/html": [
       "<div>\n",
       "<style scoped>\n",
       "    .dataframe tbody tr th:only-of-type {\n",
       "        vertical-align: middle;\n",
       "    }\n",
       "\n",
       "    .dataframe tbody tr th {\n",
       "        vertical-align: top;\n",
       "    }\n",
       "\n",
       "    .dataframe thead th {\n",
       "        text-align: right;\n",
       "    }\n",
       "</style>\n",
       "<table border=\"1\" class=\"dataframe\">\n",
       "  <thead>\n",
       "    <tr style=\"text-align: right;\">\n",
       "      <th></th>\n",
       "      <th>product_id</th>\n",
       "      <th>product_category_name</th>\n",
       "      <th>product_name_lenght</th>\n",
       "      <th>product_description_lenght</th>\n",
       "      <th>product_photos_qty</th>\n",
       "      <th>product_weight_g</th>\n",
       "      <th>product_length_cm</th>\n",
       "      <th>product_height_cm</th>\n",
       "      <th>product_width_cm</th>\n",
       "    </tr>\n",
       "  </thead>\n",
       "  <tbody>\n",
       "    <tr>\n",
       "      <th>0</th>\n",
       "      <td>1e9e8ef04dbcff4541ed26657ea517e5</td>\n",
       "      <td>perfumaria</td>\n",
       "      <td>40.0</td>\n",
       "      <td>287.0</td>\n",
       "      <td>1.0</td>\n",
       "      <td>225.0</td>\n",
       "      <td>16.0</td>\n",
       "      <td>10.0</td>\n",
       "      <td>14.0</td>\n",
       "    </tr>\n",
       "    <tr>\n",
       "      <th>1</th>\n",
       "      <td>3aa071139cb16b67ca9e5dea641aaa2f</td>\n",
       "      <td>artes</td>\n",
       "      <td>44.0</td>\n",
       "      <td>276.0</td>\n",
       "      <td>1.0</td>\n",
       "      <td>1000.0</td>\n",
       "      <td>30.0</td>\n",
       "      <td>18.0</td>\n",
       "      <td>20.0</td>\n",
       "    </tr>\n",
       "    <tr>\n",
       "      <th>2</th>\n",
       "      <td>96bd76ec8810374ed1b65e291975717f</td>\n",
       "      <td>esporte_lazer</td>\n",
       "      <td>46.0</td>\n",
       "      <td>250.0</td>\n",
       "      <td>1.0</td>\n",
       "      <td>154.0</td>\n",
       "      <td>18.0</td>\n",
       "      <td>9.0</td>\n",
       "      <td>15.0</td>\n",
       "    </tr>\n",
       "    <tr>\n",
       "      <th>3</th>\n",
       "      <td>cef67bcfe19066a932b7673e239eb23d</td>\n",
       "      <td>bebes</td>\n",
       "      <td>27.0</td>\n",
       "      <td>261.0</td>\n",
       "      <td>1.0</td>\n",
       "      <td>371.0</td>\n",
       "      <td>26.0</td>\n",
       "      <td>4.0</td>\n",
       "      <td>26.0</td>\n",
       "    </tr>\n",
       "    <tr>\n",
       "      <th>4</th>\n",
       "      <td>9dc1a7de274444849c219cff195d0b71</td>\n",
       "      <td>utilidades_domesticas</td>\n",
       "      <td>37.0</td>\n",
       "      <td>402.0</td>\n",
       "      <td>4.0</td>\n",
       "      <td>625.0</td>\n",
       "      <td>20.0</td>\n",
       "      <td>17.0</td>\n",
       "      <td>13.0</td>\n",
       "    </tr>\n",
       "  </tbody>\n",
       "</table>\n",
       "</div>"
      ],
      "text/plain": [
       "                         product_id  product_category_name  \\\n",
       "0  1e9e8ef04dbcff4541ed26657ea517e5             perfumaria   \n",
       "1  3aa071139cb16b67ca9e5dea641aaa2f                  artes   \n",
       "2  96bd76ec8810374ed1b65e291975717f          esporte_lazer   \n",
       "3  cef67bcfe19066a932b7673e239eb23d                  bebes   \n",
       "4  9dc1a7de274444849c219cff195d0b71  utilidades_domesticas   \n",
       "\n",
       "   product_name_lenght  product_description_lenght  product_photos_qty  \\\n",
       "0                 40.0                       287.0                 1.0   \n",
       "1                 44.0                       276.0                 1.0   \n",
       "2                 46.0                       250.0                 1.0   \n",
       "3                 27.0                       261.0                 1.0   \n",
       "4                 37.0                       402.0                 4.0   \n",
       "\n",
       "   product_weight_g  product_length_cm  product_height_cm  product_width_cm  \n",
       "0             225.0               16.0               10.0              14.0  \n",
       "1            1000.0               30.0               18.0              20.0  \n",
       "2             154.0               18.0                9.0              15.0  \n",
       "3             371.0               26.0                4.0              26.0  \n",
       "4             625.0               20.0               17.0              13.0  "
      ]
     },
     "execution_count": 11,
     "metadata": {},
     "output_type": "execute_result"
    }
   ],
   "source": [
    "print(f\" Dans fichier products il y a : \\n {products.shape[0]} lignes et {products.shape[1]} colonnes\")\n",
    "products.head(5)"
   ]
  },
  {
   "cell_type": "markdown",
   "id": "a6179c1c",
   "metadata": {},
   "source": [
    "Dans le fichiers Sellers, on dispose des données sur les vendeurs."
   ]
  },
  {
   "cell_type": "code",
   "execution_count": 12,
   "id": "5f53fe72",
   "metadata": {},
   "outputs": [
    {
     "name": "stdout",
     "output_type": "stream",
     "text": [
      " Dans fichier sellers il y a : \n",
      " 3095 lignes et 4 colonnes\n"
     ]
    },
    {
     "data": {
      "text/html": [
       "<div>\n",
       "<style scoped>\n",
       "    .dataframe tbody tr th:only-of-type {\n",
       "        vertical-align: middle;\n",
       "    }\n",
       "\n",
       "    .dataframe tbody tr th {\n",
       "        vertical-align: top;\n",
       "    }\n",
       "\n",
       "    .dataframe thead th {\n",
       "        text-align: right;\n",
       "    }\n",
       "</style>\n",
       "<table border=\"1\" class=\"dataframe\">\n",
       "  <thead>\n",
       "    <tr style=\"text-align: right;\">\n",
       "      <th></th>\n",
       "      <th>seller_id</th>\n",
       "      <th>seller_zip_code_prefix</th>\n",
       "      <th>seller_city</th>\n",
       "      <th>seller_state</th>\n",
       "    </tr>\n",
       "  </thead>\n",
       "  <tbody>\n",
       "    <tr>\n",
       "      <th>0</th>\n",
       "      <td>3442f8959a84dea7ee197c632cb2df15</td>\n",
       "      <td>13023</td>\n",
       "      <td>campinas</td>\n",
       "      <td>SP</td>\n",
       "    </tr>\n",
       "    <tr>\n",
       "      <th>1</th>\n",
       "      <td>d1b65fc7debc3361ea86b5f14c68d2e2</td>\n",
       "      <td>13844</td>\n",
       "      <td>mogi guacu</td>\n",
       "      <td>SP</td>\n",
       "    </tr>\n",
       "    <tr>\n",
       "      <th>2</th>\n",
       "      <td>ce3ad9de960102d0677a81f5d0bb7b2d</td>\n",
       "      <td>20031</td>\n",
       "      <td>rio de janeiro</td>\n",
       "      <td>RJ</td>\n",
       "    </tr>\n",
       "    <tr>\n",
       "      <th>3</th>\n",
       "      <td>c0f3eea2e14555b6faeea3dd58c1b1c3</td>\n",
       "      <td>4195</td>\n",
       "      <td>sao paulo</td>\n",
       "      <td>SP</td>\n",
       "    </tr>\n",
       "    <tr>\n",
       "      <th>4</th>\n",
       "      <td>51a04a8a6bdcb23deccc82b0b80742cf</td>\n",
       "      <td>12914</td>\n",
       "      <td>braganca paulista</td>\n",
       "      <td>SP</td>\n",
       "    </tr>\n",
       "  </tbody>\n",
       "</table>\n",
       "</div>"
      ],
      "text/plain": [
       "                          seller_id  seller_zip_code_prefix  \\\n",
       "0  3442f8959a84dea7ee197c632cb2df15                   13023   \n",
       "1  d1b65fc7debc3361ea86b5f14c68d2e2                   13844   \n",
       "2  ce3ad9de960102d0677a81f5d0bb7b2d                   20031   \n",
       "3  c0f3eea2e14555b6faeea3dd58c1b1c3                    4195   \n",
       "4  51a04a8a6bdcb23deccc82b0b80742cf                   12914   \n",
       "\n",
       "         seller_city seller_state  \n",
       "0           campinas           SP  \n",
       "1         mogi guacu           SP  \n",
       "2     rio de janeiro           RJ  \n",
       "3          sao paulo           SP  \n",
       "4  braganca paulista           SP  "
      ]
     },
     "execution_count": 12,
     "metadata": {},
     "output_type": "execute_result"
    }
   ],
   "source": [
    "print(f\" Dans fichier sellers il y a : \\n {sellers.shape[0]} lignes et {sellers.shape[1]} colonnes\")\n",
    "sellers.head(5)"
   ]
  },
  {
   "cell_type": "code",
   "execution_count": 13,
   "id": "dea6861d",
   "metadata": {},
   "outputs": [
    {
     "name": "stdout",
     "output_type": "stream",
     "text": [
      " Dans fichier category il y a : \n",
      " 71 lignes et 2 colonnes\n"
     ]
    },
    {
     "data": {
      "text/html": [
       "<div>\n",
       "<style scoped>\n",
       "    .dataframe tbody tr th:only-of-type {\n",
       "        vertical-align: middle;\n",
       "    }\n",
       "\n",
       "    .dataframe tbody tr th {\n",
       "        vertical-align: top;\n",
       "    }\n",
       "\n",
       "    .dataframe thead th {\n",
       "        text-align: right;\n",
       "    }\n",
       "</style>\n",
       "<table border=\"1\" class=\"dataframe\">\n",
       "  <thead>\n",
       "    <tr style=\"text-align: right;\">\n",
       "      <th></th>\n",
       "      <th>product_category_name</th>\n",
       "      <th>product_category_name_english</th>\n",
       "    </tr>\n",
       "  </thead>\n",
       "  <tbody>\n",
       "    <tr>\n",
       "      <th>0</th>\n",
       "      <td>beleza_saude</td>\n",
       "      <td>health_beauty</td>\n",
       "    </tr>\n",
       "    <tr>\n",
       "      <th>1</th>\n",
       "      <td>informatica_acessorios</td>\n",
       "      <td>computers_accessories</td>\n",
       "    </tr>\n",
       "    <tr>\n",
       "      <th>2</th>\n",
       "      <td>automotivo</td>\n",
       "      <td>auto</td>\n",
       "    </tr>\n",
       "    <tr>\n",
       "      <th>3</th>\n",
       "      <td>cama_mesa_banho</td>\n",
       "      <td>bed_bath_table</td>\n",
       "    </tr>\n",
       "    <tr>\n",
       "      <th>4</th>\n",
       "      <td>moveis_decoracao</td>\n",
       "      <td>furniture_decor</td>\n",
       "    </tr>\n",
       "  </tbody>\n",
       "</table>\n",
       "</div>"
      ],
      "text/plain": [
       "    product_category_name product_category_name_english\n",
       "0            beleza_saude                 health_beauty\n",
       "1  informatica_acessorios         computers_accessories\n",
       "2              automotivo                          auto\n",
       "3         cama_mesa_banho                bed_bath_table\n",
       "4        moveis_decoracao               furniture_decor"
      ]
     },
     "execution_count": 13,
     "metadata": {},
     "output_type": "execute_result"
    }
   ],
   "source": [
    "print(f\" Dans fichier category il y a : \\n {category.shape[0]} lignes et {category.shape[1]} colonnes\")\n",
    "category.head(5)"
   ]
  },
  {
   "cell_type": "markdown",
   "id": "e6c761d5",
   "metadata": {},
   "source": [
    "# Feature Engineering"
   ]
  },
  {
   "cell_type": "markdown",
   "id": "52e79835",
   "metadata": {},
   "source": [
    "On souhaite trouver les cordonnées moyennes pour chaque ville. On effectue une moyenne des coordonnées par ville."
   ]
  },
  {
   "cell_type": "code",
   "execution_count": 14,
   "id": "ba648cf7",
   "metadata": {},
   "outputs": [],
   "source": [
    "geolocation = geolocation.groupby([\"geolocation_city\"]).mean().reset_index()"
   ]
  },
  {
   "cell_type": "code",
   "execution_count": 15,
   "id": "96a71047",
   "metadata": {},
   "outputs": [
    {
     "data": {
      "text/html": [
       "<div>\n",
       "<style scoped>\n",
       "    .dataframe tbody tr th:only-of-type {\n",
       "        vertical-align: middle;\n",
       "    }\n",
       "\n",
       "    .dataframe tbody tr th {\n",
       "        vertical-align: top;\n",
       "    }\n",
       "\n",
       "    .dataframe thead th {\n",
       "        text-align: right;\n",
       "    }\n",
       "</style>\n",
       "<table border=\"1\" class=\"dataframe\">\n",
       "  <thead>\n",
       "    <tr style=\"text-align: right;\">\n",
       "      <th></th>\n",
       "      <th>geolocation_city</th>\n",
       "      <th>geolocation_zip_code_prefix</th>\n",
       "      <th>geolocation_lat</th>\n",
       "      <th>geolocation_lng</th>\n",
       "    </tr>\n",
       "  </thead>\n",
       "  <tbody>\n",
       "    <tr>\n",
       "      <th>0</th>\n",
       "      <td>* cidade</td>\n",
       "      <td>81470.0</td>\n",
       "      <td>-25.571748</td>\n",
       "      <td>-49.334374</td>\n",
       "    </tr>\n",
       "    <tr>\n",
       "      <th>1</th>\n",
       "      <td>...arraial do cabo</td>\n",
       "      <td>28930.0</td>\n",
       "      <td>-22.969370</td>\n",
       "      <td>-42.029834</td>\n",
       "    </tr>\n",
       "    <tr>\n",
       "      <th>2</th>\n",
       "      <td>4o. centenario</td>\n",
       "      <td>87365.0</td>\n",
       "      <td>-24.271860</td>\n",
       "      <td>-53.069433</td>\n",
       "    </tr>\n",
       "    <tr>\n",
       "      <th>3</th>\n",
       "      <td>4º centenario</td>\n",
       "      <td>87365.0</td>\n",
       "      <td>-24.279801</td>\n",
       "      <td>-53.074723</td>\n",
       "    </tr>\n",
       "    <tr>\n",
       "      <th>4</th>\n",
       "      <td>abadia de goias</td>\n",
       "      <td>75345.0</td>\n",
       "      <td>-16.767063</td>\n",
       "      <td>-49.438089</td>\n",
       "    </tr>\n",
       "    <tr>\n",
       "      <th>...</th>\n",
       "      <td>...</td>\n",
       "      <td>...</td>\n",
       "      <td>...</td>\n",
       "      <td>...</td>\n",
       "    </tr>\n",
       "    <tr>\n",
       "      <th>8006</th>\n",
       "      <td>áurea</td>\n",
       "      <td>99835.0</td>\n",
       "      <td>-27.695009</td>\n",
       "      <td>-52.055076</td>\n",
       "    </tr>\n",
       "    <tr>\n",
       "      <th>8007</th>\n",
       "      <td>ângulo</td>\n",
       "      <td>86755.0</td>\n",
       "      <td>-23.195024</td>\n",
       "      <td>-51.917294</td>\n",
       "    </tr>\n",
       "    <tr>\n",
       "      <th>8008</th>\n",
       "      <td>érico cardoso</td>\n",
       "      <td>46180.0</td>\n",
       "      <td>-13.393047</td>\n",
       "      <td>-42.134282</td>\n",
       "    </tr>\n",
       "    <tr>\n",
       "      <th>8009</th>\n",
       "      <td>óbidos</td>\n",
       "      <td>68250.0</td>\n",
       "      <td>-1.907183</td>\n",
       "      <td>-55.516370</td>\n",
       "    </tr>\n",
       "    <tr>\n",
       "      <th>8010</th>\n",
       "      <td>óleo</td>\n",
       "      <td>18790.0</td>\n",
       "      <td>-22.940222</td>\n",
       "      <td>-49.339676</td>\n",
       "    </tr>\n",
       "  </tbody>\n",
       "</table>\n",
       "<p>8011 rows × 4 columns</p>\n",
       "</div>"
      ],
      "text/plain": [
       "        geolocation_city  geolocation_zip_code_prefix  geolocation_lat  \\\n",
       "0               * cidade                      81470.0       -25.571748   \n",
       "1     ...arraial do cabo                      28930.0       -22.969370   \n",
       "2         4o. centenario                      87365.0       -24.271860   \n",
       "3          4º centenario                      87365.0       -24.279801   \n",
       "4        abadia de goias                      75345.0       -16.767063   \n",
       "...                  ...                          ...              ...   \n",
       "8006               áurea                      99835.0       -27.695009   \n",
       "8007              ângulo                      86755.0       -23.195024   \n",
       "8008       érico cardoso                      46180.0       -13.393047   \n",
       "8009              óbidos                      68250.0        -1.907183   \n",
       "8010                óleo                      18790.0       -22.940222   \n",
       "\n",
       "      geolocation_lng  \n",
       "0          -49.334374  \n",
       "1          -42.029834  \n",
       "2          -53.069433  \n",
       "3          -53.074723  \n",
       "4          -49.438089  \n",
       "...               ...  \n",
       "8006       -52.055076  \n",
       "8007       -51.917294  \n",
       "8008       -42.134282  \n",
       "8009       -55.516370  \n",
       "8010       -49.339676  \n",
       "\n",
       "[8011 rows x 4 columns]"
      ]
     },
     "execution_count": 15,
     "metadata": {},
     "output_type": "execute_result"
    }
   ],
   "source": [
    "geolocation "
   ]
  },
  {
   "cell_type": "markdown",
   "id": "af647787",
   "metadata": {},
   "source": [
    "# Fusion des bases de données"
   ]
  },
  {
   "cell_type": "markdown",
   "id": "e1379162",
   "metadata": {},
   "source": [
    "On souhaite regrouper les données dans un et seul unique dataset. Ce dataset va nous servir pour effectuer notre modélisation."
   ]
  },
  {
   "cell_type": "code",
   "execution_count": 16,
   "id": "e87349f8",
   "metadata": {},
   "outputs": [
    {
     "data": {
      "text/plain": [
       "(99441, 12)"
      ]
     },
     "execution_count": 16,
     "metadata": {},
     "output_type": "execute_result"
    }
   ],
   "source": [
    "data = orders.merge(right = customers, how = \"left\", left_on = 'customer_id', right_on = 'customer_id')\n",
    "data.shape"
   ]
  },
  {
   "cell_type": "code",
   "execution_count": 17,
   "id": "a0bca931",
   "metadata": {},
   "outputs": [
    {
     "data": {
      "text/html": [
       "<div>\n",
       "<style scoped>\n",
       "    .dataframe tbody tr th:only-of-type {\n",
       "        vertical-align: middle;\n",
       "    }\n",
       "\n",
       "    .dataframe tbody tr th {\n",
       "        vertical-align: top;\n",
       "    }\n",
       "\n",
       "    .dataframe thead th {\n",
       "        text-align: right;\n",
       "    }\n",
       "</style>\n",
       "<table border=\"1\" class=\"dataframe\">\n",
       "  <thead>\n",
       "    <tr style=\"text-align: right;\">\n",
       "      <th></th>\n",
       "      <th>order_id</th>\n",
       "      <th>order_item_id</th>\n",
       "      <th>product_id</th>\n",
       "      <th>seller_id</th>\n",
       "      <th>shipping_limit_date</th>\n",
       "      <th>price</th>\n",
       "      <th>freight_value</th>\n",
       "    </tr>\n",
       "  </thead>\n",
       "  <tbody>\n",
       "    <tr>\n",
       "      <th>0</th>\n",
       "      <td>00010242fe8c5a6d1ba2dd792cb16214</td>\n",
       "      <td>1</td>\n",
       "      <td>4244733e06e7ecb4970a6e2683c13e61</td>\n",
       "      <td>48436dade18ac8b2bce089ec2a041202</td>\n",
       "      <td>2017-09-19 09:45:35</td>\n",
       "      <td>58.90</td>\n",
       "      <td>13.29</td>\n",
       "    </tr>\n",
       "    <tr>\n",
       "      <th>1</th>\n",
       "      <td>00018f77f2f0320c557190d7a144bdd3</td>\n",
       "      <td>1</td>\n",
       "      <td>e5f2d52b802189ee658865ca93d83a8f</td>\n",
       "      <td>dd7ddc04e1b6c2c614352b383efe2d36</td>\n",
       "      <td>2017-05-03 11:05:13</td>\n",
       "      <td>239.90</td>\n",
       "      <td>19.93</td>\n",
       "    </tr>\n",
       "    <tr>\n",
       "      <th>2</th>\n",
       "      <td>000229ec398224ef6ca0657da4fc703e</td>\n",
       "      <td>1</td>\n",
       "      <td>c777355d18b72b67abbeef9df44fd0fd</td>\n",
       "      <td>5b51032eddd242adc84c38acab88f23d</td>\n",
       "      <td>2018-01-18 14:48:30</td>\n",
       "      <td>199.00</td>\n",
       "      <td>17.87</td>\n",
       "    </tr>\n",
       "    <tr>\n",
       "      <th>3</th>\n",
       "      <td>00024acbcdf0a6daa1e931b038114c75</td>\n",
       "      <td>1</td>\n",
       "      <td>7634da152a4610f1595efa32f14722fc</td>\n",
       "      <td>9d7a1d34a5052409006425275ba1c2b4</td>\n",
       "      <td>2018-08-15 10:10:18</td>\n",
       "      <td>12.99</td>\n",
       "      <td>12.79</td>\n",
       "    </tr>\n",
       "    <tr>\n",
       "      <th>4</th>\n",
       "      <td>00042b26cf59d7ce69dfabb4e55b4fd9</td>\n",
       "      <td>1</td>\n",
       "      <td>ac6c3623068f30de03045865e4e10089</td>\n",
       "      <td>df560393f3a51e74553ab94004ba5c87</td>\n",
       "      <td>2017-02-13 13:57:51</td>\n",
       "      <td>199.90</td>\n",
       "      <td>18.14</td>\n",
       "    </tr>\n",
       "  </tbody>\n",
       "</table>\n",
       "</div>"
      ],
      "text/plain": [
       "                           order_id  order_item_id  \\\n",
       "0  00010242fe8c5a6d1ba2dd792cb16214              1   \n",
       "1  00018f77f2f0320c557190d7a144bdd3              1   \n",
       "2  000229ec398224ef6ca0657da4fc703e              1   \n",
       "3  00024acbcdf0a6daa1e931b038114c75              1   \n",
       "4  00042b26cf59d7ce69dfabb4e55b4fd9              1   \n",
       "\n",
       "                         product_id                         seller_id  \\\n",
       "0  4244733e06e7ecb4970a6e2683c13e61  48436dade18ac8b2bce089ec2a041202   \n",
       "1  e5f2d52b802189ee658865ca93d83a8f  dd7ddc04e1b6c2c614352b383efe2d36   \n",
       "2  c777355d18b72b67abbeef9df44fd0fd  5b51032eddd242adc84c38acab88f23d   \n",
       "3  7634da152a4610f1595efa32f14722fc  9d7a1d34a5052409006425275ba1c2b4   \n",
       "4  ac6c3623068f30de03045865e4e10089  df560393f3a51e74553ab94004ba5c87   \n",
       "\n",
       "   shipping_limit_date   price  freight_value  \n",
       "0  2017-09-19 09:45:35   58.90          13.29  \n",
       "1  2017-05-03 11:05:13  239.90          19.93  \n",
       "2  2018-01-18 14:48:30  199.00          17.87  \n",
       "3  2018-08-15 10:10:18   12.99          12.79  \n",
       "4  2017-02-13 13:57:51  199.90          18.14  "
      ]
     },
     "execution_count": 17,
     "metadata": {},
     "output_type": "execute_result"
    }
   ],
   "source": [
    "order_items.head(5)"
   ]
  },
  {
   "cell_type": "code",
   "execution_count": 18,
   "id": "c6b893fc",
   "metadata": {},
   "outputs": [
    {
     "data": {
      "text/html": [
       "<div>\n",
       "<style scoped>\n",
       "    .dataframe tbody tr th:only-of-type {\n",
       "        vertical-align: middle;\n",
       "    }\n",
       "\n",
       "    .dataframe tbody tr th {\n",
       "        vertical-align: top;\n",
       "    }\n",
       "\n",
       "    .dataframe thead th {\n",
       "        text-align: right;\n",
       "    }\n",
       "</style>\n",
       "<table border=\"1\" class=\"dataframe\">\n",
       "  <thead>\n",
       "    <tr style=\"text-align: right;\">\n",
       "      <th></th>\n",
       "      <th>order_id</th>\n",
       "      <th>price</th>\n",
       "      <th>freight_value</th>\n",
       "    </tr>\n",
       "  </thead>\n",
       "  <tbody>\n",
       "    <tr>\n",
       "      <th>0</th>\n",
       "      <td>00010242fe8c5a6d1ba2dd792cb16214</td>\n",
       "      <td>58.90</td>\n",
       "      <td>13.29</td>\n",
       "    </tr>\n",
       "    <tr>\n",
       "      <th>1</th>\n",
       "      <td>00018f77f2f0320c557190d7a144bdd3</td>\n",
       "      <td>239.90</td>\n",
       "      <td>19.93</td>\n",
       "    </tr>\n",
       "    <tr>\n",
       "      <th>2</th>\n",
       "      <td>000229ec398224ef6ca0657da4fc703e</td>\n",
       "      <td>199.00</td>\n",
       "      <td>17.87</td>\n",
       "    </tr>\n",
       "    <tr>\n",
       "      <th>3</th>\n",
       "      <td>00024acbcdf0a6daa1e931b038114c75</td>\n",
       "      <td>12.99</td>\n",
       "      <td>12.79</td>\n",
       "    </tr>\n",
       "    <tr>\n",
       "      <th>4</th>\n",
       "      <td>00042b26cf59d7ce69dfabb4e55b4fd9</td>\n",
       "      <td>199.90</td>\n",
       "      <td>18.14</td>\n",
       "    </tr>\n",
       "  </tbody>\n",
       "</table>\n",
       "</div>"
      ],
      "text/plain": [
       "                           order_id   price  freight_value\n",
       "0  00010242fe8c5a6d1ba2dd792cb16214   58.90          13.29\n",
       "1  00018f77f2f0320c557190d7a144bdd3  239.90          19.93\n",
       "2  000229ec398224ef6ca0657da4fc703e  199.00          17.87\n",
       "3  00024acbcdf0a6daa1e931b038114c75   12.99          12.79\n",
       "4  00042b26cf59d7ce69dfabb4e55b4fd9  199.90          18.14"
      ]
     },
     "execution_count": 18,
     "metadata": {},
     "output_type": "execute_result"
    }
   ],
   "source": [
    "order_items_GB = order_items.groupby([\"order_id\"]).sum().reset_index()\n",
    "order_items_GB = order_items_GB[[\"order_id\",\"price\",\"freight_value\"]]\n",
    "order_items_GB.head(5) "
   ]
  },
  {
   "cell_type": "code",
   "execution_count": 19,
   "id": "c22f4a5b",
   "metadata": {},
   "outputs": [
    {
     "data": {
      "text/plain": [
       "(99441, 14)"
      ]
     },
     "execution_count": 19,
     "metadata": {},
     "output_type": "execute_result"
    }
   ],
   "source": [
    "data = data .merge(right = order_items_GB , how = \"left\", left_on = 'order_id', right_on = 'order_id')\n",
    "data.shape"
   ]
  },
  {
   "cell_type": "markdown",
   "id": "8d1dae7f",
   "metadata": {},
   "source": [
    "Il peut avoir plusieurs produits par commandes. Il y a plusieurs products ID associés à un order_ID. On effectue des regroupements par Order_ID."
   ]
  },
  {
   "cell_type": "code",
   "execution_count": 20,
   "id": "df447ec7",
   "metadata": {},
   "outputs": [
    {
     "data": {
      "text/html": [
       "<div>\n",
       "<style scoped>\n",
       "    .dataframe tbody tr th:only-of-type {\n",
       "        vertical-align: middle;\n",
       "    }\n",
       "\n",
       "    .dataframe tbody tr th {\n",
       "        vertical-align: top;\n",
       "    }\n",
       "\n",
       "    .dataframe thead th {\n",
       "        text-align: right;\n",
       "    }\n",
       "</style>\n",
       "<table border=\"1\" class=\"dataframe\">\n",
       "  <thead>\n",
       "    <tr style=\"text-align: right;\">\n",
       "      <th></th>\n",
       "      <th>order_id</th>\n",
       "      <th>payment_sequential</th>\n",
       "      <th>payment_installments</th>\n",
       "      <th>payment_value</th>\n",
       "    </tr>\n",
       "  </thead>\n",
       "  <tbody>\n",
       "    <tr>\n",
       "      <th>0</th>\n",
       "      <td>00010242fe8c5a6d1ba2dd792cb16214</td>\n",
       "      <td>1</td>\n",
       "      <td>2</td>\n",
       "      <td>72.19</td>\n",
       "    </tr>\n",
       "    <tr>\n",
       "      <th>1</th>\n",
       "      <td>00018f77f2f0320c557190d7a144bdd3</td>\n",
       "      <td>1</td>\n",
       "      <td>3</td>\n",
       "      <td>259.83</td>\n",
       "    </tr>\n",
       "    <tr>\n",
       "      <th>2</th>\n",
       "      <td>000229ec398224ef6ca0657da4fc703e</td>\n",
       "      <td>1</td>\n",
       "      <td>5</td>\n",
       "      <td>216.87</td>\n",
       "    </tr>\n",
       "    <tr>\n",
       "      <th>3</th>\n",
       "      <td>00024acbcdf0a6daa1e931b038114c75</td>\n",
       "      <td>1</td>\n",
       "      <td>2</td>\n",
       "      <td>25.78</td>\n",
       "    </tr>\n",
       "    <tr>\n",
       "      <th>4</th>\n",
       "      <td>00042b26cf59d7ce69dfabb4e55b4fd9</td>\n",
       "      <td>1</td>\n",
       "      <td>3</td>\n",
       "      <td>218.04</td>\n",
       "    </tr>\n",
       "  </tbody>\n",
       "</table>\n",
       "</div>"
      ],
      "text/plain": [
       "                           order_id  payment_sequential  payment_installments  \\\n",
       "0  00010242fe8c5a6d1ba2dd792cb16214                   1                     2   \n",
       "1  00018f77f2f0320c557190d7a144bdd3                   1                     3   \n",
       "2  000229ec398224ef6ca0657da4fc703e                   1                     5   \n",
       "3  00024acbcdf0a6daa1e931b038114c75                   1                     2   \n",
       "4  00042b26cf59d7ce69dfabb4e55b4fd9                   1                     3   \n",
       "\n",
       "   payment_value  \n",
       "0          72.19  \n",
       "1         259.83  \n",
       "2         216.87  \n",
       "3          25.78  \n",
       "4         218.04  "
      ]
     },
     "execution_count": 20,
     "metadata": {},
     "output_type": "execute_result"
    }
   ],
   "source": [
    "payment_GB = payment.groupby(\"order_id\").sum().reset_index()\n",
    "payment_GB = payment[[\"order_id\",\"payment_sequential\",\"payment_installments\",\"payment_value\"]]\n",
    "payment_GB = payment_GB.groupby(\"order_id\").sum().reset_index()\n",
    "payment_GB.head(5)"
   ]
  },
  {
   "cell_type": "code",
   "execution_count": 21,
   "id": "e43ed6a6",
   "metadata": {},
   "outputs": [
    {
     "data": {
      "text/plain": [
       "(99441, 17)"
      ]
     },
     "execution_count": 21,
     "metadata": {},
     "output_type": "execute_result"
    }
   ],
   "source": [
    "data = data .merge(right = payment_GB, how = \"left\", left_on = 'order_id', right_on = 'order_id')\n",
    "data.shape"
   ]
  },
  {
   "cell_type": "code",
   "execution_count": 22,
   "id": "c4da140f",
   "metadata": {},
   "outputs": [
    {
     "data": {
      "text/html": [
       "<div>\n",
       "<style scoped>\n",
       "    .dataframe tbody tr th:only-of-type {\n",
       "        vertical-align: middle;\n",
       "    }\n",
       "\n",
       "    .dataframe tbody tr th {\n",
       "        vertical-align: top;\n",
       "    }\n",
       "\n",
       "    .dataframe thead th {\n",
       "        text-align: right;\n",
       "    }\n",
       "</style>\n",
       "<table border=\"1\" class=\"dataframe\">\n",
       "  <thead>\n",
       "    <tr style=\"text-align: right;\">\n",
       "      <th></th>\n",
       "      <th>order_id</th>\n",
       "      <th>review_score</th>\n",
       "    </tr>\n",
       "  </thead>\n",
       "  <tbody>\n",
       "    <tr>\n",
       "      <th>0</th>\n",
       "      <td>00010242fe8c5a6d1ba2dd792cb16214</td>\n",
       "      <td>5.0</td>\n",
       "    </tr>\n",
       "    <tr>\n",
       "      <th>1</th>\n",
       "      <td>00018f77f2f0320c557190d7a144bdd3</td>\n",
       "      <td>4.0</td>\n",
       "    </tr>\n",
       "    <tr>\n",
       "      <th>2</th>\n",
       "      <td>000229ec398224ef6ca0657da4fc703e</td>\n",
       "      <td>5.0</td>\n",
       "    </tr>\n",
       "    <tr>\n",
       "      <th>3</th>\n",
       "      <td>00024acbcdf0a6daa1e931b038114c75</td>\n",
       "      <td>4.0</td>\n",
       "    </tr>\n",
       "    <tr>\n",
       "      <th>4</th>\n",
       "      <td>00042b26cf59d7ce69dfabb4e55b4fd9</td>\n",
       "      <td>5.0</td>\n",
       "    </tr>\n",
       "  </tbody>\n",
       "</table>\n",
       "</div>"
      ],
      "text/plain": [
       "                           order_id  review_score\n",
       "0  00010242fe8c5a6d1ba2dd792cb16214           5.0\n",
       "1  00018f77f2f0320c557190d7a144bdd3           4.0\n",
       "2  000229ec398224ef6ca0657da4fc703e           5.0\n",
       "3  00024acbcdf0a6daa1e931b038114c75           4.0\n",
       "4  00042b26cf59d7ce69dfabb4e55b4fd9           5.0"
      ]
     },
     "execution_count": 22,
     "metadata": {},
     "output_type": "execute_result"
    }
   ],
   "source": [
    "reviews = reviews.groupby(\"order_id\").mean().reset_index()\n",
    "reviews.head(5)"
   ]
  },
  {
   "cell_type": "code",
   "execution_count": 23,
   "id": "5c49856d",
   "metadata": {},
   "outputs": [
    {
     "data": {
      "text/plain": [
       "00010242fe8c5a6d1ba2dd792cb16214    1\n",
       "ab0e35dd7151f7e3d72931b940b6a335    1\n",
       "ab37728868ab54d404aeb0398696940d    1\n",
       "ab377121ab607d829a167d9796781f67    1\n",
       "ab3705f0d480eb14371c9b4fc007f339    1\n",
       "                                   ..\n",
       "55529dc7cb99d0befad66b19ad9adc8d    1\n",
       "5552927954803697ef5ebf1431693061    1\n",
       "555256eeec3c2ec4e64208bfad2ed800    1\n",
       "5551af3c5c287246cc239e923963ef6c    1\n",
       "fffe41c64501cc87c801fd61db3f6244    1\n",
       "Name: order_id, Length: 98673, dtype: int64"
      ]
     },
     "execution_count": 23,
     "metadata": {},
     "output_type": "execute_result"
    }
   ],
   "source": [
    "reviews[\"order_id\"].value_counts()"
   ]
  },
  {
   "cell_type": "markdown",
   "id": "4b6e5859",
   "metadata": {},
   "source": [
    "On possède des Order ID unique."
   ]
  },
  {
   "cell_type": "code",
   "execution_count": 24,
   "id": "b1cb5b30",
   "metadata": {},
   "outputs": [
    {
     "data": {
      "text/plain": [
       "(99441, 18)"
      ]
     },
     "execution_count": 24,
     "metadata": {},
     "output_type": "execute_result"
    }
   ],
   "source": [
    "data = data .merge(right = reviews, how = \"left\", left_on = 'order_id', right_on = 'order_id')\n",
    "data.shape"
   ]
  },
  {
   "cell_type": "code",
   "execution_count": 25,
   "id": "42941929",
   "metadata": {},
   "outputs": [
    {
     "data": {
      "text/plain": [
       "(112650, 15)"
      ]
     },
     "execution_count": 25,
     "metadata": {},
     "output_type": "execute_result"
    }
   ],
   "source": [
    "data_products = order_items.merge(right = products, how = \"left\", left_on = 'product_id', right_on = 'product_id')\n",
    "data_products.shape"
   ]
  },
  {
   "cell_type": "code",
   "execution_count": 26,
   "id": "a9a5b6d9",
   "metadata": {},
   "outputs": [
    {
     "data": {
      "text/html": [
       "<div>\n",
       "<style scoped>\n",
       "    .dataframe tbody tr th:only-of-type {\n",
       "        vertical-align: middle;\n",
       "    }\n",
       "\n",
       "    .dataframe tbody tr th {\n",
       "        vertical-align: top;\n",
       "    }\n",
       "\n",
       "    .dataframe thead th {\n",
       "        text-align: right;\n",
       "    }\n",
       "</style>\n",
       "<table border=\"1\" class=\"dataframe\">\n",
       "  <thead>\n",
       "    <tr style=\"text-align: right;\">\n",
       "      <th></th>\n",
       "      <th>order_id</th>\n",
       "      <th>order_item_id</th>\n",
       "      <th>product_id</th>\n",
       "      <th>seller_id</th>\n",
       "      <th>shipping_limit_date</th>\n",
       "      <th>price</th>\n",
       "      <th>freight_value</th>\n",
       "      <th>product_category_name</th>\n",
       "      <th>product_name_lenght</th>\n",
       "      <th>product_description_lenght</th>\n",
       "      <th>product_photos_qty</th>\n",
       "      <th>product_weight_g</th>\n",
       "      <th>product_length_cm</th>\n",
       "      <th>product_height_cm</th>\n",
       "      <th>product_width_cm</th>\n",
       "    </tr>\n",
       "  </thead>\n",
       "  <tbody>\n",
       "    <tr>\n",
       "      <th>0</th>\n",
       "      <td>00010242fe8c5a6d1ba2dd792cb16214</td>\n",
       "      <td>1</td>\n",
       "      <td>4244733e06e7ecb4970a6e2683c13e61</td>\n",
       "      <td>48436dade18ac8b2bce089ec2a041202</td>\n",
       "      <td>2017-09-19 09:45:35</td>\n",
       "      <td>58.90</td>\n",
       "      <td>13.29</td>\n",
       "      <td>cool_stuff</td>\n",
       "      <td>58.0</td>\n",
       "      <td>598.0</td>\n",
       "      <td>4.0</td>\n",
       "      <td>650.0</td>\n",
       "      <td>28.0</td>\n",
       "      <td>9.0</td>\n",
       "      <td>14.0</td>\n",
       "    </tr>\n",
       "    <tr>\n",
       "      <th>1</th>\n",
       "      <td>00018f77f2f0320c557190d7a144bdd3</td>\n",
       "      <td>1</td>\n",
       "      <td>e5f2d52b802189ee658865ca93d83a8f</td>\n",
       "      <td>dd7ddc04e1b6c2c614352b383efe2d36</td>\n",
       "      <td>2017-05-03 11:05:13</td>\n",
       "      <td>239.90</td>\n",
       "      <td>19.93</td>\n",
       "      <td>pet_shop</td>\n",
       "      <td>56.0</td>\n",
       "      <td>239.0</td>\n",
       "      <td>2.0</td>\n",
       "      <td>30000.0</td>\n",
       "      <td>50.0</td>\n",
       "      <td>30.0</td>\n",
       "      <td>40.0</td>\n",
       "    </tr>\n",
       "    <tr>\n",
       "      <th>2</th>\n",
       "      <td>000229ec398224ef6ca0657da4fc703e</td>\n",
       "      <td>1</td>\n",
       "      <td>c777355d18b72b67abbeef9df44fd0fd</td>\n",
       "      <td>5b51032eddd242adc84c38acab88f23d</td>\n",
       "      <td>2018-01-18 14:48:30</td>\n",
       "      <td>199.00</td>\n",
       "      <td>17.87</td>\n",
       "      <td>moveis_decoracao</td>\n",
       "      <td>59.0</td>\n",
       "      <td>695.0</td>\n",
       "      <td>2.0</td>\n",
       "      <td>3050.0</td>\n",
       "      <td>33.0</td>\n",
       "      <td>13.0</td>\n",
       "      <td>33.0</td>\n",
       "    </tr>\n",
       "    <tr>\n",
       "      <th>3</th>\n",
       "      <td>00024acbcdf0a6daa1e931b038114c75</td>\n",
       "      <td>1</td>\n",
       "      <td>7634da152a4610f1595efa32f14722fc</td>\n",
       "      <td>9d7a1d34a5052409006425275ba1c2b4</td>\n",
       "      <td>2018-08-15 10:10:18</td>\n",
       "      <td>12.99</td>\n",
       "      <td>12.79</td>\n",
       "      <td>perfumaria</td>\n",
       "      <td>42.0</td>\n",
       "      <td>480.0</td>\n",
       "      <td>1.0</td>\n",
       "      <td>200.0</td>\n",
       "      <td>16.0</td>\n",
       "      <td>10.0</td>\n",
       "      <td>15.0</td>\n",
       "    </tr>\n",
       "    <tr>\n",
       "      <th>4</th>\n",
       "      <td>00042b26cf59d7ce69dfabb4e55b4fd9</td>\n",
       "      <td>1</td>\n",
       "      <td>ac6c3623068f30de03045865e4e10089</td>\n",
       "      <td>df560393f3a51e74553ab94004ba5c87</td>\n",
       "      <td>2017-02-13 13:57:51</td>\n",
       "      <td>199.90</td>\n",
       "      <td>18.14</td>\n",
       "      <td>ferramentas_jardim</td>\n",
       "      <td>59.0</td>\n",
       "      <td>409.0</td>\n",
       "      <td>1.0</td>\n",
       "      <td>3750.0</td>\n",
       "      <td>35.0</td>\n",
       "      <td>40.0</td>\n",
       "      <td>30.0</td>\n",
       "    </tr>\n",
       "  </tbody>\n",
       "</table>\n",
       "</div>"
      ],
      "text/plain": [
       "                           order_id  order_item_id  \\\n",
       "0  00010242fe8c5a6d1ba2dd792cb16214              1   \n",
       "1  00018f77f2f0320c557190d7a144bdd3              1   \n",
       "2  000229ec398224ef6ca0657da4fc703e              1   \n",
       "3  00024acbcdf0a6daa1e931b038114c75              1   \n",
       "4  00042b26cf59d7ce69dfabb4e55b4fd9              1   \n",
       "\n",
       "                         product_id                         seller_id  \\\n",
       "0  4244733e06e7ecb4970a6e2683c13e61  48436dade18ac8b2bce089ec2a041202   \n",
       "1  e5f2d52b802189ee658865ca93d83a8f  dd7ddc04e1b6c2c614352b383efe2d36   \n",
       "2  c777355d18b72b67abbeef9df44fd0fd  5b51032eddd242adc84c38acab88f23d   \n",
       "3  7634da152a4610f1595efa32f14722fc  9d7a1d34a5052409006425275ba1c2b4   \n",
       "4  ac6c3623068f30de03045865e4e10089  df560393f3a51e74553ab94004ba5c87   \n",
       "\n",
       "   shipping_limit_date   price  freight_value product_category_name  \\\n",
       "0  2017-09-19 09:45:35   58.90          13.29            cool_stuff   \n",
       "1  2017-05-03 11:05:13  239.90          19.93              pet_shop   \n",
       "2  2018-01-18 14:48:30  199.00          17.87      moveis_decoracao   \n",
       "3  2018-08-15 10:10:18   12.99          12.79            perfumaria   \n",
       "4  2017-02-13 13:57:51  199.90          18.14    ferramentas_jardim   \n",
       "\n",
       "   product_name_lenght  product_description_lenght  product_photos_qty  \\\n",
       "0                 58.0                       598.0                 4.0   \n",
       "1                 56.0                       239.0                 2.0   \n",
       "2                 59.0                       695.0                 2.0   \n",
       "3                 42.0                       480.0                 1.0   \n",
       "4                 59.0                       409.0                 1.0   \n",
       "\n",
       "   product_weight_g  product_length_cm  product_height_cm  product_width_cm  \n",
       "0             650.0               28.0                9.0              14.0  \n",
       "1           30000.0               50.0               30.0              40.0  \n",
       "2            3050.0               33.0               13.0              33.0  \n",
       "3             200.0               16.0               10.0              15.0  \n",
       "4            3750.0               35.0               40.0              30.0  "
      ]
     },
     "execution_count": 26,
     "metadata": {},
     "output_type": "execute_result"
    }
   ],
   "source": [
    "data_products.head(5)"
   ]
  },
  {
   "cell_type": "code",
   "execution_count": 27,
   "id": "460ab0f9",
   "metadata": {},
   "outputs": [
    {
     "data": {
      "text/plain": [
       "(112650, 16)"
      ]
     },
     "execution_count": 27,
     "metadata": {},
     "output_type": "execute_result"
    }
   ],
   "source": [
    "data_products = data_products.merge(right = category , how = \"left\", left_on = 'product_category_name', right_on = 'product_category_name')\n",
    "data_products.shape"
   ]
  },
  {
   "cell_type": "code",
   "execution_count": 28,
   "id": "0b726822",
   "metadata": {},
   "outputs": [
    {
     "data": {
      "text/plain": [
       "(112650, 16)"
      ]
     },
     "execution_count": 28,
     "metadata": {},
     "output_type": "execute_result"
    }
   ],
   "source": [
    "data_products.shape"
   ]
  },
  {
   "cell_type": "code",
   "execution_count": 29,
   "id": "40bd49ac",
   "metadata": {},
   "outputs": [],
   "source": [
    "data = data.merge(right = geolocation, how = \"left\", left_on = 'customer_city', right_on = 'geolocation_city' )"
   ]
  },
  {
   "cell_type": "code",
   "execution_count": 30,
   "id": "583c02e0",
   "metadata": {},
   "outputs": [
    {
     "data": {
      "text/html": [
       "<div>\n",
       "<style scoped>\n",
       "    .dataframe tbody tr th:only-of-type {\n",
       "        vertical-align: middle;\n",
       "    }\n",
       "\n",
       "    .dataframe tbody tr th {\n",
       "        vertical-align: top;\n",
       "    }\n",
       "\n",
       "    .dataframe thead th {\n",
       "        text-align: right;\n",
       "    }\n",
       "</style>\n",
       "<table border=\"1\" class=\"dataframe\">\n",
       "  <thead>\n",
       "    <tr style=\"text-align: right;\">\n",
       "      <th></th>\n",
       "      <th>order_id</th>\n",
       "      <th>customer_id</th>\n",
       "      <th>order_status</th>\n",
       "      <th>order_purchase_timestamp</th>\n",
       "      <th>order_approved_at</th>\n",
       "      <th>order_delivered_carrier_date</th>\n",
       "      <th>order_delivered_customer_date</th>\n",
       "      <th>order_estimated_delivery_date</th>\n",
       "      <th>customer_unique_id</th>\n",
       "      <th>customer_zip_code_prefix</th>\n",
       "      <th>customer_city</th>\n",
       "      <th>customer_state</th>\n",
       "      <th>price</th>\n",
       "      <th>freight_value</th>\n",
       "      <th>payment_sequential</th>\n",
       "      <th>payment_installments</th>\n",
       "      <th>payment_value</th>\n",
       "      <th>review_score</th>\n",
       "      <th>geolocation_city</th>\n",
       "      <th>geolocation_zip_code_prefix</th>\n",
       "      <th>geolocation_lat</th>\n",
       "      <th>geolocation_lng</th>\n",
       "    </tr>\n",
       "  </thead>\n",
       "  <tbody>\n",
       "    <tr>\n",
       "      <th>0</th>\n",
       "      <td>e481f51cbdc54678b7cc49136f2d6af7</td>\n",
       "      <td>9ef432eb6251297304e76186b10a928d</td>\n",
       "      <td>delivered</td>\n",
       "      <td>2017-10-02 10:56:33</td>\n",
       "      <td>2017-10-02 11:07:15</td>\n",
       "      <td>2017-10-04 19:55:00</td>\n",
       "      <td>2017-10-10 21:25:13</td>\n",
       "      <td>2017-10-18 00:00:00</td>\n",
       "      <td>7c396fd4830fd04220f754e42b4e5bff</td>\n",
       "      <td>3149</td>\n",
       "      <td>sao paulo</td>\n",
       "      <td>SP</td>\n",
       "      <td>29.99</td>\n",
       "      <td>8.72</td>\n",
       "      <td>6.0</td>\n",
       "      <td>3.0</td>\n",
       "      <td>38.71</td>\n",
       "      <td>4.0</td>\n",
       "      <td>sao paulo</td>\n",
       "      <td>4144.295140</td>\n",
       "      <td>-23.570860</td>\n",
       "      <td>-46.633242</td>\n",
       "    </tr>\n",
       "    <tr>\n",
       "      <th>1</th>\n",
       "      <td>53cdb2fc8bc7dce0b6741e2150273451</td>\n",
       "      <td>b0830fb4747a6c6d20dea0b8c802d7ef</td>\n",
       "      <td>delivered</td>\n",
       "      <td>2018-07-24 20:41:37</td>\n",
       "      <td>2018-07-26 03:24:27</td>\n",
       "      <td>2018-07-26 14:31:00</td>\n",
       "      <td>2018-08-07 15:27:45</td>\n",
       "      <td>2018-08-13 00:00:00</td>\n",
       "      <td>af07308b275d755c9edb36a90c618231</td>\n",
       "      <td>47813</td>\n",
       "      <td>barreiras</td>\n",
       "      <td>BA</td>\n",
       "      <td>118.70</td>\n",
       "      <td>22.76</td>\n",
       "      <td>1.0</td>\n",
       "      <td>1.0</td>\n",
       "      <td>141.46</td>\n",
       "      <td>4.0</td>\n",
       "      <td>barreiras</td>\n",
       "      <td>47803.621399</td>\n",
       "      <td>-12.148291</td>\n",
       "      <td>-44.967260</td>\n",
       "    </tr>\n",
       "    <tr>\n",
       "      <th>2</th>\n",
       "      <td>47770eb9100c2d0c44946d9cf07ec65d</td>\n",
       "      <td>41ce2a54c0b03bf3443c3d931a367089</td>\n",
       "      <td>delivered</td>\n",
       "      <td>2018-08-08 08:38:49</td>\n",
       "      <td>2018-08-08 08:55:23</td>\n",
       "      <td>2018-08-08 13:50:00</td>\n",
       "      <td>2018-08-17 18:06:29</td>\n",
       "      <td>2018-09-04 00:00:00</td>\n",
       "      <td>3a653a41f6f9fc3d2a113cf8398680e8</td>\n",
       "      <td>75265</td>\n",
       "      <td>vianopolis</td>\n",
       "      <td>GO</td>\n",
       "      <td>159.90</td>\n",
       "      <td>19.22</td>\n",
       "      <td>1.0</td>\n",
       "      <td>3.0</td>\n",
       "      <td>179.12</td>\n",
       "      <td>5.0</td>\n",
       "      <td>vianopolis</td>\n",
       "      <td>75264.318182</td>\n",
       "      <td>-16.745552</td>\n",
       "      <td>-48.514168</td>\n",
       "    </tr>\n",
       "    <tr>\n",
       "      <th>3</th>\n",
       "      <td>949d5b44dbf5de918fe9c16f97b45f8a</td>\n",
       "      <td>f88197465ea7920adcdbec7375364d82</td>\n",
       "      <td>delivered</td>\n",
       "      <td>2017-11-18 19:28:06</td>\n",
       "      <td>2017-11-18 19:45:59</td>\n",
       "      <td>2017-11-22 13:39:59</td>\n",
       "      <td>2017-12-02 00:28:42</td>\n",
       "      <td>2017-12-15 00:00:00</td>\n",
       "      <td>7c142cf63193a1473d2e66489a9ae977</td>\n",
       "      <td>59296</td>\n",
       "      <td>sao goncalo do amarante</td>\n",
       "      <td>RN</td>\n",
       "      <td>45.00</td>\n",
       "      <td>27.20</td>\n",
       "      <td>1.0</td>\n",
       "      <td>1.0</td>\n",
       "      <td>72.20</td>\n",
       "      <td>5.0</td>\n",
       "      <td>sao goncalo do amarante</td>\n",
       "      <td>60712.724638</td>\n",
       "      <td>-4.864240</td>\n",
       "      <td>-36.839625</td>\n",
       "    </tr>\n",
       "    <tr>\n",
       "      <th>4</th>\n",
       "      <td>ad21c59c0840e6cb83a9ceb5573f8159</td>\n",
       "      <td>8ab97904e6daea8866dbdbc4fb7aad2c</td>\n",
       "      <td>delivered</td>\n",
       "      <td>2018-02-13 21:18:39</td>\n",
       "      <td>2018-02-13 22:20:29</td>\n",
       "      <td>2018-02-14 19:46:34</td>\n",
       "      <td>2018-02-16 18:17:02</td>\n",
       "      <td>2018-02-26 00:00:00</td>\n",
       "      <td>72632f0f9dd73dfee390c9b22eb56dd6</td>\n",
       "      <td>9195</td>\n",
       "      <td>santo andre</td>\n",
       "      <td>SP</td>\n",
       "      <td>19.90</td>\n",
       "      <td>8.72</td>\n",
       "      <td>1.0</td>\n",
       "      <td>1.0</td>\n",
       "      <td>28.62</td>\n",
       "      <td>5.0</td>\n",
       "      <td>santo andre</td>\n",
       "      <td>9166.816698</td>\n",
       "      <td>-23.655241</td>\n",
       "      <td>-46.519084</td>\n",
       "    </tr>\n",
       "  </tbody>\n",
       "</table>\n",
       "</div>"
      ],
      "text/plain": [
       "                           order_id                       customer_id  \\\n",
       "0  e481f51cbdc54678b7cc49136f2d6af7  9ef432eb6251297304e76186b10a928d   \n",
       "1  53cdb2fc8bc7dce0b6741e2150273451  b0830fb4747a6c6d20dea0b8c802d7ef   \n",
       "2  47770eb9100c2d0c44946d9cf07ec65d  41ce2a54c0b03bf3443c3d931a367089   \n",
       "3  949d5b44dbf5de918fe9c16f97b45f8a  f88197465ea7920adcdbec7375364d82   \n",
       "4  ad21c59c0840e6cb83a9ceb5573f8159  8ab97904e6daea8866dbdbc4fb7aad2c   \n",
       "\n",
       "  order_status order_purchase_timestamp    order_approved_at  \\\n",
       "0    delivered      2017-10-02 10:56:33  2017-10-02 11:07:15   \n",
       "1    delivered      2018-07-24 20:41:37  2018-07-26 03:24:27   \n",
       "2    delivered      2018-08-08 08:38:49  2018-08-08 08:55:23   \n",
       "3    delivered      2017-11-18 19:28:06  2017-11-18 19:45:59   \n",
       "4    delivered      2018-02-13 21:18:39  2018-02-13 22:20:29   \n",
       "\n",
       "  order_delivered_carrier_date order_delivered_customer_date  \\\n",
       "0          2017-10-04 19:55:00           2017-10-10 21:25:13   \n",
       "1          2018-07-26 14:31:00           2018-08-07 15:27:45   \n",
       "2          2018-08-08 13:50:00           2018-08-17 18:06:29   \n",
       "3          2017-11-22 13:39:59           2017-12-02 00:28:42   \n",
       "4          2018-02-14 19:46:34           2018-02-16 18:17:02   \n",
       "\n",
       "  order_estimated_delivery_date                customer_unique_id  \\\n",
       "0           2017-10-18 00:00:00  7c396fd4830fd04220f754e42b4e5bff   \n",
       "1           2018-08-13 00:00:00  af07308b275d755c9edb36a90c618231   \n",
       "2           2018-09-04 00:00:00  3a653a41f6f9fc3d2a113cf8398680e8   \n",
       "3           2017-12-15 00:00:00  7c142cf63193a1473d2e66489a9ae977   \n",
       "4           2018-02-26 00:00:00  72632f0f9dd73dfee390c9b22eb56dd6   \n",
       "\n",
       "   customer_zip_code_prefix            customer_city customer_state   price  \\\n",
       "0                      3149                sao paulo             SP   29.99   \n",
       "1                     47813                barreiras             BA  118.70   \n",
       "2                     75265               vianopolis             GO  159.90   \n",
       "3                     59296  sao goncalo do amarante             RN   45.00   \n",
       "4                      9195              santo andre             SP   19.90   \n",
       "\n",
       "   freight_value  payment_sequential  payment_installments  payment_value  \\\n",
       "0           8.72                 6.0                   3.0          38.71   \n",
       "1          22.76                 1.0                   1.0         141.46   \n",
       "2          19.22                 1.0                   3.0         179.12   \n",
       "3          27.20                 1.0                   1.0          72.20   \n",
       "4           8.72                 1.0                   1.0          28.62   \n",
       "\n",
       "   review_score         geolocation_city  geolocation_zip_code_prefix  \\\n",
       "0           4.0                sao paulo                  4144.295140   \n",
       "1           4.0                barreiras                 47803.621399   \n",
       "2           5.0               vianopolis                 75264.318182   \n",
       "3           5.0  sao goncalo do amarante                 60712.724638   \n",
       "4           5.0              santo andre                  9166.816698   \n",
       "\n",
       "   geolocation_lat  geolocation_lng  \n",
       "0       -23.570860       -46.633242  \n",
       "1       -12.148291       -44.967260  \n",
       "2       -16.745552       -48.514168  \n",
       "3        -4.864240       -36.839625  \n",
       "4       -23.655241       -46.519084  "
      ]
     },
     "execution_count": 30,
     "metadata": {},
     "output_type": "execute_result"
    }
   ],
   "source": [
    "data.head(5)"
   ]
  },
  {
   "cell_type": "code",
   "execution_count": 31,
   "id": "36238e1e",
   "metadata": {},
   "outputs": [
    {
     "data": {
      "text/plain": [
       "Index(['order_id', 'customer_id', 'order_status', 'order_purchase_timestamp',\n",
       "       'order_approved_at', 'order_delivered_carrier_date',\n",
       "       'order_delivered_customer_date', 'order_estimated_delivery_date',\n",
       "       'customer_unique_id', 'customer_zip_code_prefix', 'customer_city',\n",
       "       'customer_state', 'price', 'freight_value', 'payment_sequential',\n",
       "       'payment_installments', 'payment_value', 'review_score',\n",
       "       'geolocation_city', 'geolocation_zip_code_prefix', 'geolocation_lat',\n",
       "       'geolocation_lng'],\n",
       "      dtype='object')"
      ]
     },
     "execution_count": 31,
     "metadata": {},
     "output_type": "execute_result"
    }
   ],
   "source": [
    "data.columns"
   ]
  },
  {
   "cell_type": "code",
   "execution_count": 32,
   "id": "3dbd9df7",
   "metadata": {},
   "outputs": [],
   "source": [
    "def taux_remplissage(data):\n",
    "    \n",
    "    \"\"\"\n",
    "    Voir les valeurs manquantes  et le taux de remplissage des données\n",
    "    \n",
    "    \"\"\"\n",
    "    var_dict = {} ## Création d'un dictionnaire permettant de stocker les \n",
    "    \n",
    "    for col in data.columns:\n",
    "        var_dict[col] = []\n",
    "        var_dict[col].append(round((data[col].notna().sum()/data.shape[0])*100,2))\n",
    "        var_dict[col].append(data[col].isna().sum())\n",
    "        \n",
    "    return pd.DataFrame.from_dict(data=var_dict, orient=\"index\", columns = [\"% du dataset complet\", \"Nombre de valeurs manquantes\"]).sort_values(by=\"% du dataset complet\", ascending=False)"
   ]
  },
  {
   "cell_type": "code",
   "execution_count": 33,
   "id": "31a849e8",
   "metadata": {},
   "outputs": [
    {
     "data": {
      "text/html": [
       "<div>\n",
       "<style scoped>\n",
       "    .dataframe tbody tr th:only-of-type {\n",
       "        vertical-align: middle;\n",
       "    }\n",
       "\n",
       "    .dataframe tbody tr th {\n",
       "        vertical-align: top;\n",
       "    }\n",
       "\n",
       "    .dataframe thead th {\n",
       "        text-align: right;\n",
       "    }\n",
       "</style>\n",
       "<table border=\"1\" class=\"dataframe\">\n",
       "  <thead>\n",
       "    <tr style=\"text-align: right;\">\n",
       "      <th></th>\n",
       "      <th>% du dataset complet</th>\n",
       "      <th>Nombre de valeurs manquantes</th>\n",
       "    </tr>\n",
       "  </thead>\n",
       "  <tbody>\n",
       "    <tr>\n",
       "      <th>order_id</th>\n",
       "      <td>100.00</td>\n",
       "      <td>0</td>\n",
       "    </tr>\n",
       "    <tr>\n",
       "      <th>customer_unique_id</th>\n",
       "      <td>100.00</td>\n",
       "      <td>0</td>\n",
       "    </tr>\n",
       "    <tr>\n",
       "      <th>payment_value</th>\n",
       "      <td>100.00</td>\n",
       "      <td>1</td>\n",
       "    </tr>\n",
       "    <tr>\n",
       "      <th>payment_installments</th>\n",
       "      <td>100.00</td>\n",
       "      <td>1</td>\n",
       "    </tr>\n",
       "    <tr>\n",
       "      <th>payment_sequential</th>\n",
       "      <td>100.00</td>\n",
       "      <td>1</td>\n",
       "    </tr>\n",
       "    <tr>\n",
       "      <th>customer_id</th>\n",
       "      <td>100.00</td>\n",
       "      <td>0</td>\n",
       "    </tr>\n",
       "    <tr>\n",
       "      <th>customer_city</th>\n",
       "      <td>100.00</td>\n",
       "      <td>0</td>\n",
       "    </tr>\n",
       "    <tr>\n",
       "      <th>customer_zip_code_prefix</th>\n",
       "      <td>100.00</td>\n",
       "      <td>0</td>\n",
       "    </tr>\n",
       "    <tr>\n",
       "      <th>customer_state</th>\n",
       "      <td>100.00</td>\n",
       "      <td>0</td>\n",
       "    </tr>\n",
       "    <tr>\n",
       "      <th>order_estimated_delivery_date</th>\n",
       "      <td>100.00</td>\n",
       "      <td>0</td>\n",
       "    </tr>\n",
       "    <tr>\n",
       "      <th>order_purchase_timestamp</th>\n",
       "      <td>100.00</td>\n",
       "      <td>0</td>\n",
       "    </tr>\n",
       "    <tr>\n",
       "      <th>order_status</th>\n",
       "      <td>100.00</td>\n",
       "      <td>0</td>\n",
       "    </tr>\n",
       "    <tr>\n",
       "      <th>geolocation_city</th>\n",
       "      <td>99.93</td>\n",
       "      <td>66</td>\n",
       "    </tr>\n",
       "    <tr>\n",
       "      <th>geolocation_zip_code_prefix</th>\n",
       "      <td>99.93</td>\n",
       "      <td>66</td>\n",
       "    </tr>\n",
       "    <tr>\n",
       "      <th>geolocation_lat</th>\n",
       "      <td>99.93</td>\n",
       "      <td>66</td>\n",
       "    </tr>\n",
       "    <tr>\n",
       "      <th>geolocation_lng</th>\n",
       "      <td>99.93</td>\n",
       "      <td>66</td>\n",
       "    </tr>\n",
       "    <tr>\n",
       "      <th>order_approved_at</th>\n",
       "      <td>99.84</td>\n",
       "      <td>160</td>\n",
       "    </tr>\n",
       "    <tr>\n",
       "      <th>review_score</th>\n",
       "      <td>99.23</td>\n",
       "      <td>768</td>\n",
       "    </tr>\n",
       "    <tr>\n",
       "      <th>price</th>\n",
       "      <td>99.22</td>\n",
       "      <td>775</td>\n",
       "    </tr>\n",
       "    <tr>\n",
       "      <th>freight_value</th>\n",
       "      <td>99.22</td>\n",
       "      <td>775</td>\n",
       "    </tr>\n",
       "    <tr>\n",
       "      <th>order_delivered_carrier_date</th>\n",
       "      <td>98.21</td>\n",
       "      <td>1783</td>\n",
       "    </tr>\n",
       "    <tr>\n",
       "      <th>order_delivered_customer_date</th>\n",
       "      <td>97.02</td>\n",
       "      <td>2965</td>\n",
       "    </tr>\n",
       "  </tbody>\n",
       "</table>\n",
       "</div>"
      ],
      "text/plain": [
       "                               % du dataset complet  \\\n",
       "order_id                                     100.00   \n",
       "customer_unique_id                           100.00   \n",
       "payment_value                                100.00   \n",
       "payment_installments                         100.00   \n",
       "payment_sequential                           100.00   \n",
       "customer_id                                  100.00   \n",
       "customer_city                                100.00   \n",
       "customer_zip_code_prefix                     100.00   \n",
       "customer_state                               100.00   \n",
       "order_estimated_delivery_date                100.00   \n",
       "order_purchase_timestamp                     100.00   \n",
       "order_status                                 100.00   \n",
       "geolocation_city                              99.93   \n",
       "geolocation_zip_code_prefix                   99.93   \n",
       "geolocation_lat                               99.93   \n",
       "geolocation_lng                               99.93   \n",
       "order_approved_at                             99.84   \n",
       "review_score                                  99.23   \n",
       "price                                         99.22   \n",
       "freight_value                                 99.22   \n",
       "order_delivered_carrier_date                  98.21   \n",
       "order_delivered_customer_date                 97.02   \n",
       "\n",
       "                               Nombre de valeurs manquantes  \n",
       "order_id                                                  0  \n",
       "customer_unique_id                                        0  \n",
       "payment_value                                             1  \n",
       "payment_installments                                      1  \n",
       "payment_sequential                                        1  \n",
       "customer_id                                               0  \n",
       "customer_city                                             0  \n",
       "customer_zip_code_prefix                                  0  \n",
       "customer_state                                            0  \n",
       "order_estimated_delivery_date                             0  \n",
       "order_purchase_timestamp                                  0  \n",
       "order_status                                              0  \n",
       "geolocation_city                                         66  \n",
       "geolocation_zip_code_prefix                              66  \n",
       "geolocation_lat                                          66  \n",
       "geolocation_lng                                          66  \n",
       "order_approved_at                                       160  \n",
       "review_score                                            768  \n",
       "price                                                   775  \n",
       "freight_value                                           775  \n",
       "order_delivered_carrier_date                           1783  \n",
       "order_delivered_customer_date                          2965  "
      ]
     },
     "execution_count": 33,
     "metadata": {},
     "output_type": "execute_result"
    }
   ],
   "source": [
    "taux_remplissage(data)"
   ]
  },
  {
   "cell_type": "markdown",
   "id": "65aeeb05",
   "metadata": {},
   "source": [
    "On possède des données très complètes dans notre jeu de données pour les modélisations."
   ]
  },
  {
   "cell_type": "code",
   "execution_count": 34,
   "id": "33054cd9",
   "metadata": {},
   "outputs": [
    {
     "data": {
      "text/html": [
       "<div>\n",
       "<style scoped>\n",
       "    .dataframe tbody tr th:only-of-type {\n",
       "        vertical-align: middle;\n",
       "    }\n",
       "\n",
       "    .dataframe tbody tr th {\n",
       "        vertical-align: top;\n",
       "    }\n",
       "\n",
       "    .dataframe thead th {\n",
       "        text-align: right;\n",
       "    }\n",
       "</style>\n",
       "<table border=\"1\" class=\"dataframe\">\n",
       "  <thead>\n",
       "    <tr style=\"text-align: right;\">\n",
       "      <th></th>\n",
       "      <th>% du dataset complet</th>\n",
       "      <th>Nombre de valeurs manquantes</th>\n",
       "    </tr>\n",
       "  </thead>\n",
       "  <tbody>\n",
       "    <tr>\n",
       "      <th>order_id</th>\n",
       "      <td>100.00</td>\n",
       "      <td>0</td>\n",
       "    </tr>\n",
       "    <tr>\n",
       "      <th>order_item_id</th>\n",
       "      <td>100.00</td>\n",
       "      <td>0</td>\n",
       "    </tr>\n",
       "    <tr>\n",
       "      <th>product_id</th>\n",
       "      <td>100.00</td>\n",
       "      <td>0</td>\n",
       "    </tr>\n",
       "    <tr>\n",
       "      <th>seller_id</th>\n",
       "      <td>100.00</td>\n",
       "      <td>0</td>\n",
       "    </tr>\n",
       "    <tr>\n",
       "      <th>shipping_limit_date</th>\n",
       "      <td>100.00</td>\n",
       "      <td>0</td>\n",
       "    </tr>\n",
       "    <tr>\n",
       "      <th>price</th>\n",
       "      <td>100.00</td>\n",
       "      <td>0</td>\n",
       "    </tr>\n",
       "    <tr>\n",
       "      <th>freight_value</th>\n",
       "      <td>100.00</td>\n",
       "      <td>0</td>\n",
       "    </tr>\n",
       "    <tr>\n",
       "      <th>product_weight_g</th>\n",
       "      <td>99.98</td>\n",
       "      <td>18</td>\n",
       "    </tr>\n",
       "    <tr>\n",
       "      <th>product_length_cm</th>\n",
       "      <td>99.98</td>\n",
       "      <td>18</td>\n",
       "    </tr>\n",
       "    <tr>\n",
       "      <th>product_height_cm</th>\n",
       "      <td>99.98</td>\n",
       "      <td>18</td>\n",
       "    </tr>\n",
       "    <tr>\n",
       "      <th>product_width_cm</th>\n",
       "      <td>99.98</td>\n",
       "      <td>18</td>\n",
       "    </tr>\n",
       "    <tr>\n",
       "      <th>product_category_name</th>\n",
       "      <td>98.58</td>\n",
       "      <td>1603</td>\n",
       "    </tr>\n",
       "    <tr>\n",
       "      <th>product_name_lenght</th>\n",
       "      <td>98.58</td>\n",
       "      <td>1603</td>\n",
       "    </tr>\n",
       "    <tr>\n",
       "      <th>product_description_lenght</th>\n",
       "      <td>98.58</td>\n",
       "      <td>1603</td>\n",
       "    </tr>\n",
       "    <tr>\n",
       "      <th>product_photos_qty</th>\n",
       "      <td>98.58</td>\n",
       "      <td>1603</td>\n",
       "    </tr>\n",
       "    <tr>\n",
       "      <th>product_category_name_english</th>\n",
       "      <td>98.56</td>\n",
       "      <td>1627</td>\n",
       "    </tr>\n",
       "  </tbody>\n",
       "</table>\n",
       "</div>"
      ],
      "text/plain": [
       "                               % du dataset complet  \\\n",
       "order_id                                     100.00   \n",
       "order_item_id                                100.00   \n",
       "product_id                                   100.00   \n",
       "seller_id                                    100.00   \n",
       "shipping_limit_date                          100.00   \n",
       "price                                        100.00   \n",
       "freight_value                                100.00   \n",
       "product_weight_g                              99.98   \n",
       "product_length_cm                             99.98   \n",
       "product_height_cm                             99.98   \n",
       "product_width_cm                              99.98   \n",
       "product_category_name                         98.58   \n",
       "product_name_lenght                           98.58   \n",
       "product_description_lenght                    98.58   \n",
       "product_photos_qty                            98.58   \n",
       "product_category_name_english                 98.56   \n",
       "\n",
       "                               Nombre de valeurs manquantes  \n",
       "order_id                                                  0  \n",
       "order_item_id                                             0  \n",
       "product_id                                                0  \n",
       "seller_id                                                 0  \n",
       "shipping_limit_date                                       0  \n",
       "price                                                     0  \n",
       "freight_value                                             0  \n",
       "product_weight_g                                         18  \n",
       "product_length_cm                                        18  \n",
       "product_height_cm                                        18  \n",
       "product_width_cm                                         18  \n",
       "product_category_name                                  1603  \n",
       "product_name_lenght                                    1603  \n",
       "product_description_lenght                             1603  \n",
       "product_photos_qty                                     1603  \n",
       "product_category_name_english                          1627  "
      ]
     },
     "execution_count": 34,
     "metadata": {},
     "output_type": "execute_result"
    }
   ],
   "source": [
    "taux_remplissage(data_products)"
   ]
  },
  {
   "cell_type": "code",
   "execution_count": 35,
   "id": "bb530e63",
   "metadata": {},
   "outputs": [
    {
     "data": {
      "text/html": [
       "<div>\n",
       "<style scoped>\n",
       "    .dataframe tbody tr th:only-of-type {\n",
       "        vertical-align: middle;\n",
       "    }\n",
       "\n",
       "    .dataframe tbody tr th {\n",
       "        vertical-align: top;\n",
       "    }\n",
       "\n",
       "    .dataframe thead th {\n",
       "        text-align: right;\n",
       "    }\n",
       "</style>\n",
       "<table border=\"1\" class=\"dataframe\">\n",
       "  <thead>\n",
       "    <tr style=\"text-align: right;\">\n",
       "      <th></th>\n",
       "      <th>customer_zip_code_prefix</th>\n",
       "      <th>price</th>\n",
       "      <th>freight_value</th>\n",
       "      <th>payment_sequential</th>\n",
       "      <th>payment_installments</th>\n",
       "      <th>payment_value</th>\n",
       "      <th>review_score</th>\n",
       "      <th>geolocation_zip_code_prefix</th>\n",
       "      <th>geolocation_lat</th>\n",
       "      <th>geolocation_lng</th>\n",
       "    </tr>\n",
       "  </thead>\n",
       "  <tbody>\n",
       "    <tr>\n",
       "      <th>count</th>\n",
       "      <td>99441.000000</td>\n",
       "      <td>98666.000000</td>\n",
       "      <td>98666.000000</td>\n",
       "      <td>99440.000000</td>\n",
       "      <td>99440.000000</td>\n",
       "      <td>99440.000000</td>\n",
       "      <td>98673.000000</td>\n",
       "      <td>99375.000000</td>\n",
       "      <td>99375.000000</td>\n",
       "      <td>99375.000000</td>\n",
       "    </tr>\n",
       "    <tr>\n",
       "      <th>mean</th>\n",
       "      <td>35137.474583</td>\n",
       "      <td>137.754076</td>\n",
       "      <td>22.823562</td>\n",
       "      <td>1.141533</td>\n",
       "      <td>2.980923</td>\n",
       "      <td>160.990267</td>\n",
       "      <td>4.086793</td>\n",
       "      <td>35132.506249</td>\n",
       "      <td>-21.178197</td>\n",
       "      <td>-46.179652</td>\n",
       "    </tr>\n",
       "    <tr>\n",
       "      <th>std</th>\n",
       "      <td>29797.938996</td>\n",
       "      <td>210.645145</td>\n",
       "      <td>21.650909</td>\n",
       "      <td>2.780141</td>\n",
       "      <td>2.741810</td>\n",
       "      <td>221.951257</td>\n",
       "      <td>1.346274</td>\n",
       "      <td>29714.723651</td>\n",
       "      <td>5.577170</td>\n",
       "      <td>4.029425</td>\n",
       "    </tr>\n",
       "    <tr>\n",
       "      <th>min</th>\n",
       "      <td>1003.000000</td>\n",
       "      <td>0.850000</td>\n",
       "      <td>0.000000</td>\n",
       "      <td>1.000000</td>\n",
       "      <td>0.000000</td>\n",
       "      <td>0.000000</td>\n",
       "      <td>1.000000</td>\n",
       "      <td>4144.295140</td>\n",
       "      <td>-33.690246</td>\n",
       "      <td>-69.261385</td>\n",
       "    </tr>\n",
       "    <tr>\n",
       "      <th>25%</th>\n",
       "      <td>11347.000000</td>\n",
       "      <td>45.900000</td>\n",
       "      <td>13.850000</td>\n",
       "      <td>1.000000</td>\n",
       "      <td>1.000000</td>\n",
       "      <td>62.010000</td>\n",
       "      <td>4.000000</td>\n",
       "      <td>11439.161900</td>\n",
       "      <td>-23.570860</td>\n",
       "      <td>-48.020218</td>\n",
       "    </tr>\n",
       "    <tr>\n",
       "      <th>50%</th>\n",
       "      <td>24416.000000</td>\n",
       "      <td>86.900000</td>\n",
       "      <td>17.170000</td>\n",
       "      <td>1.000000</td>\n",
       "      <td>2.000000</td>\n",
       "      <td>105.290000</td>\n",
       "      <td>5.000000</td>\n",
       "      <td>24545.475423</td>\n",
       "      <td>-22.914910</td>\n",
       "      <td>-46.633242</td>\n",
       "    </tr>\n",
       "    <tr>\n",
       "      <th>75%</th>\n",
       "      <td>58900.000000</td>\n",
       "      <td>149.900000</td>\n",
       "      <td>24.040000</td>\n",
       "      <td>1.000000</td>\n",
       "      <td>4.000000</td>\n",
       "      <td>176.970000</td>\n",
       "      <td>5.000000</td>\n",
       "      <td>58900.000000</td>\n",
       "      <td>-20.027378</td>\n",
       "      <td>-43.472320</td>\n",
       "    </tr>\n",
       "    <tr>\n",
       "      <th>max</th>\n",
       "      <td>99990.000000</td>\n",
       "      <td>13440.000000</td>\n",
       "      <td>1794.960000</td>\n",
       "      <td>435.000000</td>\n",
       "      <td>29.000000</td>\n",
       "      <td>13664.080000</td>\n",
       "      <td>5.000000</td>\n",
       "      <td>99990.000000</td>\n",
       "      <td>42.184003</td>\n",
       "      <td>-8.723762</td>\n",
       "    </tr>\n",
       "  </tbody>\n",
       "</table>\n",
       "</div>"
      ],
      "text/plain": [
       "       customer_zip_code_prefix         price  freight_value  \\\n",
       "count              99441.000000  98666.000000   98666.000000   \n",
       "mean               35137.474583    137.754076      22.823562   \n",
       "std                29797.938996    210.645145      21.650909   \n",
       "min                 1003.000000      0.850000       0.000000   \n",
       "25%                11347.000000     45.900000      13.850000   \n",
       "50%                24416.000000     86.900000      17.170000   \n",
       "75%                58900.000000    149.900000      24.040000   \n",
       "max                99990.000000  13440.000000    1794.960000   \n",
       "\n",
       "       payment_sequential  payment_installments  payment_value  review_score  \\\n",
       "count        99440.000000          99440.000000   99440.000000  98673.000000   \n",
       "mean             1.141533              2.980923     160.990267      4.086793   \n",
       "std              2.780141              2.741810     221.951257      1.346274   \n",
       "min              1.000000              0.000000       0.000000      1.000000   \n",
       "25%              1.000000              1.000000      62.010000      4.000000   \n",
       "50%              1.000000              2.000000     105.290000      5.000000   \n",
       "75%              1.000000              4.000000     176.970000      5.000000   \n",
       "max            435.000000             29.000000   13664.080000      5.000000   \n",
       "\n",
       "       geolocation_zip_code_prefix  geolocation_lat  geolocation_lng  \n",
       "count                 99375.000000     99375.000000     99375.000000  \n",
       "mean                  35132.506249       -21.178197       -46.179652  \n",
       "std                   29714.723651         5.577170         4.029425  \n",
       "min                    4144.295140       -33.690246       -69.261385  \n",
       "25%                   11439.161900       -23.570860       -48.020218  \n",
       "50%                   24545.475423       -22.914910       -46.633242  \n",
       "75%                   58900.000000       -20.027378       -43.472320  \n",
       "max                   99990.000000        42.184003        -8.723762  "
      ]
     },
     "execution_count": 35,
     "metadata": {},
     "output_type": "execute_result"
    }
   ],
   "source": [
    "data.describe()"
   ]
  },
  {
   "cell_type": "markdown",
   "id": "c7372619",
   "metadata": {},
   "source": [
    "# Valeurs NA"
   ]
  },
  {
   "cell_type": "markdown",
   "id": "392e3245",
   "metadata": {},
   "source": [
    "On supprime les valeurs NA car il y en a très peu. Cela n'affectera pas la distribution de notre dataset."
   ]
  },
  {
   "cell_type": "code",
   "execution_count": 36,
   "id": "373bbd0a",
   "metadata": {},
   "outputs": [],
   "source": [
    "data = data.dropna()"
   ]
  },
  {
   "cell_type": "code",
   "execution_count": 37,
   "id": "78779202",
   "metadata": {},
   "outputs": [
    {
     "data": {
      "text/plain": [
       "order_id                         0\n",
       "customer_id                      0\n",
       "order_status                     0\n",
       "order_purchase_timestamp         0\n",
       "order_approved_at                0\n",
       "order_delivered_carrier_date     0\n",
       "order_delivered_customer_date    0\n",
       "order_estimated_delivery_date    0\n",
       "customer_unique_id               0\n",
       "customer_zip_code_prefix         0\n",
       "customer_city                    0\n",
       "customer_state                   0\n",
       "price                            0\n",
       "freight_value                    0\n",
       "payment_sequential               0\n",
       "payment_installments             0\n",
       "payment_value                    0\n",
       "review_score                     0\n",
       "geolocation_city                 0\n",
       "geolocation_zip_code_prefix      0\n",
       "geolocation_lat                  0\n",
       "geolocation_lng                  0\n",
       "dtype: int64"
      ]
     },
     "execution_count": 37,
     "metadata": {},
     "output_type": "execute_result"
    }
   ],
   "source": [
    "data.isna().sum()"
   ]
  },
  {
   "cell_type": "markdown",
   "id": "98c05574",
   "metadata": {},
   "source": [
    "Il n'y a plus de valeurs NA"
   ]
  },
  {
   "cell_type": "code",
   "execution_count": 38,
   "id": "5dc05420",
   "metadata": {},
   "outputs": [
    {
     "data": {
      "text/plain": [
       "95751"
      ]
     },
     "execution_count": 38,
     "metadata": {},
     "output_type": "execute_result"
    }
   ],
   "source": [
    "data.shape[0]"
   ]
  },
  {
   "cell_type": "markdown",
   "id": "0d1757de",
   "metadata": {},
   "source": [
    "## Doublons "
   ]
  },
  {
   "cell_type": "markdown",
   "id": "60b424a2",
   "metadata": {},
   "source": [
    "On supprime les doublons dans notre jeu de données."
   ]
  },
  {
   "cell_type": "code",
   "execution_count": 39,
   "id": "d6b8d0c7",
   "metadata": {},
   "outputs": [
    {
     "name": "stdout",
     "output_type": "stream",
     "text": [
      "<class 'pandas.core.frame.DataFrame'>\n",
      "Int64Index: 95751 entries, 0 to 99440\n",
      "Data columns (total 22 columns):\n",
      " #   Column                         Non-Null Count  Dtype  \n",
      "---  ------                         --------------  -----  \n",
      " 0   order_id                       95751 non-null  object \n",
      " 1   customer_id                    95751 non-null  object \n",
      " 2   order_status                   95751 non-null  object \n",
      " 3   order_purchase_timestamp       95751 non-null  object \n",
      " 4   order_approved_at              95751 non-null  object \n",
      " 5   order_delivered_carrier_date   95751 non-null  object \n",
      " 6   order_delivered_customer_date  95751 non-null  object \n",
      " 7   order_estimated_delivery_date  95751 non-null  object \n",
      " 8   customer_unique_id             95751 non-null  object \n",
      " 9   customer_zip_code_prefix       95751 non-null  int64  \n",
      " 10  customer_city                  95751 non-null  object \n",
      " 11  customer_state                 95751 non-null  object \n",
      " 12  price                          95751 non-null  float64\n",
      " 13  freight_value                  95751 non-null  float64\n",
      " 14  payment_sequential             95751 non-null  float64\n",
      " 15  payment_installments           95751 non-null  float64\n",
      " 16  payment_value                  95751 non-null  float64\n",
      " 17  review_score                   95751 non-null  float64\n",
      " 18  geolocation_city               95751 non-null  object \n",
      " 19  geolocation_zip_code_prefix    95751 non-null  float64\n",
      " 20  geolocation_lat                95751 non-null  float64\n",
      " 21  geolocation_lng                95751 non-null  float64\n",
      "dtypes: float64(9), int64(1), object(12)\n",
      "memory usage: 16.8+ MB\n"
     ]
    }
   ],
   "source": [
    "data.drop_duplicates(keep = 'first', inplace=True)\n",
    "data.info(verbose = True) "
   ]
  },
  {
   "cell_type": "markdown",
   "id": "362bafd1",
   "metadata": {},
   "source": [
    "On souhaite déterminer le nombre de clients qui ont plus de une commande."
   ]
  },
  {
   "cell_type": "code",
   "execution_count": 40,
   "id": "e4c545a1",
   "metadata": {},
   "outputs": [
    {
     "data": {
      "text/plain": [
       "1    89914\n",
       "0     2762\n",
       "Name: +1 Commandes, dtype: int64"
      ]
     },
     "execution_count": 40,
     "metadata": {},
     "output_type": "execute_result"
    }
   ],
   "source": [
    "ID_count = pd.DataFrame(data[[\"customer_unique_id\"]].value_counts(),columns = [\"ID Count\"])\n",
    "ID_count[\"+1 Commandes\"]= ID_count[\"ID Count\"].apply(lambda x : x if x == 1 else 0)\n",
    "ID_count = ID_count.reset_index()\n",
    "ID_count[\"+1 Commandes\"].value_counts()"
   ]
  },
  {
   "cell_type": "code",
   "execution_count": 41,
   "id": "118d7bcc",
   "metadata": {},
   "outputs": [
    {
     "name": "stdout",
     "output_type": "stream",
     "text": [
      "Il y a 3.07 % des clients qui ont fait plus une commande\n"
     ]
    }
   ],
   "source": [
    "print(f'Il y a {round((ID_count[\"+1 Commandes\"].value_counts()[0]/ID_count[\"+1 Commandes\"].value_counts()[1])*100,2)} % des clients qui ont fait plus une commande')"
   ]
  },
  {
   "cell_type": "code",
   "execution_count": 42,
   "id": "3a25d96e",
   "metadata": {},
   "outputs": [],
   "source": [
    "data = data.merge(right = ID_count, how = \"left\", left_on = \"customer_unique_id\", right_on = \"customer_unique_id\")"
   ]
  },
  {
   "cell_type": "markdown",
   "id": "8cb09e88",
   "metadata": {},
   "source": [
    "## Feature Enginneering"
   ]
  },
  {
   "cell_type": "markdown",
   "id": "b3a6483c",
   "metadata": {},
   "source": [
    "On regroupe les catégories des produits."
   ]
  },
  {
   "cell_type": "code",
   "execution_count": 43,
   "id": "185eb33b",
   "metadata": {},
   "outputs": [],
   "source": [
    "data_products[\"product_category_name_english\"] = data_products[\"product_category_name_english\"].fillna(\"other\")"
   ]
  },
  {
   "cell_type": "code",
   "execution_count": 44,
   "id": "b3b7c483",
   "metadata": {},
   "outputs": [],
   "source": [
    "def Categorie_transformer (df, colonne):\n",
    "    \n",
    "    \"\"\"\n",
    "    Fonction qui regroupe les catégories de produits.\n",
    "    \"\"\"\n",
    "    \n",
    "    New_Data_Res = []\n",
    "    build_types = list(df[colonne])\n",
    "\n",
    "    \n",
    "    for i in range(len(build_types)) :\n",
    "        \n",
    "        by = build_types[i].lower()\n",
    "\n",
    "        if   (\"furniture_\" in by)  or (\"home_confort\" in by) or (\"kitchen\" in by) or (\"cuisine\" in by) or (\"bed\" in by) : \n",
    "            New_Data_Res.append(\"home\")\n",
    "        \n",
    "        elif  (\"appliances\" in by) or (\"housewares\" in by) :\n",
    "            New_Data_Res.append('appliances')\n",
    "            \n",
    "        elif  (\"construction\"  in by) or (\"air_conditioning\" in by): \n",
    "            New_Data_Res.append('construction',)\n",
    "            \n",
    "        elif ( \"office\" in by) or (\"industry\" in by ) or (\"stationery\" in by ) or (\"furnitures\" in by) or (\"services\" in by)  : \n",
    "            New_Data_Res.append(\"office\")\n",
    "            \n",
    "        elif  (\"telephony\" in by) or (\"electronics\" in by)  or (\"computer\" in by) or (\"games\" in by) or (\"audio\" in by ) or (\"tablets\" in by) : \n",
    "            New_Data_Res.append('electronics')\n",
    "            \n",
    "        elif  (\"sports\" in by) or (\"musical\" in by)  or (\"party\" in by) or (\"luggage\" in by) : \n",
    "            New_Data_Res.append(\"sports_leisure\")\n",
    "        \n",
    "        elif (\"books\" in by ) or (\"art\" in by) or (\"toys\" in by) or (\"music\" in by) or (\"cine\" in by) or (\"dvd\" in by)  : \n",
    "            New_Data_Res.append(\"arts\")\n",
    "        \n",
    "        elif (\"watches\" in by ) or (\"fashion\" in by) : \n",
    "            New_Data_Res.append(\"fashion\")\n",
    "        \n",
    "        elif (\"health\" in by) or  (\"baby\" in by) or (\"diapers\" in by) or (\"perfumery\" in by)  : \n",
    "            New_Data_Res.append(\"health_beauty\")\n",
    "            \n",
    "        elif (\"flowers\" in by) or  (\"pet\" in by) or (\"garden\" in by)  : \n",
    "            New_Data_Res.append('garden_pets')\n",
    "            \n",
    "        elif (\"food\" in by) or  (\"drink\" in by)  : \n",
    "            New_Data_Res.append('food_drinks')\n",
    "            \n",
    "        elif (\"auto\" in by ) :\n",
    "            New_Data_Res.append(\"auto\")\n",
    "            \n",
    "        else :\n",
    "            New_Data_Res.append(\"other\")  \n",
    "    \n",
    "    return New_Data_Res"
   ]
  },
  {
   "cell_type": "code",
   "execution_count": 45,
   "id": "75c13b86",
   "metadata": {},
   "outputs": [],
   "source": [
    "data_products[\"categories\"] = Categorie_transformer(data_products,\"product_category_name_english\")"
   ]
  },
  {
   "cell_type": "markdown",
   "id": "18f52051",
   "metadata": {},
   "source": [
    "## Slicing DATE\n"
   ]
  },
  {
   "cell_type": "code",
   "execution_count": 46,
   "id": "b265b3fb",
   "metadata": {},
   "outputs": [
    {
     "data": {
      "text/plain": [
       "0   2017-10-02 10:56:33\n",
       "1   2018-07-24 20:41:37\n",
       "2   2018-08-08 08:38:49\n",
       "3   2017-11-18 19:28:06\n",
       "4   2018-02-13 21:18:39\n",
       "5   2017-07-09 21:57:05\n",
       "6   2017-05-16 13:10:30\n",
       "7   2017-01-23 18:29:09\n",
       "8   2017-07-29 11:55:02\n",
       "9   2017-05-16 19:41:10\n",
       "Name: order_purchase_timestamp, dtype: datetime64[ns]"
      ]
     },
     "execution_count": 46,
     "metadata": {},
     "output_type": "execute_result"
    }
   ],
   "source": [
    "data['order_purchase_timestamp'] = pd.to_datetime(data['order_purchase_timestamp'])\n",
    "data['year']= data['order_purchase_timestamp'].dt.year\n",
    "data['month']= data['order_purchase_timestamp'].dt.month\n",
    "data['day']= data['order_purchase_timestamp'].dt.day\n",
    "data['order_purchase_timestamp'].head(10)"
   ]
  },
  {
   "cell_type": "markdown",
   "id": "639f2cb5",
   "metadata": {},
   "source": [
    "# Analyse exploratoire"
   ]
  },
  {
   "cell_type": "markdown",
   "id": "fcdbd5bf",
   "metadata": {},
   "source": [
    "On crée une liste vide. Cette liste vide va permettre d'ajouter les colonnes qu'on souhaite supprimer au fur et à mesure de notre analyse."
   ]
  },
  {
   "cell_type": "code",
   "execution_count": 47,
   "id": "3c4b2fca",
   "metadata": {},
   "outputs": [],
   "source": [
    "colonne_supp = []"
   ]
  },
  {
   "cell_type": "markdown",
   "id": "b6d9e6bf",
   "metadata": {},
   "source": [
    "Après avoir traiter les données brutes, on souhaite faire une analyse exploratoire."
   ]
  },
  {
   "cell_type": "code",
   "execution_count": 48,
   "id": "d651f7d0",
   "metadata": {},
   "outputs": [
    {
     "data": {
      "text/html": [
       "<div>\n",
       "<style scoped>\n",
       "    .dataframe tbody tr th:only-of-type {\n",
       "        vertical-align: middle;\n",
       "    }\n",
       "\n",
       "    .dataframe tbody tr th {\n",
       "        vertical-align: top;\n",
       "    }\n",
       "\n",
       "    .dataframe thead th {\n",
       "        text-align: right;\n",
       "    }\n",
       "</style>\n",
       "<table border=\"1\" class=\"dataframe\">\n",
       "  <thead>\n",
       "    <tr style=\"text-align: right;\">\n",
       "      <th></th>\n",
       "      <th>order_id</th>\n",
       "      <th>customer_id</th>\n",
       "      <th>order_status</th>\n",
       "      <th>order_purchase_timestamp</th>\n",
       "      <th>order_approved_at</th>\n",
       "      <th>order_delivered_carrier_date</th>\n",
       "      <th>order_delivered_customer_date</th>\n",
       "      <th>order_estimated_delivery_date</th>\n",
       "      <th>customer_unique_id</th>\n",
       "      <th>customer_zip_code_prefix</th>\n",
       "      <th>customer_city</th>\n",
       "      <th>customer_state</th>\n",
       "      <th>price</th>\n",
       "      <th>freight_value</th>\n",
       "      <th>payment_sequential</th>\n",
       "      <th>payment_installments</th>\n",
       "      <th>payment_value</th>\n",
       "      <th>review_score</th>\n",
       "      <th>geolocation_city</th>\n",
       "      <th>geolocation_zip_code_prefix</th>\n",
       "      <th>geolocation_lat</th>\n",
       "      <th>geolocation_lng</th>\n",
       "      <th>ID Count</th>\n",
       "      <th>+1 Commandes</th>\n",
       "      <th>year</th>\n",
       "      <th>month</th>\n",
       "      <th>day</th>\n",
       "    </tr>\n",
       "  </thead>\n",
       "  <tbody>\n",
       "    <tr>\n",
       "      <th>0</th>\n",
       "      <td>e481f51cbdc54678b7cc49136f2d6af7</td>\n",
       "      <td>9ef432eb6251297304e76186b10a928d</td>\n",
       "      <td>delivered</td>\n",
       "      <td>2017-10-02 10:56:33</td>\n",
       "      <td>2017-10-02 11:07:15</td>\n",
       "      <td>2017-10-04 19:55:00</td>\n",
       "      <td>2017-10-10 21:25:13</td>\n",
       "      <td>2017-10-18 00:00:00</td>\n",
       "      <td>7c396fd4830fd04220f754e42b4e5bff</td>\n",
       "      <td>3149</td>\n",
       "      <td>sao paulo</td>\n",
       "      <td>SP</td>\n",
       "      <td>29.99</td>\n",
       "      <td>8.72</td>\n",
       "      <td>6.0</td>\n",
       "      <td>3.0</td>\n",
       "      <td>38.71</td>\n",
       "      <td>4.0</td>\n",
       "      <td>sao paulo</td>\n",
       "      <td>4144.295140</td>\n",
       "      <td>-23.570860</td>\n",
       "      <td>-46.633242</td>\n",
       "      <td>2</td>\n",
       "      <td>0</td>\n",
       "      <td>2017</td>\n",
       "      <td>10</td>\n",
       "      <td>2</td>\n",
       "    </tr>\n",
       "    <tr>\n",
       "      <th>1</th>\n",
       "      <td>53cdb2fc8bc7dce0b6741e2150273451</td>\n",
       "      <td>b0830fb4747a6c6d20dea0b8c802d7ef</td>\n",
       "      <td>delivered</td>\n",
       "      <td>2018-07-24 20:41:37</td>\n",
       "      <td>2018-07-26 03:24:27</td>\n",
       "      <td>2018-07-26 14:31:00</td>\n",
       "      <td>2018-08-07 15:27:45</td>\n",
       "      <td>2018-08-13 00:00:00</td>\n",
       "      <td>af07308b275d755c9edb36a90c618231</td>\n",
       "      <td>47813</td>\n",
       "      <td>barreiras</td>\n",
       "      <td>BA</td>\n",
       "      <td>118.70</td>\n",
       "      <td>22.76</td>\n",
       "      <td>1.0</td>\n",
       "      <td>1.0</td>\n",
       "      <td>141.46</td>\n",
       "      <td>4.0</td>\n",
       "      <td>barreiras</td>\n",
       "      <td>47803.621399</td>\n",
       "      <td>-12.148291</td>\n",
       "      <td>-44.967260</td>\n",
       "      <td>1</td>\n",
       "      <td>1</td>\n",
       "      <td>2018</td>\n",
       "      <td>7</td>\n",
       "      <td>24</td>\n",
       "    </tr>\n",
       "    <tr>\n",
       "      <th>2</th>\n",
       "      <td>47770eb9100c2d0c44946d9cf07ec65d</td>\n",
       "      <td>41ce2a54c0b03bf3443c3d931a367089</td>\n",
       "      <td>delivered</td>\n",
       "      <td>2018-08-08 08:38:49</td>\n",
       "      <td>2018-08-08 08:55:23</td>\n",
       "      <td>2018-08-08 13:50:00</td>\n",
       "      <td>2018-08-17 18:06:29</td>\n",
       "      <td>2018-09-04 00:00:00</td>\n",
       "      <td>3a653a41f6f9fc3d2a113cf8398680e8</td>\n",
       "      <td>75265</td>\n",
       "      <td>vianopolis</td>\n",
       "      <td>GO</td>\n",
       "      <td>159.90</td>\n",
       "      <td>19.22</td>\n",
       "      <td>1.0</td>\n",
       "      <td>3.0</td>\n",
       "      <td>179.12</td>\n",
       "      <td>5.0</td>\n",
       "      <td>vianopolis</td>\n",
       "      <td>75264.318182</td>\n",
       "      <td>-16.745552</td>\n",
       "      <td>-48.514168</td>\n",
       "      <td>1</td>\n",
       "      <td>1</td>\n",
       "      <td>2018</td>\n",
       "      <td>8</td>\n",
       "      <td>8</td>\n",
       "    </tr>\n",
       "  </tbody>\n",
       "</table>\n",
       "</div>"
      ],
      "text/plain": [
       "                           order_id                       customer_id  \\\n",
       "0  e481f51cbdc54678b7cc49136f2d6af7  9ef432eb6251297304e76186b10a928d   \n",
       "1  53cdb2fc8bc7dce0b6741e2150273451  b0830fb4747a6c6d20dea0b8c802d7ef   \n",
       "2  47770eb9100c2d0c44946d9cf07ec65d  41ce2a54c0b03bf3443c3d931a367089   \n",
       "\n",
       "  order_status order_purchase_timestamp    order_approved_at  \\\n",
       "0    delivered      2017-10-02 10:56:33  2017-10-02 11:07:15   \n",
       "1    delivered      2018-07-24 20:41:37  2018-07-26 03:24:27   \n",
       "2    delivered      2018-08-08 08:38:49  2018-08-08 08:55:23   \n",
       "\n",
       "  order_delivered_carrier_date order_delivered_customer_date  \\\n",
       "0          2017-10-04 19:55:00           2017-10-10 21:25:13   \n",
       "1          2018-07-26 14:31:00           2018-08-07 15:27:45   \n",
       "2          2018-08-08 13:50:00           2018-08-17 18:06:29   \n",
       "\n",
       "  order_estimated_delivery_date                customer_unique_id  \\\n",
       "0           2017-10-18 00:00:00  7c396fd4830fd04220f754e42b4e5bff   \n",
       "1           2018-08-13 00:00:00  af07308b275d755c9edb36a90c618231   \n",
       "2           2018-09-04 00:00:00  3a653a41f6f9fc3d2a113cf8398680e8   \n",
       "\n",
       "   customer_zip_code_prefix customer_city customer_state   price  \\\n",
       "0                      3149     sao paulo             SP   29.99   \n",
       "1                     47813     barreiras             BA  118.70   \n",
       "2                     75265    vianopolis             GO  159.90   \n",
       "\n",
       "   freight_value  payment_sequential  payment_installments  payment_value  \\\n",
       "0           8.72                 6.0                   3.0          38.71   \n",
       "1          22.76                 1.0                   1.0         141.46   \n",
       "2          19.22                 1.0                   3.0         179.12   \n",
       "\n",
       "   review_score geolocation_city  geolocation_zip_code_prefix  \\\n",
       "0           4.0        sao paulo                  4144.295140   \n",
       "1           4.0        barreiras                 47803.621399   \n",
       "2           5.0       vianopolis                 75264.318182   \n",
       "\n",
       "   geolocation_lat  geolocation_lng  ID Count  +1 Commandes  year  month  day  \n",
       "0       -23.570860       -46.633242         2             0  2017     10    2  \n",
       "1       -12.148291       -44.967260         1             1  2018      7   24  \n",
       "2       -16.745552       -48.514168         1             1  2018      8    8  "
      ]
     },
     "execution_count": 48,
     "metadata": {},
     "output_type": "execute_result"
    }
   ],
   "source": [
    "data.head(3)"
   ]
  },
  {
   "cell_type": "code",
   "execution_count": 49,
   "id": "d7e414a5",
   "metadata": {},
   "outputs": [
    {
     "data": {
      "image/png": "[encoded data removed]",
      "text/plain": [
       "<Figure size 720x576 with 2 Axes>"
      ]
     },
     "metadata": {
      "needs_background": "light"
     },
     "output_type": "display_data"
    }
   ],
   "source": [
    "# Affichage graphique des zip_code_prefix,\n",
    "# des latitudes et longitudes associées\n",
    "data.plot(kind=\"scatter\", x=\"geolocation_lng\", y=\"geolocation_lat\", ylim = (-40,10),\n",
    "         alpha=0.4, c=\"geolocation_zip_code_prefix\",\n",
    "         cmap=plt.get_cmap(\"jet\"), colorbar=True, figsize=(10, 8))\n",
    "plt.show()"
   ]
  },
  {
   "cell_type": "markdown",
   "id": "35b859f6",
   "metadata": {},
   "source": [
    "Une majorité des clients se trouvent dans le sud et l'ouest du Brésil"
   ]
  },
  {
   "cell_type": "code",
   "execution_count": 50,
   "id": "3bb74190",
   "metadata": {},
   "outputs": [
    {
     "data": {
      "image/png": "[encoded data removed]",
      "text/plain": [
       "<Figure size 1440x720 with 1 Axes>"
      ]
     },
     "metadata": {
      "needs_background": "light"
     },
     "output_type": "display_data"
    }
   ],
   "source": [
    "plt.figure(figsize=(20,10))\n",
    "sns.countplot(y=\"customer_city\", data=data, order=data[\"customer_city\"].value_counts().index[:15], palette = \"husl\")\n",
    "plt.title(\"Top 10 des villes des clients\")\n",
    "plt.ylabel(\"Villes des clients\")\n",
    "plt.show()"
   ]
  },
  {
   "cell_type": "markdown",
   "id": "f35b54c3",
   "metadata": {},
   "source": [
    "Les clients se trouvent en grande partie à Sao Paulo et à Rio Janeiro."
   ]
  },
  {
   "cell_type": "code",
   "execution_count": 51,
   "id": "051f61fb",
   "metadata": {},
   "outputs": [
    {
     "data": {
      "image/png": "[encoded data removed]",
      "text/plain": [
       "<Figure size 1440x720 with 1 Axes>"
      ]
     },
     "metadata": {
      "needs_background": "light"
     },
     "output_type": "display_data"
    }
   ],
   "source": [
    "plt.figure(figsize=(20, 10))\n",
    "sns.countplot(y=\"review_score\", data=data, order = data['review_score'].value_counts().index, palette = \"husl\")\n",
    "plt.title(\"Répartition des scores des avis clients\")\n",
    "plt.ylabel(\"Score\")\n",
    "plt.show()"
   ]
  },
  {
   "cell_type": "markdown",
   "id": "0422d784",
   "metadata": {},
   "source": [
    "De façon générale, les clients sont satisfaient."
   ]
  },
  {
   "cell_type": "code",
   "execution_count": 52,
   "id": "578641cb",
   "metadata": {},
   "outputs": [
    {
     "data": {
      "image/png": "[encoded data removed]",
      "text/plain": [
       "<Figure size 1440x720 with 1 Axes>"
      ]
     },
     "metadata": {
      "needs_background": "light"
     },
     "output_type": "display_data"
    }
   ],
   "source": [
    "plt.figure(figsize=(20, 10))\n",
    "sns.countplot(y=\"categories\", data=data_products, \n",
    "             order=data_products[\"categories\"].value_counts().index[:10])\n",
    "plt.ylabel(\"Catégories de produits\")\n",
    "plt.title(\"Répartition des catégories de produits les plus vendus\")\n",
    "plt.show()"
   ]
  },
  {
   "cell_type": "code",
   "execution_count": 53,
   "id": "2fc68eb7",
   "metadata": {},
   "outputs": [
    {
     "data": {
      "image/png": "[encoded data removed]",
      "text/plain": [
       "<Figure size 1440x720 with 1 Axes>"
      ]
     },
     "metadata": {
      "needs_background": "light"
     },
     "output_type": "display_data"
    }
   ],
   "source": [
    "plt.figure(figsize=(20, 10))\n",
    "sns.countplot(y=\"product_category_name_english\", data=data_products, \n",
    "             order=data_products[\"product_category_name_english\"].value_counts().index[:10])\n",
    "plt.ylabel(\"Catégories de produits\")\n",
    "plt.title(\"Répartition des catégories de produits les plus vendus\")\n",
    "plt.show()"
   ]
  },
  {
   "cell_type": "code",
   "execution_count": 54,
   "id": "4b7b20ad",
   "metadata": {},
   "outputs": [
    {
     "data": {
      "text/html": [
       "<div>\n",
       "<style scoped>\n",
       "    .dataframe tbody tr th:only-of-type {\n",
       "        vertical-align: middle;\n",
       "    }\n",
       "\n",
       "    .dataframe tbody tr th {\n",
       "        vertical-align: top;\n",
       "    }\n",
       "\n",
       "    .dataframe thead th {\n",
       "        text-align: right;\n",
       "    }\n",
       "</style>\n",
       "<table border=\"1\" class=\"dataframe\">\n",
       "  <thead>\n",
       "    <tr style=\"text-align: right;\">\n",
       "      <th></th>\n",
       "      <th>order_id</th>\n",
       "      <th>customer_id</th>\n",
       "      <th>order_status</th>\n",
       "      <th>order_purchase_timestamp</th>\n",
       "      <th>order_approved_at</th>\n",
       "      <th>order_delivered_carrier_date</th>\n",
       "      <th>order_delivered_customer_date</th>\n",
       "      <th>order_estimated_delivery_date</th>\n",
       "      <th>customer_unique_id</th>\n",
       "      <th>customer_zip_code_prefix</th>\n",
       "      <th>customer_city</th>\n",
       "      <th>customer_state</th>\n",
       "      <th>price</th>\n",
       "      <th>freight_value</th>\n",
       "      <th>payment_sequential</th>\n",
       "      <th>payment_installments</th>\n",
       "      <th>payment_value</th>\n",
       "      <th>review_score</th>\n",
       "      <th>geolocation_city</th>\n",
       "      <th>geolocation_zip_code_prefix</th>\n",
       "      <th>geolocation_lat</th>\n",
       "      <th>geolocation_lng</th>\n",
       "      <th>ID Count</th>\n",
       "      <th>+1 Commandes</th>\n",
       "      <th>year</th>\n",
       "      <th>month</th>\n",
       "      <th>day</th>\n",
       "    </tr>\n",
       "  </thead>\n",
       "  <tbody>\n",
       "    <tr>\n",
       "      <th>0</th>\n",
       "      <td>e481f51cbdc54678b7cc49136f2d6af7</td>\n",
       "      <td>9ef432eb6251297304e76186b10a928d</td>\n",
       "      <td>delivered</td>\n",
       "      <td>2017-10-02 10:56:33</td>\n",
       "      <td>2017-10-02 11:07:15</td>\n",
       "      <td>2017-10-04 19:55:00</td>\n",
       "      <td>2017-10-10 21:25:13</td>\n",
       "      <td>2017-10-18 00:00:00</td>\n",
       "      <td>7c396fd4830fd04220f754e42b4e5bff</td>\n",
       "      <td>3149</td>\n",
       "      <td>sao paulo</td>\n",
       "      <td>SP</td>\n",
       "      <td>29.99</td>\n",
       "      <td>8.72</td>\n",
       "      <td>6.0</td>\n",
       "      <td>3.0</td>\n",
       "      <td>38.71</td>\n",
       "      <td>4.0</td>\n",
       "      <td>sao paulo</td>\n",
       "      <td>4144.295140</td>\n",
       "      <td>-23.570860</td>\n",
       "      <td>-46.633242</td>\n",
       "      <td>2</td>\n",
       "      <td>0</td>\n",
       "      <td>2017</td>\n",
       "      <td>10</td>\n",
       "      <td>2</td>\n",
       "    </tr>\n",
       "    <tr>\n",
       "      <th>1</th>\n",
       "      <td>53cdb2fc8bc7dce0b6741e2150273451</td>\n",
       "      <td>b0830fb4747a6c6d20dea0b8c802d7ef</td>\n",
       "      <td>delivered</td>\n",
       "      <td>2018-07-24 20:41:37</td>\n",
       "      <td>2018-07-26 03:24:27</td>\n",
       "      <td>2018-07-26 14:31:00</td>\n",
       "      <td>2018-08-07 15:27:45</td>\n",
       "      <td>2018-08-13 00:00:00</td>\n",
       "      <td>af07308b275d755c9edb36a90c618231</td>\n",
       "      <td>47813</td>\n",
       "      <td>barreiras</td>\n",
       "      <td>BA</td>\n",
       "      <td>118.70</td>\n",
       "      <td>22.76</td>\n",
       "      <td>1.0</td>\n",
       "      <td>1.0</td>\n",
       "      <td>141.46</td>\n",
       "      <td>4.0</td>\n",
       "      <td>barreiras</td>\n",
       "      <td>47803.621399</td>\n",
       "      <td>-12.148291</td>\n",
       "      <td>-44.967260</td>\n",
       "      <td>1</td>\n",
       "      <td>1</td>\n",
       "      <td>2018</td>\n",
       "      <td>7</td>\n",
       "      <td>24</td>\n",
       "    </tr>\n",
       "    <tr>\n",
       "      <th>2</th>\n",
       "      <td>47770eb9100c2d0c44946d9cf07ec65d</td>\n",
       "      <td>41ce2a54c0b03bf3443c3d931a367089</td>\n",
       "      <td>delivered</td>\n",
       "      <td>2018-08-08 08:38:49</td>\n",
       "      <td>2018-08-08 08:55:23</td>\n",
       "      <td>2018-08-08 13:50:00</td>\n",
       "      <td>2018-08-17 18:06:29</td>\n",
       "      <td>2018-09-04 00:00:00</td>\n",
       "      <td>3a653a41f6f9fc3d2a113cf8398680e8</td>\n",
       "      <td>75265</td>\n",
       "      <td>vianopolis</td>\n",
       "      <td>GO</td>\n",
       "      <td>159.90</td>\n",
       "      <td>19.22</td>\n",
       "      <td>1.0</td>\n",
       "      <td>3.0</td>\n",
       "      <td>179.12</td>\n",
       "      <td>5.0</td>\n",
       "      <td>vianopolis</td>\n",
       "      <td>75264.318182</td>\n",
       "      <td>-16.745552</td>\n",
       "      <td>-48.514168</td>\n",
       "      <td>1</td>\n",
       "      <td>1</td>\n",
       "      <td>2018</td>\n",
       "      <td>8</td>\n",
       "      <td>8</td>\n",
       "    </tr>\n",
       "    <tr>\n",
       "      <th>3</th>\n",
       "      <td>949d5b44dbf5de918fe9c16f97b45f8a</td>\n",
       "      <td>f88197465ea7920adcdbec7375364d82</td>\n",
       "      <td>delivered</td>\n",
       "      <td>2017-11-18 19:28:06</td>\n",
       "      <td>2017-11-18 19:45:59</td>\n",
       "      <td>2017-11-22 13:39:59</td>\n",
       "      <td>2017-12-02 00:28:42</td>\n",
       "      <td>2017-12-15 00:00:00</td>\n",
       "      <td>7c142cf63193a1473d2e66489a9ae977</td>\n",
       "      <td>59296</td>\n",
       "      <td>sao goncalo do amarante</td>\n",
       "      <td>RN</td>\n",
       "      <td>45.00</td>\n",
       "      <td>27.20</td>\n",
       "      <td>1.0</td>\n",
       "      <td>1.0</td>\n",
       "      <td>72.20</td>\n",
       "      <td>5.0</td>\n",
       "      <td>sao goncalo do amarante</td>\n",
       "      <td>60712.724638</td>\n",
       "      <td>-4.864240</td>\n",
       "      <td>-36.839625</td>\n",
       "      <td>1</td>\n",
       "      <td>1</td>\n",
       "      <td>2017</td>\n",
       "      <td>11</td>\n",
       "      <td>18</td>\n",
       "    </tr>\n",
       "    <tr>\n",
       "      <th>4</th>\n",
       "      <td>ad21c59c0840e6cb83a9ceb5573f8159</td>\n",
       "      <td>8ab97904e6daea8866dbdbc4fb7aad2c</td>\n",
       "      <td>delivered</td>\n",
       "      <td>2018-02-13 21:18:39</td>\n",
       "      <td>2018-02-13 22:20:29</td>\n",
       "      <td>2018-02-14 19:46:34</td>\n",
       "      <td>2018-02-16 18:17:02</td>\n",
       "      <td>2018-02-26 00:00:00</td>\n",
       "      <td>72632f0f9dd73dfee390c9b22eb56dd6</td>\n",
       "      <td>9195</td>\n",
       "      <td>santo andre</td>\n",
       "      <td>SP</td>\n",
       "      <td>19.90</td>\n",
       "      <td>8.72</td>\n",
       "      <td>1.0</td>\n",
       "      <td>1.0</td>\n",
       "      <td>28.62</td>\n",
       "      <td>5.0</td>\n",
       "      <td>santo andre</td>\n",
       "      <td>9166.816698</td>\n",
       "      <td>-23.655241</td>\n",
       "      <td>-46.519084</td>\n",
       "      <td>1</td>\n",
       "      <td>1</td>\n",
       "      <td>2018</td>\n",
       "      <td>2</td>\n",
       "      <td>13</td>\n",
       "    </tr>\n",
       "  </tbody>\n",
       "</table>\n",
       "</div>"
      ],
      "text/plain": [
       "                           order_id                       customer_id  \\\n",
       "0  e481f51cbdc54678b7cc49136f2d6af7  9ef432eb6251297304e76186b10a928d   \n",
       "1  53cdb2fc8bc7dce0b6741e2150273451  b0830fb4747a6c6d20dea0b8c802d7ef   \n",
       "2  47770eb9100c2d0c44946d9cf07ec65d  41ce2a54c0b03bf3443c3d931a367089   \n",
       "3  949d5b44dbf5de918fe9c16f97b45f8a  f88197465ea7920adcdbec7375364d82   \n",
       "4  ad21c59c0840e6cb83a9ceb5573f8159  8ab97904e6daea8866dbdbc4fb7aad2c   \n",
       "\n",
       "  order_status order_purchase_timestamp    order_approved_at  \\\n",
       "0    delivered      2017-10-02 10:56:33  2017-10-02 11:07:15   \n",
       "1    delivered      2018-07-24 20:41:37  2018-07-26 03:24:27   \n",
       "2    delivered      2018-08-08 08:38:49  2018-08-08 08:55:23   \n",
       "3    delivered      2017-11-18 19:28:06  2017-11-18 19:45:59   \n",
       "4    delivered      2018-02-13 21:18:39  2018-02-13 22:20:29   \n",
       "\n",
       "  order_delivered_carrier_date order_delivered_customer_date  \\\n",
       "0          2017-10-04 19:55:00           2017-10-10 21:25:13   \n",
       "1          2018-07-26 14:31:00           2018-08-07 15:27:45   \n",
       "2          2018-08-08 13:50:00           2018-08-17 18:06:29   \n",
       "3          2017-11-22 13:39:59           2017-12-02 00:28:42   \n",
       "4          2018-02-14 19:46:34           2018-02-16 18:17:02   \n",
       "\n",
       "  order_estimated_delivery_date                customer_unique_id  \\\n",
       "0           2017-10-18 00:00:00  7c396fd4830fd04220f754e42b4e5bff   \n",
       "1           2018-08-13 00:00:00  af07308b275d755c9edb36a90c618231   \n",
       "2           2018-09-04 00:00:00  3a653a41f6f9fc3d2a113cf8398680e8   \n",
       "3           2017-12-15 00:00:00  7c142cf63193a1473d2e66489a9ae977   \n",
       "4           2018-02-26 00:00:00  72632f0f9dd73dfee390c9b22eb56dd6   \n",
       "\n",
       "   customer_zip_code_prefix            customer_city customer_state   price  \\\n",
       "0                      3149                sao paulo             SP   29.99   \n",
       "1                     47813                barreiras             BA  118.70   \n",
       "2                     75265               vianopolis             GO  159.90   \n",
       "3                     59296  sao goncalo do amarante             RN   45.00   \n",
       "4                      9195              santo andre             SP   19.90   \n",
       "\n",
       "   freight_value  payment_sequential  payment_installments  payment_value  \\\n",
       "0           8.72                 6.0                   3.0          38.71   \n",
       "1          22.76                 1.0                   1.0         141.46   \n",
       "2          19.22                 1.0                   3.0         179.12   \n",
       "3          27.20                 1.0                   1.0          72.20   \n",
       "4           8.72                 1.0                   1.0          28.62   \n",
       "\n",
       "   review_score         geolocation_city  geolocation_zip_code_prefix  \\\n",
       "0           4.0                sao paulo                  4144.295140   \n",
       "1           4.0                barreiras                 47803.621399   \n",
       "2           5.0               vianopolis                 75264.318182   \n",
       "3           5.0  sao goncalo do amarante                 60712.724638   \n",
       "4           5.0              santo andre                  9166.816698   \n",
       "\n",
       "   geolocation_lat  geolocation_lng  ID Count  +1 Commandes  year  month  day  \n",
       "0       -23.570860       -46.633242         2             0  2017     10    2  \n",
       "1       -12.148291       -44.967260         1             1  2018      7   24  \n",
       "2       -16.745552       -48.514168         1             1  2018      8    8  \n",
       "3        -4.864240       -36.839625         1             1  2017     11   18  \n",
       "4       -23.655241       -46.519084         1             1  2018      2   13  "
      ]
     },
     "execution_count": 54,
     "metadata": {},
     "output_type": "execute_result"
    }
   ],
   "source": [
    "data.head(5)"
   ]
  },
  {
   "cell_type": "markdown",
   "id": "f08f4e00",
   "metadata": {},
   "source": [
    "# Ajout feature"
   ]
  },
  {
   "cell_type": "markdown",
   "id": "d6bfb66e",
   "metadata": {},
   "source": [
    "On transforme les colonnes time en format datetime."
   ]
  },
  {
   "cell_type": "code",
   "execution_count": 55,
   "id": "89c65eec",
   "metadata": {},
   "outputs": [],
   "source": [
    "# Transformation de\n",
    "time = [\"order_purchase_timestamp\", \"order_approved_at\",\"order_delivered_carrier_date\", \n",
    "        \"order_delivered_customer_date\",\"order_estimated_delivery_date\"]\n",
    "\n",
    "for cols in time:\n",
    "    data[cols] = pd.to_datetime(data[cols],\n",
    "                              format=\"%Y-%m-%d\", errors=\"ignore\")"
   ]
  },
  {
   "cell_type": "markdown",
   "id": "677ba66d",
   "metadata": {},
   "source": [
    "On crée des variables supplémentaires pour notre modèle de clustering. Nous n'utiliserons pas forcémment toutes les variables crées."
   ]
  },
  {
   "cell_type": "code",
   "execution_count": 56,
   "id": "14122af5",
   "metadata": {},
   "outputs": [],
   "source": [
    "data[\"nb_days_before_delivered\"] = data[\"order_delivered_customer_date\"]- data[\"order_approved_at\"]\n",
    "data[\"nb_days_before_delivered_estimation\"] = data[\"order_estimated_delivery_date\"] - data[\"order_approved_at\"]\n",
    "\n",
    "cols_var = [\"nb_days_before_delivered\",\n",
    "            \"nb_days_before_delivered_estimation\"]\n",
    "\n",
    "for cols in cols_var:\n",
    "    data[cols] = data[cols].dt.days\n",
    "\n"
   ]
  },
  {
   "cell_type": "markdown",
   "id": "a0a4b7a0",
   "metadata": {},
   "source": [
    "On décide de ne pas garder les variables qui nous donne des informations "
   ]
  },
  {
   "cell_type": "markdown",
   "id": "48084c77",
   "metadata": {},
   "source": [
    "#  Milestone 2 : Création d’un fichier par client"
   ]
  },
  {
   "cell_type": "markdown",
   "id": "07ceaed5",
   "metadata": {},
   "source": [
    "On filtre les colonnes pour notre fichier."
   ]
  },
  {
   "cell_type": "code",
   "execution_count": 57,
   "id": "2c5efb5a",
   "metadata": {},
   "outputs": [],
   "source": [
    "Colonnes_RFM = data.columns"
   ]
  },
  {
   "cell_type": "code",
   "execution_count": 58,
   "id": "30756ae2",
   "metadata": {},
   "outputs": [
    {
     "data": {
      "text/html": [
       "<div>\n",
       "<style scoped>\n",
       "    .dataframe tbody tr th:only-of-type {\n",
       "        vertical-align: middle;\n",
       "    }\n",
       "\n",
       "    .dataframe tbody tr th {\n",
       "        vertical-align: top;\n",
       "    }\n",
       "\n",
       "    .dataframe thead th {\n",
       "        text-align: right;\n",
       "    }\n",
       "</style>\n",
       "<table border=\"1\" class=\"dataframe\">\n",
       "  <thead>\n",
       "    <tr style=\"text-align: right;\">\n",
       "      <th></th>\n",
       "      <th>order_id</th>\n",
       "      <th>customer_id</th>\n",
       "      <th>order_status</th>\n",
       "      <th>order_purchase_timestamp</th>\n",
       "      <th>order_approved_at</th>\n",
       "      <th>order_delivered_carrier_date</th>\n",
       "      <th>order_delivered_customer_date</th>\n",
       "      <th>order_estimated_delivery_date</th>\n",
       "      <th>customer_unique_id</th>\n",
       "      <th>customer_zip_code_prefix</th>\n",
       "      <th>customer_city</th>\n",
       "      <th>customer_state</th>\n",
       "      <th>price</th>\n",
       "      <th>freight_value</th>\n",
       "      <th>payment_sequential</th>\n",
       "      <th>payment_installments</th>\n",
       "      <th>payment_value</th>\n",
       "      <th>review_score</th>\n",
       "      <th>geolocation_city</th>\n",
       "      <th>geolocation_zip_code_prefix</th>\n",
       "      <th>geolocation_lat</th>\n",
       "      <th>geolocation_lng</th>\n",
       "      <th>ID Count</th>\n",
       "      <th>+1 Commandes</th>\n",
       "      <th>year</th>\n",
       "      <th>month</th>\n",
       "      <th>day</th>\n",
       "      <th>nb_days_before_delivered</th>\n",
       "      <th>nb_days_before_delivered_estimation</th>\n",
       "    </tr>\n",
       "  </thead>\n",
       "  <tbody>\n",
       "    <tr>\n",
       "      <th>0</th>\n",
       "      <td>e481f51cbdc54678b7cc49136f2d6af7</td>\n",
       "      <td>9ef432eb6251297304e76186b10a928d</td>\n",
       "      <td>delivered</td>\n",
       "      <td>2017-10-02 10:56:33</td>\n",
       "      <td>2017-10-02 11:07:15</td>\n",
       "      <td>2017-10-04 19:55:00</td>\n",
       "      <td>2017-10-10 21:25:13</td>\n",
       "      <td>2017-10-18</td>\n",
       "      <td>7c396fd4830fd04220f754e42b4e5bff</td>\n",
       "      <td>3149</td>\n",
       "      <td>sao paulo</td>\n",
       "      <td>SP</td>\n",
       "      <td>29.99</td>\n",
       "      <td>8.72</td>\n",
       "      <td>6.0</td>\n",
       "      <td>3.0</td>\n",
       "      <td>38.71</td>\n",
       "      <td>4.0</td>\n",
       "      <td>sao paulo</td>\n",
       "      <td>4144.295140</td>\n",
       "      <td>-23.570860</td>\n",
       "      <td>-46.633242</td>\n",
       "      <td>2</td>\n",
       "      <td>0</td>\n",
       "      <td>2017</td>\n",
       "      <td>10</td>\n",
       "      <td>2</td>\n",
       "      <td>8</td>\n",
       "      <td>15</td>\n",
       "    </tr>\n",
       "    <tr>\n",
       "      <th>1</th>\n",
       "      <td>53cdb2fc8bc7dce0b6741e2150273451</td>\n",
       "      <td>b0830fb4747a6c6d20dea0b8c802d7ef</td>\n",
       "      <td>delivered</td>\n",
       "      <td>2018-07-24 20:41:37</td>\n",
       "      <td>2018-07-26 03:24:27</td>\n",
       "      <td>2018-07-26 14:31:00</td>\n",
       "      <td>2018-08-07 15:27:45</td>\n",
       "      <td>2018-08-13</td>\n",
       "      <td>af07308b275d755c9edb36a90c618231</td>\n",
       "      <td>47813</td>\n",
       "      <td>barreiras</td>\n",
       "      <td>BA</td>\n",
       "      <td>118.70</td>\n",
       "      <td>22.76</td>\n",
       "      <td>1.0</td>\n",
       "      <td>1.0</td>\n",
       "      <td>141.46</td>\n",
       "      <td>4.0</td>\n",
       "      <td>barreiras</td>\n",
       "      <td>47803.621399</td>\n",
       "      <td>-12.148291</td>\n",
       "      <td>-44.967260</td>\n",
       "      <td>1</td>\n",
       "      <td>1</td>\n",
       "      <td>2018</td>\n",
       "      <td>7</td>\n",
       "      <td>24</td>\n",
       "      <td>12</td>\n",
       "      <td>17</td>\n",
       "    </tr>\n",
       "    <tr>\n",
       "      <th>2</th>\n",
       "      <td>47770eb9100c2d0c44946d9cf07ec65d</td>\n",
       "      <td>41ce2a54c0b03bf3443c3d931a367089</td>\n",
       "      <td>delivered</td>\n",
       "      <td>2018-08-08 08:38:49</td>\n",
       "      <td>2018-08-08 08:55:23</td>\n",
       "      <td>2018-08-08 13:50:00</td>\n",
       "      <td>2018-08-17 18:06:29</td>\n",
       "      <td>2018-09-04</td>\n",
       "      <td>3a653a41f6f9fc3d2a113cf8398680e8</td>\n",
       "      <td>75265</td>\n",
       "      <td>vianopolis</td>\n",
       "      <td>GO</td>\n",
       "      <td>159.90</td>\n",
       "      <td>19.22</td>\n",
       "      <td>1.0</td>\n",
       "      <td>3.0</td>\n",
       "      <td>179.12</td>\n",
       "      <td>5.0</td>\n",
       "      <td>vianopolis</td>\n",
       "      <td>75264.318182</td>\n",
       "      <td>-16.745552</td>\n",
       "      <td>-48.514168</td>\n",
       "      <td>1</td>\n",
       "      <td>1</td>\n",
       "      <td>2018</td>\n",
       "      <td>8</td>\n",
       "      <td>8</td>\n",
       "      <td>9</td>\n",
       "      <td>26</td>\n",
       "    </tr>\n",
       "    <tr>\n",
       "      <th>3</th>\n",
       "      <td>949d5b44dbf5de918fe9c16f97b45f8a</td>\n",
       "      <td>f88197465ea7920adcdbec7375364d82</td>\n",
       "      <td>delivered</td>\n",
       "      <td>2017-11-18 19:28:06</td>\n",
       "      <td>2017-11-18 19:45:59</td>\n",
       "      <td>2017-11-22 13:39:59</td>\n",
       "      <td>2017-12-02 00:28:42</td>\n",
       "      <td>2017-12-15</td>\n",
       "      <td>7c142cf63193a1473d2e66489a9ae977</td>\n",
       "      <td>59296</td>\n",
       "      <td>sao goncalo do amarante</td>\n",
       "      <td>RN</td>\n",
       "      <td>45.00</td>\n",
       "      <td>27.20</td>\n",
       "      <td>1.0</td>\n",
       "      <td>1.0</td>\n",
       "      <td>72.20</td>\n",
       "      <td>5.0</td>\n",
       "      <td>sao goncalo do amarante</td>\n",
       "      <td>60712.724638</td>\n",
       "      <td>-4.864240</td>\n",
       "      <td>-36.839625</td>\n",
       "      <td>1</td>\n",
       "      <td>1</td>\n",
       "      <td>2017</td>\n",
       "      <td>11</td>\n",
       "      <td>18</td>\n",
       "      <td>13</td>\n",
       "      <td>26</td>\n",
       "    </tr>\n",
       "    <tr>\n",
       "      <th>4</th>\n",
       "      <td>ad21c59c0840e6cb83a9ceb5573f8159</td>\n",
       "      <td>8ab97904e6daea8866dbdbc4fb7aad2c</td>\n",
       "      <td>delivered</td>\n",
       "      <td>2018-02-13 21:18:39</td>\n",
       "      <td>2018-02-13 22:20:29</td>\n",
       "      <td>2018-02-14 19:46:34</td>\n",
       "      <td>2018-02-16 18:17:02</td>\n",
       "      <td>2018-02-26</td>\n",
       "      <td>72632f0f9dd73dfee390c9b22eb56dd6</td>\n",
       "      <td>9195</td>\n",
       "      <td>santo andre</td>\n",
       "      <td>SP</td>\n",
       "      <td>19.90</td>\n",
       "      <td>8.72</td>\n",
       "      <td>1.0</td>\n",
       "      <td>1.0</td>\n",
       "      <td>28.62</td>\n",
       "      <td>5.0</td>\n",
       "      <td>santo andre</td>\n",
       "      <td>9166.816698</td>\n",
       "      <td>-23.655241</td>\n",
       "      <td>-46.519084</td>\n",
       "      <td>1</td>\n",
       "      <td>1</td>\n",
       "      <td>2018</td>\n",
       "      <td>2</td>\n",
       "      <td>13</td>\n",
       "      <td>2</td>\n",
       "      <td>12</td>\n",
       "    </tr>\n",
       "  </tbody>\n",
       "</table>\n",
       "</div>"
      ],
      "text/plain": [
       "                           order_id                       customer_id  \\\n",
       "0  e481f51cbdc54678b7cc49136f2d6af7  9ef432eb6251297304e76186b10a928d   \n",
       "1  53cdb2fc8bc7dce0b6741e2150273451  b0830fb4747a6c6d20dea0b8c802d7ef   \n",
       "2  47770eb9100c2d0c44946d9cf07ec65d  41ce2a54c0b03bf3443c3d931a367089   \n",
       "3  949d5b44dbf5de918fe9c16f97b45f8a  f88197465ea7920adcdbec7375364d82   \n",
       "4  ad21c59c0840e6cb83a9ceb5573f8159  8ab97904e6daea8866dbdbc4fb7aad2c   \n",
       "\n",
       "  order_status order_purchase_timestamp   order_approved_at  \\\n",
       "0    delivered      2017-10-02 10:56:33 2017-10-02 11:07:15   \n",
       "1    delivered      2018-07-24 20:41:37 2018-07-26 03:24:27   \n",
       "2    delivered      2018-08-08 08:38:49 2018-08-08 08:55:23   \n",
       "3    delivered      2017-11-18 19:28:06 2017-11-18 19:45:59   \n",
       "4    delivered      2018-02-13 21:18:39 2018-02-13 22:20:29   \n",
       "\n",
       "  order_delivered_carrier_date order_delivered_customer_date  \\\n",
       "0          2017-10-04 19:55:00           2017-10-10 21:25:13   \n",
       "1          2018-07-26 14:31:00           2018-08-07 15:27:45   \n",
       "2          2018-08-08 13:50:00           2018-08-17 18:06:29   \n",
       "3          2017-11-22 13:39:59           2017-12-02 00:28:42   \n",
       "4          2018-02-14 19:46:34           2018-02-16 18:17:02   \n",
       "\n",
       "  order_estimated_delivery_date                customer_unique_id  \\\n",
       "0                    2017-10-18  7c396fd4830fd04220f754e42b4e5bff   \n",
       "1                    2018-08-13  af07308b275d755c9edb36a90c618231   \n",
       "2                    2018-09-04  3a653a41f6f9fc3d2a113cf8398680e8   \n",
       "3                    2017-12-15  7c142cf63193a1473d2e66489a9ae977   \n",
       "4                    2018-02-26  72632f0f9dd73dfee390c9b22eb56dd6   \n",
       "\n",
       "   customer_zip_code_prefix            customer_city customer_state   price  \\\n",
       "0                      3149                sao paulo             SP   29.99   \n",
       "1                     47813                barreiras             BA  118.70   \n",
       "2                     75265               vianopolis             GO  159.90   \n",
       "3                     59296  sao goncalo do amarante             RN   45.00   \n",
       "4                      9195              santo andre             SP   19.90   \n",
       "\n",
       "   freight_value  payment_sequential  payment_installments  payment_value  \\\n",
       "0           8.72                 6.0                   3.0          38.71   \n",
       "1          22.76                 1.0                   1.0         141.46   \n",
       "2          19.22                 1.0                   3.0         179.12   \n",
       "3          27.20                 1.0                   1.0          72.20   \n",
       "4           8.72                 1.0                   1.0          28.62   \n",
       "\n",
       "   review_score         geolocation_city  geolocation_zip_code_prefix  \\\n",
       "0           4.0                sao paulo                  4144.295140   \n",
       "1           4.0                barreiras                 47803.621399   \n",
       "2           5.0               vianopolis                 75264.318182   \n",
       "3           5.0  sao goncalo do amarante                 60712.724638   \n",
       "4           5.0              santo andre                  9166.816698   \n",
       "\n",
       "   geolocation_lat  geolocation_lng  ID Count  +1 Commandes  year  month  day  \\\n",
       "0       -23.570860       -46.633242         2             0  2017     10    2   \n",
       "1       -12.148291       -44.967260         1             1  2018      7   24   \n",
       "2       -16.745552       -48.514168         1             1  2018      8    8   \n",
       "3        -4.864240       -36.839625         1             1  2017     11   18   \n",
       "4       -23.655241       -46.519084         1             1  2018      2   13   \n",
       "\n",
       "   nb_days_before_delivered  nb_days_before_delivered_estimation  \n",
       "0                         8                                   15  \n",
       "1                        12                                   17  \n",
       "2                         9                                   26  \n",
       "3                        13                                   26  \n",
       "4                         2                                   12  "
      ]
     },
     "execution_count": 58,
     "metadata": {},
     "output_type": "execute_result"
    }
   ],
   "source": [
    "data_rfm = data[Colonnes_RFM ]\n",
    "data_rfm.head(5)"
   ]
  },
  {
   "cell_type": "code",
   "execution_count": 59,
   "id": "e0eb7068",
   "metadata": {},
   "outputs": [
    {
     "name": "stdout",
     "output_type": "stream",
     "text": [
      "<class 'pandas.core.frame.DataFrame'>\n",
      "Int64Index: 95751 entries, 0 to 95750\n",
      "Data columns (total 29 columns):\n",
      " #   Column                               Non-Null Count  Dtype         \n",
      "---  ------                               --------------  -----         \n",
      " 0   order_id                             95751 non-null  object        \n",
      " 1   customer_id                          95751 non-null  object        \n",
      " 2   order_status                         95751 non-null  object        \n",
      " 3   order_purchase_timestamp             95751 non-null  datetime64[ns]\n",
      " 4   order_approved_at                    95751 non-null  datetime64[ns]\n",
      " 5   order_delivered_carrier_date         95751 non-null  datetime64[ns]\n",
      " 6   order_delivered_customer_date        95751 non-null  datetime64[ns]\n",
      " 7   order_estimated_delivery_date        95751 non-null  datetime64[ns]\n",
      " 8   customer_unique_id                   95751 non-null  object        \n",
      " 9   customer_zip_code_prefix             95751 non-null  int64         \n",
      " 10  customer_city                        95751 non-null  object        \n",
      " 11  customer_state                       95751 non-null  object        \n",
      " 12  price                                95751 non-null  float64       \n",
      " 13  freight_value                        95751 non-null  float64       \n",
      " 14  payment_sequential                   95751 non-null  float64       \n",
      " 15  payment_installments                 95751 non-null  float64       \n",
      " 16  payment_value                        95751 non-null  float64       \n",
      " 17  review_score                         95751 non-null  float64       \n",
      " 18  geolocation_city                     95751 non-null  object        \n",
      " 19  geolocation_zip_code_prefix          95751 non-null  float64       \n",
      " 20  geolocation_lat                      95751 non-null  float64       \n",
      " 21  geolocation_lng                      95751 non-null  float64       \n",
      " 22  ID Count                             95751 non-null  int64         \n",
      " 23  +1 Commandes                         95751 non-null  int64         \n",
      " 24  year                                 95751 non-null  int64         \n",
      " 25  month                                95751 non-null  int64         \n",
      " 26  day                                  95751 non-null  int64         \n",
      " 27  nb_days_before_delivered             95751 non-null  int64         \n",
      " 28  nb_days_before_delivered_estimation  95751 non-null  int64         \n",
      "dtypes: datetime64[ns](5), float64(9), int64(8), object(7)\n",
      "memory usage: 23.9+ MB\n"
     ]
    }
   ],
   "source": [
    "data_rfm.info()"
   ]
  },
  {
   "cell_type": "code",
   "execution_count": 60,
   "id": "0bd720ec",
   "metadata": {},
   "outputs": [],
   "source": [
    "import datetime"
   ]
  },
  {
   "cell_type": "markdown",
   "id": "97dc43ec",
   "metadata": {},
   "source": [
    "On crée nos données RFM."
   ]
  },
  {
   "cell_type": "code",
   "execution_count": 61,
   "id": "60896a1c",
   "metadata": {},
   "outputs": [],
   "source": [
    "## Conversion date en datetime\n",
    "data_rfm['order_purchase_timestamp']=pd.to_datetime(data_rfm['order_purchase_timestamp'])\n",
    "\n",
    "## On détermine la date maximale.\n",
    "date_max = max(data_rfm.order_purchase_timestamp) + datetime.timedelta(days=1)\n",
    "\n",
    "## On aggrege nos données pour obtenir notre RFM.\n",
    "rfm_custom = data_rfm.groupby(\"customer_unique_id\").agg({\n",
    "    \"order_purchase_timestamp\" : lambda x: (date_max - x.max()).days,\n",
    "    \"order_id\" : 'count',\n",
    "    \"payment_value\" : \"sum\"\n",
    "})\n",
    "\n",
    "rfm_custom.columns = [\"Recency\", \"Frequency\", \"Payment by customer\"]\n",
    "data_rfm_finale = rfm_custom.copy().reset_index()\n"
   ]
  },
  {
   "cell_type": "code",
   "execution_count": 62,
   "id": "291eaf56",
   "metadata": {},
   "outputs": [
    {
     "data": {
      "text/plain": [
       "0000366f3b9a7992bf8c76cfdf3221e2    1\n",
       "aa75ba45baa3792324a215d92c965425    1\n",
       "aa75a071e0ae16f8214e72d26363f290    1\n",
       "aa74a8d0d3929fb123701f5397a4c289    1\n",
       "aa73daf03aaca7629dd55969ffe52519    1\n",
       "                                   ..\n",
       "552052114dbea4e4fd479a9f4972ea3c    1\n",
       "551fdff84d3809ededcc078c25179e4d    1\n",
       "551f97f309e80f9b2c330d7b90e500fa    1\n",
       "551f26c6693657b95e4b6050af3cad95    1\n",
       "ffffd2657e2aad2907e67c3e9daecbeb    1\n",
       "Name: customer_unique_id, Length: 92676, dtype: int64"
      ]
     },
     "execution_count": 62,
     "metadata": {},
     "output_type": "execute_result"
    }
   ],
   "source": [
    "data_rfm_finale[\"customer_unique_id\"].value_counts()"
   ]
  },
  {
   "cell_type": "markdown",
   "id": "acd34a0b",
   "metadata": {},
   "source": [
    "On a bien des ID unique."
   ]
  },
  {
   "cell_type": "code",
   "execution_count": 63,
   "id": "c86ca14a",
   "metadata": {},
   "outputs": [
    {
     "data": {
      "image/png": "[encoded data removed]",
      "text/plain": [
       "<Figure size 1080x360 with 2 Axes>"
      ]
     },
     "metadata": {
      "needs_background": "light"
     },
     "output_type": "display_data"
    }
   ],
   "source": [
    "fig, axes = plt.subplots(1, 2, figsize=(15, 5), sharex=True)\n",
    "fig.suptitle('Description des montants dépensés par les clients')\n",
    "\n",
    "sns.histplot(ax=axes[0],x=\"Payment by customer\", data=data_rfm_finale, kde=True)\n",
    "axes[0].set_title(\"Distribution des montants dépensés\")\n",
    "\n",
    "sns.boxplot(ax=axes[1], x=\"Payment by customer\", data=data_rfm_finale)\n",
    "axes[1].set_title(\"Boxplot des montants dépensés\")\n",
    "\n",
    "plt.show()"
   ]
  },
  {
   "cell_type": "code",
   "execution_count": 64,
   "id": "baf880a7",
   "metadata": {},
   "outputs": [
    {
     "data": {
      "image/png": "[encoded data removed]",
      "text/plain": [
       "<Figure size 1080x360 with 2 Axes>"
      ]
     },
     "metadata": {
      "needs_background": "light"
     },
     "output_type": "display_data"
    }
   ],
   "source": [
    "fig, axes = plt.subplots(1, 2, figsize=(15, 5), sharex=True)\n",
    "fig.suptitle('Description des jours passés depuis la dernière commande')\n",
    "\n",
    "sns.histplot(ax=axes[0],x=\"Recency\", data=data_rfm_finale, kde=True)\n",
    "axes[0].set_title(\"Distribution des jours passés depuis la dernière commande\")\n",
    "\n",
    "sns.boxplot(ax=axes[1], x=\"Recency\", data=data_rfm_finale)\n",
    "axes[1].set_title(\"Boxplot des jours passés depuis la dernière commande\")\n",
    "\n",
    "plt.show()"
   ]
  },
  {
   "cell_type": "markdown",
   "id": "e048d691",
   "metadata": {},
   "source": [
    "Les récences sont très concentrées dans la tranche de 0 à 300."
   ]
  },
  {
   "cell_type": "code",
   "execution_count": 65,
   "id": "c11cab26",
   "metadata": {},
   "outputs": [
    {
     "data": {
      "image/png": "[encoded data removed]",
      "text/plain": [
       "<Figure size 1440x720 with 2 Axes>"
      ]
     },
     "metadata": {
      "needs_background": "light"
     },
     "output_type": "display_data"
    }
   ],
   "source": [
    "fig, axes = plt.subplots(1, 2, figsize=(20, 10))\n",
    "sns.countplot(ax=axes[0],y=\"Frequency\", data=data_rfm_finale)\n",
    "plt.ylim(1000)\n",
    "axes[0].set_title(\"Répartition de la fréquence d'achat\")\n",
    "\n",
    "sns.boxplot(ax=axes[1], x=\"Frequency\", data=data_rfm_finale)\n",
    "axes[1].set_title(\"Boxplot de la fréquence d'achat\")\n",
    "\n",
    "plt.show()"
   ]
  },
  {
   "cell_type": "markdown",
   "id": "68b644a5",
   "metadata": {},
   "source": [
    "Il y a une majorité de client avec une seule commande."
   ]
  },
  {
   "cell_type": "markdown",
   "id": "7fdc335c",
   "metadata": {},
   "source": [
    "# Analyse multi variée"
   ]
  },
  {
   "cell_type": "code",
   "execution_count": 66,
   "id": "7c337a39",
   "metadata": {},
   "outputs": [],
   "source": [
    "data = data .merge(right = data_rfm_finale, how = \"left\", left_on = \"customer_unique_id\", right_on = \"customer_unique_id\")"
   ]
  },
  {
   "cell_type": "code",
   "execution_count": 67,
   "id": "77ea7496",
   "metadata": {},
   "outputs": [
    {
     "name": "stdout",
     "output_type": "stream",
     "text": [
      "<class 'pandas.core.frame.DataFrame'>\n",
      "Int64Index: 95751 entries, 0 to 95750\n",
      "Data columns (total 32 columns):\n",
      " #   Column                               Non-Null Count  Dtype         \n",
      "---  ------                               --------------  -----         \n",
      " 0   order_id                             95751 non-null  object        \n",
      " 1   customer_id                          95751 non-null  object        \n",
      " 2   order_status                         95751 non-null  object        \n",
      " 3   order_purchase_timestamp             95751 non-null  datetime64[ns]\n",
      " 4   order_approved_at                    95751 non-null  datetime64[ns]\n",
      " 5   order_delivered_carrier_date         95751 non-null  datetime64[ns]\n",
      " 6   order_delivered_customer_date        95751 non-null  datetime64[ns]\n",
      " 7   order_estimated_delivery_date        95751 non-null  datetime64[ns]\n",
      " 8   customer_unique_id                   95751 non-null  object        \n",
      " 9   customer_zip_code_prefix             95751 non-null  int64         \n",
      " 10  customer_city                        95751 non-null  object        \n",
      " 11  customer_state                       95751 non-null  object        \n",
      " 12  price                                95751 non-null  float64       \n",
      " 13  freight_value                        95751 non-null  float64       \n",
      " 14  payment_sequential                   95751 non-null  float64       \n",
      " 15  payment_installments                 95751 non-null  float64       \n",
      " 16  payment_value                        95751 non-null  float64       \n",
      " 17  review_score                         95751 non-null  float64       \n",
      " 18  geolocation_city                     95751 non-null  object        \n",
      " 19  geolocation_zip_code_prefix          95751 non-null  float64       \n",
      " 20  geolocation_lat                      95751 non-null  float64       \n",
      " 21  geolocation_lng                      95751 non-null  float64       \n",
      " 22  ID Count                             95751 non-null  int64         \n",
      " 23  +1 Commandes                         95751 non-null  int64         \n",
      " 24  year                                 95751 non-null  int64         \n",
      " 25  month                                95751 non-null  int64         \n",
      " 26  day                                  95751 non-null  int64         \n",
      " 27  nb_days_before_delivered             95751 non-null  int64         \n",
      " 28  nb_days_before_delivered_estimation  95751 non-null  int64         \n",
      " 29  Recency                              95751 non-null  int64         \n",
      " 30  Frequency                            95751 non-null  int64         \n",
      " 31  Payment by customer                  95751 non-null  float64       \n",
      "dtypes: datetime64[ns](5), float64(10), int64(10), object(7)\n",
      "memory usage: 24.1+ MB\n"
     ]
    }
   ],
   "source": [
    "data.info()"
   ]
  },
  {
   "cell_type": "code",
   "execution_count": 68,
   "id": "6abc4d62",
   "metadata": {},
   "outputs": [
    {
     "data": {
      "text/plain": [
       "array([[<AxesSubplot:title={'center':'customer_zip_code_prefix'}>,\n",
       "        <AxesSubplot:title={'center':'price'}>,\n",
       "        <AxesSubplot:title={'center':'freight_value'}>,\n",
       "        <AxesSubplot:title={'center':'payment_sequential'}>],\n",
       "       [<AxesSubplot:title={'center':'payment_installments'}>,\n",
       "        <AxesSubplot:title={'center':'payment_value'}>,\n",
       "        <AxesSubplot:title={'center':'review_score'}>,\n",
       "        <AxesSubplot:title={'center':'geolocation_zip_code_prefix'}>],\n",
       "       [<AxesSubplot:title={'center':'geolocation_lat'}>,\n",
       "        <AxesSubplot:title={'center':'geolocation_lng'}>,\n",
       "        <AxesSubplot:title={'center':'ID Count'}>,\n",
       "        <AxesSubplot:title={'center':'+1 Commandes'}>],\n",
       "       [<AxesSubplot:title={'center':'year'}>,\n",
       "        <AxesSubplot:title={'center':'month'}>,\n",
       "        <AxesSubplot:title={'center':'day'}>,\n",
       "        <AxesSubplot:title={'center':'nb_days_before_delivered'}>],\n",
       "       [<AxesSubplot:title={'center':'nb_days_before_delivered_estimation'}>,\n",
       "        <AxesSubplot:title={'center':'Recency'}>,\n",
       "        <AxesSubplot:title={'center':'Frequency'}>,\n",
       "        <AxesSubplot:title={'center':'Payment by customer'}>]],\n",
       "      dtype=object)"
      ]
     },
     "execution_count": 68,
     "metadata": {},
     "output_type": "execute_result"
    },
    {
     "data": {
      "image/png": "[encoded data removed]",
      "text/plain": [
       "<Figure size 2160x2160 with 20 Axes>"
      ]
     },
     "metadata": {
      "needs_background": "light"
     },
     "output_type": "display_data"
    }
   ],
   "source": [
    "data.select_dtypes(['int64', 'float64']).hist(bins=60, figsize=(30, 30), color = \"b\")"
   ]
  },
  {
   "cell_type": "markdown",
   "id": "aac3e448",
   "metadata": {},
   "source": [
    "Pour les variables de paiements (Price, freight_value, payment sequentiel, payment value et payment installment), on note quil y une distribution avec énormément de valeurs très proches de 0. Cela signifie que les clients font en générale des paiements faibles dans la majorité des cas. Il faudra y faire attention dans la suite dans l'analyse ds Outliers. En effet ceux là poseront des problèmes lors de la segmentation des clients. Les paiements faibles créront un cluster très grand.\n",
    "\n",
    "Les géolocalisations suivent une loi normale. Donc cela veut dire que les cordonnées imposent un caractère aléatoire à au positionnement des clients. Il est pas nécessaire de garder les features de positions.\n",
    "\n"
   ]
  },
  {
   "cell_type": "code",
   "execution_count": 69,
   "id": "96605888",
   "metadata": {},
   "outputs": [
    {
     "data": {
      "image/png": "[encoded data removed]",
      "text/plain": [
       "<Figure size 1440x1080 with 1 Axes>"
      ]
     },
     "metadata": {
      "needs_background": "light"
     },
     "output_type": "display_data"
    }
   ],
   "source": [
    "pearson_correlations = data.select_dtypes(['int32', 'float64']).corr(method='spearman')*100.2\n",
    "cleanning_mask = np.zeros_like(pearson_correlations)\n",
    "upper_triangle = np.triu_indices_from(pearson_correlations)\n",
    "cleanning_mask[upper_triangle] = 1\n",
    "\n",
    "plt.figure(figsize=(20,15))\n",
    "\n",
    "sns.heatmap(pearson_correlations, cmap=\"RdBu_r\", mask = cleanning_mask, \n",
    "           annot = True, fmt=\".0f\", cbar=False)\n",
    "plt.title(\"Matrice de corrélations linéaires en %\")\n",
    "plt.show()"
   ]
  },
  {
   "cell_type": "markdown",
   "id": "cc79a124",
   "metadata": {},
   "source": [
    "On observe que le payment_vale et la variable price sont correlés à 99%. On sait que les deux variables affichent quasiment la même information. Il est donc pas nécessaires de garder les deux variables. On gardera la colonne payment values.\n",
    "\n"
   ]
  },
  {
   "cell_type": "code",
   "execution_count": 70,
   "id": "ad2a1a60",
   "metadata": {},
   "outputs": [],
   "source": [
    "colonne_supp.append(\"geolocation_lat\")\n",
    "colonne_supp.append(\"geolocation_lng\")\n",
    "colonne_supp.append(\"price\")"
   ]
  },
  {
   "cell_type": "markdown",
   "id": "29eb2454",
   "metadata": {},
   "source": [
    "On ne garde pas les variables de temps dans notre dataset. On a déja trois features (Recency, 'nb_days_before_delivered' et 'nb_days_before_delivered_estimation') qui représente les variables de temps dans notre dataset. Garder les autres features nous poserait des soucis de redondance ainsi que des difficultés de traitement du fait du type de ces données.\n",
    "\n",
    "On souhaite aussi retirer les variables de position tel que la ville et le statut de la commande. Car on a déja ces données ne sont pas pertinentes."
   ]
  },
  {
   "cell_type": "code",
   "execution_count": 71,
   "id": "31c1c45a",
   "metadata": {},
   "outputs": [],
   "source": [
    "sel_feat = [\n",
    "            \"customer_zip_code_prefix\",\n",
    "            \"payment_sequential\",\n",
    "            \"freight_value\",\n",
    "            'payment_installments', \n",
    "            'review_score',\n",
    "            'ID Count', \n",
    "            '+1 Commandes',\n",
    "            \"nb_days_before_delivered\",\n",
    "            \"nb_days_before_delivered_estimation\",\n",
    "            \"Recency\", \n",
    "            'Frequency',\n",
    "            \"Payment by customer\"\n",
    "           ]"
   ]
  },
  {
   "cell_type": "markdown",
   "id": "c5a690c7",
   "metadata": {},
   "source": [
    "# ACP"
   ]
  },
  {
   "cell_type": "code",
   "execution_count": 72,
   "id": "1ca74ae8",
   "metadata": {},
   "outputs": [],
   "source": [
    "data_slf = data[sel_feat]"
   ]
  },
  {
   "cell_type": "code",
   "execution_count": 73,
   "id": "fdff9270",
   "metadata": {},
   "outputs": [],
   "source": [
    "from sklearn import decomposition\n",
    "from sklearn import preprocessing \n",
    "from sklearn.decomposition import PCA\n",
    "from sklearn.preprocessing import scale"
   ]
  },
  {
   "cell_type": "code",
   "execution_count": 74,
   "id": "51101922",
   "metadata": {},
   "outputs": [
    {
     "data": {
      "text/html": [
       "<style>#sk-container-id-1 {color: black;background-color: white;}#sk-container-id-1 pre{padding: 0;}#sk-container-id-1 div.sk-toggleable {background-color: white;}#sk-container-id-1 label.sk-toggleable__label {cursor: pointer;display: block;width: 100%;margin-bottom: 0;padding: 0.3em;box-sizing: border-box;text-align: center;}#sk-container-id-1 label.sk-toggleable__label-arrow:before {content: \"▸\";float: left;margin-right: 0.25em;color: #696969;}#sk-container-id-1 label.sk-toggleable__label-arrow:hover:before {color: black;}#sk-container-id-1 div.sk-estimator:hover label.sk-toggleable__label-arrow:before {color: black;}#sk-container-id-1 div.sk-toggleable__content {max-height: 0;max-width: 0;overflow: hidden;text-align: left;background-color: #f0f8ff;}#sk-container-id-1 div.sk-toggleable__content pre {margin: 0.2em;color: black;border-radius: 0.25em;background-color: #f0f8ff;}#sk-container-id-1 input.sk-toggleable__control:checked~div.sk-toggleable__content {max-height: 200px;max-width: 100%;overflow: auto;}#sk-container-id-1 input.sk-toggleable__control:checked~label.sk-toggleable__label-arrow:before {content: \"▾\";}#sk-container-id-1 div.sk-estimator input.sk-toggleable__control:checked~label.sk-toggleable__label {background-color: #d4ebff;}#sk-container-id-1 div.sk-label input.sk-toggleable__control:checked~label.sk-toggleable__label {background-color: #d4ebff;}#sk-container-id-1 input.sk-hidden--visually {border: 0;clip: rect(1px 1px 1px 1px);clip: rect(1px, 1px, 1px, 1px);height: 1px;margin: -1px;overflow: hidden;padding: 0;position: absolute;width: 1px;}#sk-container-id-1 div.sk-estimator {font-family: monospace;background-color: #f0f8ff;border: 1px dotted black;border-radius: 0.25em;box-sizing: border-box;margin-bottom: 0.5em;}#sk-container-id-1 div.sk-estimator:hover {background-color: #d4ebff;}#sk-container-id-1 div.sk-parallel-item::after {content: \"\";width: 100%;border-bottom: 1px solid gray;flex-grow: 1;}#sk-container-id-1 div.sk-label:hover label.sk-toggleable__label {background-color: #d4ebff;}#sk-container-id-1 div.sk-serial::before {content: \"\";position: absolute;border-left: 1px solid gray;box-sizing: border-box;top: 0;bottom: 0;left: 50%;z-index: 0;}#sk-container-id-1 div.sk-serial {display: flex;flex-direction: column;align-items: center;background-color: white;padding-right: 0.2em;padding-left: 0.2em;position: relative;}#sk-container-id-1 div.sk-item {position: relative;z-index: 1;}#sk-container-id-1 div.sk-parallel {display: flex;align-items: stretch;justify-content: center;background-color: white;position: relative;}#sk-container-id-1 div.sk-item::before, #sk-container-id-1 div.sk-parallel-item::before {content: \"\";position: absolute;border-left: 1px solid gray;box-sizing: border-box;top: 0;bottom: 0;left: 50%;z-index: -1;}#sk-container-id-1 div.sk-parallel-item {display: flex;flex-direction: column;z-index: 1;position: relative;background-color: white;}#sk-container-id-1 div.sk-parallel-item:first-child::after {align-self: flex-end;width: 50%;}#sk-container-id-1 div.sk-parallel-item:last-child::after {align-self: flex-start;width: 50%;}#sk-container-id-1 div.sk-parallel-item:only-child::after {width: 0;}#sk-container-id-1 div.sk-dashed-wrapped {border: 1px dashed gray;margin: 0 0.4em 0.5em 0.4em;box-sizing: border-box;padding-bottom: 0.4em;background-color: white;}#sk-container-id-1 div.sk-label label {font-family: monospace;font-weight: bold;display: inline-block;line-height: 1.2em;}#sk-container-id-1 div.sk-label-container {text-align: center;}#sk-container-id-1 div.sk-container {/* jupyter's `normalize.less` sets `[hidden] { display: none; }` but bootstrap.min.css set `[hidden] { display: none !important; }` so we also need the `!important` here to be able to override the default hidden behavior on the sphinx rendered scikit-learn.org. See: https://github.com/scikit-learn/scikit-learn/issues/21755 */display: inline-block !important;position: relative;}#sk-container-id-1 div.sk-text-repr-fallback {display: none;}</style><div id=\"sk-container-id-1\" class=\"sk-top-container\"><div class=\"sk-text-repr-fallback\"><pre>PCA()</pre><b>In a Jupyter environment, please rerun this cell to show the HTML representation or trust the notebook. <br />On GitHub, the HTML representation is unable to render, please try loading this page with nbviewer.org.</b></div><div class=\"sk-container\" hidden><div class=\"sk-item\"><div class=\"sk-estimator sk-toggleable\"><input class=\"sk-toggleable__control sk-hidden--visually\" id=\"sk-estimator-id-1\" type=\"checkbox\" checked><label for=\"sk-estimator-id-1\" class=\"sk-toggleable__label sk-toggleable__label-arrow\">PCA</label><div class=\"sk-toggleable__content\"><pre>PCA()</pre></div></div></div></div></div>"
      ],
      "text/plain": [
       "PCA()"
      ]
     },
     "execution_count": 74,
     "metadata": {},
     "output_type": "execute_result"
    }
   ],
   "source": [
    "data_slf = data[sel_feat]\n",
    "\n",
    "## Appel de la classe PCA\n",
    "pca = PCA()\n",
    "pca.fit(data_slf)"
   ]
  },
  {
   "cell_type": "code",
   "execution_count": 75,
   "id": "df8f7506",
   "metadata": {},
   "outputs": [],
   "source": [
    "## Projection des PCA et choix du nombre de composant\n",
    "filtered_cols = sel_feat\n",
    "\n",
    "## Récupération des valeurs du dataframe dans une liste\n",
    "X = data.loc[:, filtered_cols].values\n",
    "\n",
    "##Sélection des colonnes\n",
    "features = data.loc[:, filtered_cols].columns\n",
    "\n",
    "## Choix du nombre de composantes\n",
    "n_comp = len(sel_feat)-1\n",
    "\n",
    "##Normaliser les caractéristiques en supprimant la moyenne et en mettant à l'échelle la variance unitaire.\n",
    "std_scale = preprocessing.StandardScaler().fit(X)\n",
    "X_scaled = std_scale.transform(X)\n",
    "\n",
    "##Decomposition en PCA\n",
    "pca = decomposition.PCA(n_components=n_comp)\n",
    "pca.fit(X_scaled)\n",
    "\n",
    "\n",
    "pcs = pca.components_\n",
    "\n",
    "X_projected = pca.transform(X_scaled)"
   ]
  },
  {
   "cell_type": "code",
   "execution_count": 76,
   "id": "f15b3aa5",
   "metadata": {},
   "outputs": [
    {
     "data": {
      "image/png": "[encoded data removed]",
      "text/plain": [
       "<Figure size 1440x1080 with 1 Axes>"
      ]
     },
     "metadata": {
      "needs_background": "light"
     },
     "output_type": "display_data"
    },
    {
     "name": "stdout",
     "output_type": "stream",
     "text": [
      "            0\n",
      "0   23.316526\n",
      "1   17.507461\n",
      "2   11.495304\n",
      "3    9.249704\n",
      "4    8.724343\n",
      "5    7.896529\n",
      "6    6.364496\n",
      "7    5.105169\n",
      "8    4.291332\n",
      "9    3.749813\n",
      "10   2.299324\n"
     ]
    }
   ],
   "source": [
    "def display_scree_plot(pca):\n",
    "    \"\"\"\n",
    "    Fonction qui affiche le graphique ébouli \n",
    "    \"\"\"\n",
    "    scree = pca.explained_variance_ratio_*100\n",
    "    plt.bar(np.arange(len(scree))+1, scree)\n",
    "    plt.plot(np.arange(len(scree))+1, scree.cumsum(),c=\"red\",marker='o')\n",
    "    plt.xlabel(\"rang de l'axe d'inertie\")\n",
    "    plt.ylabel(\"pourcentage d'inertie\")\n",
    "    plt.title(\"Eboulis des valeurs propres\")\n",
    "    plt.show(block=False)\n",
    "    print(pd.DataFrame(scree))\n",
    "    \n",
    "fig, ax = plt.subplots(figsize=(20, 15))    \n",
    "display_scree_plot(pca)"
   ]
  },
  {
   "cell_type": "markdown",
   "id": "0479009a",
   "metadata": {},
   "source": [
    "Le diagramme d'éboulis représente la variance de chaque composant dans l'ensemble des données qui est utilisé pour déterminer le nombre de composants à conserver afin d'expliquer un pourcentage élevé de la variation des données.\n",
    "\n",
    "Il apparaît qu'il est nécessaire d'avoir recours à 6 composantes principales, pour obtenir au 80% de l'inertie. Donc dans le jeu de données on peut supprimer les autres colonnes et en conserver seulement 6.\n",
    "\n",
    "On effectue notre analyse pour voir si on garde 7 composantes ou si on en enlève plus."
   ]
  },
  {
   "cell_type": "code",
   "execution_count": 77,
   "id": "459bc2d1",
   "metadata": {},
   "outputs": [
    {
     "data": {
      "text/html": [
       "<div>\n",
       "<style scoped>\n",
       "    .dataframe tbody tr th:only-of-type {\n",
       "        vertical-align: middle;\n",
       "    }\n",
       "\n",
       "    .dataframe tbody tr th {\n",
       "        vertical-align: top;\n",
       "    }\n",
       "\n",
       "    .dataframe thead th {\n",
       "        text-align: right;\n",
       "    }\n",
       "</style>\n",
       "<table border=\"1\" class=\"dataframe\">\n",
       "  <thead>\n",
       "    <tr style=\"text-align: right;\">\n",
       "      <th></th>\n",
       "      <th>F1</th>\n",
       "      <th>F2</th>\n",
       "      <th>F3</th>\n",
       "      <th>F4</th>\n",
       "      <th>F5</th>\n",
       "      <th>F6</th>\n",
       "      <th>F7</th>\n",
       "      <th>F8</th>\n",
       "      <th>F9</th>\n",
       "      <th>F10</th>\n",
       "      <th>F11</th>\n",
       "    </tr>\n",
       "  </thead>\n",
       "  <tbody>\n",
       "    <tr>\n",
       "      <th>customer_zip_code_prefix</th>\n",
       "      <td>0.013234</td>\n",
       "      <td>0.382335</td>\n",
       "      <td>-0.244680</td>\n",
       "      <td>0.212155</td>\n",
       "      <td>-0.303691</td>\n",
       "      <td>0.414757</td>\n",
       "      <td>-0.187971</td>\n",
       "      <td>-0.655966</td>\n",
       "      <td>0.136295</td>\n",
       "      <td>-0.017209</td>\n",
       "      <td>-0.004235</td>\n",
       "    </tr>\n",
       "    <tr>\n",
       "      <th>payment_sequential</th>\n",
       "      <td>0.009432</td>\n",
       "      <td>0.025547</td>\n",
       "      <td>0.089337</td>\n",
       "      <td>0.185676</td>\n",
       "      <td>0.747567</td>\n",
       "      <td>0.574486</td>\n",
       "      <td>0.256788</td>\n",
       "      <td>-0.009272</td>\n",
       "      <td>0.021074</td>\n",
       "      <td>-0.037929</td>\n",
       "      <td>0.001537</td>\n",
       "    </tr>\n",
       "    <tr>\n",
       "      <th>freight_value</th>\n",
       "      <td>0.072171</td>\n",
       "      <td>0.424937</td>\n",
       "      <td>0.396860</td>\n",
       "      <td>-0.081793</td>\n",
       "      <td>-0.199292</td>\n",
       "      <td>0.056550</td>\n",
       "      <td>0.437948</td>\n",
       "      <td>0.013735</td>\n",
       "      <td>-0.228870</td>\n",
       "      <td>0.602132</td>\n",
       "      <td>0.013617</td>\n",
       "    </tr>\n",
       "    <tr>\n",
       "      <th>payment_installments</th>\n",
       "      <td>0.075647</td>\n",
       "      <td>0.270681</td>\n",
       "      <td>0.404754</td>\n",
       "      <td>0.145852</td>\n",
       "      <td>0.304772</td>\n",
       "      <td>-0.166221</td>\n",
       "      <td>-0.756608</td>\n",
       "      <td>0.001577</td>\n",
       "      <td>-0.094249</td>\n",
       "      <td>0.183419</td>\n",
       "      <td>0.020283</td>\n",
       "    </tr>\n",
       "    <tr>\n",
       "      <th>review_score</th>\n",
       "      <td>0.002108</td>\n",
       "      <td>-0.220023</td>\n",
       "      <td>0.181116</td>\n",
       "      <td>0.712272</td>\n",
       "      <td>-0.316573</td>\n",
       "      <td>0.173800</td>\n",
       "      <td>-0.017076</td>\n",
       "      <td>0.365443</td>\n",
       "      <td>0.353184</td>\n",
       "      <td>0.149742</td>\n",
       "      <td>-0.004900</td>\n",
       "    </tr>\n",
       "    <tr>\n",
       "      <th>ID Count</th>\n",
       "      <td>0.576405</td>\n",
       "      <td>-0.086963</td>\n",
       "      <td>-0.094609</td>\n",
       "      <td>0.000617</td>\n",
       "      <td>0.004275</td>\n",
       "      <td>0.006044</td>\n",
       "      <td>-0.001182</td>\n",
       "      <td>-0.007914</td>\n",
       "      <td>-0.014036</td>\n",
       "      <td>0.042543</td>\n",
       "      <td>0.386157</td>\n",
       "    </tr>\n",
       "    <tr>\n",
       "      <th>+1 Commandes</th>\n",
       "      <td>-0.528002</td>\n",
       "      <td>0.075348</td>\n",
       "      <td>0.090327</td>\n",
       "      <td>-0.005008</td>\n",
       "      <td>-0.014820</td>\n",
       "      <td>-0.003601</td>\n",
       "      <td>0.016644</td>\n",
       "      <td>0.002827</td>\n",
       "      <td>0.041518</td>\n",
       "      <td>-0.069983</td>\n",
       "      <td>0.836788</td>\n",
       "    </tr>\n",
       "    <tr>\n",
       "      <th>nb_days_before_delivered</th>\n",
       "      <td>0.015961</td>\n",
       "      <td>0.437491</td>\n",
       "      <td>-0.354442</td>\n",
       "      <td>-0.292388</td>\n",
       "      <td>0.102755</td>\n",
       "      <td>0.029440</td>\n",
       "      <td>-0.080756</td>\n",
       "      <td>0.409000</td>\n",
       "      <td>0.611111</td>\n",
       "      <td>0.196269</td>\n",
       "      <td>-0.004547</td>\n",
       "    </tr>\n",
       "    <tr>\n",
       "      <th>nb_days_before_delivered_estimation</th>\n",
       "      <td>0.037460</td>\n",
       "      <td>0.468019</td>\n",
       "      <td>-0.287864</td>\n",
       "      <td>0.281354</td>\n",
       "      <td>-0.088558</td>\n",
       "      <td>0.047967</td>\n",
       "      <td>0.006028</td>\n",
       "      <td>0.439861</td>\n",
       "      <td>-0.534250</td>\n",
       "      <td>-0.358311</td>\n",
       "      <td>0.007824</td>\n",
       "    </tr>\n",
       "    <tr>\n",
       "      <th>Recency</th>\n",
       "      <td>-0.029185</td>\n",
       "      <td>0.155622</td>\n",
       "      <td>-0.267602</td>\n",
       "      <td>0.468493</td>\n",
       "      <td>0.305598</td>\n",
       "      <td>-0.639514</td>\n",
       "      <td>0.282608</td>\n",
       "      <td>-0.266261</td>\n",
       "      <td>0.109325</td>\n",
       "      <td>0.136898</td>\n",
       "      <td>0.003225</td>\n",
       "    </tr>\n",
       "    <tr>\n",
       "      <th>Frequency</th>\n",
       "      <td>0.576405</td>\n",
       "      <td>-0.086963</td>\n",
       "      <td>-0.094609</td>\n",
       "      <td>0.000617</td>\n",
       "      <td>0.004275</td>\n",
       "      <td>0.006044</td>\n",
       "      <td>-0.001182</td>\n",
       "      <td>-0.007914</td>\n",
       "      <td>-0.014036</td>\n",
       "      <td>0.042543</td>\n",
       "      <td>0.386157</td>\n",
       "    </tr>\n",
       "    <tr>\n",
       "      <th>Payment by customer</th>\n",
       "      <td>0.207408</td>\n",
       "      <td>0.308961</td>\n",
       "      <td>0.521401</td>\n",
       "      <td>-0.032527</td>\n",
       "      <td>-0.063614</td>\n",
       "      <td>-0.157088</td>\n",
       "      <td>0.217888</td>\n",
       "      <td>-0.063996</td>\n",
       "      <td>0.349323</td>\n",
       "      <td>-0.620862</td>\n",
       "      <td>-0.028602</td>\n",
       "    </tr>\n",
       "  </tbody>\n",
       "</table>\n",
       "</div>"
      ],
      "text/plain": [
       "                                           F1        F2        F3        F4  \\\n",
       "customer_zip_code_prefix             0.013234  0.382335 -0.244680  0.212155   \n",
       "payment_sequential                   0.009432  0.025547  0.089337  0.185676   \n",
       "freight_value                        0.072171  0.424937  0.396860 -0.081793   \n",
       "payment_installments                 0.075647  0.270681  0.404754  0.145852   \n",
       "review_score                         0.002108 -0.220023  0.181116  0.712272   \n",
       "ID Count                             0.576405 -0.086963 -0.094609  0.000617   \n",
       "+1 Commandes                        -0.528002  0.075348  0.090327 -0.005008   \n",
       "nb_days_before_delivered             0.015961  0.437491 -0.354442 -0.292388   \n",
       "nb_days_before_delivered_estimation  0.037460  0.468019 -0.287864  0.281354   \n",
       "Recency                             -0.029185  0.155622 -0.267602  0.468493   \n",
       "Frequency                            0.576405 -0.086963 -0.094609  0.000617   \n",
       "Payment by customer                  0.207408  0.308961  0.521401 -0.032527   \n",
       "\n",
       "                                           F5        F6        F7        F8  \\\n",
       "customer_zip_code_prefix            -0.303691  0.414757 -0.187971 -0.655966   \n",
       "payment_sequential                   0.747567  0.574486  0.256788 -0.009272   \n",
       "freight_value                       -0.199292  0.056550  0.437948  0.013735   \n",
       "payment_installments                 0.304772 -0.166221 -0.756608  0.001577   \n",
       "review_score                        -0.316573  0.173800 -0.017076  0.365443   \n",
       "ID Count                             0.004275  0.006044 -0.001182 -0.007914   \n",
       "+1 Commandes                        -0.014820 -0.003601  0.016644  0.002827   \n",
       "nb_days_before_delivered             0.102755  0.029440 -0.080756  0.409000   \n",
       "nb_days_before_delivered_estimation -0.088558  0.047967  0.006028  0.439861   \n",
       "Recency                              0.305598 -0.639514  0.282608 -0.266261   \n",
       "Frequency                            0.004275  0.006044 -0.001182 -0.007914   \n",
       "Payment by customer                 -0.063614 -0.157088  0.217888 -0.063996   \n",
       "\n",
       "                                           F9       F10       F11  \n",
       "customer_zip_code_prefix             0.136295 -0.017209 -0.004235  \n",
       "payment_sequential                   0.021074 -0.037929  0.001537  \n",
       "freight_value                       -0.228870  0.602132  0.013617  \n",
       "payment_installments                -0.094249  0.183419  0.020283  \n",
       "review_score                         0.353184  0.149742 -0.004900  \n",
       "ID Count                            -0.014036  0.042543  0.386157  \n",
       "+1 Commandes                         0.041518 -0.069983  0.836788  \n",
       "nb_days_before_delivered             0.611111  0.196269 -0.004547  \n",
       "nb_days_before_delivered_estimation -0.534250 -0.358311  0.007824  \n",
       "Recency                              0.109325  0.136898  0.003225  \n",
       "Frequency                           -0.014036  0.042543  0.386157  \n",
       "Payment by customer                  0.349323 -0.620862 -0.028602  "
      ]
     },
     "execution_count": 77,
     "metadata": {},
     "output_type": "execute_result"
    }
   ],
   "source": [
    "pcs = pd.DataFrame(pcs)\n",
    "\n",
    "x_list = range(1, n_comp +1)\n",
    "list(x_list)\n",
    "\n",
    "pcs.columns = features\n",
    "pcs.index = [f\"F{i}\" for i in x_list]\n",
    "pcs.round(2)\n",
    "\n",
    "pcs.T"
   ]
  },
  {
   "cell_type": "code",
   "execution_count": 78,
   "id": "a2a4fa21",
   "metadata": {},
   "outputs": [
    {
     "data": {
      "image/png": "[encoded data removed]",
      "text/plain": [
       "<Figure size 1440x1080 with 1 Axes>"
      ]
     },
     "metadata": {
      "needs_background": "light"
     },
     "output_type": "display_data"
    }
   ],
   "source": [
    "x, y = 0,1\n",
    "\n",
    "fig, ax = plt.subplots(figsize=(20, 15))\n",
    "for i in range(0, pca.components_.shape[1]):\n",
    "    ax.arrow(0,\n",
    "             0,  # Start the arrow at the origin\n",
    "             pca.components_[0, i],  #0 for PC1\n",
    "             pca.components_[1, i],  #1 for PC2\n",
    "             head_width=0.07,\n",
    "             head_length=0.07, \n",
    "             width=0.02,              )\n",
    "\n",
    "    plt.text(pca.components_[0, i] + 0.05,\n",
    "             pca.components_[1, i] + 0.05,\n",
    "             features[i])\n",
    "    \n",
    "# affichage des lignes horizontales et verticales\n",
    "plt.plot([-1, 1], [0, 0], color='grey', ls='--')\n",
    "plt.plot([0, 0], [-1, 1], color='grey', ls='--')\n",
    "\n",
    "\n",
    "# nom des axes, avec le pourcentage d'inertie expliqué\n",
    "plt.xlabel('F{} ({}%)'.format(x+1, round(100*pca.explained_variance_ratio_[x],1)))\n",
    "plt.ylabel('F{} ({}%)'.format(y+1, round(100*pca.explained_variance_ratio_[y],1)))\n",
    "\n",
    "plt.title(\"Cercle des corrélations (F{} et F{})\".format(x+1, y+1))\n",
    "\n",
    "\n",
    "an = np.linspace(0, 2 * np.pi, 100)\n",
    "plt.plot(np.cos(an), np.sin(an))  # Add a unit circle for scale\n",
    "plt.axis('equal')\n",
    "plt.show(block=False)"
   ]
  },
  {
   "cell_type": "markdown",
   "id": "702a5088",
   "metadata": {},
   "source": [
    "La corrélation de chaque point sur un axe exprime la qualité de représentation du point sur l'axe. Elle prend des valeurs entre 0 (pas corrélé du tout) et 1 (fortement corrélé). Si cette valeur est proche de 1, alors le point est bien représenté sur l'axe.\n",
    "\n",
    "Selon les axes F1 et F2 (qui explique plus de 40% de la données dans notre cass) ont des valeurs nb days before delivered et nb days before delvered estimation fortement corrélées. Il est donc pas nécessaire de garder les deux features dans le data set finale. Ainsi que le zip code est très correlé à ces deux valeurs. En effet plus une ville est pas très bien deservi en terme de transport plus le delais de livraion sera long. Donc on peut supprimer cette valeur aussi.\n",
    "\n",
    "On note que la recency et nb days before delivered sont très corrélés selon les axes F1 et F2, on gardera les deux features mais on fera attention à la représentation de ces deux features dans le modèle. On enlèvera potentiellement la feature nb days before delivered.\n",
    "\n",
    "Les features frequency et ID Count sont très correlées selon les deux axes F1 et F2, on va donc garder seulement la feature frequency. La feature +1 commande étant anti correlés avec la feature ID Count, on supprime cette feature aussi.\n",
    "\n",
    "Selon l'axe F1, F2 et F3, le payment sequential, le payment installment et le payment by customer sont très corrélés. On gardera seulement le payment by customer dans notre analyse. "
   ]
  },
  {
   "cell_type": "code",
   "execution_count": 79,
   "id": "a9216463",
   "metadata": {
    "scrolled": true
   },
   "outputs": [
    {
     "data": {
      "text/plain": [
       "<AxesSubplot:>"
      ]
     },
     "execution_count": 79,
     "metadata": {},
     "output_type": "execute_result"
    },
    {
     "data": {
      "image/png": "[encoded data removed]",
      "text/plain": [
       "<Figure size 1440x1080 with 2 Axes>"
      ]
     },
     "metadata": {
      "needs_background": "light"
     },
     "output_type": "display_data"
    }
   ],
   "source": [
    "fig, ax = plt.subplots(figsize=(20, 15))\n",
    "sns.heatmap(pcs.T, vmin=-1, vmax=1, annot=True, cmap=\"coolwarm\", fmt=\"0.2f\")"
   ]
  },
  {
   "cell_type": "markdown",
   "id": "6975b71f",
   "metadata": {},
   "source": [
    "On représente notre cercle de corrélation sous forme de matrice de corrélation."
   ]
  },
  {
   "cell_type": "markdown",
   "id": "a836084d",
   "metadata": {},
   "source": [
    "On va garder les feartures  suivantes dans notre jeu de données pour effectuer notre modélisation."
   ]
  },
  {
   "cell_type": "code",
   "execution_count": 80,
   "id": "42b434fd",
   "metadata": {},
   "outputs": [],
   "source": [
    "sel_feat = [ \n",
    "            'order_id',\n",
    "            \"nb_days_before_delivered\",\n",
    "            \"Recency\", \n",
    "            \"Frequency\",\n",
    "            \"Payment by customer\",\n",
    "            \"review_score\",\n",
    "            \"order_purchase_timestamp\"\n",
    "           ]"
   ]
  },
  {
   "cell_type": "code",
   "execution_count": 81,
   "id": "87b935ac",
   "metadata": {},
   "outputs": [],
   "source": [
    "data = data[sel_feat]"
   ]
  },
  {
   "cell_type": "markdown",
   "id": "dd536c56",
   "metadata": {},
   "source": [
    "# Outliers"
   ]
  },
  {
   "cell_type": "markdown",
   "id": "181a7b38",
   "metadata": {},
   "source": [
    "L'idée de cette partie est de supprimer les outliers pour ne pas trop affecter notre modèle de segmentation."
   ]
  },
  {
   "cell_type": "code",
   "execution_count": 82,
   "id": "dec3398d",
   "metadata": {},
   "outputs": [
    {
     "data": {
      "image/png": "[encoded data removed]",
      "text/plain": [
       "<Figure size 720x576 with 1 Axes>"
      ]
     },
     "metadata": {
      "needs_background": "light"
     },
     "output_type": "display_data"
    },
    {
     "data": {
      "image/png": "[encoded data removed]",
      "text/plain": [
       "<Figure size 720x576 with 1 Axes>"
      ]
     },
     "metadata": {
      "needs_background": "light"
     },
     "output_type": "display_data"
    },
    {
     "data": {
      "image/png": "[encoded data removed]",
      "text/plain": [
       "<Figure size 720x576 with 1 Axes>"
      ]
     },
     "metadata": {
      "needs_background": "light"
     },
     "output_type": "display_data"
    },
    {
     "data": {
      "image/png": "[encoded data removed]",
      "text/plain": [
       "<Figure size 720x576 with 1 Axes>"
      ]
     },
     "metadata": {
      "needs_background": "light"
     },
     "output_type": "display_data"
    },
    {
     "data": {
      "image/png": "[encoded data removed]",
      "text/plain": [
       "<Figure size 720x576 with 1 Axes>"
      ]
     },
     "metadata": {
      "needs_background": "light"
     },
     "output_type": "display_data"
    }
   ],
   "source": [
    "\n",
    "for dat in \"nb_days_before_delivered\",\"Recency\", \"Frequency\",\"Payment by customer\",\"review_score\" :\n",
    "    \n",
    "    \n",
    "    plt.figure(figsize=(10,8))\n",
    "    sns.boxplot( data = data[[dat]])\n",
    "    plt.title(dat)"
   ]
  },
  {
   "cell_type": "markdown",
   "id": "92fc2c36",
   "metadata": {},
   "source": [
    "On observe beaucoup d'outliers sur les features frequency,\"nb_days_before_delivered\" et \"Payment by customer\"."
   ]
  },
  {
   "cell_type": "code",
   "execution_count": 83,
   "id": "1d6632f3",
   "metadata": {},
   "outputs": [
    {
     "data": {
      "text/html": [
       "<div>\n",
       "<style scoped>\n",
       "    .dataframe tbody tr th:only-of-type {\n",
       "        vertical-align: middle;\n",
       "    }\n",
       "\n",
       "    .dataframe tbody tr th {\n",
       "        vertical-align: top;\n",
       "    }\n",
       "\n",
       "    .dataframe thead th {\n",
       "        text-align: right;\n",
       "    }\n",
       "</style>\n",
       "<table border=\"1\" class=\"dataframe\">\n",
       "  <thead>\n",
       "    <tr style=\"text-align: right;\">\n",
       "      <th></th>\n",
       "      <th>nb_days_before_delivered</th>\n",
       "      <th>Recency</th>\n",
       "      <th>Frequency</th>\n",
       "      <th>Payment by customer</th>\n",
       "      <th>review_score</th>\n",
       "    </tr>\n",
       "  </thead>\n",
       "  <tbody>\n",
       "    <tr>\n",
       "      <th>count</th>\n",
       "      <td>95751.000000</td>\n",
       "      <td>95751.000000</td>\n",
       "      <td>95751.000000</td>\n",
       "      <td>95751.000000</td>\n",
       "      <td>95751.000000</td>\n",
       "    </tr>\n",
       "    <tr>\n",
       "      <th>mean</th>\n",
       "      <td>11.593331</td>\n",
       "      <td>237.094923</td>\n",
       "      <td>1.075237</td>\n",
       "      <td>170.404062</td>\n",
       "      <td>4.155964</td>\n",
       "    </tr>\n",
       "    <tr>\n",
       "      <th>std</th>\n",
       "      <td>9.425120</td>\n",
       "      <td>152.395554</td>\n",
       "      <td>0.373928</td>\n",
       "      <td>232.224915</td>\n",
       "      <td>1.283769</td>\n",
       "    </tr>\n",
       "    <tr>\n",
       "      <th>min</th>\n",
       "      <td>-7.000000</td>\n",
       "      <td>1.000000</td>\n",
       "      <td>1.000000</td>\n",
       "      <td>9.590000</td>\n",
       "      <td>1.000000</td>\n",
       "    </tr>\n",
       "    <tr>\n",
       "      <th>25%</th>\n",
       "      <td>6.000000</td>\n",
       "      <td>114.000000</td>\n",
       "      <td>1.000000</td>\n",
       "      <td>64.000000</td>\n",
       "      <td>4.000000</td>\n",
       "    </tr>\n",
       "    <tr>\n",
       "      <th>50%</th>\n",
       "      <td>9.000000</td>\n",
       "      <td>218.000000</td>\n",
       "      <td>1.000000</td>\n",
       "      <td>110.820000</td>\n",
       "      <td>5.000000</td>\n",
       "    </tr>\n",
       "    <tr>\n",
       "      <th>75%</th>\n",
       "      <td>15.000000</td>\n",
       "      <td>345.000000</td>\n",
       "      <td>1.000000</td>\n",
       "      <td>188.460000</td>\n",
       "      <td>5.000000</td>\n",
       "    </tr>\n",
       "    <tr>\n",
       "      <th>max</th>\n",
       "      <td>208.000000</td>\n",
       "      <td>695.000000</td>\n",
       "      <td>15.000000</td>\n",
       "      <td>13664.080000</td>\n",
       "      <td>5.000000</td>\n",
       "    </tr>\n",
       "  </tbody>\n",
       "</table>\n",
       "</div>"
      ],
      "text/plain": [
       "       nb_days_before_delivered       Recency     Frequency  \\\n",
       "count              95751.000000  95751.000000  95751.000000   \n",
       "mean                  11.593331    237.094923      1.075237   \n",
       "std                    9.425120    152.395554      0.373928   \n",
       "min                   -7.000000      1.000000      1.000000   \n",
       "25%                    6.000000    114.000000      1.000000   \n",
       "50%                    9.000000    218.000000      1.000000   \n",
       "75%                   15.000000    345.000000      1.000000   \n",
       "max                  208.000000    695.000000     15.000000   \n",
       "\n",
       "       Payment by customer  review_score  \n",
       "count         95751.000000  95751.000000  \n",
       "mean            170.404062      4.155964  \n",
       "std             232.224915      1.283769  \n",
       "min               9.590000      1.000000  \n",
       "25%              64.000000      4.000000  \n",
       "50%             110.820000      5.000000  \n",
       "75%             188.460000      5.000000  \n",
       "max           13664.080000      5.000000  "
      ]
     },
     "execution_count": 83,
     "metadata": {},
     "output_type": "execute_result"
    }
   ],
   "source": [
    "data.describe()"
   ]
  },
  {
   "cell_type": "markdown",
   "id": "b76d4695",
   "metadata": {},
   "source": [
    "## Outlier nb_days_before_delivered"
   ]
  },
  {
   "cell_type": "markdown",
   "id": "b0b98369",
   "metadata": {},
   "source": [
    "On identifie les clients avec des commandes avec un nombre de jours avant livraison superieur à 50 jours."
   ]
  },
  {
   "cell_type": "code",
   "execution_count": 84,
   "id": "85fb87dc",
   "metadata": {},
   "outputs": [
    {
     "name": "stdout",
     "output_type": "stream",
     "text": [
      "Le nombre de outliers est 563 liée aux jours de livraison\n"
     ]
    }
   ],
   "source": [
    "print(\"Le nombre de outliers est\", data[data[\"nb_days_before_delivered\"] > 50].shape[0], \"liée aux jours de livraison\")"
   ]
  },
  {
   "cell_type": "code",
   "execution_count": 85,
   "id": "37143c84",
   "metadata": {},
   "outputs": [],
   "source": [
    "data = data[data[\"nb_days_before_delivered\"] < 50]"
   ]
  },
  {
   "cell_type": "markdown",
   "id": "640f0e31",
   "metadata": {},
   "source": [
    "## Outlier Frequency"
   ]
  },
  {
   "cell_type": "markdown",
   "id": "4ded0aaf",
   "metadata": {},
   "source": [
    "On identifie les clients avec des commandes avec frequency d'achat superieur à 5."
   ]
  },
  {
   "cell_type": "code",
   "execution_count": 86,
   "id": "23973f30",
   "metadata": {},
   "outputs": [
    {
     "name": "stdout",
     "output_type": "stream",
     "text": [
      "Le nombre de outliers est 75 liée à la fréquence d'achat.\n"
     ]
    }
   ],
   "source": [
    "print(\"Le nombre de outliers est\", data[data[\"Frequency\"] > 5].shape[0], \"liée à la fréquence d'achat.\")"
   ]
  },
  {
   "cell_type": "code",
   "execution_count": 87,
   "id": "8995fe19",
   "metadata": {},
   "outputs": [],
   "source": [
    "data = data[data[\"Frequency\"] < 5]"
   ]
  },
  {
   "cell_type": "markdown",
   "id": "2e4670d9",
   "metadata": {},
   "source": [
    "# Outlier Payment by customer"
   ]
  },
  {
   "cell_type": "markdown",
   "id": "32c2a826",
   "metadata": {},
   "source": [
    "On identifie les clients avec des commandes avec un Payment by customer superieur à 4000 euros."
   ]
  },
  {
   "cell_type": "code",
   "execution_count": 88,
   "id": "9dc6e113",
   "metadata": {},
   "outputs": [
    {
     "name": "stdout",
     "output_type": "stream",
     "text": [
      "Le nombre de outliers est 21 aux montants des achats.\n"
     ]
    }
   ],
   "source": [
    "print(\"Le nombre de outliers est\", data[data[\"Payment by customer\"] > 4000].shape[0], \"aux montants des achats.\")"
   ]
  },
  {
   "cell_type": "code",
   "execution_count": 89,
   "id": "a3b5e6a0",
   "metadata": {},
   "outputs": [],
   "source": [
    "data = data[data[\"Payment by customer\"] < 4000]"
   ]
  },
  {
   "cell_type": "code",
   "execution_count": 90,
   "id": "680d78f6",
   "metadata": {},
   "outputs": [
    {
     "data": {
      "text/html": [
       "<div>\n",
       "<style scoped>\n",
       "    .dataframe tbody tr th:only-of-type {\n",
       "        vertical-align: middle;\n",
       "    }\n",
       "\n",
       "    .dataframe tbody tr th {\n",
       "        vertical-align: top;\n",
       "    }\n",
       "\n",
       "    .dataframe thead th {\n",
       "        text-align: right;\n",
       "    }\n",
       "</style>\n",
       "<table border=\"1\" class=\"dataframe\">\n",
       "  <thead>\n",
       "    <tr style=\"text-align: right;\">\n",
       "      <th></th>\n",
       "      <th>order_id</th>\n",
       "      <th>nb_days_before_delivered</th>\n",
       "      <th>Recency</th>\n",
       "      <th>Frequency</th>\n",
       "      <th>Payment by customer</th>\n",
       "      <th>review_score</th>\n",
       "      <th>order_purchase_timestamp</th>\n",
       "    </tr>\n",
       "  </thead>\n",
       "  <tbody>\n",
       "    <tr>\n",
       "      <th>0</th>\n",
       "      <td>e481f51cbdc54678b7cc49136f2d6af7</td>\n",
       "      <td>8</td>\n",
       "      <td>332</td>\n",
       "      <td>2</td>\n",
       "      <td>82.82</td>\n",
       "      <td>4.0</td>\n",
       "      <td>2017-10-02 10:56:33</td>\n",
       "    </tr>\n",
       "    <tr>\n",
       "      <th>1</th>\n",
       "      <td>53cdb2fc8bc7dce0b6741e2150273451</td>\n",
       "      <td>12</td>\n",
       "      <td>36</td>\n",
       "      <td>1</td>\n",
       "      <td>141.46</td>\n",
       "      <td>4.0</td>\n",
       "      <td>2018-07-24 20:41:37</td>\n",
       "    </tr>\n",
       "    <tr>\n",
       "      <th>2</th>\n",
       "      <td>47770eb9100c2d0c44946d9cf07ec65d</td>\n",
       "      <td>9</td>\n",
       "      <td>22</td>\n",
       "      <td>1</td>\n",
       "      <td>179.12</td>\n",
       "      <td>5.0</td>\n",
       "      <td>2018-08-08 08:38:49</td>\n",
       "    </tr>\n",
       "    <tr>\n",
       "      <th>3</th>\n",
       "      <td>949d5b44dbf5de918fe9c16f97b45f8a</td>\n",
       "      <td>13</td>\n",
       "      <td>284</td>\n",
       "      <td>1</td>\n",
       "      <td>72.20</td>\n",
       "      <td>5.0</td>\n",
       "      <td>2017-11-18 19:28:06</td>\n",
       "    </tr>\n",
       "    <tr>\n",
       "      <th>4</th>\n",
       "      <td>ad21c59c0840e6cb83a9ceb5573f8159</td>\n",
       "      <td>2</td>\n",
       "      <td>197</td>\n",
       "      <td>1</td>\n",
       "      <td>28.62</td>\n",
       "      <td>5.0</td>\n",
       "      <td>2018-02-13 21:18:39</td>\n",
       "    </tr>\n",
       "    <tr>\n",
       "      <th>...</th>\n",
       "      <td>...</td>\n",
       "      <td>...</td>\n",
       "      <td>...</td>\n",
       "      <td>...</td>\n",
       "      <td>...</td>\n",
       "      <td>...</td>\n",
       "      <td>...</td>\n",
       "    </tr>\n",
       "    <tr>\n",
       "      <th>95746</th>\n",
       "      <td>9c5dedf39a927c1b2549525ed64a053c</td>\n",
       "      <td>8</td>\n",
       "      <td>539</td>\n",
       "      <td>1</td>\n",
       "      <td>85.08</td>\n",
       "      <td>5.0</td>\n",
       "      <td>2017-03-09 09:54:05</td>\n",
       "    </tr>\n",
       "    <tr>\n",
       "      <th>95747</th>\n",
       "      <td>63943bddc261676b46f01ca7ac2f7bd8</td>\n",
       "      <td>22</td>\n",
       "      <td>205</td>\n",
       "      <td>1</td>\n",
       "      <td>195.00</td>\n",
       "      <td>4.0</td>\n",
       "      <td>2018-02-06 12:58:58</td>\n",
       "    </tr>\n",
       "    <tr>\n",
       "      <th>95748</th>\n",
       "      <td>83c1379a015df1e13d02aae0204711ab</td>\n",
       "      <td>24</td>\n",
       "      <td>368</td>\n",
       "      <td>1</td>\n",
       "      <td>271.01</td>\n",
       "      <td>5.0</td>\n",
       "      <td>2017-08-27 14:46:43</td>\n",
       "    </tr>\n",
       "    <tr>\n",
       "      <th>95749</th>\n",
       "      <td>11c177c8e97725db2631073c19f07b62</td>\n",
       "      <td>17</td>\n",
       "      <td>233</td>\n",
       "      <td>1</td>\n",
       "      <td>441.16</td>\n",
       "      <td>2.0</td>\n",
       "      <td>2018-01-08 21:28:27</td>\n",
       "    </tr>\n",
       "    <tr>\n",
       "      <th>95750</th>\n",
       "      <td>66dea50a8b16d9b4dee7af250b4be1a5</td>\n",
       "      <td>7</td>\n",
       "      <td>174</td>\n",
       "      <td>1</td>\n",
       "      <td>86.86</td>\n",
       "      <td>5.0</td>\n",
       "      <td>2018-03-08 20:57:30</td>\n",
       "    </tr>\n",
       "  </tbody>\n",
       "</table>\n",
       "<p>94995 rows × 7 columns</p>\n",
       "</div>"
      ],
      "text/plain": [
       "                               order_id  nb_days_before_delivered  Recency  \\\n",
       "0      e481f51cbdc54678b7cc49136f2d6af7                         8      332   \n",
       "1      53cdb2fc8bc7dce0b6741e2150273451                        12       36   \n",
       "2      47770eb9100c2d0c44946d9cf07ec65d                         9       22   \n",
       "3      949d5b44dbf5de918fe9c16f97b45f8a                        13      284   \n",
       "4      ad21c59c0840e6cb83a9ceb5573f8159                         2      197   \n",
       "...                                 ...                       ...      ...   \n",
       "95746  9c5dedf39a927c1b2549525ed64a053c                         8      539   \n",
       "95747  63943bddc261676b46f01ca7ac2f7bd8                        22      205   \n",
       "95748  83c1379a015df1e13d02aae0204711ab                        24      368   \n",
       "95749  11c177c8e97725db2631073c19f07b62                        17      233   \n",
       "95750  66dea50a8b16d9b4dee7af250b4be1a5                         7      174   \n",
       "\n",
       "       Frequency  Payment by customer  review_score order_purchase_timestamp  \n",
       "0              2                82.82           4.0      2017-10-02 10:56:33  \n",
       "1              1               141.46           4.0      2018-07-24 20:41:37  \n",
       "2              1               179.12           5.0      2018-08-08 08:38:49  \n",
       "3              1                72.20           5.0      2017-11-18 19:28:06  \n",
       "4              1                28.62           5.0      2018-02-13 21:18:39  \n",
       "...          ...                  ...           ...                      ...  \n",
       "95746          1                85.08           5.0      2017-03-09 09:54:05  \n",
       "95747          1               195.00           4.0      2018-02-06 12:58:58  \n",
       "95748          1               271.01           5.0      2017-08-27 14:46:43  \n",
       "95749          1               441.16           2.0      2018-01-08 21:28:27  \n",
       "95750          1                86.86           5.0      2018-03-08 20:57:30  \n",
       "\n",
       "[94995 rows x 7 columns]"
      ]
     },
     "execution_count": 90,
     "metadata": {},
     "output_type": "execute_result"
    }
   ],
   "source": [
    "data"
   ]
  },
  {
   "cell_type": "code",
   "execution_count": 91,
   "id": "cdba3e30",
   "metadata": {},
   "outputs": [
    {
     "data": {
      "text/html": [
       "<div>\n",
       "<style scoped>\n",
       "    .dataframe tbody tr th:only-of-type {\n",
       "        vertical-align: middle;\n",
       "    }\n",
       "\n",
       "    .dataframe tbody tr th {\n",
       "        vertical-align: top;\n",
       "    }\n",
       "\n",
       "    .dataframe thead th {\n",
       "        text-align: right;\n",
       "    }\n",
       "</style>\n",
       "<table border=\"1\" class=\"dataframe\">\n",
       "  <thead>\n",
       "    <tr style=\"text-align: right;\">\n",
       "      <th></th>\n",
       "      <th>order_id</th>\n",
       "      <th>nb_days_before_delivered</th>\n",
       "      <th>Recency</th>\n",
       "      <th>Frequency</th>\n",
       "      <th>Payment by customer</th>\n",
       "      <th>review_score</th>\n",
       "      <th>order_purchase_timestamp</th>\n",
       "    </tr>\n",
       "  </thead>\n",
       "  <tbody>\n",
       "    <tr>\n",
       "      <th>0</th>\n",
       "      <td>e481f51cbdc54678b7cc49136f2d6af7</td>\n",
       "      <td>8</td>\n",
       "      <td>332</td>\n",
       "      <td>2</td>\n",
       "      <td>82.82</td>\n",
       "      <td>4.0</td>\n",
       "      <td>2017-10-02 10:56:33</td>\n",
       "    </tr>\n",
       "    <tr>\n",
       "      <th>1</th>\n",
       "      <td>53cdb2fc8bc7dce0b6741e2150273451</td>\n",
       "      <td>12</td>\n",
       "      <td>36</td>\n",
       "      <td>1</td>\n",
       "      <td>141.46</td>\n",
       "      <td>4.0</td>\n",
       "      <td>2018-07-24 20:41:37</td>\n",
       "    </tr>\n",
       "    <tr>\n",
       "      <th>2</th>\n",
       "      <td>47770eb9100c2d0c44946d9cf07ec65d</td>\n",
       "      <td>9</td>\n",
       "      <td>22</td>\n",
       "      <td>1</td>\n",
       "      <td>179.12</td>\n",
       "      <td>5.0</td>\n",
       "      <td>2018-08-08 08:38:49</td>\n",
       "    </tr>\n",
       "    <tr>\n",
       "      <th>3</th>\n",
       "      <td>949d5b44dbf5de918fe9c16f97b45f8a</td>\n",
       "      <td>13</td>\n",
       "      <td>284</td>\n",
       "      <td>1</td>\n",
       "      <td>72.20</td>\n",
       "      <td>5.0</td>\n",
       "      <td>2017-11-18 19:28:06</td>\n",
       "    </tr>\n",
       "    <tr>\n",
       "      <th>4</th>\n",
       "      <td>ad21c59c0840e6cb83a9ceb5573f8159</td>\n",
       "      <td>2</td>\n",
       "      <td>197</td>\n",
       "      <td>1</td>\n",
       "      <td>28.62</td>\n",
       "      <td>5.0</td>\n",
       "      <td>2018-02-13 21:18:39</td>\n",
       "    </tr>\n",
       "  </tbody>\n",
       "</table>\n",
       "</div>"
      ],
      "text/plain": [
       "                           order_id  nb_days_before_delivered  Recency  \\\n",
       "0  e481f51cbdc54678b7cc49136f2d6af7                         8      332   \n",
       "1  53cdb2fc8bc7dce0b6741e2150273451                        12       36   \n",
       "2  47770eb9100c2d0c44946d9cf07ec65d                         9       22   \n",
       "3  949d5b44dbf5de918fe9c16f97b45f8a                        13      284   \n",
       "4  ad21c59c0840e6cb83a9ceb5573f8159                         2      197   \n",
       "\n",
       "   Frequency  Payment by customer  review_score order_purchase_timestamp  \n",
       "0          2                82.82           4.0      2017-10-02 10:56:33  \n",
       "1          1               141.46           4.0      2018-07-24 20:41:37  \n",
       "2          1               179.12           5.0      2018-08-08 08:38:49  \n",
       "3          1                72.20           5.0      2017-11-18 19:28:06  \n",
       "4          1                28.62           5.0      2018-02-13 21:18:39  "
      ]
     },
     "execution_count": 91,
     "metadata": {},
     "output_type": "execute_result"
    }
   ],
   "source": [
    "data .head(5)"
   ]
  },
  {
   "cell_type": "code",
   "execution_count": 92,
   "id": "6d32ddf5",
   "metadata": {},
   "outputs": [],
   "source": [
    "data_cluster = data.copy()"
   ]
  },
  {
   "cell_type": "code",
   "execution_count": 93,
   "id": "523aed0a",
   "metadata": {},
   "outputs": [
    {
     "data": {
      "text/html": [
       "<div>\n",
       "<style scoped>\n",
       "    .dataframe tbody tr th:only-of-type {\n",
       "        vertical-align: middle;\n",
       "    }\n",
       "\n",
       "    .dataframe tbody tr th {\n",
       "        vertical-align: top;\n",
       "    }\n",
       "\n",
       "    .dataframe thead th {\n",
       "        text-align: right;\n",
       "    }\n",
       "</style>\n",
       "<table border=\"1\" class=\"dataframe\">\n",
       "  <thead>\n",
       "    <tr style=\"text-align: right;\">\n",
       "      <th></th>\n",
       "      <th>order_id</th>\n",
       "      <th>nb_days_before_delivered</th>\n",
       "      <th>Recency</th>\n",
       "      <th>Frequency</th>\n",
       "      <th>Payment by customer</th>\n",
       "      <th>review_score</th>\n",
       "      <th>order_purchase_timestamp</th>\n",
       "    </tr>\n",
       "  </thead>\n",
       "  <tbody>\n",
       "    <tr>\n",
       "      <th>0</th>\n",
       "      <td>e481f51cbdc54678b7cc49136f2d6af7</td>\n",
       "      <td>8</td>\n",
       "      <td>332</td>\n",
       "      <td>2</td>\n",
       "      <td>82.82</td>\n",
       "      <td>4.0</td>\n",
       "      <td>2017-10-02 10:56:33</td>\n",
       "    </tr>\n",
       "    <tr>\n",
       "      <th>1</th>\n",
       "      <td>53cdb2fc8bc7dce0b6741e2150273451</td>\n",
       "      <td>12</td>\n",
       "      <td>36</td>\n",
       "      <td>1</td>\n",
       "      <td>141.46</td>\n",
       "      <td>4.0</td>\n",
       "      <td>2018-07-24 20:41:37</td>\n",
       "    </tr>\n",
       "    <tr>\n",
       "      <th>2</th>\n",
       "      <td>47770eb9100c2d0c44946d9cf07ec65d</td>\n",
       "      <td>9</td>\n",
       "      <td>22</td>\n",
       "      <td>1</td>\n",
       "      <td>179.12</td>\n",
       "      <td>5.0</td>\n",
       "      <td>2018-08-08 08:38:49</td>\n",
       "    </tr>\n",
       "    <tr>\n",
       "      <th>3</th>\n",
       "      <td>949d5b44dbf5de918fe9c16f97b45f8a</td>\n",
       "      <td>13</td>\n",
       "      <td>284</td>\n",
       "      <td>1</td>\n",
       "      <td>72.20</td>\n",
       "      <td>5.0</td>\n",
       "      <td>2017-11-18 19:28:06</td>\n",
       "    </tr>\n",
       "    <tr>\n",
       "      <th>4</th>\n",
       "      <td>ad21c59c0840e6cb83a9ceb5573f8159</td>\n",
       "      <td>2</td>\n",
       "      <td>197</td>\n",
       "      <td>1</td>\n",
       "      <td>28.62</td>\n",
       "      <td>5.0</td>\n",
       "      <td>2018-02-13 21:18:39</td>\n",
       "    </tr>\n",
       "  </tbody>\n",
       "</table>\n",
       "</div>"
      ],
      "text/plain": [
       "                           order_id  nb_days_before_delivered  Recency  \\\n",
       "0  e481f51cbdc54678b7cc49136f2d6af7                         8      332   \n",
       "1  53cdb2fc8bc7dce0b6741e2150273451                        12       36   \n",
       "2  47770eb9100c2d0c44946d9cf07ec65d                         9       22   \n",
       "3  949d5b44dbf5de918fe9c16f97b45f8a                        13      284   \n",
       "4  ad21c59c0840e6cb83a9ceb5573f8159                         2      197   \n",
       "\n",
       "   Frequency  Payment by customer  review_score order_purchase_timestamp  \n",
       "0          2                82.82           4.0      2017-10-02 10:56:33  \n",
       "1          1               141.46           4.0      2018-07-24 20:41:37  \n",
       "2          1               179.12           5.0      2018-08-08 08:38:49  \n",
       "3          1                72.20           5.0      2017-11-18 19:28:06  \n",
       "4          1                28.62           5.0      2018-02-13 21:18:39  "
      ]
     },
     "execution_count": 93,
     "metadata": {},
     "output_type": "execute_result"
    }
   ],
   "source": [
    "data_cluster.head(5)"
   ]
  },
  {
   "cell_type": "code",
   "execution_count": 94,
   "id": "ac55c0e0",
   "metadata": {},
   "outputs": [
    {
     "data": {
      "text/html": [
       "<div>\n",
       "<style scoped>\n",
       "    .dataframe tbody tr th:only-of-type {\n",
       "        vertical-align: middle;\n",
       "    }\n",
       "\n",
       "    .dataframe tbody tr th {\n",
       "        vertical-align: top;\n",
       "    }\n",
       "\n",
       "    .dataframe thead th {\n",
       "        text-align: right;\n",
       "    }\n",
       "</style>\n",
       "<table border=\"1\" class=\"dataframe\">\n",
       "  <thead>\n",
       "    <tr style=\"text-align: right;\">\n",
       "      <th></th>\n",
       "      <th>order_id</th>\n",
       "      <th>nb_days_before_delivered</th>\n",
       "      <th>Recency</th>\n",
       "      <th>Frequency</th>\n",
       "      <th>Payment by customer</th>\n",
       "      <th>review_score</th>\n",
       "      <th>order_purchase_timestamp</th>\n",
       "    </tr>\n",
       "  </thead>\n",
       "  <tbody>\n",
       "    <tr>\n",
       "      <th>0</th>\n",
       "      <td>e481f51cbdc54678b7cc49136f2d6af7</td>\n",
       "      <td>8</td>\n",
       "      <td>332</td>\n",
       "      <td>2</td>\n",
       "      <td>82.82</td>\n",
       "      <td>4.0</td>\n",
       "      <td>2017-10-02 10:56:33</td>\n",
       "    </tr>\n",
       "    <tr>\n",
       "      <th>1</th>\n",
       "      <td>53cdb2fc8bc7dce0b6741e2150273451</td>\n",
       "      <td>12</td>\n",
       "      <td>36</td>\n",
       "      <td>1</td>\n",
       "      <td>141.46</td>\n",
       "      <td>4.0</td>\n",
       "      <td>2018-07-24 20:41:37</td>\n",
       "    </tr>\n",
       "    <tr>\n",
       "      <th>2</th>\n",
       "      <td>47770eb9100c2d0c44946d9cf07ec65d</td>\n",
       "      <td>9</td>\n",
       "      <td>22</td>\n",
       "      <td>1</td>\n",
       "      <td>179.12</td>\n",
       "      <td>5.0</td>\n",
       "      <td>2018-08-08 08:38:49</td>\n",
       "    </tr>\n",
       "    <tr>\n",
       "      <th>3</th>\n",
       "      <td>949d5b44dbf5de918fe9c16f97b45f8a</td>\n",
       "      <td>13</td>\n",
       "      <td>284</td>\n",
       "      <td>1</td>\n",
       "      <td>72.20</td>\n",
       "      <td>5.0</td>\n",
       "      <td>2017-11-18 19:28:06</td>\n",
       "    </tr>\n",
       "    <tr>\n",
       "      <th>4</th>\n",
       "      <td>ad21c59c0840e6cb83a9ceb5573f8159</td>\n",
       "      <td>2</td>\n",
       "      <td>197</td>\n",
       "      <td>1</td>\n",
       "      <td>28.62</td>\n",
       "      <td>5.0</td>\n",
       "      <td>2018-02-13 21:18:39</td>\n",
       "    </tr>\n",
       "    <tr>\n",
       "      <th>...</th>\n",
       "      <td>...</td>\n",
       "      <td>...</td>\n",
       "      <td>...</td>\n",
       "      <td>...</td>\n",
       "      <td>...</td>\n",
       "      <td>...</td>\n",
       "      <td>...</td>\n",
       "    </tr>\n",
       "    <tr>\n",
       "      <th>95746</th>\n",
       "      <td>9c5dedf39a927c1b2549525ed64a053c</td>\n",
       "      <td>8</td>\n",
       "      <td>539</td>\n",
       "      <td>1</td>\n",
       "      <td>85.08</td>\n",
       "      <td>5.0</td>\n",
       "      <td>2017-03-09 09:54:05</td>\n",
       "    </tr>\n",
       "    <tr>\n",
       "      <th>95747</th>\n",
       "      <td>63943bddc261676b46f01ca7ac2f7bd8</td>\n",
       "      <td>22</td>\n",
       "      <td>205</td>\n",
       "      <td>1</td>\n",
       "      <td>195.00</td>\n",
       "      <td>4.0</td>\n",
       "      <td>2018-02-06 12:58:58</td>\n",
       "    </tr>\n",
       "    <tr>\n",
       "      <th>95748</th>\n",
       "      <td>83c1379a015df1e13d02aae0204711ab</td>\n",
       "      <td>24</td>\n",
       "      <td>368</td>\n",
       "      <td>1</td>\n",
       "      <td>271.01</td>\n",
       "      <td>5.0</td>\n",
       "      <td>2017-08-27 14:46:43</td>\n",
       "    </tr>\n",
       "    <tr>\n",
       "      <th>95749</th>\n",
       "      <td>11c177c8e97725db2631073c19f07b62</td>\n",
       "      <td>17</td>\n",
       "      <td>233</td>\n",
       "      <td>1</td>\n",
       "      <td>441.16</td>\n",
       "      <td>2.0</td>\n",
       "      <td>2018-01-08 21:28:27</td>\n",
       "    </tr>\n",
       "    <tr>\n",
       "      <th>95750</th>\n",
       "      <td>66dea50a8b16d9b4dee7af250b4be1a5</td>\n",
       "      <td>7</td>\n",
       "      <td>174</td>\n",
       "      <td>1</td>\n",
       "      <td>86.86</td>\n",
       "      <td>5.0</td>\n",
       "      <td>2018-03-08 20:57:30</td>\n",
       "    </tr>\n",
       "  </tbody>\n",
       "</table>\n",
       "<p>94995 rows × 7 columns</p>\n",
       "</div>"
      ],
      "text/plain": [
       "                               order_id  nb_days_before_delivered  Recency  \\\n",
       "0      e481f51cbdc54678b7cc49136f2d6af7                         8      332   \n",
       "1      53cdb2fc8bc7dce0b6741e2150273451                        12       36   \n",
       "2      47770eb9100c2d0c44946d9cf07ec65d                         9       22   \n",
       "3      949d5b44dbf5de918fe9c16f97b45f8a                        13      284   \n",
       "4      ad21c59c0840e6cb83a9ceb5573f8159                         2      197   \n",
       "...                                 ...                       ...      ...   \n",
       "95746  9c5dedf39a927c1b2549525ed64a053c                         8      539   \n",
       "95747  63943bddc261676b46f01ca7ac2f7bd8                        22      205   \n",
       "95748  83c1379a015df1e13d02aae0204711ab                        24      368   \n",
       "95749  11c177c8e97725db2631073c19f07b62                        17      233   \n",
       "95750  66dea50a8b16d9b4dee7af250b4be1a5                         7      174   \n",
       "\n",
       "       Frequency  Payment by customer  review_score order_purchase_timestamp  \n",
       "0              2                82.82           4.0      2017-10-02 10:56:33  \n",
       "1              1               141.46           4.0      2018-07-24 20:41:37  \n",
       "2              1               179.12           5.0      2018-08-08 08:38:49  \n",
       "3              1                72.20           5.0      2017-11-18 19:28:06  \n",
       "4              1                28.62           5.0      2018-02-13 21:18:39  \n",
       "...          ...                  ...           ...                      ...  \n",
       "95746          1                85.08           5.0      2017-03-09 09:54:05  \n",
       "95747          1               195.00           4.0      2018-02-06 12:58:58  \n",
       "95748          1               271.01           5.0      2017-08-27 14:46:43  \n",
       "95749          1               441.16           2.0      2018-01-08 21:28:27  \n",
       "95750          1                86.86           5.0      2018-03-08 20:57:30  \n",
       "\n",
       "[94995 rows x 7 columns]"
      ]
     },
     "execution_count": 94,
     "metadata": {},
     "output_type": "execute_result"
    }
   ],
   "source": [
    "    data_cluster"
   ]
  },
  {
   "cell_type": "markdown",
   "id": "494315e0",
   "metadata": {},
   "source": [
    "# Sauvegarde"
   ]
  },
  {
   "cell_type": "code",
   "execution_count": 95,
   "id": "c45500c8",
   "metadata": {},
   "outputs": [],
   "source": [
    "with pd.ExcelWriter('data_projet_4.xlsx') as writer :\n",
    "    data_rfm.to_excel(writer,sheet_name = 'data_rfm')\n",
    "    data_cluster.to_excel(writer,sheet_name = 'data_cluster')"
   ]
  }
 ],
 "metadata": {
  "kernelspec": {
   "display_name": "Python 3 (ipykernel)",
   "language": "python",
   "name": "python3"
  },
  "language_info": {
   "codemirror_mode": {
    "name": "ipython",
    "version": 3
   },
   "file_extension": ".py",
   "mimetype": "text/x-python",
   "name": "python",
   "nbconvert_exporter": "python",
   "pygments_lexer": "ipython3",
   "version": "3.9.7"
  }
 },
 "nbformat": 4,
 "nbformat_minor": 5
}
