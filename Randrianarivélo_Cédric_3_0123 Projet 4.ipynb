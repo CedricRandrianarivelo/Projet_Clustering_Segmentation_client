{
 "cells": [
  {
   "cell_type": "markdown",
   "id": "eb2c971b",
   "metadata": {},
   "source": [
    "# Notebook de simulation pour déterminer la fréquence nécessaire de mise à jour"
   ]
  },
  {
   "cell_type": "markdown",
   "id": "a3b3ebff",
   "metadata": {},
   "source": [
    "Dans ce notebook, nous allons déterminer au bout de combien de temps le cluster devient instable et à quelle fréquence il doit être mis à jour."
   ]
  },
  {
   "cell_type": "markdown",
   "id": "dc24584c",
   "metadata": {},
   "source": [
    "# Import Bibliotèque"
   ]
  },
  {
   "cell_type": "code",
   "execution_count": 1,
   "id": "fa29b9be",
   "metadata": {},
   "outputs": [],
   "source": [
    "import pandas as pd\n",
    "import matplotlib.pyplot as plt\n",
    "from matplotlib.patches import Circle\n",
    "import seaborn as sns\n",
    "import numpy as np\n",
    "\n",
    "from sklearn.preprocessing import OneHotEncoder, StandardScaler\n",
    "from sklearn.decomposition import PCA\n",
    "from sklearn.manifold import TSNE\n",
    "from sklearn.cluster import KMeans\n",
    "from sklearn.cluster import DBSCAN\n",
    "from sklearn.cluster import AgglomerativeClustering\n",
    "from sklearn.metrics import davies_bouldin_score\n",
    "from sklearn.metrics import silhouette_score\n",
    "from sklearn.datasets import make_blobs\n",
    "from sklearn.model_selection import train_test_split\n",
    "from sklearn.cluster import KMeans\n",
    "from yellowbrick.cluster.elbow import kelbow_visualizer\n",
    "import yellowbrick\n",
    "from sklearn import preprocessing\n",
    "from sklearn.decomposition import PCA\n",
    "from sklearn import decomposition\n",
    "from sklearn import metrics\n",
    "from sklearn.metrics import adjusted_rand_score\n",
    "\n",
    "pd.set_option(\"display.max_rows\", 101)\n",
    "pd.options.display.max_columns = 999"
   ]
  },
  {
   "cell_type": "markdown",
   "id": "ee3b7166",
   "metadata": {},
   "source": [
    "L'idée de cette partie est d'estimer le temps de stabilité d'un cluster et d'estimer au bout de combien de temps on doit mettre à jour le modèle de Clusters."
   ]
  },
  {
   "cell_type": "markdown",
   "id": "07584b2f",
   "metadata": {},
   "source": [
    "# Import des données."
   ]
  },
  {
   "cell_type": "code",
   "execution_count": 2,
   "id": "a0fd7e72",
   "metadata": {},
   "outputs": [],
   "source": [
    "Data = pd.read_excel(\"data_projet_4.xlsx\",sheet_name = 'data_cluster')"
   ]
  },
  {
   "cell_type": "markdown",
   "id": "a695d19b",
   "metadata": {},
   "source": [
    "On cherche à déterminer le nombre maximum de jours dans le data set."
   ]
  },
  {
   "cell_type": "code",
   "execution_count": 3,
   "id": "60594273",
   "metadata": {},
   "outputs": [
    {
     "name": "stdout",
     "output_type": "stream",
     "text": [
      "695 days 05:15:47\n"
     ]
    }
   ],
   "source": [
    "Date = (Data['order_purchase_timestamp'].max() - Data['order_purchase_timestamp'].min())\n",
    "print(Date)"
   ]
  },
  {
   "cell_type": "markdown",
   "id": "654b36e7",
   "metadata": {},
   "source": [
    "On crée une variable qui donne le nombre maximum de jours."
   ]
  },
  {
   "cell_type": "code",
   "execution_count": 4,
   "id": "dc2eb159",
   "metadata": {},
   "outputs": [],
   "source": [
    "Max_Day = 695"
   ]
  },
  {
   "cell_type": "code",
   "execution_count": 5,
   "id": "b7f910e5",
   "metadata": {},
   "outputs": [
    {
     "data": {
      "text/html": [
       "<div>\n",
       "<style scoped>\n",
       "    .dataframe tbody tr th:only-of-type {\n",
       "        vertical-align: middle;\n",
       "    }\n",
       "\n",
       "    .dataframe tbody tr th {\n",
       "        vertical-align: top;\n",
       "    }\n",
       "\n",
       "    .dataframe thead th {\n",
       "        text-align: right;\n",
       "    }\n",
       "</style>\n",
       "<table border=\"1\" class=\"dataframe\">\n",
       "  <thead>\n",
       "    <tr style=\"text-align: right;\">\n",
       "      <th></th>\n",
       "      <th>Unnamed: 0</th>\n",
       "      <th>order_id</th>\n",
       "      <th>nb_days_before_delivered</th>\n",
       "      <th>Recency</th>\n",
       "      <th>Frequency</th>\n",
       "      <th>Payment by customer</th>\n",
       "      <th>review_score</th>\n",
       "      <th>order_purchase_timestamp</th>\n",
       "    </tr>\n",
       "  </thead>\n",
       "  <tbody>\n",
       "    <tr>\n",
       "      <th>0</th>\n",
       "      <td>0</td>\n",
       "      <td>e481f51cbdc54678b7cc49136f2d6af7</td>\n",
       "      <td>8</td>\n",
       "      <td>332</td>\n",
       "      <td>2</td>\n",
       "      <td>82.82</td>\n",
       "      <td>4.0</td>\n",
       "      <td>2017-10-02 10:56:33</td>\n",
       "    </tr>\n",
       "    <tr>\n",
       "      <th>1</th>\n",
       "      <td>1</td>\n",
       "      <td>53cdb2fc8bc7dce0b6741e2150273451</td>\n",
       "      <td>12</td>\n",
       "      <td>36</td>\n",
       "      <td>1</td>\n",
       "      <td>141.46</td>\n",
       "      <td>4.0</td>\n",
       "      <td>2018-07-24 20:41:37</td>\n",
       "    </tr>\n",
       "    <tr>\n",
       "      <th>2</th>\n",
       "      <td>2</td>\n",
       "      <td>47770eb9100c2d0c44946d9cf07ec65d</td>\n",
       "      <td>9</td>\n",
       "      <td>22</td>\n",
       "      <td>1</td>\n",
       "      <td>179.12</td>\n",
       "      <td>5.0</td>\n",
       "      <td>2018-08-08 08:38:49</td>\n",
       "    </tr>\n",
       "    <tr>\n",
       "      <th>3</th>\n",
       "      <td>3</td>\n",
       "      <td>949d5b44dbf5de918fe9c16f97b45f8a</td>\n",
       "      <td>13</td>\n",
       "      <td>284</td>\n",
       "      <td>1</td>\n",
       "      <td>72.20</td>\n",
       "      <td>5.0</td>\n",
       "      <td>2017-11-18 19:28:06</td>\n",
       "    </tr>\n",
       "    <tr>\n",
       "      <th>4</th>\n",
       "      <td>4</td>\n",
       "      <td>ad21c59c0840e6cb83a9ceb5573f8159</td>\n",
       "      <td>2</td>\n",
       "      <td>197</td>\n",
       "      <td>1</td>\n",
       "      <td>28.62</td>\n",
       "      <td>5.0</td>\n",
       "      <td>2018-02-13 21:18:39</td>\n",
       "    </tr>\n",
       "  </tbody>\n",
       "</table>\n",
       "</div>"
      ],
      "text/plain": [
       "   Unnamed: 0                          order_id  nb_days_before_delivered  \\\n",
       "0           0  e481f51cbdc54678b7cc49136f2d6af7                         8   \n",
       "1           1  53cdb2fc8bc7dce0b6741e2150273451                        12   \n",
       "2           2  47770eb9100c2d0c44946d9cf07ec65d                         9   \n",
       "3           3  949d5b44dbf5de918fe9c16f97b45f8a                        13   \n",
       "4           4  ad21c59c0840e6cb83a9ceb5573f8159                         2   \n",
       "\n",
       "   Recency  Frequency  Payment by customer  review_score  \\\n",
       "0      332          2                82.82           4.0   \n",
       "1       36          1               141.46           4.0   \n",
       "2       22          1               179.12           5.0   \n",
       "3      284          1                72.20           5.0   \n",
       "4      197          1                28.62           5.0   \n",
       "\n",
       "  order_purchase_timestamp  \n",
       "0      2017-10-02 10:56:33  \n",
       "1      2018-07-24 20:41:37  \n",
       "2      2018-08-08 08:38:49  \n",
       "3      2017-11-18 19:28:06  \n",
       "4      2018-02-13 21:18:39  "
      ]
     },
     "execution_count": 5,
     "metadata": {},
     "output_type": "execute_result"
    }
   ],
   "source": [
    "Data.head(5)"
   ]
  },
  {
   "cell_type": "markdown",
   "id": "cbad5017",
   "metadata": {},
   "source": [
    "On va prendre en compte 4 colonnes car on partira sur 4 clusters. On essaye de prendre autant de clusters que de features."
   ]
  },
  {
   "cell_type": "code",
   "execution_count": 6,
   "id": "62e85201",
   "metadata": {},
   "outputs": [],
   "source": [
    " Colonne = [\n",
    "             \"Recency\",\n",
    "             \"Frequency\",\n",
    "             \"Payment by customer\",\n",
    "             \"review_score\"\n",
    " \n",
    " ]"
   ]
  },
  {
   "cell_type": "code",
   "execution_count": 7,
   "id": "76cb2a11",
   "metadata": {},
   "outputs": [],
   "source": [
    "def data_filtered(df, date, col):\n",
    "    \n",
    "    \"\"\"\n",
    "    La fonction nous donne une data qui va filtrer les valeurs en fonction d'une date\n",
    "    \"\"\"\n",
    "    \n",
    "    Days = Max_Day - date\n",
    "    # Filtrage du jeu d'entrée pour obtenir les données jusqu'à la date définie\n",
    "    df = df.loc[df['Recency'] <= Days]\n",
    "    \n",
    "    return df[col]"
   ]
  },
  {
   "cell_type": "markdown",
   "id": "8a4a9bcd",
   "metadata": {},
   "source": [
    "# Initialisation"
   ]
  },
  {
   "cell_type": "code",
   "execution_count": 8,
   "id": "dfe3f18e",
   "metadata": {},
   "outputs": [],
   "source": [
    "Data_T0 = data_filtered(Data, 1, Colonne)"
   ]
  },
  {
   "cell_type": "code",
   "execution_count": 9,
   "id": "ae0196f9",
   "metadata": {},
   "outputs": [
    {
     "data": {
      "text/html": [
       "<div>\n",
       "<style scoped>\n",
       "    .dataframe tbody tr th:only-of-type {\n",
       "        vertical-align: middle;\n",
       "    }\n",
       "\n",
       "    .dataframe tbody tr th {\n",
       "        vertical-align: top;\n",
       "    }\n",
       "\n",
       "    .dataframe thead th {\n",
       "        text-align: right;\n",
       "    }\n",
       "</style>\n",
       "<table border=\"1\" class=\"dataframe\">\n",
       "  <thead>\n",
       "    <tr style=\"text-align: right;\">\n",
       "      <th></th>\n",
       "      <th>Recency</th>\n",
       "      <th>Frequency</th>\n",
       "      <th>Payment by customer</th>\n",
       "      <th>review_score</th>\n",
       "    </tr>\n",
       "  </thead>\n",
       "  <tbody>\n",
       "    <tr>\n",
       "      <th>0</th>\n",
       "      <td>332</td>\n",
       "      <td>2</td>\n",
       "      <td>82.82</td>\n",
       "      <td>4.0</td>\n",
       "    </tr>\n",
       "    <tr>\n",
       "      <th>1</th>\n",
       "      <td>36</td>\n",
       "      <td>1</td>\n",
       "      <td>141.46</td>\n",
       "      <td>4.0</td>\n",
       "    </tr>\n",
       "  </tbody>\n",
       "</table>\n",
       "</div>"
      ],
      "text/plain": [
       "   Recency  Frequency  Payment by customer  review_score\n",
       "0      332          2                82.82           4.0\n",
       "1       36          1               141.46           4.0"
      ]
     },
     "execution_count": 9,
     "metadata": {},
     "output_type": "execute_result"
    }
   ],
   "source": [
    "Data_T0.head(2)"
   ]
  },
  {
   "cell_type": "code",
   "execution_count": 10,
   "id": "3e58b469",
   "metadata": {},
   "outputs": [],
   "source": [
    "def std_scaler (df, col) :\n",
    "    \n",
    "    \"\"\"\n",
    "    Fonction qui normalise les données et applique un PCA.\n",
    "    \"\"\"\n",
    "    \n",
    "    X = df[col].copy()\n",
    "    std_scale = preprocessing.StandardScaler().fit(X)\n",
    "    X_scaled = std_scale.transform(X)\n",
    "    X_scaled = X.copy()\n",
    "    Data_normalized = pd.DataFrame(X_scaled, columns=col )\n",
    "    print(\"Mean:\\n\" ,Data_normalized.mean(axis=0).round(2))\n",
    "    print(\"\\n\")\n",
    "    print(\"Standard Deviation:\\n \",Data_normalized.std(axis=0).round(2))\n",
    "    \n",
    "    pca = decomposition.PCA(n_components = len(col))\n",
    "    PCA_RFM = pca.fit_transform(X_scaled)\n",
    "    pcs = pca.components_\n",
    "    print(\"==========================\")\n",
    "    print(\"Explaind Variance\")\n",
    "    print(pca.explained_variance_ratio_)\n",
    "    print(pca.explained_variance_ratio_.sum())\n",
    "\n",
    "    \n",
    "    return Data_normalized, PCA_RFM"
   ]
  },
  {
   "cell_type": "code",
   "execution_count": 11,
   "id": "574e58e6",
   "metadata": {},
   "outputs": [],
   "source": [
    "def Clustering_stab (df, col, model):\n",
    "    \n",
    "    \"\"\"\n",
    "    Standard Scalar\n",
    "    \"\"\"\n",
    "    X = df[col].copy()\n",
    "    std_scale = preprocessing.StandardScaler().fit(X)\n",
    "    X_scaled = std_scale.transform(X)\n",
    "    X_scaled = X.copy()\n",
    "    Data_normalized = pd.DataFrame(X_scaled, columns=col )\n",
    "    \n",
    "    \"\"\"\n",
    "    Decomposition PCA\n",
    "    \"\"\"\n",
    "    pca = decomposition.PCA(n_components = len(col))\n",
    "    PCA_RFM = pca.fit_transform(X_scaled)\n",
    "    pcs = pca.components_\n",
    "    \n",
    "    models = model \n",
    "    # Prediction\n",
    "    models.fit(Data_normalized)\n",
    "    label = models.fit_predict(Data_normalized)\n",
    "    centroids = model.cluster_centers_\n",
    "    u_labels = np.unique(label)\n",
    "    \n",
    "    return {\"Modèle Fit\":[models], \"Df\" : [df]}\n",
    "    \n",
    "    "
   ]
  },
  {
   "cell_type": "markdown",
   "id": "14986233",
   "metadata": {},
   "source": [
    "On met en place ue échelle de tems."
   ]
  },
  {
   "cell_type": "code",
   "execution_count": 12,
   "id": "70493f7e",
   "metadata": {},
   "outputs": [
    {
     "data": {
      "text/plain": [
       "array([  1,   4,   7,  11,  14,  17,  21,  24,  27,  31,  34,  37,  41,\n",
       "        44,  47,  51,  54,  57,  61,  64,  67,  71,  74,  78,  81,  84,\n",
       "        88,  91,  94,  98, 101, 104, 108, 111, 114, 118, 121, 124, 128,\n",
       "       131, 134, 138, 141, 145, 148, 151, 155, 158, 161, 165, 168, 171,\n",
       "       175, 178, 181, 185, 188, 191, 195, 198, 201, 205, 208, 211, 215,\n",
       "       218, 222, 225, 228, 232, 235, 238, 242, 245, 248, 252, 255, 258,\n",
       "       262, 265, 268, 272, 275, 278, 282, 285, 289, 292, 295, 299, 302,\n",
       "       305, 309, 312, 315, 319, 322, 325, 329, 332, 335, 339, 342, 345,\n",
       "       349, 352, 355, 359, 362, 366, 369, 372, 376, 379, 382, 386, 389,\n",
       "       392, 396, 399, 402, 406, 409, 412, 416, 419, 422, 426, 429, 433,\n",
       "       436, 439, 443, 446, 449, 453, 456, 459, 463, 466, 469, 473, 476,\n",
       "       479, 483, 486, 489, 493, 496, 500])"
      ]
     },
     "execution_count": 12,
     "metadata": {},
     "output_type": "execute_result"
    }
   ],
   "source": [
    "times = np.linspace(1, 500, 150 )\n",
    "times = times.astype(int)\n",
    "times "
   ]
  },
  {
   "cell_type": "code",
   "execution_count": 13,
   "id": "fd93935f",
   "metadata": {},
   "outputs": [
    {
     "data": {
      "text/plain": [
       "array([  1,   4,   7,  11,  14,  17,  21,  24,  27,  31,  34,  37,  41,\n",
       "        44,  47,  51,  54,  57,  61,  64,  67,  71,  74,  78,  81,  84,\n",
       "        88,  91,  94,  98, 101, 104, 108, 111, 114, 118, 121, 124, 128,\n",
       "       131, 134, 138, 141, 145, 148, 151, 155, 158, 161, 165, 168, 171,\n",
       "       175, 178, 181, 185, 188, 191, 195, 198, 201, 205, 208, 211, 215,\n",
       "       218, 222, 225, 228, 232, 235, 238, 242, 245, 248, 252, 255, 258,\n",
       "       262, 265, 268, 272, 275, 278, 282, 285, 289, 292, 295, 299, 302,\n",
       "       305, 309, 312, 315, 319, 322, 325, 329, 332, 335, 339, 342, 345,\n",
       "       349, 352, 355, 359, 362, 366, 369, 372, 376, 379, 382, 386, 389,\n",
       "       392, 396, 399, 402, 406, 409, 412, 416, 419, 422, 426, 429, 433,\n",
       "       436, 439, 443, 446, 449, 453, 456, 459, 463, 466, 469, 473, 476,\n",
       "       479, 483, 486, 489, 493, 496, 500])"
      ]
     },
     "execution_count": 13,
     "metadata": {},
     "output_type": "execute_result"
    }
   ],
   "source": [
    "times"
   ]
  },
  {
   "cell_type": "markdown",
   "id": "5ab3a8ef",
   "metadata": {},
   "source": [
    "# Test de la stabilité des clusters"
   ]
  },
  {
   "cell_type": "code",
   "execution_count": 14,
   "id": "08fa4b47",
   "metadata": {},
   "outputs": [],
   "source": [
    "Data_col = Data[ Colonne]"
   ]
  },
  {
   "cell_type": "code",
   "execution_count": 15,
   "id": "cc5ed412",
   "metadata": {},
   "outputs": [
    {
     "data": {
      "text/html": [
       "<div>\n",
       "<style scoped>\n",
       "    .dataframe tbody tr th:only-of-type {\n",
       "        vertical-align: middle;\n",
       "    }\n",
       "\n",
       "    .dataframe tbody tr th {\n",
       "        vertical-align: top;\n",
       "    }\n",
       "\n",
       "    .dataframe thead th {\n",
       "        text-align: right;\n",
       "    }\n",
       "</style>\n",
       "<table border=\"1\" class=\"dataframe\">\n",
       "  <thead>\n",
       "    <tr style=\"text-align: right;\">\n",
       "      <th></th>\n",
       "      <th>Unnamed: 0</th>\n",
       "      <th>order_id</th>\n",
       "      <th>nb_days_before_delivered</th>\n",
       "      <th>Recency</th>\n",
       "      <th>Frequency</th>\n",
       "      <th>Payment by customer</th>\n",
       "      <th>review_score</th>\n",
       "      <th>order_purchase_timestamp</th>\n",
       "    </tr>\n",
       "  </thead>\n",
       "  <tbody>\n",
       "    <tr>\n",
       "      <th>0</th>\n",
       "      <td>0</td>\n",
       "      <td>e481f51cbdc54678b7cc49136f2d6af7</td>\n",
       "      <td>8</td>\n",
       "      <td>332</td>\n",
       "      <td>2</td>\n",
       "      <td>82.82</td>\n",
       "      <td>4.0</td>\n",
       "      <td>2017-10-02 10:56:33</td>\n",
       "    </tr>\n",
       "    <tr>\n",
       "      <th>1</th>\n",
       "      <td>1</td>\n",
       "      <td>53cdb2fc8bc7dce0b6741e2150273451</td>\n",
       "      <td>12</td>\n",
       "      <td>36</td>\n",
       "      <td>1</td>\n",
       "      <td>141.46</td>\n",
       "      <td>4.0</td>\n",
       "      <td>2018-07-24 20:41:37</td>\n",
       "    </tr>\n",
       "    <tr>\n",
       "      <th>2</th>\n",
       "      <td>2</td>\n",
       "      <td>47770eb9100c2d0c44946d9cf07ec65d</td>\n",
       "      <td>9</td>\n",
       "      <td>22</td>\n",
       "      <td>1</td>\n",
       "      <td>179.12</td>\n",
       "      <td>5.0</td>\n",
       "      <td>2018-08-08 08:38:49</td>\n",
       "    </tr>\n",
       "    <tr>\n",
       "      <th>3</th>\n",
       "      <td>3</td>\n",
       "      <td>949d5b44dbf5de918fe9c16f97b45f8a</td>\n",
       "      <td>13</td>\n",
       "      <td>284</td>\n",
       "      <td>1</td>\n",
       "      <td>72.20</td>\n",
       "      <td>5.0</td>\n",
       "      <td>2017-11-18 19:28:06</td>\n",
       "    </tr>\n",
       "    <tr>\n",
       "      <th>4</th>\n",
       "      <td>4</td>\n",
       "      <td>ad21c59c0840e6cb83a9ceb5573f8159</td>\n",
       "      <td>2</td>\n",
       "      <td>197</td>\n",
       "      <td>1</td>\n",
       "      <td>28.62</td>\n",
       "      <td>5.0</td>\n",
       "      <td>2018-02-13 21:18:39</td>\n",
       "    </tr>\n",
       "    <tr>\n",
       "      <th>...</th>\n",
       "      <td>...</td>\n",
       "      <td>...</td>\n",
       "      <td>...</td>\n",
       "      <td>...</td>\n",
       "      <td>...</td>\n",
       "      <td>...</td>\n",
       "      <td>...</td>\n",
       "      <td>...</td>\n",
       "    </tr>\n",
       "    <tr>\n",
       "      <th>94990</th>\n",
       "      <td>95746</td>\n",
       "      <td>9c5dedf39a927c1b2549525ed64a053c</td>\n",
       "      <td>8</td>\n",
       "      <td>539</td>\n",
       "      <td>1</td>\n",
       "      <td>85.08</td>\n",
       "      <td>5.0</td>\n",
       "      <td>2017-03-09 09:54:05</td>\n",
       "    </tr>\n",
       "    <tr>\n",
       "      <th>94991</th>\n",
       "      <td>95747</td>\n",
       "      <td>63943bddc261676b46f01ca7ac2f7bd8</td>\n",
       "      <td>22</td>\n",
       "      <td>205</td>\n",
       "      <td>1</td>\n",
       "      <td>195.00</td>\n",
       "      <td>4.0</td>\n",
       "      <td>2018-02-06 12:58:58</td>\n",
       "    </tr>\n",
       "    <tr>\n",
       "      <th>94992</th>\n",
       "      <td>95748</td>\n",
       "      <td>83c1379a015df1e13d02aae0204711ab</td>\n",
       "      <td>24</td>\n",
       "      <td>368</td>\n",
       "      <td>1</td>\n",
       "      <td>271.01</td>\n",
       "      <td>5.0</td>\n",
       "      <td>2017-08-27 14:46:43</td>\n",
       "    </tr>\n",
       "    <tr>\n",
       "      <th>94993</th>\n",
       "      <td>95749</td>\n",
       "      <td>11c177c8e97725db2631073c19f07b62</td>\n",
       "      <td>17</td>\n",
       "      <td>233</td>\n",
       "      <td>1</td>\n",
       "      <td>441.16</td>\n",
       "      <td>2.0</td>\n",
       "      <td>2018-01-08 21:28:27</td>\n",
       "    </tr>\n",
       "    <tr>\n",
       "      <th>94994</th>\n",
       "      <td>95750</td>\n",
       "      <td>66dea50a8b16d9b4dee7af250b4be1a5</td>\n",
       "      <td>7</td>\n",
       "      <td>174</td>\n",
       "      <td>1</td>\n",
       "      <td>86.86</td>\n",
       "      <td>5.0</td>\n",
       "      <td>2018-03-08 20:57:30</td>\n",
       "    </tr>\n",
       "  </tbody>\n",
       "</table>\n",
       "<p>94995 rows × 8 columns</p>\n",
       "</div>"
      ],
      "text/plain": [
       "       Unnamed: 0                          order_id  nb_days_before_delivered  \\\n",
       "0               0  e481f51cbdc54678b7cc49136f2d6af7                         8   \n",
       "1               1  53cdb2fc8bc7dce0b6741e2150273451                        12   \n",
       "2               2  47770eb9100c2d0c44946d9cf07ec65d                         9   \n",
       "3               3  949d5b44dbf5de918fe9c16f97b45f8a                        13   \n",
       "4               4  ad21c59c0840e6cb83a9ceb5573f8159                         2   \n",
       "...           ...                               ...                       ...   \n",
       "94990       95746  9c5dedf39a927c1b2549525ed64a053c                         8   \n",
       "94991       95747  63943bddc261676b46f01ca7ac2f7bd8                        22   \n",
       "94992       95748  83c1379a015df1e13d02aae0204711ab                        24   \n",
       "94993       95749  11c177c8e97725db2631073c19f07b62                        17   \n",
       "94994       95750  66dea50a8b16d9b4dee7af250b4be1a5                         7   \n",
       "\n",
       "       Recency  Frequency  Payment by customer  review_score  \\\n",
       "0          332          2                82.82           4.0   \n",
       "1           36          1               141.46           4.0   \n",
       "2           22          1               179.12           5.0   \n",
       "3          284          1                72.20           5.0   \n",
       "4          197          1                28.62           5.0   \n",
       "...        ...        ...                  ...           ...   \n",
       "94990      539          1                85.08           5.0   \n",
       "94991      205          1               195.00           4.0   \n",
       "94992      368          1               271.01           5.0   \n",
       "94993      233          1               441.16           2.0   \n",
       "94994      174          1                86.86           5.0   \n",
       "\n",
       "      order_purchase_timestamp  \n",
       "0          2017-10-02 10:56:33  \n",
       "1          2018-07-24 20:41:37  \n",
       "2          2018-08-08 08:38:49  \n",
       "3          2017-11-18 19:28:06  \n",
       "4          2018-02-13 21:18:39  \n",
       "...                        ...  \n",
       "94990      2017-03-09 09:54:05  \n",
       "94991      2018-02-06 12:58:58  \n",
       "94992      2017-08-27 14:46:43  \n",
       "94993      2018-01-08 21:28:27  \n",
       "94994      2018-03-08 20:57:30  \n",
       "\n",
       "[94995 rows x 8 columns]"
      ]
     },
     "execution_count": 15,
     "metadata": {},
     "output_type": "execute_result"
    }
   ],
   "source": [
    "Data"
   ]
  },
  {
   "cell_type": "markdown",
   "id": "43ae9f95",
   "metadata": {},
   "source": [
    "On fit un modèle M0 sur tout le data set. Et on fit de nouveaux modèles M(t) à un instant t en retirant des éléments dans le data set de train en fonction de t. On prédit ensuite des labels sur les données initiales via les deux modèles M0 et MT puis on calcule le coefficient ARI pour déterminer la stabilité du modèle pour chaque t."
   ]
  },
  {
   "cell_type": "code",
   "execution_count": 16,
   "id": "64432127",
   "metadata": {},
   "outputs": [
    {
     "name": "stderr",
     "output_type": "stream",
     "text": [
      "C:\\ProgramData\\Anaconda3\\lib\\site-packages\\sklearn\\cluster\\_kmeans.py:870: FutureWarning: The default value of `n_init` will change from 10 to 'auto' in 1.4. Set the value of `n_init` explicitly to suppress the warning\n",
      "  warnings.warn(\n",
      "C:\\ProgramData\\Anaconda3\\lib\\site-packages\\sklearn\\cluster\\_kmeans.py:870: FutureWarning: The default value of `n_init` will change from 10 to 'auto' in 1.4. Set the value of `n_init` explicitly to suppress the warning\n",
      "  warnings.warn(\n"
     ]
    },
    {
     "name": "stdout",
     "output_type": "stream",
     "text": [
      "NB data 94970\n",
      "Time 1\n"
     ]
    },
    {
     "name": "stderr",
     "output_type": "stream",
     "text": [
      "C:\\ProgramData\\Anaconda3\\lib\\site-packages\\sklearn\\cluster\\_kmeans.py:870: FutureWarning: The default value of `n_init` will change from 10 to 'auto' in 1.4. Set the value of `n_init` explicitly to suppress the warning\n",
      "  warnings.warn(\n"
     ]
    },
    {
     "name": "stdout",
     "output_type": "stream",
     "text": [
      "NB data 94844\n",
      "Time 4\n"
     ]
    },
    {
     "name": "stderr",
     "output_type": "stream",
     "text": [
      "C:\\ProgramData\\Anaconda3\\lib\\site-packages\\sklearn\\cluster\\_kmeans.py:870: FutureWarning: The default value of `n_init` will change from 10 to 'auto' in 1.4. Set the value of `n_init` explicitly to suppress the warning\n",
      "  warnings.warn(\n"
     ]
    },
    {
     "name": "stdout",
     "output_type": "stream",
     "text": [
      "NB data 94753\n",
      "Time 7\n"
     ]
    },
    {
     "name": "stderr",
     "output_type": "stream",
     "text": [
      "C:\\ProgramData\\Anaconda3\\lib\\site-packages\\sklearn\\cluster\\_kmeans.py:870: FutureWarning: The default value of `n_init` will change from 10 to 'auto' in 1.4. Set the value of `n_init` explicitly to suppress the warning\n",
      "  warnings.warn(\n"
     ]
    },
    {
     "name": "stdout",
     "output_type": "stream",
     "text": [
      "NB data 94741\n",
      "Time 11\n"
     ]
    },
    {
     "name": "stderr",
     "output_type": "stream",
     "text": [
      "C:\\ProgramData\\Anaconda3\\lib\\site-packages\\sklearn\\cluster\\_kmeans.py:870: FutureWarning: The default value of `n_init` will change from 10 to 'auto' in 1.4. Set the value of `n_init` explicitly to suppress the warning\n",
      "  warnings.warn(\n"
     ]
    },
    {
     "name": "stdout",
     "output_type": "stream",
     "text": [
      "NB data 94741\n",
      "Time 14\n"
     ]
    },
    {
     "name": "stderr",
     "output_type": "stream",
     "text": [
      "C:\\ProgramData\\Anaconda3\\lib\\site-packages\\sklearn\\cluster\\_kmeans.py:870: FutureWarning: The default value of `n_init` will change from 10 to 'auto' in 1.4. Set the value of `n_init` explicitly to suppress the warning\n",
      "  warnings.warn(\n"
     ]
    },
    {
     "name": "stdout",
     "output_type": "stream",
     "text": [
      "NB data 94741\n",
      "Time 17\n"
     ]
    },
    {
     "name": "stderr",
     "output_type": "stream",
     "text": [
      "C:\\ProgramData\\Anaconda3\\lib\\site-packages\\sklearn\\cluster\\_kmeans.py:870: FutureWarning: The default value of `n_init` will change from 10 to 'auto' in 1.4. Set the value of `n_init` explicitly to suppress the warning\n",
      "  warnings.warn(\n"
     ]
    },
    {
     "name": "stdout",
     "output_type": "stream",
     "text": [
      "NB data 94741\n",
      "Time 21\n"
     ]
    },
    {
     "name": "stderr",
     "output_type": "stream",
     "text": [
      "C:\\ProgramData\\Anaconda3\\lib\\site-packages\\sklearn\\cluster\\_kmeans.py:870: FutureWarning: The default value of `n_init` will change from 10 to 'auto' in 1.4. Set the value of `n_init` explicitly to suppress the warning\n",
      "  warnings.warn(\n"
     ]
    },
    {
     "name": "stdout",
     "output_type": "stream",
     "text": [
      "NB data 94741\n",
      "Time 24\n"
     ]
    },
    {
     "name": "stderr",
     "output_type": "stream",
     "text": [
      "C:\\ProgramData\\Anaconda3\\lib\\site-packages\\sklearn\\cluster\\_kmeans.py:870: FutureWarning: The default value of `n_init` will change from 10 to 'auto' in 1.4. Set the value of `n_init` explicitly to suppress the warning\n",
      "  warnings.warn(\n"
     ]
    },
    {
     "name": "stdout",
     "output_type": "stream",
     "text": [
      "NB data 94741\n",
      "Time 27\n"
     ]
    },
    {
     "name": "stderr",
     "output_type": "stream",
     "text": [
      "C:\\ProgramData\\Anaconda3\\lib\\site-packages\\sklearn\\cluster\\_kmeans.py:870: FutureWarning: The default value of `n_init` will change from 10 to 'auto' in 1.4. Set the value of `n_init` explicitly to suppress the warning\n",
      "  warnings.warn(\n"
     ]
    },
    {
     "name": "stdout",
     "output_type": "stream",
     "text": [
      "NB data 94741\n",
      "Time 31\n"
     ]
    },
    {
     "name": "stderr",
     "output_type": "stream",
     "text": [
      "C:\\ProgramData\\Anaconda3\\lib\\site-packages\\sklearn\\cluster\\_kmeans.py:870: FutureWarning: The default value of `n_init` will change from 10 to 'auto' in 1.4. Set the value of `n_init` explicitly to suppress the warning\n",
      "  warnings.warn(\n"
     ]
    },
    {
     "name": "stdout",
     "output_type": "stream",
     "text": [
      "NB data 94741\n",
      "Time 34\n"
     ]
    },
    {
     "name": "stderr",
     "output_type": "stream",
     "text": [
      "C:\\ProgramData\\Anaconda3\\lib\\site-packages\\sklearn\\cluster\\_kmeans.py:870: FutureWarning: The default value of `n_init` will change from 10 to 'auto' in 1.4. Set the value of `n_init` explicitly to suppress the warning\n",
      "  warnings.warn(\n"
     ]
    },
    {
     "name": "stdout",
     "output_type": "stream",
     "text": [
      "NB data 94741\n",
      "Time 37\n"
     ]
    },
    {
     "name": "stderr",
     "output_type": "stream",
     "text": [
      "C:\\ProgramData\\Anaconda3\\lib\\site-packages\\sklearn\\cluster\\_kmeans.py:870: FutureWarning: The default value of `n_init` will change from 10 to 'auto' in 1.4. Set the value of `n_init` explicitly to suppress the warning\n",
      "  warnings.warn(\n"
     ]
    },
    {
     "name": "stdout",
     "output_type": "stream",
     "text": [
      "NB data 94741\n",
      "Time 41\n"
     ]
    },
    {
     "name": "stderr",
     "output_type": "stream",
     "text": [
      "C:\\ProgramData\\Anaconda3\\lib\\site-packages\\sklearn\\cluster\\_kmeans.py:870: FutureWarning: The default value of `n_init` will change from 10 to 'auto' in 1.4. Set the value of `n_init` explicitly to suppress the warning\n",
      "  warnings.warn(\n"
     ]
    },
    {
     "name": "stdout",
     "output_type": "stream",
     "text": [
      "NB data 94741\n",
      "Time 44\n"
     ]
    },
    {
     "name": "stderr",
     "output_type": "stream",
     "text": [
      "C:\\ProgramData\\Anaconda3\\lib\\site-packages\\sklearn\\cluster\\_kmeans.py:870: FutureWarning: The default value of `n_init` will change from 10 to 'auto' in 1.4. Set the value of `n_init` explicitly to suppress the warning\n",
      "  warnings.warn(\n"
     ]
    },
    {
     "name": "stdout",
     "output_type": "stream",
     "text": [
      "NB data 94741\n",
      "Time 47\n"
     ]
    },
    {
     "name": "stderr",
     "output_type": "stream",
     "text": [
      "C:\\ProgramData\\Anaconda3\\lib\\site-packages\\sklearn\\cluster\\_kmeans.py:870: FutureWarning: The default value of `n_init` will change from 10 to 'auto' in 1.4. Set the value of `n_init` explicitly to suppress the warning\n",
      "  warnings.warn(\n"
     ]
    },
    {
     "name": "stdout",
     "output_type": "stream",
     "text": [
      "NB data 94741\n",
      "Time 51\n"
     ]
    },
    {
     "name": "stderr",
     "output_type": "stream",
     "text": [
      "C:\\ProgramData\\Anaconda3\\lib\\site-packages\\sklearn\\cluster\\_kmeans.py:870: FutureWarning: The default value of `n_init` will change from 10 to 'auto' in 1.4. Set the value of `n_init` explicitly to suppress the warning\n",
      "  warnings.warn(\n"
     ]
    },
    {
     "name": "stdout",
     "output_type": "stream",
     "text": [
      "NB data 94741\n",
      "Time 54\n"
     ]
    },
    {
     "name": "stderr",
     "output_type": "stream",
     "text": [
      "C:\\ProgramData\\Anaconda3\\lib\\site-packages\\sklearn\\cluster\\_kmeans.py:870: FutureWarning: The default value of `n_init` will change from 10 to 'auto' in 1.4. Set the value of `n_init` explicitly to suppress the warning\n",
      "  warnings.warn(\n"
     ]
    },
    {
     "name": "stdout",
     "output_type": "stream",
     "text": [
      "NB data 94741\n",
      "Time 57\n"
     ]
    },
    {
     "name": "stderr",
     "output_type": "stream",
     "text": [
      "C:\\ProgramData\\Anaconda3\\lib\\site-packages\\sklearn\\cluster\\_kmeans.py:870: FutureWarning: The default value of `n_init` will change from 10 to 'auto' in 1.4. Set the value of `n_init` explicitly to suppress the warning\n",
      "  warnings.warn(\n"
     ]
    },
    {
     "name": "stdout",
     "output_type": "stream",
     "text": [
      "NB data 94741\n",
      "Time 61\n"
     ]
    },
    {
     "name": "stderr",
     "output_type": "stream",
     "text": [
      "C:\\ProgramData\\Anaconda3\\lib\\site-packages\\sklearn\\cluster\\_kmeans.py:870: FutureWarning: The default value of `n_init` will change from 10 to 'auto' in 1.4. Set the value of `n_init` explicitly to suppress the warning\n",
      "  warnings.warn(\n"
     ]
    },
    {
     "name": "stdout",
     "output_type": "stream",
     "text": [
      "NB data 94741\n",
      "Time 64\n"
     ]
    },
    {
     "name": "stderr",
     "output_type": "stream",
     "text": [
      "C:\\ProgramData\\Anaconda3\\lib\\site-packages\\sklearn\\cluster\\_kmeans.py:870: FutureWarning: The default value of `n_init` will change from 10 to 'auto' in 1.4. Set the value of `n_init` explicitly to suppress the warning\n",
      "  warnings.warn(\n"
     ]
    },
    {
     "name": "stdout",
     "output_type": "stream",
     "text": [
      "NB data 94741\n",
      "Time 67\n"
     ]
    },
    {
     "name": "stderr",
     "output_type": "stream",
     "text": [
      "C:\\ProgramData\\Anaconda3\\lib\\site-packages\\sklearn\\cluster\\_kmeans.py:870: FutureWarning: The default value of `n_init` will change from 10 to 'auto' in 1.4. Set the value of `n_init` explicitly to suppress the warning\n",
      "  warnings.warn(\n"
     ]
    },
    {
     "name": "stdout",
     "output_type": "stream",
     "text": [
      "NB data 94741\n",
      "Time 71\n"
     ]
    },
    {
     "name": "stderr",
     "output_type": "stream",
     "text": [
      "C:\\ProgramData\\Anaconda3\\lib\\site-packages\\sklearn\\cluster\\_kmeans.py:870: FutureWarning: The default value of `n_init` will change from 10 to 'auto' in 1.4. Set the value of `n_init` explicitly to suppress the warning\n",
      "  warnings.warn(\n"
     ]
    },
    {
     "name": "stdout",
     "output_type": "stream",
     "text": [
      "NB data 94741\n",
      "Time 74\n"
     ]
    },
    {
     "name": "stderr",
     "output_type": "stream",
     "text": [
      "C:\\ProgramData\\Anaconda3\\lib\\site-packages\\sklearn\\cluster\\_kmeans.py:870: FutureWarning: The default value of `n_init` will change from 10 to 'auto' in 1.4. Set the value of `n_init` explicitly to suppress the warning\n",
      "  warnings.warn(\n"
     ]
    },
    {
     "name": "stdout",
     "output_type": "stream",
     "text": [
      "NB data 94741\n",
      "Time 78\n"
     ]
    },
    {
     "name": "stderr",
     "output_type": "stream",
     "text": [
      "C:\\ProgramData\\Anaconda3\\lib\\site-packages\\sklearn\\cluster\\_kmeans.py:870: FutureWarning: The default value of `n_init` will change from 10 to 'auto' in 1.4. Set the value of `n_init` explicitly to suppress the warning\n",
      "  warnings.warn(\n"
     ]
    },
    {
     "name": "stdout",
     "output_type": "stream",
     "text": [
      "NB data 94741\n",
      "Time 81\n"
     ]
    },
    {
     "name": "stderr",
     "output_type": "stream",
     "text": [
      "C:\\ProgramData\\Anaconda3\\lib\\site-packages\\sklearn\\cluster\\_kmeans.py:870: FutureWarning: The default value of `n_init` will change from 10 to 'auto' in 1.4. Set the value of `n_init` explicitly to suppress the warning\n",
      "  warnings.warn(\n"
     ]
    },
    {
     "name": "stdout",
     "output_type": "stream",
     "text": [
      "NB data 94741\n",
      "Time 84\n"
     ]
    },
    {
     "name": "stderr",
     "output_type": "stream",
     "text": [
      "C:\\ProgramData\\Anaconda3\\lib\\site-packages\\sklearn\\cluster\\_kmeans.py:870: FutureWarning: The default value of `n_init` will change from 10 to 'auto' in 1.4. Set the value of `n_init` explicitly to suppress the warning\n",
      "  warnings.warn(\n"
     ]
    },
    {
     "name": "stdout",
     "output_type": "stream",
     "text": [
      "NB data 94741\n",
      "Time 88\n"
     ]
    },
    {
     "name": "stderr",
     "output_type": "stream",
     "text": [
      "C:\\ProgramData\\Anaconda3\\lib\\site-packages\\sklearn\\cluster\\_kmeans.py:870: FutureWarning: The default value of `n_init` will change from 10 to 'auto' in 1.4. Set the value of `n_init` explicitly to suppress the warning\n",
      "  warnings.warn(\n"
     ]
    },
    {
     "name": "stdout",
     "output_type": "stream",
     "text": [
      "NB data 94741\n",
      "Time 91\n"
     ]
    },
    {
     "name": "stderr",
     "output_type": "stream",
     "text": [
      "C:\\ProgramData\\Anaconda3\\lib\\site-packages\\sklearn\\cluster\\_kmeans.py:870: FutureWarning: The default value of `n_init` will change from 10 to 'auto' in 1.4. Set the value of `n_init` explicitly to suppress the warning\n",
      "  warnings.warn(\n"
     ]
    },
    {
     "name": "stdout",
     "output_type": "stream",
     "text": [
      "NB data 94719\n",
      "Time 94\n"
     ]
    },
    {
     "name": "stderr",
     "output_type": "stream",
     "text": [
      "C:\\ProgramData\\Anaconda3\\lib\\site-packages\\sklearn\\cluster\\_kmeans.py:870: FutureWarning: The default value of `n_init` will change from 10 to 'auto' in 1.4. Set the value of `n_init` explicitly to suppress the warning\n",
      "  warnings.warn(\n"
     ]
    },
    {
     "name": "stdout",
     "output_type": "stream",
     "text": [
      "NB data 94701\n",
      "Time 98\n"
     ]
    },
    {
     "name": "stderr",
     "output_type": "stream",
     "text": [
      "C:\\ProgramData\\Anaconda3\\lib\\site-packages\\sklearn\\cluster\\_kmeans.py:870: FutureWarning: The default value of `n_init` will change from 10 to 'auto' in 1.4. Set the value of `n_init` explicitly to suppress the warning\n",
      "  warnings.warn(\n"
     ]
    },
    {
     "name": "stdout",
     "output_type": "stream",
     "text": [
      "NB data 94680\n",
      "Time 101\n"
     ]
    },
    {
     "name": "stderr",
     "output_type": "stream",
     "text": [
      "C:\\ProgramData\\Anaconda3\\lib\\site-packages\\sklearn\\cluster\\_kmeans.py:870: FutureWarning: The default value of `n_init` will change from 10 to 'auto' in 1.4. Set the value of `n_init` explicitly to suppress the warning\n",
      "  warnings.warn(\n"
     ]
    },
    {
     "name": "stdout",
     "output_type": "stream",
     "text": [
      "NB data 94644\n",
      "Time 104\n"
     ]
    },
    {
     "name": "stderr",
     "output_type": "stream",
     "text": [
      "C:\\ProgramData\\Anaconda3\\lib\\site-packages\\sklearn\\cluster\\_kmeans.py:870: FutureWarning: The default value of `n_init` will change from 10 to 'auto' in 1.4. Set the value of `n_init` explicitly to suppress the warning\n",
      "  warnings.warn(\n"
     ]
    },
    {
     "name": "stdout",
     "output_type": "stream",
     "text": [
      "NB data 94553\n",
      "Time 108\n"
     ]
    },
    {
     "name": "stderr",
     "output_type": "stream",
     "text": [
      "C:\\ProgramData\\Anaconda3\\lib\\site-packages\\sklearn\\cluster\\_kmeans.py:870: FutureWarning: The default value of `n_init` will change from 10 to 'auto' in 1.4. Set the value of `n_init` explicitly to suppress the warning\n",
      "  warnings.warn(\n"
     ]
    },
    {
     "name": "stdout",
     "output_type": "stream",
     "text": [
      "NB data 94486\n",
      "Time 111\n"
     ]
    },
    {
     "name": "stderr",
     "output_type": "stream",
     "text": [
      "C:\\ProgramData\\Anaconda3\\lib\\site-packages\\sklearn\\cluster\\_kmeans.py:870: FutureWarning: The default value of `n_init` will change from 10 to 'auto' in 1.4. Set the value of `n_init` explicitly to suppress the warning\n",
      "  warnings.warn(\n"
     ]
    },
    {
     "name": "stdout",
     "output_type": "stream",
     "text": [
      "NB data 94370\n",
      "Time 114\n"
     ]
    },
    {
     "name": "stderr",
     "output_type": "stream",
     "text": [
      "C:\\ProgramData\\Anaconda3\\lib\\site-packages\\sklearn\\cluster\\_kmeans.py:870: FutureWarning: The default value of `n_init` will change from 10 to 'auto' in 1.4. Set the value of `n_init` explicitly to suppress the warning\n",
      "  warnings.warn(\n"
     ]
    },
    {
     "name": "stdout",
     "output_type": "stream",
     "text": [
      "NB data 94170\n",
      "Time 118\n"
     ]
    },
    {
     "name": "stderr",
     "output_type": "stream",
     "text": [
      "C:\\ProgramData\\Anaconda3\\lib\\site-packages\\sklearn\\cluster\\_kmeans.py:870: FutureWarning: The default value of `n_init` will change from 10 to 'auto' in 1.4. Set the value of `n_init` explicitly to suppress the warning\n",
      "  warnings.warn(\n"
     ]
    },
    {
     "name": "stdout",
     "output_type": "stream",
     "text": [
      "NB data 94019\n",
      "Time 121\n"
     ]
    },
    {
     "name": "stderr",
     "output_type": "stream",
     "text": [
      "C:\\ProgramData\\Anaconda3\\lib\\site-packages\\sklearn\\cluster\\_kmeans.py:870: FutureWarning: The default value of `n_init` will change from 10 to 'auto' in 1.4. Set the value of `n_init` explicitly to suppress the warning\n",
      "  warnings.warn(\n"
     ]
    },
    {
     "name": "stdout",
     "output_type": "stream",
     "text": [
      "NB data 93851\n",
      "Time 124\n"
     ]
    },
    {
     "name": "stderr",
     "output_type": "stream",
     "text": [
      "C:\\ProgramData\\Anaconda3\\lib\\site-packages\\sklearn\\cluster\\_kmeans.py:870: FutureWarning: The default value of `n_init` will change from 10 to 'auto' in 1.4. Set the value of `n_init` explicitly to suppress the warning\n",
      "  warnings.warn(\n"
     ]
    },
    {
     "name": "stdout",
     "output_type": "stream",
     "text": [
      "NB data 93534\n",
      "Time 128\n"
     ]
    },
    {
     "name": "stderr",
     "output_type": "stream",
     "text": [
      "C:\\ProgramData\\Anaconda3\\lib\\site-packages\\sklearn\\cluster\\_kmeans.py:870: FutureWarning: The default value of `n_init` will change from 10 to 'auto' in 1.4. Set the value of `n_init` explicitly to suppress the warning\n",
      "  warnings.warn(\n"
     ]
    },
    {
     "name": "stdout",
     "output_type": "stream",
     "text": [
      "NB data 93349\n",
      "Time 131\n"
     ]
    },
    {
     "name": "stderr",
     "output_type": "stream",
     "text": [
      "C:\\ProgramData\\Anaconda3\\lib\\site-packages\\sklearn\\cluster\\_kmeans.py:870: FutureWarning: The default value of `n_init` will change from 10 to 'auto' in 1.4. Set the value of `n_init` explicitly to suppress the warning\n",
      "  warnings.warn(\n"
     ]
    },
    {
     "name": "stdout",
     "output_type": "stream",
     "text": [
      "NB data 93158\n",
      "Time 134\n"
     ]
    },
    {
     "name": "stderr",
     "output_type": "stream",
     "text": [
      "C:\\ProgramData\\Anaconda3\\lib\\site-packages\\sklearn\\cluster\\_kmeans.py:870: FutureWarning: The default value of `n_init` will change from 10 to 'auto' in 1.4. Set the value of `n_init` explicitly to suppress the warning\n",
      "  warnings.warn(\n"
     ]
    },
    {
     "name": "stdout",
     "output_type": "stream",
     "text": [
      "NB data 92959\n",
      "Time 138\n"
     ]
    },
    {
     "name": "stderr",
     "output_type": "stream",
     "text": [
      "C:\\ProgramData\\Anaconda3\\lib\\site-packages\\sklearn\\cluster\\_kmeans.py:870: FutureWarning: The default value of `n_init` will change from 10 to 'auto' in 1.4. Set the value of `n_init` explicitly to suppress the warning\n",
      "  warnings.warn(\n"
     ]
    },
    {
     "name": "stdout",
     "output_type": "stream",
     "text": [
      "NB data 92833\n",
      "Time 141\n"
     ]
    },
    {
     "name": "stderr",
     "output_type": "stream",
     "text": [
      "C:\\ProgramData\\Anaconda3\\lib\\site-packages\\sklearn\\cluster\\_kmeans.py:870: FutureWarning: The default value of `n_init` will change from 10 to 'auto' in 1.4. Set the value of `n_init` explicitly to suppress the warning\n",
      "  warnings.warn(\n"
     ]
    },
    {
     "name": "stdout",
     "output_type": "stream",
     "text": [
      "NB data 92625\n",
      "Time 145\n"
     ]
    },
    {
     "name": "stderr",
     "output_type": "stream",
     "text": [
      "C:\\ProgramData\\Anaconda3\\lib\\site-packages\\sklearn\\cluster\\_kmeans.py:870: FutureWarning: The default value of `n_init` will change from 10 to 'auto' in 1.4. Set the value of `n_init` explicitly to suppress the warning\n",
      "  warnings.warn(\n"
     ]
    },
    {
     "name": "stdout",
     "output_type": "stream",
     "text": [
      "NB data 92509\n",
      "Time 148\n"
     ]
    },
    {
     "name": "stderr",
     "output_type": "stream",
     "text": [
      "C:\\ProgramData\\Anaconda3\\lib\\site-packages\\sklearn\\cluster\\_kmeans.py:870: FutureWarning: The default value of `n_init` will change from 10 to 'auto' in 1.4. Set the value of `n_init` explicitly to suppress the warning\n",
      "  warnings.warn(\n"
     ]
    },
    {
     "name": "stdout",
     "output_type": "stream",
     "text": [
      "NB data 92289\n",
      "Time 151\n"
     ]
    },
    {
     "name": "stderr",
     "output_type": "stream",
     "text": [
      "C:\\ProgramData\\Anaconda3\\lib\\site-packages\\sklearn\\cluster\\_kmeans.py:870: FutureWarning: The default value of `n_init` will change from 10 to 'auto' in 1.4. Set the value of `n_init` explicitly to suppress the warning\n",
      "  warnings.warn(\n"
     ]
    },
    {
     "name": "stdout",
     "output_type": "stream",
     "text": [
      "NB data 91999\n",
      "Time 155\n"
     ]
    },
    {
     "name": "stderr",
     "output_type": "stream",
     "text": [
      "C:\\ProgramData\\Anaconda3\\lib\\site-packages\\sklearn\\cluster\\_kmeans.py:870: FutureWarning: The default value of `n_init` will change from 10 to 'auto' in 1.4. Set the value of `n_init` explicitly to suppress the warning\n",
      "  warnings.warn(\n"
     ]
    },
    {
     "name": "stdout",
     "output_type": "stream",
     "text": [
      "NB data 91754\n",
      "Time 158\n"
     ]
    },
    {
     "name": "stderr",
     "output_type": "stream",
     "text": [
      "C:\\ProgramData\\Anaconda3\\lib\\site-packages\\sklearn\\cluster\\_kmeans.py:870: FutureWarning: The default value of `n_init` will change from 10 to 'auto' in 1.4. Set the value of `n_init` explicitly to suppress the warning\n",
      "  warnings.warn(\n"
     ]
    },
    {
     "name": "stdout",
     "output_type": "stream",
     "text": [
      "NB data 91552\n",
      "Time 161\n"
     ]
    },
    {
     "name": "stderr",
     "output_type": "stream",
     "text": [
      "C:\\ProgramData\\Anaconda3\\lib\\site-packages\\sklearn\\cluster\\_kmeans.py:870: FutureWarning: The default value of `n_init` will change from 10 to 'auto' in 1.4. Set the value of `n_init` explicitly to suppress the warning\n",
      "  warnings.warn(\n"
     ]
    },
    {
     "name": "stdout",
     "output_type": "stream",
     "text": [
      "NB data 91188\n",
      "Time 165\n"
     ]
    },
    {
     "name": "stderr",
     "output_type": "stream",
     "text": [
      "C:\\ProgramData\\Anaconda3\\lib\\site-packages\\sklearn\\cluster\\_kmeans.py:870: FutureWarning: The default value of `n_init` will change from 10 to 'auto' in 1.4. Set the value of `n_init` explicitly to suppress the warning\n",
      "  warnings.warn(\n"
     ]
    },
    {
     "name": "stdout",
     "output_type": "stream",
     "text": [
      "NB data 90989\n",
      "Time 168\n"
     ]
    },
    {
     "name": "stderr",
     "output_type": "stream",
     "text": [
      "C:\\ProgramData\\Anaconda3\\lib\\site-packages\\sklearn\\cluster\\_kmeans.py:870: FutureWarning: The default value of `n_init` will change from 10 to 'auto' in 1.4. Set the value of `n_init` explicitly to suppress the warning\n",
      "  warnings.warn(\n"
     ]
    },
    {
     "name": "stdout",
     "output_type": "stream",
     "text": [
      "NB data 90708\n",
      "Time 171\n"
     ]
    },
    {
     "name": "stderr",
     "output_type": "stream",
     "text": [
      "C:\\ProgramData\\Anaconda3\\lib\\site-packages\\sklearn\\cluster\\_kmeans.py:870: FutureWarning: The default value of `n_init` will change from 10 to 'auto' in 1.4. Set the value of `n_init` explicitly to suppress the warning\n",
      "  warnings.warn(\n"
     ]
    },
    {
     "name": "stdout",
     "output_type": "stream",
     "text": [
      "NB data 90410\n",
      "Time 175\n"
     ]
    },
    {
     "name": "stderr",
     "output_type": "stream",
     "text": [
      "C:\\ProgramData\\Anaconda3\\lib\\site-packages\\sklearn\\cluster\\_kmeans.py:870: FutureWarning: The default value of `n_init` will change from 10 to 'auto' in 1.4. Set the value of `n_init` explicitly to suppress the warning\n",
      "  warnings.warn(\n"
     ]
    },
    {
     "name": "stdout",
     "output_type": "stream",
     "text": [
      "NB data 90161\n",
      "Time 178\n"
     ]
    },
    {
     "name": "stderr",
     "output_type": "stream",
     "text": [
      "C:\\ProgramData\\Anaconda3\\lib\\site-packages\\sklearn\\cluster\\_kmeans.py:870: FutureWarning: The default value of `n_init` will change from 10 to 'auto' in 1.4. Set the value of `n_init` explicitly to suppress the warning\n",
      "  warnings.warn(\n"
     ]
    },
    {
     "name": "stdout",
     "output_type": "stream",
     "text": [
      "NB data 89977\n",
      "Time 181\n"
     ]
    },
    {
     "name": "stderr",
     "output_type": "stream",
     "text": [
      "C:\\ProgramData\\Anaconda3\\lib\\site-packages\\sklearn\\cluster\\_kmeans.py:870: FutureWarning: The default value of `n_init` will change from 10 to 'auto' in 1.4. Set the value of `n_init` explicitly to suppress the warning\n",
      "  warnings.warn(\n"
     ]
    },
    {
     "name": "stdout",
     "output_type": "stream",
     "text": [
      "NB data 89659\n",
      "Time 185\n"
     ]
    },
    {
     "name": "stderr",
     "output_type": "stream",
     "text": [
      "C:\\ProgramData\\Anaconda3\\lib\\site-packages\\sklearn\\cluster\\_kmeans.py:870: FutureWarning: The default value of `n_init` will change from 10 to 'auto' in 1.4. Set the value of `n_init` explicitly to suppress the warning\n",
      "  warnings.warn(\n"
     ]
    },
    {
     "name": "stdout",
     "output_type": "stream",
     "text": [
      "NB data 89441\n",
      "Time 188\n"
     ]
    },
    {
     "name": "stderr",
     "output_type": "stream",
     "text": [
      "C:\\ProgramData\\Anaconda3\\lib\\site-packages\\sklearn\\cluster\\_kmeans.py:870: FutureWarning: The default value of `n_init` will change from 10 to 'auto' in 1.4. Set the value of `n_init` explicitly to suppress the warning\n",
      "  warnings.warn(\n"
     ]
    },
    {
     "name": "stdout",
     "output_type": "stream",
     "text": [
      "NB data 89221\n",
      "Time 191\n"
     ]
    },
    {
     "name": "stderr",
     "output_type": "stream",
     "text": [
      "C:\\ProgramData\\Anaconda3\\lib\\site-packages\\sklearn\\cluster\\_kmeans.py:870: FutureWarning: The default value of `n_init` will change from 10 to 'auto' in 1.4. Set the value of `n_init` explicitly to suppress the warning\n",
      "  warnings.warn(\n"
     ]
    },
    {
     "name": "stdout",
     "output_type": "stream",
     "text": [
      "NB data 89020\n",
      "Time 195\n"
     ]
    },
    {
     "name": "stderr",
     "output_type": "stream",
     "text": [
      "C:\\ProgramData\\Anaconda3\\lib\\site-packages\\sklearn\\cluster\\_kmeans.py:870: FutureWarning: The default value of `n_init` will change from 10 to 'auto' in 1.4. Set the value of `n_init` explicitly to suppress the warning\n",
      "  warnings.warn(\n"
     ]
    },
    {
     "name": "stdout",
     "output_type": "stream",
     "text": [
      "NB data 88836\n",
      "Time 198\n"
     ]
    },
    {
     "name": "stderr",
     "output_type": "stream",
     "text": [
      "C:\\ProgramData\\Anaconda3\\lib\\site-packages\\sklearn\\cluster\\_kmeans.py:870: FutureWarning: The default value of `n_init` will change from 10 to 'auto' in 1.4. Set the value of `n_init` explicitly to suppress the warning\n",
      "  warnings.warn(\n"
     ]
    },
    {
     "name": "stdout",
     "output_type": "stream",
     "text": [
      "NB data 88601\n",
      "Time 201\n"
     ]
    },
    {
     "name": "stderr",
     "output_type": "stream",
     "text": [
      "C:\\ProgramData\\Anaconda3\\lib\\site-packages\\sklearn\\cluster\\_kmeans.py:870: FutureWarning: The default value of `n_init` will change from 10 to 'auto' in 1.4. Set the value of `n_init` explicitly to suppress the warning\n",
      "  warnings.warn(\n"
     ]
    },
    {
     "name": "stdout",
     "output_type": "stream",
     "text": [
      "NB data 88198\n",
      "Time 205\n"
     ]
    },
    {
     "name": "stderr",
     "output_type": "stream",
     "text": [
      "C:\\ProgramData\\Anaconda3\\lib\\site-packages\\sklearn\\cluster\\_kmeans.py:870: FutureWarning: The default value of `n_init` will change from 10 to 'auto' in 1.4. Set the value of `n_init` explicitly to suppress the warning\n",
      "  warnings.warn(\n"
     ]
    },
    {
     "name": "stdout",
     "output_type": "stream",
     "text": [
      "NB data 87961\n",
      "Time 208\n"
     ]
    },
    {
     "name": "stderr",
     "output_type": "stream",
     "text": [
      "C:\\ProgramData\\Anaconda3\\lib\\site-packages\\sklearn\\cluster\\_kmeans.py:870: FutureWarning: The default value of `n_init` will change from 10 to 'auto' in 1.4. Set the value of `n_init` explicitly to suppress the warning\n",
      "  warnings.warn(\n"
     ]
    },
    {
     "name": "stdout",
     "output_type": "stream",
     "text": [
      "NB data 87694\n",
      "Time 211\n"
     ]
    },
    {
     "name": "stderr",
     "output_type": "stream",
     "text": [
      "C:\\ProgramData\\Anaconda3\\lib\\site-packages\\sklearn\\cluster\\_kmeans.py:870: FutureWarning: The default value of `n_init` will change from 10 to 'auto' in 1.4. Set the value of `n_init` explicitly to suppress the warning\n",
      "  warnings.warn(\n"
     ]
    },
    {
     "name": "stdout",
     "output_type": "stream",
     "text": [
      "NB data 87274\n",
      "Time 215\n"
     ]
    },
    {
     "name": "stderr",
     "output_type": "stream",
     "text": [
      "C:\\ProgramData\\Anaconda3\\lib\\site-packages\\sklearn\\cluster\\_kmeans.py:870: FutureWarning: The default value of `n_init` will change from 10 to 'auto' in 1.4. Set the value of `n_init` explicitly to suppress the warning\n",
      "  warnings.warn(\n"
     ]
    },
    {
     "name": "stdout",
     "output_type": "stream",
     "text": [
      "NB data 86959\n",
      "Time 218\n"
     ]
    },
    {
     "name": "stderr",
     "output_type": "stream",
     "text": [
      "C:\\ProgramData\\Anaconda3\\lib\\site-packages\\sklearn\\cluster\\_kmeans.py:870: FutureWarning: The default value of `n_init` will change from 10 to 'auto' in 1.4. Set the value of `n_init` explicitly to suppress the warning\n",
      "  warnings.warn(\n"
     ]
    },
    {
     "name": "stdout",
     "output_type": "stream",
     "text": [
      "NB data 86549\n",
      "Time 222\n"
     ]
    },
    {
     "name": "stderr",
     "output_type": "stream",
     "text": [
      "C:\\ProgramData\\Anaconda3\\lib\\site-packages\\sklearn\\cluster\\_kmeans.py:870: FutureWarning: The default value of `n_init` will change from 10 to 'auto' in 1.4. Set the value of `n_init` explicitly to suppress the warning\n",
      "  warnings.warn(\n"
     ]
    },
    {
     "name": "stdout",
     "output_type": "stream",
     "text": [
      "NB data 86206\n",
      "Time 225\n"
     ]
    },
    {
     "name": "stderr",
     "output_type": "stream",
     "text": [
      "C:\\ProgramData\\Anaconda3\\lib\\site-packages\\sklearn\\cluster\\_kmeans.py:870: FutureWarning: The default value of `n_init` will change from 10 to 'auto' in 1.4. Set the value of `n_init` explicitly to suppress the warning\n",
      "  warnings.warn(\n"
     ]
    },
    {
     "name": "stdout",
     "output_type": "stream",
     "text": [
      "NB data 85820\n",
      "Time 228\n"
     ]
    },
    {
     "name": "stderr",
     "output_type": "stream",
     "text": [
      "C:\\ProgramData\\Anaconda3\\lib\\site-packages\\sklearn\\cluster\\_kmeans.py:870: FutureWarning: The default value of `n_init` will change from 10 to 'auto' in 1.4. Set the value of `n_init` explicitly to suppress the warning\n",
      "  warnings.warn(\n"
     ]
    },
    {
     "name": "stdout",
     "output_type": "stream",
     "text": [
      "NB data 85357\n",
      "Time 232\n"
     ]
    },
    {
     "name": "stderr",
     "output_type": "stream",
     "text": [
      "C:\\ProgramData\\Anaconda3\\lib\\site-packages\\sklearn\\cluster\\_kmeans.py:870: FutureWarning: The default value of `n_init` will change from 10 to 'auto' in 1.4. Set the value of `n_init` explicitly to suppress the warning\n",
      "  warnings.warn(\n"
     ]
    },
    {
     "name": "stdout",
     "output_type": "stream",
     "text": [
      "NB data 85011\n",
      "Time 235\n"
     ]
    },
    {
     "name": "stderr",
     "output_type": "stream",
     "text": [
      "C:\\ProgramData\\Anaconda3\\lib\\site-packages\\sklearn\\cluster\\_kmeans.py:870: FutureWarning: The default value of `n_init` will change from 10 to 'auto' in 1.4. Set the value of `n_init` explicitly to suppress the warning\n",
      "  warnings.warn(\n"
     ]
    },
    {
     "name": "stdout",
     "output_type": "stream",
     "text": [
      "NB data 84742\n",
      "Time 238\n"
     ]
    },
    {
     "name": "stderr",
     "output_type": "stream",
     "text": [
      "C:\\ProgramData\\Anaconda3\\lib\\site-packages\\sklearn\\cluster\\_kmeans.py:870: FutureWarning: The default value of `n_init` will change from 10 to 'auto' in 1.4. Set the value of `n_init` explicitly to suppress the warning\n",
      "  warnings.warn(\n"
     ]
    },
    {
     "name": "stdout",
     "output_type": "stream",
     "text": [
      "NB data 84268\n",
      "Time 242\n"
     ]
    },
    {
     "name": "stderr",
     "output_type": "stream",
     "text": [
      "C:\\ProgramData\\Anaconda3\\lib\\site-packages\\sklearn\\cluster\\_kmeans.py:870: FutureWarning: The default value of `n_init` will change from 10 to 'auto' in 1.4. Set the value of `n_init` explicitly to suppress the warning\n",
      "  warnings.warn(\n"
     ]
    },
    {
     "name": "stdout",
     "output_type": "stream",
     "text": [
      "NB data 83984\n",
      "Time 245\n"
     ]
    },
    {
     "name": "stderr",
     "output_type": "stream",
     "text": [
      "C:\\ProgramData\\Anaconda3\\lib\\site-packages\\sklearn\\cluster\\_kmeans.py:870: FutureWarning: The default value of `n_init` will change from 10 to 'auto' in 1.4. Set the value of `n_init` explicitly to suppress the warning\n",
      "  warnings.warn(\n"
     ]
    },
    {
     "name": "stdout",
     "output_type": "stream",
     "text": [
      "NB data 83611\n",
      "Time 248\n"
     ]
    },
    {
     "name": "stderr",
     "output_type": "stream",
     "text": [
      "C:\\ProgramData\\Anaconda3\\lib\\site-packages\\sklearn\\cluster\\_kmeans.py:870: FutureWarning: The default value of `n_init` will change from 10 to 'auto' in 1.4. Set the value of `n_init` explicitly to suppress the warning\n",
      "  warnings.warn(\n"
     ]
    },
    {
     "name": "stdout",
     "output_type": "stream",
     "text": [
      "NB data 83193\n",
      "Time 252\n"
     ]
    },
    {
     "name": "stderr",
     "output_type": "stream",
     "text": [
      "C:\\ProgramData\\Anaconda3\\lib\\site-packages\\sklearn\\cluster\\_kmeans.py:870: FutureWarning: The default value of `n_init` will change from 10 to 'auto' in 1.4. Set the value of `n_init` explicitly to suppress the warning\n",
      "  warnings.warn(\n"
     ]
    },
    {
     "name": "stdout",
     "output_type": "stream",
     "text": [
      "NB data 82844\n",
      "Time 255\n"
     ]
    },
    {
     "name": "stderr",
     "output_type": "stream",
     "text": [
      "C:\\ProgramData\\Anaconda3\\lib\\site-packages\\sklearn\\cluster\\_kmeans.py:870: FutureWarning: The default value of `n_init` will change from 10 to 'auto' in 1.4. Set the value of `n_init` explicitly to suppress the warning\n",
      "  warnings.warn(\n"
     ]
    },
    {
     "name": "stdout",
     "output_type": "stream",
     "text": [
      "NB data 82605\n",
      "Time 258\n"
     ]
    },
    {
     "name": "stderr",
     "output_type": "stream",
     "text": [
      "C:\\ProgramData\\Anaconda3\\lib\\site-packages\\sklearn\\cluster\\_kmeans.py:870: FutureWarning: The default value of `n_init` will change from 10 to 'auto' in 1.4. Set the value of `n_init` explicitly to suppress the warning\n",
      "  warnings.warn(\n"
     ]
    },
    {
     "name": "stdout",
     "output_type": "stream",
     "text": [
      "NB data 82262\n",
      "Time 262\n"
     ]
    },
    {
     "name": "stderr",
     "output_type": "stream",
     "text": [
      "C:\\ProgramData\\Anaconda3\\lib\\site-packages\\sklearn\\cluster\\_kmeans.py:870: FutureWarning: The default value of `n_init` will change from 10 to 'auto' in 1.4. Set the value of `n_init` explicitly to suppress the warning\n",
      "  warnings.warn(\n"
     ]
    },
    {
     "name": "stdout",
     "output_type": "stream",
     "text": [
      "NB data 82011\n",
      "Time 265\n"
     ]
    },
    {
     "name": "stderr",
     "output_type": "stream",
     "text": [
      "C:\\ProgramData\\Anaconda3\\lib\\site-packages\\sklearn\\cluster\\_kmeans.py:870: FutureWarning: The default value of `n_init` will change from 10 to 'auto' in 1.4. Set the value of `n_init` explicitly to suppress the warning\n",
      "  warnings.warn(\n"
     ]
    },
    {
     "name": "stdout",
     "output_type": "stream",
     "text": [
      "NB data 81690\n",
      "Time 268\n"
     ]
    },
    {
     "name": "stderr",
     "output_type": "stream",
     "text": [
      "C:\\ProgramData\\Anaconda3\\lib\\site-packages\\sklearn\\cluster\\_kmeans.py:870: FutureWarning: The default value of `n_init` will change from 10 to 'auto' in 1.4. Set the value of `n_init` explicitly to suppress the warning\n",
      "  warnings.warn(\n"
     ]
    },
    {
     "name": "stdout",
     "output_type": "stream",
     "text": [
      "NB data 81323\n",
      "Time 272\n"
     ]
    },
    {
     "name": "stderr",
     "output_type": "stream",
     "text": [
      "C:\\ProgramData\\Anaconda3\\lib\\site-packages\\sklearn\\cluster\\_kmeans.py:870: FutureWarning: The default value of `n_init` will change from 10 to 'auto' in 1.4. Set the value of `n_init` explicitly to suppress the warning\n",
      "  warnings.warn(\n"
     ]
    },
    {
     "name": "stdout",
     "output_type": "stream",
     "text": [
      "NB data 80984\n",
      "Time 275\n"
     ]
    },
    {
     "name": "stderr",
     "output_type": "stream",
     "text": [
      "C:\\ProgramData\\Anaconda3\\lib\\site-packages\\sklearn\\cluster\\_kmeans.py:870: FutureWarning: The default value of `n_init` will change from 10 to 'auto' in 1.4. Set the value of `n_init` explicitly to suppress the warning\n",
      "  warnings.warn(\n"
     ]
    },
    {
     "name": "stdout",
     "output_type": "stream",
     "text": [
      "NB data 80632\n",
      "Time 278\n"
     ]
    },
    {
     "name": "stderr",
     "output_type": "stream",
     "text": [
      "C:\\ProgramData\\Anaconda3\\lib\\site-packages\\sklearn\\cluster\\_kmeans.py:870: FutureWarning: The default value of `n_init` will change from 10 to 'auto' in 1.4. Set the value of `n_init` explicitly to suppress the warning\n",
      "  warnings.warn(\n"
     ]
    },
    {
     "name": "stdout",
     "output_type": "stream",
     "text": [
      "NB data 80149\n",
      "Time 282\n"
     ]
    },
    {
     "name": "stderr",
     "output_type": "stream",
     "text": [
      "C:\\ProgramData\\Anaconda3\\lib\\site-packages\\sklearn\\cluster\\_kmeans.py:870: FutureWarning: The default value of `n_init` will change from 10 to 'auto' in 1.4. Set the value of `n_init` explicitly to suppress the warning\n",
      "  warnings.warn(\n"
     ]
    },
    {
     "name": "stdout",
     "output_type": "stream",
     "text": [
      "NB data 79762\n",
      "Time 285\n"
     ]
    },
    {
     "name": "stderr",
     "output_type": "stream",
     "text": [
      "C:\\ProgramData\\Anaconda3\\lib\\site-packages\\sklearn\\cluster\\_kmeans.py:870: FutureWarning: The default value of `n_init` will change from 10 to 'auto' in 1.4. Set the value of `n_init` explicitly to suppress the warning\n",
      "  warnings.warn(\n"
     ]
    },
    {
     "name": "stdout",
     "output_type": "stream",
     "text": [
      "NB data 79204\n",
      "Time 289\n"
     ]
    },
    {
     "name": "stderr",
     "output_type": "stream",
     "text": [
      "C:\\ProgramData\\Anaconda3\\lib\\site-packages\\sklearn\\cluster\\_kmeans.py:870: FutureWarning: The default value of `n_init` will change from 10 to 'auto' in 1.4. Set the value of `n_init` explicitly to suppress the warning\n",
      "  warnings.warn(\n"
     ]
    },
    {
     "name": "stdout",
     "output_type": "stream",
     "text": [
      "NB data 78859\n",
      "Time 292\n"
     ]
    },
    {
     "name": "stderr",
     "output_type": "stream",
     "text": [
      "C:\\ProgramData\\Anaconda3\\lib\\site-packages\\sklearn\\cluster\\_kmeans.py:870: FutureWarning: The default value of `n_init` will change from 10 to 'auto' in 1.4. Set the value of `n_init` explicitly to suppress the warning\n",
      "  warnings.warn(\n"
     ]
    },
    {
     "name": "stdout",
     "output_type": "stream",
     "text": [
      "NB data 78494\n",
      "Time 295\n"
     ]
    },
    {
     "name": "stderr",
     "output_type": "stream",
     "text": [
      "C:\\ProgramData\\Anaconda3\\lib\\site-packages\\sklearn\\cluster\\_kmeans.py:870: FutureWarning: The default value of `n_init` will change from 10 to 'auto' in 1.4. Set the value of `n_init` explicitly to suppress the warning\n",
      "  warnings.warn(\n"
     ]
    },
    {
     "name": "stdout",
     "output_type": "stream",
     "text": [
      "NB data 77999\n",
      "Time 299\n"
     ]
    },
    {
     "name": "stderr",
     "output_type": "stream",
     "text": [
      "C:\\ProgramData\\Anaconda3\\lib\\site-packages\\sklearn\\cluster\\_kmeans.py:870: FutureWarning: The default value of `n_init` will change from 10 to 'auto' in 1.4. Set the value of `n_init` explicitly to suppress the warning\n",
      "  warnings.warn(\n"
     ]
    },
    {
     "name": "stdout",
     "output_type": "stream",
     "text": [
      "NB data 77620\n",
      "Time 302\n"
     ]
    },
    {
     "name": "stderr",
     "output_type": "stream",
     "text": [
      "C:\\ProgramData\\Anaconda3\\lib\\site-packages\\sklearn\\cluster\\_kmeans.py:870: FutureWarning: The default value of `n_init` will change from 10 to 'auto' in 1.4. Set the value of `n_init` explicitly to suppress the warning\n",
      "  warnings.warn(\n"
     ]
    },
    {
     "name": "stdout",
     "output_type": "stream",
     "text": [
      "NB data 77187\n",
      "Time 305\n"
     ]
    },
    {
     "name": "stderr",
     "output_type": "stream",
     "text": [
      "C:\\ProgramData\\Anaconda3\\lib\\site-packages\\sklearn\\cluster\\_kmeans.py:870: FutureWarning: The default value of `n_init` will change from 10 to 'auto' in 1.4. Set the value of `n_init` explicitly to suppress the warning\n",
      "  warnings.warn(\n"
     ]
    },
    {
     "name": "stdout",
     "output_type": "stream",
     "text": [
      "NB data 76710\n",
      "Time 309\n"
     ]
    },
    {
     "name": "stderr",
     "output_type": "stream",
     "text": [
      "C:\\ProgramData\\Anaconda3\\lib\\site-packages\\sklearn\\cluster\\_kmeans.py:870: FutureWarning: The default value of `n_init` will change from 10 to 'auto' in 1.4. Set the value of `n_init` explicitly to suppress the warning\n",
      "  warnings.warn(\n"
     ]
    },
    {
     "name": "stdout",
     "output_type": "stream",
     "text": [
      "NB data 76269\n",
      "Time 312\n"
     ]
    },
    {
     "name": "stderr",
     "output_type": "stream",
     "text": [
      "C:\\ProgramData\\Anaconda3\\lib\\site-packages\\sklearn\\cluster\\_kmeans.py:870: FutureWarning: The default value of `n_init` will change from 10 to 'auto' in 1.4. Set the value of `n_init` explicitly to suppress the warning\n",
      "  warnings.warn(\n"
     ]
    },
    {
     "name": "stdout",
     "output_type": "stream",
     "text": [
      "NB data 75959\n",
      "Time 315\n"
     ]
    },
    {
     "name": "stderr",
     "output_type": "stream",
     "text": [
      "C:\\ProgramData\\Anaconda3\\lib\\site-packages\\sklearn\\cluster\\_kmeans.py:870: FutureWarning: The default value of `n_init` will change from 10 to 'auto' in 1.4. Set the value of `n_init` explicitly to suppress the warning\n",
      "  warnings.warn(\n"
     ]
    },
    {
     "name": "stdout",
     "output_type": "stream",
     "text": [
      "NB data 75321\n",
      "Time 319\n"
     ]
    },
    {
     "name": "stderr",
     "output_type": "stream",
     "text": [
      "C:\\ProgramData\\Anaconda3\\lib\\site-packages\\sklearn\\cluster\\_kmeans.py:870: FutureWarning: The default value of `n_init` will change from 10 to 'auto' in 1.4. Set the value of `n_init` explicitly to suppress the warning\n",
      "  warnings.warn(\n"
     ]
    },
    {
     "name": "stdout",
     "output_type": "stream",
     "text": [
      "NB data 74964\n",
      "Time 322\n"
     ]
    },
    {
     "name": "stderr",
     "output_type": "stream",
     "text": [
      "C:\\ProgramData\\Anaconda3\\lib\\site-packages\\sklearn\\cluster\\_kmeans.py:870: FutureWarning: The default value of `n_init` will change from 10 to 'auto' in 1.4. Set the value of `n_init` explicitly to suppress the warning\n",
      "  warnings.warn(\n"
     ]
    },
    {
     "name": "stdout",
     "output_type": "stream",
     "text": [
      "NB data 74597\n",
      "Time 325\n"
     ]
    },
    {
     "name": "stderr",
     "output_type": "stream",
     "text": [
      "C:\\ProgramData\\Anaconda3\\lib\\site-packages\\sklearn\\cluster\\_kmeans.py:870: FutureWarning: The default value of `n_init` will change from 10 to 'auto' in 1.4. Set the value of `n_init` explicitly to suppress the warning\n",
      "  warnings.warn(\n"
     ]
    },
    {
     "name": "stdout",
     "output_type": "stream",
     "text": [
      "NB data 74167\n",
      "Time 329\n"
     ]
    },
    {
     "name": "stderr",
     "output_type": "stream",
     "text": [
      "C:\\ProgramData\\Anaconda3\\lib\\site-packages\\sklearn\\cluster\\_kmeans.py:870: FutureWarning: The default value of `n_init` will change from 10 to 'auto' in 1.4. Set the value of `n_init` explicitly to suppress the warning\n",
      "  warnings.warn(\n"
     ]
    },
    {
     "name": "stdout",
     "output_type": "stream",
     "text": [
      "NB data 73699\n",
      "Time 332\n"
     ]
    },
    {
     "name": "stderr",
     "output_type": "stream",
     "text": [
      "C:\\ProgramData\\Anaconda3\\lib\\site-packages\\sklearn\\cluster\\_kmeans.py:870: FutureWarning: The default value of `n_init` will change from 10 to 'auto' in 1.4. Set the value of `n_init` explicitly to suppress the warning\n",
      "  warnings.warn(\n"
     ]
    },
    {
     "name": "stdout",
     "output_type": "stream",
     "text": [
      "NB data 73334\n",
      "Time 335\n"
     ]
    },
    {
     "name": "stderr",
     "output_type": "stream",
     "text": [
      "C:\\ProgramData\\Anaconda3\\lib\\site-packages\\sklearn\\cluster\\_kmeans.py:870: FutureWarning: The default value of `n_init` will change from 10 to 'auto' in 1.4. Set the value of `n_init` explicitly to suppress the warning\n",
      "  warnings.warn(\n"
     ]
    },
    {
     "name": "stdout",
     "output_type": "stream",
     "text": [
      "NB data 72808\n",
      "Time 339\n"
     ]
    },
    {
     "name": "stderr",
     "output_type": "stream",
     "text": [
      "C:\\ProgramData\\Anaconda3\\lib\\site-packages\\sklearn\\cluster\\_kmeans.py:870: FutureWarning: The default value of `n_init` will change from 10 to 'auto' in 1.4. Set the value of `n_init` explicitly to suppress the warning\n",
      "  warnings.warn(\n"
     ]
    },
    {
     "name": "stdout",
     "output_type": "stream",
     "text": [
      "NB data 72497\n",
      "Time 342\n"
     ]
    },
    {
     "name": "stderr",
     "output_type": "stream",
     "text": [
      "C:\\ProgramData\\Anaconda3\\lib\\site-packages\\sklearn\\cluster\\_kmeans.py:870: FutureWarning: The default value of `n_init` will change from 10 to 'auto' in 1.4. Set the value of `n_init` explicitly to suppress the warning\n",
      "  warnings.warn(\n"
     ]
    },
    {
     "name": "stdout",
     "output_type": "stream",
     "text": [
      "NB data 71960\n",
      "Time 345\n"
     ]
    },
    {
     "name": "stderr",
     "output_type": "stream",
     "text": [
      "C:\\ProgramData\\Anaconda3\\lib\\site-packages\\sklearn\\cluster\\_kmeans.py:870: FutureWarning: The default value of `n_init` will change from 10 to 'auto' in 1.4. Set the value of `n_init` explicitly to suppress the warning\n",
      "  warnings.warn(\n"
     ]
    },
    {
     "name": "stdout",
     "output_type": "stream",
     "text": [
      "NB data 71389\n",
      "Time 349\n"
     ]
    },
    {
     "name": "stderr",
     "output_type": "stream",
     "text": [
      "C:\\ProgramData\\Anaconda3\\lib\\site-packages\\sklearn\\cluster\\_kmeans.py:870: FutureWarning: The default value of `n_init` will change from 10 to 'auto' in 1.4. Set the value of `n_init` explicitly to suppress the warning\n",
      "  warnings.warn(\n"
     ]
    },
    {
     "name": "stdout",
     "output_type": "stream",
     "text": [
      "NB data 70923\n",
      "Time 352\n"
     ]
    },
    {
     "name": "stderr",
     "output_type": "stream",
     "text": [
      "C:\\ProgramData\\Anaconda3\\lib\\site-packages\\sklearn\\cluster\\_kmeans.py:870: FutureWarning: The default value of `n_init` will change from 10 to 'auto' in 1.4. Set the value of `n_init` explicitly to suppress the warning\n",
      "  warnings.warn(\n"
     ]
    },
    {
     "name": "stdout",
     "output_type": "stream",
     "text": [
      "NB data 70541\n",
      "Time 355\n"
     ]
    },
    {
     "name": "stderr",
     "output_type": "stream",
     "text": [
      "C:\\ProgramData\\Anaconda3\\lib\\site-packages\\sklearn\\cluster\\_kmeans.py:870: FutureWarning: The default value of `n_init` will change from 10 to 'auto' in 1.4. Set the value of `n_init` explicitly to suppress the warning\n",
      "  warnings.warn(\n"
     ]
    },
    {
     "name": "stdout",
     "output_type": "stream",
     "text": [
      "NB data 70016\n",
      "Time 359\n"
     ]
    },
    {
     "name": "stderr",
     "output_type": "stream",
     "text": [
      "C:\\ProgramData\\Anaconda3\\lib\\site-packages\\sklearn\\cluster\\_kmeans.py:870: FutureWarning: The default value of `n_init` will change from 10 to 'auto' in 1.4. Set the value of `n_init` explicitly to suppress the warning\n",
      "  warnings.warn(\n"
     ]
    },
    {
     "name": "stdout",
     "output_type": "stream",
     "text": [
      "NB data 69651\n",
      "Time 362\n"
     ]
    },
    {
     "name": "stderr",
     "output_type": "stream",
     "text": [
      "C:\\ProgramData\\Anaconda3\\lib\\site-packages\\sklearn\\cluster\\_kmeans.py:870: FutureWarning: The default value of `n_init` will change from 10 to 'auto' in 1.4. Set the value of `n_init` explicitly to suppress the warning\n",
      "  warnings.warn(\n"
     ]
    },
    {
     "name": "stdout",
     "output_type": "stream",
     "text": [
      "NB data 69062\n",
      "Time 366\n"
     ]
    },
    {
     "name": "stderr",
     "output_type": "stream",
     "text": [
      "C:\\ProgramData\\Anaconda3\\lib\\site-packages\\sklearn\\cluster\\_kmeans.py:870: FutureWarning: The default value of `n_init` will change from 10 to 'auto' in 1.4. Set the value of `n_init` explicitly to suppress the warning\n",
      "  warnings.warn(\n"
     ]
    },
    {
     "name": "stdout",
     "output_type": "stream",
     "text": [
      "NB data 68685\n",
      "Time 369\n"
     ]
    },
    {
     "name": "stderr",
     "output_type": "stream",
     "text": [
      "C:\\ProgramData\\Anaconda3\\lib\\site-packages\\sklearn\\cluster\\_kmeans.py:870: FutureWarning: The default value of `n_init` will change from 10 to 'auto' in 1.4. Set the value of `n_init` explicitly to suppress the warning\n",
      "  warnings.warn(\n"
     ]
    },
    {
     "name": "stdout",
     "output_type": "stream",
     "text": [
      "NB data 68252\n",
      "Time 372\n"
     ]
    },
    {
     "name": "stderr",
     "output_type": "stream",
     "text": [
      "C:\\ProgramData\\Anaconda3\\lib\\site-packages\\sklearn\\cluster\\_kmeans.py:870: FutureWarning: The default value of `n_init` will change from 10 to 'auto' in 1.4. Set the value of `n_init` explicitly to suppress the warning\n",
      "  warnings.warn(\n"
     ]
    },
    {
     "name": "stdout",
     "output_type": "stream",
     "text": [
      "NB data 67670\n",
      "Time 376\n"
     ]
    },
    {
     "name": "stderr",
     "output_type": "stream",
     "text": [
      "C:\\ProgramData\\Anaconda3\\lib\\site-packages\\sklearn\\cluster\\_kmeans.py:870: FutureWarning: The default value of `n_init` will change from 10 to 'auto' in 1.4. Set the value of `n_init` explicitly to suppress the warning\n",
      "  warnings.warn(\n"
     ]
    },
    {
     "name": "stdout",
     "output_type": "stream",
     "text": [
      "NB data 67227\n",
      "Time 379\n"
     ]
    },
    {
     "name": "stderr",
     "output_type": "stream",
     "text": [
      "C:\\ProgramData\\Anaconda3\\lib\\site-packages\\sklearn\\cluster\\_kmeans.py:870: FutureWarning: The default value of `n_init` will change from 10 to 'auto' in 1.4. Set the value of `n_init` explicitly to suppress the warning\n",
      "  warnings.warn(\n"
     ]
    },
    {
     "name": "stdout",
     "output_type": "stream",
     "text": [
      "NB data 66703\n",
      "Time 382\n"
     ]
    },
    {
     "name": "stderr",
     "output_type": "stream",
     "text": [
      "C:\\ProgramData\\Anaconda3\\lib\\site-packages\\sklearn\\cluster\\_kmeans.py:870: FutureWarning: The default value of `n_init` will change from 10 to 'auto' in 1.4. Set the value of `n_init` explicitly to suppress the warning\n",
      "  warnings.warn(\n"
     ]
    },
    {
     "name": "stdout",
     "output_type": "stream",
     "text": [
      "NB data 66186\n",
      "Time 386\n"
     ]
    },
    {
     "name": "stderr",
     "output_type": "stream",
     "text": [
      "C:\\ProgramData\\Anaconda3\\lib\\site-packages\\sklearn\\cluster\\_kmeans.py:870: FutureWarning: The default value of `n_init` will change from 10 to 'auto' in 1.4. Set the value of `n_init` explicitly to suppress the warning\n",
      "  warnings.warn(\n"
     ]
    },
    {
     "name": "stdout",
     "output_type": "stream",
     "text": [
      "NB data 65752\n",
      "Time 389\n"
     ]
    },
    {
     "name": "stderr",
     "output_type": "stream",
     "text": [
      "C:\\ProgramData\\Anaconda3\\lib\\site-packages\\sklearn\\cluster\\_kmeans.py:870: FutureWarning: The default value of `n_init` will change from 10 to 'auto' in 1.4. Set the value of `n_init` explicitly to suppress the warning\n",
      "  warnings.warn(\n"
     ]
    },
    {
     "name": "stdout",
     "output_type": "stream",
     "text": [
      "NB data 65432\n",
      "Time 392\n"
     ]
    },
    {
     "name": "stderr",
     "output_type": "stream",
     "text": [
      "C:\\ProgramData\\Anaconda3\\lib\\site-packages\\sklearn\\cluster\\_kmeans.py:870: FutureWarning: The default value of `n_init` will change from 10 to 'auto' in 1.4. Set the value of `n_init` explicitly to suppress the warning\n",
      "  warnings.warn(\n"
     ]
    },
    {
     "name": "stdout",
     "output_type": "stream",
     "text": [
      "NB data 64906\n",
      "Time 396\n"
     ]
    },
    {
     "name": "stderr",
     "output_type": "stream",
     "text": [
      "C:\\ProgramData\\Anaconda3\\lib\\site-packages\\sklearn\\cluster\\_kmeans.py:870: FutureWarning: The default value of `n_init` will change from 10 to 'auto' in 1.4. Set the value of `n_init` explicitly to suppress the warning\n",
      "  warnings.warn(\n"
     ]
    },
    {
     "name": "stdout",
     "output_type": "stream",
     "text": [
      "NB data 64525\n",
      "Time 399\n"
     ]
    },
    {
     "name": "stderr",
     "output_type": "stream",
     "text": [
      "C:\\ProgramData\\Anaconda3\\lib\\site-packages\\sklearn\\cluster\\_kmeans.py:870: FutureWarning: The default value of `n_init` will change from 10 to 'auto' in 1.4. Set the value of `n_init` explicitly to suppress the warning\n",
      "  warnings.warn(\n"
     ]
    },
    {
     "name": "stdout",
     "output_type": "stream",
     "text": [
      "NB data 64026\n",
      "Time 402\n"
     ]
    },
    {
     "name": "stderr",
     "output_type": "stream",
     "text": [
      "C:\\ProgramData\\Anaconda3\\lib\\site-packages\\sklearn\\cluster\\_kmeans.py:870: FutureWarning: The default value of `n_init` will change from 10 to 'auto' in 1.4. Set the value of `n_init` explicitly to suppress the warning\n",
      "  warnings.warn(\n"
     ]
    },
    {
     "name": "stdout",
     "output_type": "stream",
     "text": [
      "NB data 63365\n",
      "Time 406\n"
     ]
    },
    {
     "name": "stderr",
     "output_type": "stream",
     "text": [
      "C:\\ProgramData\\Anaconda3\\lib\\site-packages\\sklearn\\cluster\\_kmeans.py:870: FutureWarning: The default value of `n_init` will change from 10 to 'auto' in 1.4. Set the value of `n_init` explicitly to suppress the warning\n",
      "  warnings.warn(\n"
     ]
    },
    {
     "name": "stdout",
     "output_type": "stream",
     "text": [
      "NB data 62819\n",
      "Time 409\n"
     ]
    },
    {
     "name": "stderr",
     "output_type": "stream",
     "text": [
      "C:\\ProgramData\\Anaconda3\\lib\\site-packages\\sklearn\\cluster\\_kmeans.py:870: FutureWarning: The default value of `n_init` will change from 10 to 'auto' in 1.4. Set the value of `n_init` explicitly to suppress the warning\n",
      "  warnings.warn(\n"
     ]
    },
    {
     "name": "stdout",
     "output_type": "stream",
     "text": [
      "NB data 62325\n",
      "Time 412\n"
     ]
    },
    {
     "name": "stderr",
     "output_type": "stream",
     "text": [
      "C:\\ProgramData\\Anaconda3\\lib\\site-packages\\sklearn\\cluster\\_kmeans.py:870: FutureWarning: The default value of `n_init` will change from 10 to 'auto' in 1.4. Set the value of `n_init` explicitly to suppress the warning\n",
      "  warnings.warn(\n"
     ]
    },
    {
     "name": "stdout",
     "output_type": "stream",
     "text": [
      "NB data 61526\n",
      "Time 416\n"
     ]
    },
    {
     "name": "stderr",
     "output_type": "stream",
     "text": [
      "C:\\ProgramData\\Anaconda3\\lib\\site-packages\\sklearn\\cluster\\_kmeans.py:870: FutureWarning: The default value of `n_init` will change from 10 to 'auto' in 1.4. Set the value of `n_init` explicitly to suppress the warning\n",
      "  warnings.warn(\n"
     ]
    },
    {
     "name": "stdout",
     "output_type": "stream",
     "text": [
      "NB data 59640\n",
      "Time 419\n"
     ]
    },
    {
     "name": "stderr",
     "output_type": "stream",
     "text": [
      "C:\\ProgramData\\Anaconda3\\lib\\site-packages\\sklearn\\cluster\\_kmeans.py:870: FutureWarning: The default value of `n_init` will change from 10 to 'auto' in 1.4. Set the value of `n_init` explicitly to suppress the warning\n",
      "  warnings.warn(\n"
     ]
    },
    {
     "name": "stdout",
     "output_type": "stream",
     "text": [
      "NB data 58501\n",
      "Time 422\n"
     ]
    },
    {
     "name": "stderr",
     "output_type": "stream",
     "text": [
      "C:\\ProgramData\\Anaconda3\\lib\\site-packages\\sklearn\\cluster\\_kmeans.py:870: FutureWarning: The default value of `n_init` will change from 10 to 'auto' in 1.4. Set the value of `n_init` explicitly to suppress the warning\n",
      "  warnings.warn(\n"
     ]
    },
    {
     "name": "stdout",
     "output_type": "stream",
     "text": [
      "NB data 57551\n",
      "Time 426\n"
     ]
    },
    {
     "name": "stderr",
     "output_type": "stream",
     "text": [
      "C:\\ProgramData\\Anaconda3\\lib\\site-packages\\sklearn\\cluster\\_kmeans.py:870: FutureWarning: The default value of `n_init` will change from 10 to 'auto' in 1.4. Set the value of `n_init` explicitly to suppress the warning\n",
      "  warnings.warn(\n"
     ]
    },
    {
     "name": "stdout",
     "output_type": "stream",
     "text": [
      "NB data 56672\n",
      "Time 429\n"
     ]
    },
    {
     "name": "stderr",
     "output_type": "stream",
     "text": [
      "C:\\ProgramData\\Anaconda3\\lib\\site-packages\\sklearn\\cluster\\_kmeans.py:870: FutureWarning: The default value of `n_init` will change from 10 to 'auto' in 1.4. Set the value of `n_init` explicitly to suppress the warning\n",
      "  warnings.warn(\n"
     ]
    },
    {
     "name": "stdout",
     "output_type": "stream",
     "text": [
      "NB data 55894\n",
      "Time 433\n"
     ]
    },
    {
     "name": "stderr",
     "output_type": "stream",
     "text": [
      "C:\\ProgramData\\Anaconda3\\lib\\site-packages\\sklearn\\cluster\\_kmeans.py:870: FutureWarning: The default value of `n_init` will change from 10 to 'auto' in 1.4. Set the value of `n_init` explicitly to suppress the warning\n",
      "  warnings.warn(\n"
     ]
    },
    {
     "name": "stdout",
     "output_type": "stream",
     "text": [
      "NB data 55174\n",
      "Time 436\n"
     ]
    },
    {
     "name": "stderr",
     "output_type": "stream",
     "text": [
      "C:\\ProgramData\\Anaconda3\\lib\\site-packages\\sklearn\\cluster\\_kmeans.py:870: FutureWarning: The default value of `n_init` will change from 10 to 'auto' in 1.4. Set the value of `n_init` explicitly to suppress the warning\n",
      "  warnings.warn(\n"
     ]
    },
    {
     "name": "stdout",
     "output_type": "stream",
     "text": [
      "NB data 54638\n",
      "Time 439\n"
     ]
    },
    {
     "name": "stderr",
     "output_type": "stream",
     "text": [
      "C:\\ProgramData\\Anaconda3\\lib\\site-packages\\sklearn\\cluster\\_kmeans.py:870: FutureWarning: The default value of `n_init` will change from 10 to 'auto' in 1.4. Set the value of `n_init` explicitly to suppress the warning\n",
      "  warnings.warn(\n"
     ]
    },
    {
     "name": "stdout",
     "output_type": "stream",
     "text": [
      "NB data 53986\n",
      "Time 443\n"
     ]
    },
    {
     "name": "stderr",
     "output_type": "stream",
     "text": [
      "C:\\ProgramData\\Anaconda3\\lib\\site-packages\\sklearn\\cluster\\_kmeans.py:870: FutureWarning: The default value of `n_init` will change from 10 to 'auto' in 1.4. Set the value of `n_init` explicitly to suppress the warning\n",
      "  warnings.warn(\n"
     ]
    },
    {
     "name": "stdout",
     "output_type": "stream",
     "text": [
      "NB data 53627\n",
      "Time 446\n"
     ]
    },
    {
     "name": "stderr",
     "output_type": "stream",
     "text": [
      "C:\\ProgramData\\Anaconda3\\lib\\site-packages\\sklearn\\cluster\\_kmeans.py:870: FutureWarning: The default value of `n_init` will change from 10 to 'auto' in 1.4. Set the value of `n_init` explicitly to suppress the warning\n",
      "  warnings.warn(\n"
     ]
    },
    {
     "name": "stdout",
     "output_type": "stream",
     "text": [
      "NB data 53347\n",
      "Time 449\n"
     ]
    },
    {
     "name": "stderr",
     "output_type": "stream",
     "text": [
      "C:\\ProgramData\\Anaconda3\\lib\\site-packages\\sklearn\\cluster\\_kmeans.py:870: FutureWarning: The default value of `n_init` will change from 10 to 'auto' in 1.4. Set the value of `n_init` explicitly to suppress the warning\n",
      "  warnings.warn(\n"
     ]
    },
    {
     "name": "stdout",
     "output_type": "stream",
     "text": [
      "NB data 52778\n",
      "Time 453\n"
     ]
    },
    {
     "name": "stderr",
     "output_type": "stream",
     "text": [
      "C:\\ProgramData\\Anaconda3\\lib\\site-packages\\sklearn\\cluster\\_kmeans.py:870: FutureWarning: The default value of `n_init` will change from 10 to 'auto' in 1.4. Set the value of `n_init` explicitly to suppress the warning\n",
      "  warnings.warn(\n"
     ]
    },
    {
     "name": "stdout",
     "output_type": "stream",
     "text": [
      "NB data 52515\n",
      "Time 456\n"
     ]
    },
    {
     "name": "stderr",
     "output_type": "stream",
     "text": [
      "C:\\ProgramData\\Anaconda3\\lib\\site-packages\\sklearn\\cluster\\_kmeans.py:870: FutureWarning: The default value of `n_init` will change from 10 to 'auto' in 1.4. Set the value of `n_init` explicitly to suppress the warning\n",
      "  warnings.warn(\n"
     ]
    },
    {
     "name": "stdout",
     "output_type": "stream",
     "text": [
      "NB data 51854\n",
      "Time 459\n"
     ]
    },
    {
     "name": "stderr",
     "output_type": "stream",
     "text": [
      "C:\\ProgramData\\Anaconda3\\lib\\site-packages\\sklearn\\cluster\\_kmeans.py:870: FutureWarning: The default value of `n_init` will change from 10 to 'auto' in 1.4. Set the value of `n_init` explicitly to suppress the warning\n",
      "  warnings.warn(\n"
     ]
    },
    {
     "name": "stdout",
     "output_type": "stream",
     "text": [
      "NB data 50978\n",
      "Time 463\n"
     ]
    },
    {
     "name": "stderr",
     "output_type": "stream",
     "text": [
      "C:\\ProgramData\\Anaconda3\\lib\\site-packages\\sklearn\\cluster\\_kmeans.py:870: FutureWarning: The default value of `n_init` will change from 10 to 'auto' in 1.4. Set the value of `n_init` explicitly to suppress the warning\n",
      "  warnings.warn(\n"
     ]
    },
    {
     "name": "stdout",
     "output_type": "stream",
     "text": [
      "NB data 50207\n",
      "Time 466\n"
     ]
    },
    {
     "name": "stderr",
     "output_type": "stream",
     "text": [
      "C:\\ProgramData\\Anaconda3\\lib\\site-packages\\sklearn\\cluster\\_kmeans.py:870: FutureWarning: The default value of `n_init` will change from 10 to 'auto' in 1.4. Set the value of `n_init` explicitly to suppress the warning\n",
      "  warnings.warn(\n"
     ]
    },
    {
     "name": "stdout",
     "output_type": "stream",
     "text": [
      "NB data 49505\n",
      "Time 469\n"
     ]
    },
    {
     "name": "stderr",
     "output_type": "stream",
     "text": [
      "C:\\ProgramData\\Anaconda3\\lib\\site-packages\\sklearn\\cluster\\_kmeans.py:870: FutureWarning: The default value of `n_init` will change from 10 to 'auto' in 1.4. Set the value of `n_init` explicitly to suppress the warning\n",
      "  warnings.warn(\n"
     ]
    },
    {
     "name": "stdout",
     "output_type": "stream",
     "text": [
      "NB data 48440\n",
      "Time 473\n"
     ]
    },
    {
     "name": "stderr",
     "output_type": "stream",
     "text": [
      "C:\\ProgramData\\Anaconda3\\lib\\site-packages\\sklearn\\cluster\\_kmeans.py:870: FutureWarning: The default value of `n_init` will change from 10 to 'auto' in 1.4. Set the value of `n_init` explicitly to suppress the warning\n",
      "  warnings.warn(\n"
     ]
    },
    {
     "name": "stdout",
     "output_type": "stream",
     "text": [
      "NB data 47857\n",
      "Time 476\n"
     ]
    },
    {
     "name": "stderr",
     "output_type": "stream",
     "text": [
      "C:\\ProgramData\\Anaconda3\\lib\\site-packages\\sklearn\\cluster\\_kmeans.py:870: FutureWarning: The default value of `n_init` will change from 10 to 'auto' in 1.4. Set the value of `n_init` explicitly to suppress the warning\n",
      "  warnings.warn(\n"
     ]
    },
    {
     "name": "stdout",
     "output_type": "stream",
     "text": [
      "NB data 47107\n",
      "Time 479\n"
     ]
    },
    {
     "name": "stderr",
     "output_type": "stream",
     "text": [
      "C:\\ProgramData\\Anaconda3\\lib\\site-packages\\sklearn\\cluster\\_kmeans.py:870: FutureWarning: The default value of `n_init` will change from 10 to 'auto' in 1.4. Set the value of `n_init` explicitly to suppress the warning\n",
      "  warnings.warn(\n"
     ]
    },
    {
     "name": "stdout",
     "output_type": "stream",
     "text": [
      "NB data 46372\n",
      "Time 483\n"
     ]
    },
    {
     "name": "stderr",
     "output_type": "stream",
     "text": [
      "C:\\ProgramData\\Anaconda3\\lib\\site-packages\\sklearn\\cluster\\_kmeans.py:870: FutureWarning: The default value of `n_init` will change from 10 to 'auto' in 1.4. Set the value of `n_init` explicitly to suppress the warning\n",
      "  warnings.warn(\n"
     ]
    },
    {
     "name": "stdout",
     "output_type": "stream",
     "text": [
      "NB data 45641\n",
      "Time 486\n"
     ]
    },
    {
     "name": "stderr",
     "output_type": "stream",
     "text": [
      "C:\\ProgramData\\Anaconda3\\lib\\site-packages\\sklearn\\cluster\\_kmeans.py:870: FutureWarning: The default value of `n_init` will change from 10 to 'auto' in 1.4. Set the value of `n_init` explicitly to suppress the warning\n",
      "  warnings.warn(\n"
     ]
    },
    {
     "name": "stdout",
     "output_type": "stream",
     "text": [
      "NB data 45073\n",
      "Time 489\n"
     ]
    },
    {
     "name": "stderr",
     "output_type": "stream",
     "text": [
      "C:\\ProgramData\\Anaconda3\\lib\\site-packages\\sklearn\\cluster\\_kmeans.py:870: FutureWarning: The default value of `n_init` will change from 10 to 'auto' in 1.4. Set the value of `n_init` explicitly to suppress the warning\n",
      "  warnings.warn(\n"
     ]
    },
    {
     "name": "stdout",
     "output_type": "stream",
     "text": [
      "NB data 44086\n",
      "Time 493\n"
     ]
    },
    {
     "name": "stderr",
     "output_type": "stream",
     "text": [
      "C:\\ProgramData\\Anaconda3\\lib\\site-packages\\sklearn\\cluster\\_kmeans.py:870: FutureWarning: The default value of `n_init` will change from 10 to 'auto' in 1.4. Set the value of `n_init` explicitly to suppress the warning\n",
      "  warnings.warn(\n"
     ]
    },
    {
     "name": "stdout",
     "output_type": "stream",
     "text": [
      "NB data 43513\n",
      "Time 496\n"
     ]
    },
    {
     "name": "stderr",
     "output_type": "stream",
     "text": [
      "C:\\ProgramData\\Anaconda3\\lib\\site-packages\\sklearn\\cluster\\_kmeans.py:870: FutureWarning: The default value of `n_init` will change from 10 to 'auto' in 1.4. Set the value of `n_init` explicitly to suppress the warning\n",
      "  warnings.warn(\n"
     ]
    },
    {
     "name": "stdout",
     "output_type": "stream",
     "text": [
      "NB data 42597\n",
      "Time 500\n"
     ]
    }
   ],
   "source": [
    "model_0 = KMeans(n_clusters=4)\n",
    "scaler_t = StandardScaler()\n",
    "X_0 = scaler_t.fit_transform(Data[Colonne])\n",
    "model_0.fit(X_0)\n",
    "\n",
    "Data_T0 = data_filtered(Data, 1, Colonne)\n",
    "Data_T0  =  scaler_t.fit_transform(Data_T0)\n",
    "\n",
    "ARI = []\n",
    "\n",
    "Class_0_t = []\n",
    "Class_1_t = []\n",
    "Class_2_t = []\n",
    "Class_3_t = []\n",
    "\n",
    "Class_0_p = []\n",
    "Class_1_p = []\n",
    "Class_2_p = []\n",
    "Class_3_p = []\n",
    "\n",
    "for idx,t in enumerate (times) : \n",
    "    \n",
    "    model_t = KMeans(n_clusters=4)\n",
    "    Data_T = data_filtered(Data, t, Colonne)\n",
    "    Data_T =  scaler_t.fit_transform(Data_T)\n",
    "    model_t.fit(Data_T)\n",
    "    print(\"NB data\", Data_T.shape[0] )\n",
    "    print(\"Time\", t )\n",
    "    \n",
    "    # On stock les labels prédits par le modele M0 et le Modèle Mt dans des listes\n",
    "    # On calcule le coefficient ARI pour déterminer la stabilité du clusters à travers le temps.\n",
    "    \n",
    "    labels_true  =  model_t.predict(Data_T0)\n",
    "    labels_pred  = model_0.predict(Data_T0)\n",
    "    \n",
    "    label = {'true':labels_true , 'pred':labels_pred}\n",
    "    label = pd.DataFrame(data = label, columns = ['true', 'pred'] )\n",
    "    \n",
    "    Class_0_t.append(len(label[label['true'] == 0 ]))\n",
    "    Class_1_t.append(len(label[label['true'] == 1 ])) \n",
    "    Class_2_t.append(len(label[label['true'] == 2 ])) \n",
    "    Class_3_t.append(len(label[label['true'] == 3 ]))\n",
    "\n",
    "    Class_0_p.append(len(label[label['pred'] == 0 ]))\n",
    "    Class_1_p.append(len(label[label['pred'] == 1 ])) \n",
    "    Class_2_p.append(len(label[label['pred'] == 2 ])) \n",
    "    Class_3_p.append(len(label[label['pred'] == 3 ]))\n",
    "\n",
    "        \n",
    "    \n",
    "    \n",
    "    \n",
    "    ARI.append(metrics.adjusted_rand_score(labels_true, labels_pred))\n",
    "    "
   ]
  },
  {
   "cell_type": "code",
   "execution_count": 17,
   "id": "25c12df9",
   "metadata": {},
   "outputs": [
    {
     "data": {
      "image/png": "[encoded data removed]",
      "text/plain": [
       "<Figure size 720x576 with 1 Axes>"
      ]
     },
     "metadata": {},
     "output_type": "display_data"
    }
   ],
   "source": [
    "plt.figure(figsize=(10, 8))\n",
    "plt.plot(times, ARI,color = 'red',linestyle='dashed')\n",
    "plt.xlabel('Echelle de temps (jours)')\n",
    "plt.ylabel('Coeff ARI')\n",
    "plt.title(\"Evolution du coeff ARI\")\n",
    "plt.tight_layout()\n",
    "plt.show()"
   ]
  },
  {
   "cell_type": "markdown",
   "id": "d7de6862",
   "metadata": {},
   "source": [
    "A partir de 399 jours, le modèle de clustering devient obsolète. Il faudra faire une mise à jour tout les 340 jours."
   ]
  },
  {
   "cell_type": "code",
   "execution_count": 18,
   "id": "ef03266b",
   "metadata": {},
   "outputs": [
    {
     "data": {
      "text/plain": [
       "<bound method NDFrame.head of      Times  Coeff ARI\n",
       "0        1   0.993067\n",
       "1        4   0.997946\n",
       "2        7   0.997234\n",
       "3       11   0.996974\n",
       "4       14   0.996974\n",
       "..     ...        ...\n",
       "145    486   0.795475\n",
       "146    489   0.795329\n",
       "147    493   0.795478\n",
       "148    496   0.800340\n",
       "149    500   0.809357\n",
       "\n",
       "[150 rows x 2 columns]>"
      ]
     },
     "execution_count": 18,
     "metadata": {},
     "output_type": "execute_result"
    }
   ],
   "source": [
    "d = {'Times': times, 'Coeff ARI': ARI}\n",
    "df = pd.DataFrame(data=d)\n",
    "df.head"
   ]
  },
  {
   "cell_type": "code",
   "execution_count": 19,
   "id": "fe93da5a",
   "metadata": {},
   "outputs": [
    {
     "data": {
      "text/html": [
       "<div>\n",
       "<style scoped>\n",
       "    .dataframe tbody tr th:only-of-type {\n",
       "        vertical-align: middle;\n",
       "    }\n",
       "\n",
       "    .dataframe tbody tr th {\n",
       "        vertical-align: top;\n",
       "    }\n",
       "\n",
       "    .dataframe thead th {\n",
       "        text-align: right;\n",
       "    }\n",
       "</style>\n",
       "<table border=\"1\" class=\"dataframe\">\n",
       "  <thead>\n",
       "    <tr style=\"text-align: right;\">\n",
       "      <th></th>\n",
       "      <th>Times</th>\n",
       "      <th>Coeff ARI</th>\n",
       "    </tr>\n",
       "  </thead>\n",
       "  <tbody>\n",
       "    <tr>\n",
       "      <th>0</th>\n",
       "      <td>1</td>\n",
       "      <td>0.993067</td>\n",
       "    </tr>\n",
       "    <tr>\n",
       "      <th>1</th>\n",
       "      <td>4</td>\n",
       "      <td>0.997946</td>\n",
       "    </tr>\n",
       "    <tr>\n",
       "      <th>2</th>\n",
       "      <td>7</td>\n",
       "      <td>0.997234</td>\n",
       "    </tr>\n",
       "    <tr>\n",
       "      <th>3</th>\n",
       "      <td>11</td>\n",
       "      <td>0.996974</td>\n",
       "    </tr>\n",
       "    <tr>\n",
       "      <th>4</th>\n",
       "      <td>14</td>\n",
       "      <td>0.996974</td>\n",
       "    </tr>\n",
       "    <tr>\n",
       "      <th>...</th>\n",
       "      <td>...</td>\n",
       "      <td>...</td>\n",
       "    </tr>\n",
       "    <tr>\n",
       "      <th>117</th>\n",
       "      <td>392</td>\n",
       "      <td>0.901479</td>\n",
       "    </tr>\n",
       "    <tr>\n",
       "      <th>118</th>\n",
       "      <td>396</td>\n",
       "      <td>0.902044</td>\n",
       "    </tr>\n",
       "    <tr>\n",
       "      <th>119</th>\n",
       "      <td>399</td>\n",
       "      <td>0.902514</td>\n",
       "    </tr>\n",
       "    <tr>\n",
       "      <th>120</th>\n",
       "      <td>402</td>\n",
       "      <td>0.901446</td>\n",
       "    </tr>\n",
       "    <tr>\n",
       "      <th>126</th>\n",
       "      <td>422</td>\n",
       "      <td>0.900017</td>\n",
       "    </tr>\n",
       "  </tbody>\n",
       "</table>\n",
       "<p>122 rows × 2 columns</p>\n",
       "</div>"
      ],
      "text/plain": [
       "     Times  Coeff ARI\n",
       "0        1   0.993067\n",
       "1        4   0.997946\n",
       "2        7   0.997234\n",
       "3       11   0.996974\n",
       "4       14   0.996974\n",
       "..     ...        ...\n",
       "117    392   0.901479\n",
       "118    396   0.902044\n",
       "119    399   0.902514\n",
       "120    402   0.901446\n",
       "126    422   0.900017\n",
       "\n",
       "[122 rows x 2 columns]"
      ]
     },
     "execution_count": 19,
     "metadata": {},
     "output_type": "execute_result"
    }
   ],
   "source": [
    "df_ = df.loc[df[\"Coeff ARI\"] > 0.90]\n",
    "df_"
   ]
  },
  {
   "cell_type": "markdown",
   "id": "a8f99384",
   "metadata": {},
   "source": [
    "# Divergence des clusters"
   ]
  },
  {
   "cell_type": "markdown",
   "id": "788dd201",
   "metadata": {},
   "source": [
    "On souhaite estimer la divergence des clusters. Identifier quels clusters sont impactés par la non mise à jour du modèle."
   ]
  },
  {
   "cell_type": "code",
   "execution_count": 20,
   "id": "aeb55704",
   "metadata": {},
   "outputs": [],
   "source": [
    "data_clust = { \"times\" : times ,\n",
    "              \"Class 0 True\": Class_0_t, \n",
    "              \"Class 1 True\": Class_1_t, \n",
    "              \"Class 2 True\": Class_2_t, \n",
    "              \"Class 3 True\": Class_3_t, \n",
    "              \"Class 0 Pred\" : Class_0_p, \n",
    "              \"Class 1 Pred\": Class_1_p, \n",
    "              \"Class 2 Pred\": Class_2_p, \n",
    "              \"Class 3 Pred\": Class_3_p}\n",
    "\n",
    "data_clust = pd.DataFrame(data_clust)\n",
    "##data_clust = data_clust.set_index(\"times\")"
   ]
  },
  {
   "cell_type": "code",
   "execution_count": 22,
   "id": "fd31e834",
   "metadata": {},
   "outputs": [
    {
     "data": {
      "text/html": [
       "<div>\n",
       "<style scoped>\n",
       "    .dataframe tbody tr th:only-of-type {\n",
       "        vertical-align: middle;\n",
       "    }\n",
       "\n",
       "    .dataframe tbody tr th {\n",
       "        vertical-align: top;\n",
       "    }\n",
       "\n",
       "    .dataframe thead th {\n",
       "        text-align: right;\n",
       "    }\n",
       "</style>\n",
       "<table border=\"1\" class=\"dataframe\">\n",
       "  <thead>\n",
       "    <tr style=\"text-align: right;\">\n",
       "      <th></th>\n",
       "      <th>times</th>\n",
       "      <th>Class 0 True</th>\n",
       "      <th>Class 1 True</th>\n",
       "      <th>Class 2 True</th>\n",
       "      <th>Class 3 True</th>\n",
       "      <th>Class 0 Pred</th>\n",
       "      <th>Class 1 Pred</th>\n",
       "      <th>Class 2 Pred</th>\n",
       "      <th>Class 3 Pred</th>\n",
       "    </tr>\n",
       "  </thead>\n",
       "  <tbody>\n",
       "    <tr>\n",
       "      <th>0</th>\n",
       "      <td>1</td>\n",
       "      <td>31948</td>\n",
       "      <td>41683</td>\n",
       "      <td>15588</td>\n",
       "      <td>5751</td>\n",
       "      <td>41701</td>\n",
       "      <td>31836</td>\n",
       "      <td>5831</td>\n",
       "      <td>15602</td>\n",
       "    </tr>\n",
       "    <tr>\n",
       "      <th>1</th>\n",
       "      <td>4</td>\n",
       "      <td>41655</td>\n",
       "      <td>31893</td>\n",
       "      <td>15591</td>\n",
       "      <td>5831</td>\n",
       "      <td>41701</td>\n",
       "      <td>31836</td>\n",
       "      <td>5831</td>\n",
       "      <td>15602</td>\n",
       "    </tr>\n",
       "    <tr>\n",
       "      <th>2</th>\n",
       "      <td>7</td>\n",
       "      <td>15588</td>\n",
       "      <td>31908</td>\n",
       "      <td>41643</td>\n",
       "      <td>5831</td>\n",
       "      <td>41701</td>\n",
       "      <td>31836</td>\n",
       "      <td>5831</td>\n",
       "      <td>15602</td>\n",
       "    </tr>\n",
       "    <tr>\n",
       "      <th>3</th>\n",
       "      <td>11</td>\n",
       "      <td>41635</td>\n",
       "      <td>15588</td>\n",
       "      <td>31916</td>\n",
       "      <td>5831</td>\n",
       "      <td>41701</td>\n",
       "      <td>31836</td>\n",
       "      <td>5831</td>\n",
       "      <td>15602</td>\n",
       "    </tr>\n",
       "    <tr>\n",
       "      <th>4</th>\n",
       "      <td>14</td>\n",
       "      <td>5831</td>\n",
       "      <td>41635</td>\n",
       "      <td>15588</td>\n",
       "      <td>31916</td>\n",
       "      <td>41701</td>\n",
       "      <td>31836</td>\n",
       "      <td>5831</td>\n",
       "      <td>15602</td>\n",
       "    </tr>\n",
       "    <tr>\n",
       "      <th>...</th>\n",
       "      <td>...</td>\n",
       "      <td>...</td>\n",
       "      <td>...</td>\n",
       "      <td>...</td>\n",
       "      <td>...</td>\n",
       "      <td>...</td>\n",
       "      <td>...</td>\n",
       "      <td>...</td>\n",
       "      <td>...</td>\n",
       "    </tr>\n",
       "    <tr>\n",
       "      <th>145</th>\n",
       "      <td>486</td>\n",
       "      <td>37671</td>\n",
       "      <td>14749</td>\n",
       "      <td>36539</td>\n",
       "      <td>6011</td>\n",
       "      <td>41701</td>\n",
       "      <td>31836</td>\n",
       "      <td>5831</td>\n",
       "      <td>15602</td>\n",
       "    </tr>\n",
       "    <tr>\n",
       "      <th>146</th>\n",
       "      <td>489</td>\n",
       "      <td>37717</td>\n",
       "      <td>36398</td>\n",
       "      <td>14819</td>\n",
       "      <td>6036</td>\n",
       "      <td>41701</td>\n",
       "      <td>31836</td>\n",
       "      <td>5831</td>\n",
       "      <td>15602</td>\n",
       "    </tr>\n",
       "    <tr>\n",
       "      <th>147</th>\n",
       "      <td>493</td>\n",
       "      <td>37785</td>\n",
       "      <td>14862</td>\n",
       "      <td>36297</td>\n",
       "      <td>6026</td>\n",
       "      <td>41701</td>\n",
       "      <td>31836</td>\n",
       "      <td>5831</td>\n",
       "      <td>15602</td>\n",
       "    </tr>\n",
       "    <tr>\n",
       "      <th>148</th>\n",
       "      <td>496</td>\n",
       "      <td>14764</td>\n",
       "      <td>36210</td>\n",
       "      <td>37962</td>\n",
       "      <td>6034</td>\n",
       "      <td>41701</td>\n",
       "      <td>31836</td>\n",
       "      <td>5831</td>\n",
       "      <td>15602</td>\n",
       "    </tr>\n",
       "    <tr>\n",
       "      <th>149</th>\n",
       "      <td>500</td>\n",
       "      <td>14695</td>\n",
       "      <td>38293</td>\n",
       "      <td>35948</td>\n",
       "      <td>6034</td>\n",
       "      <td>41701</td>\n",
       "      <td>31836</td>\n",
       "      <td>5831</td>\n",
       "      <td>15602</td>\n",
       "    </tr>\n",
       "  </tbody>\n",
       "</table>\n",
       "<p>150 rows × 9 columns</p>\n",
       "</div>"
      ],
      "text/plain": [
       "     times  Class 0 True  Class 1 True  Class 2 True  Class 3 True  \\\n",
       "0        1         31948         41683         15588          5751   \n",
       "1        4         41655         31893         15591          5831   \n",
       "2        7         15588         31908         41643          5831   \n",
       "3       11         41635         15588         31916          5831   \n",
       "4       14          5831         41635         15588         31916   \n",
       "..     ...           ...           ...           ...           ...   \n",
       "145    486         37671         14749         36539          6011   \n",
       "146    489         37717         36398         14819          6036   \n",
       "147    493         37785         14862         36297          6026   \n",
       "148    496         14764         36210         37962          6034   \n",
       "149    500         14695         38293         35948          6034   \n",
       "\n",
       "     Class 0 Pred  Class 1 Pred  Class 2 Pred  Class 3 Pred  \n",
       "0           41701         31836          5831         15602  \n",
       "1           41701         31836          5831         15602  \n",
       "2           41701         31836          5831         15602  \n",
       "3           41701         31836          5831         15602  \n",
       "4           41701         31836          5831         15602  \n",
       "..            ...           ...           ...           ...  \n",
       "145         41701         31836          5831         15602  \n",
       "146         41701         31836          5831         15602  \n",
       "147         41701         31836          5831         15602  \n",
       "148         41701         31836          5831         15602  \n",
       "149         41701         31836          5831         15602  \n",
       "\n",
       "[150 rows x 9 columns]"
      ]
     },
     "execution_count": 22,
     "metadata": {},
     "output_type": "execute_result"
    }
   ],
   "source": [
    "\n",
    "data_clust"
   ]
  },
  {
   "cell_type": "code",
   "execution_count": 26,
   "id": "d6d4b61c",
   "metadata": {},
   "outputs": [],
   "source": [
    "def class_transformer (df) :\n",
    "    \n",
    "    \"\"\"\n",
    "    Fonction qui réarrange les clusters.\n",
    "    \"\"\"\n",
    "    \n",
    "    class_0 = []\n",
    "    class_1 = []\n",
    "    class_2 = []\n",
    "    class_3 = []\n",
    "\n",
    "    classe_0_ori = list(df [\"Class 0 True\"])\n",
    "    classe_1_ori = list(df [\"Class 1 True\"])\n",
    "    classe_2_ori = list(df [\"Class 2 True\"])\n",
    "    classe_3_ori = list(df [\"Class 3 True\"])\n",
    "    \n",
    "    for idx in range(len(df)) :\n",
    "        \n",
    "        var0 = 0\n",
    "        var1 = 0\n",
    "        var2 = 0\n",
    "        var3 = 0\n",
    "        \n",
    "        c0 = classe_0_ori[idx]\n",
    "        c1 = classe_1_ori[idx]\n",
    "        c2 = classe_2_ori[idx]\n",
    "        c3 = classe_3_ori[idx]\n",
    "        \n",
    "        list_class = [c0, c1, c2, c3]\n",
    "        \n",
    "        var0 = max(list_class)\n",
    "        var2 = min(list_class)\n",
    "        print(\"var1\",var1)\n",
    "        print(\"var2\", var2)\n",
    "        \n",
    "        for var in [var0,var2] :\n",
    "            list_class.remove(var)\n",
    "        print(list_class)\n",
    "            \n",
    "        \n",
    "            \n",
    "        var1 = max(list_class)\n",
    "        var3 = min(list_class)\n",
    "        print(\"var3\",var3)\n",
    "        print(\"var0\", var0)\n",
    "        \n",
    "        class_0.append(var0)\n",
    "        class_1.append(var1)\n",
    "        class_2.append(var2)\n",
    "        class_3.append(var3)\n",
    "        \n",
    "    return  class_0, class_1, class_2, class_3\n",
    "        \n",
    "        "
   ]
  },
  {
   "cell_type": "code",
   "execution_count": 27,
   "id": "455b7fdb",
   "metadata": {},
   "outputs": [
    {
     "data": {
      "text/html": [
       "<div>\n",
       "<style scoped>\n",
       "    .dataframe tbody tr th:only-of-type {\n",
       "        vertical-align: middle;\n",
       "    }\n",
       "\n",
       "    .dataframe tbody tr th {\n",
       "        vertical-align: top;\n",
       "    }\n",
       "\n",
       "    .dataframe thead th {\n",
       "        text-align: right;\n",
       "    }\n",
       "</style>\n",
       "<table border=\"1\" class=\"dataframe\">\n",
       "  <thead>\n",
       "    <tr style=\"text-align: right;\">\n",
       "      <th></th>\n",
       "      <th>times</th>\n",
       "      <th>Class 0 True</th>\n",
       "      <th>Class 1 True</th>\n",
       "      <th>Class 2 True</th>\n",
       "      <th>Class 3 True</th>\n",
       "      <th>Class 0 Pred</th>\n",
       "      <th>Class 1 Pred</th>\n",
       "      <th>Class 2 Pred</th>\n",
       "      <th>Class 3 Pred</th>\n",
       "    </tr>\n",
       "  </thead>\n",
       "  <tbody>\n",
       "    <tr>\n",
       "      <th>0</th>\n",
       "      <td>1</td>\n",
       "      <td>31948</td>\n",
       "      <td>41683</td>\n",
       "      <td>15588</td>\n",
       "      <td>5751</td>\n",
       "      <td>41701</td>\n",
       "      <td>31836</td>\n",
       "      <td>5831</td>\n",
       "      <td>15602</td>\n",
       "    </tr>\n",
       "    <tr>\n",
       "      <th>1</th>\n",
       "      <td>4</td>\n",
       "      <td>41655</td>\n",
       "      <td>31893</td>\n",
       "      <td>15591</td>\n",
       "      <td>5831</td>\n",
       "      <td>41701</td>\n",
       "      <td>31836</td>\n",
       "      <td>5831</td>\n",
       "      <td>15602</td>\n",
       "    </tr>\n",
       "    <tr>\n",
       "      <th>2</th>\n",
       "      <td>7</td>\n",
       "      <td>15588</td>\n",
       "      <td>31908</td>\n",
       "      <td>41643</td>\n",
       "      <td>5831</td>\n",
       "      <td>41701</td>\n",
       "      <td>31836</td>\n",
       "      <td>5831</td>\n",
       "      <td>15602</td>\n",
       "    </tr>\n",
       "    <tr>\n",
       "      <th>3</th>\n",
       "      <td>11</td>\n",
       "      <td>41635</td>\n",
       "      <td>15588</td>\n",
       "      <td>31916</td>\n",
       "      <td>5831</td>\n",
       "      <td>41701</td>\n",
       "      <td>31836</td>\n",
       "      <td>5831</td>\n",
       "      <td>15602</td>\n",
       "    </tr>\n",
       "    <tr>\n",
       "      <th>4</th>\n",
       "      <td>14</td>\n",
       "      <td>5831</td>\n",
       "      <td>41635</td>\n",
       "      <td>15588</td>\n",
       "      <td>31916</td>\n",
       "      <td>41701</td>\n",
       "      <td>31836</td>\n",
       "      <td>5831</td>\n",
       "      <td>15602</td>\n",
       "    </tr>\n",
       "    <tr>\n",
       "      <th>...</th>\n",
       "      <td>...</td>\n",
       "      <td>...</td>\n",
       "      <td>...</td>\n",
       "      <td>...</td>\n",
       "      <td>...</td>\n",
       "      <td>...</td>\n",
       "      <td>...</td>\n",
       "      <td>...</td>\n",
       "      <td>...</td>\n",
       "    </tr>\n",
       "    <tr>\n",
       "      <th>145</th>\n",
       "      <td>486</td>\n",
       "      <td>37671</td>\n",
       "      <td>14749</td>\n",
       "      <td>36539</td>\n",
       "      <td>6011</td>\n",
       "      <td>41701</td>\n",
       "      <td>31836</td>\n",
       "      <td>5831</td>\n",
       "      <td>15602</td>\n",
       "    </tr>\n",
       "    <tr>\n",
       "      <th>146</th>\n",
       "      <td>489</td>\n",
       "      <td>37717</td>\n",
       "      <td>36398</td>\n",
       "      <td>14819</td>\n",
       "      <td>6036</td>\n",
       "      <td>41701</td>\n",
       "      <td>31836</td>\n",
       "      <td>5831</td>\n",
       "      <td>15602</td>\n",
       "    </tr>\n",
       "    <tr>\n",
       "      <th>147</th>\n",
       "      <td>493</td>\n",
       "      <td>37785</td>\n",
       "      <td>14862</td>\n",
       "      <td>36297</td>\n",
       "      <td>6026</td>\n",
       "      <td>41701</td>\n",
       "      <td>31836</td>\n",
       "      <td>5831</td>\n",
       "      <td>15602</td>\n",
       "    </tr>\n",
       "    <tr>\n",
       "      <th>148</th>\n",
       "      <td>496</td>\n",
       "      <td>14764</td>\n",
       "      <td>36210</td>\n",
       "      <td>37962</td>\n",
       "      <td>6034</td>\n",
       "      <td>41701</td>\n",
       "      <td>31836</td>\n",
       "      <td>5831</td>\n",
       "      <td>15602</td>\n",
       "    </tr>\n",
       "    <tr>\n",
       "      <th>149</th>\n",
       "      <td>500</td>\n",
       "      <td>14695</td>\n",
       "      <td>38293</td>\n",
       "      <td>35948</td>\n",
       "      <td>6034</td>\n",
       "      <td>41701</td>\n",
       "      <td>31836</td>\n",
       "      <td>5831</td>\n",
       "      <td>15602</td>\n",
       "    </tr>\n",
       "  </tbody>\n",
       "</table>\n",
       "<p>150 rows × 9 columns</p>\n",
       "</div>"
      ],
      "text/plain": [
       "     times  Class 0 True  Class 1 True  Class 2 True  Class 3 True  \\\n",
       "0        1         31948         41683         15588          5751   \n",
       "1        4         41655         31893         15591          5831   \n",
       "2        7         15588         31908         41643          5831   \n",
       "3       11         41635         15588         31916          5831   \n",
       "4       14          5831         41635         15588         31916   \n",
       "..     ...           ...           ...           ...           ...   \n",
       "145    486         37671         14749         36539          6011   \n",
       "146    489         37717         36398         14819          6036   \n",
       "147    493         37785         14862         36297          6026   \n",
       "148    496         14764         36210         37962          6034   \n",
       "149    500         14695         38293         35948          6034   \n",
       "\n",
       "     Class 0 Pred  Class 1 Pred  Class 2 Pred  Class 3 Pred  \n",
       "0           41701         31836          5831         15602  \n",
       "1           41701         31836          5831         15602  \n",
       "2           41701         31836          5831         15602  \n",
       "3           41701         31836          5831         15602  \n",
       "4           41701         31836          5831         15602  \n",
       "..            ...           ...           ...           ...  \n",
       "145         41701         31836          5831         15602  \n",
       "146         41701         31836          5831         15602  \n",
       "147         41701         31836          5831         15602  \n",
       "148         41701         31836          5831         15602  \n",
       "149         41701         31836          5831         15602  \n",
       "\n",
       "[150 rows x 9 columns]"
      ]
     },
     "execution_count": 27,
     "metadata": {},
     "output_type": "execute_result"
    }
   ],
   "source": [
    "data_clust"
   ]
  },
  {
   "cell_type": "code",
   "execution_count": 28,
   "id": "96d6d9f3",
   "metadata": {},
   "outputs": [
    {
     "name": "stdout",
     "output_type": "stream",
     "text": [
      "var1 0\n",
      "var2 5751\n",
      "[31948, 15588]\n",
      "var3 15588\n",
      "var0 41683\n",
      "var1 0\n",
      "var2 5831\n",
      "[31893, 15591]\n",
      "var3 15591\n",
      "var0 41655\n",
      "var1 0\n",
      "var2 5831\n",
      "[15588, 31908]\n",
      "var3 15588\n",
      "var0 41643\n",
      "var1 0\n",
      "var2 5831\n",
      "[15588, 31916]\n",
      "var3 15588\n",
      "var0 41635\n",
      "var1 0\n",
      "var2 5831\n",
      "[15588, 31916]\n",
      "var3 15588\n",
      "var0 41635\n",
      "var1 0\n",
      "var2 5831\n",
      "[15588, 31916]\n",
      "var3 15588\n",
      "var0 41635\n",
      "var1 0\n",
      "var2 5831\n",
      "[31909, 15587]\n",
      "var3 15587\n",
      "var0 41643\n",
      "var1 0\n",
      "var2 5831\n",
      "[15588, 31915]\n",
      "var3 15588\n",
      "var0 41636\n",
      "var1 0\n",
      "var2 5831\n",
      "[31919, 15588]\n",
      "var3 15588\n",
      "var0 41632\n",
      "var1 0\n",
      "var2 5831\n",
      "[31920, 15588]\n",
      "var3 15588\n",
      "var0 41631\n",
      "var1 0\n",
      "var2 5831\n",
      "[15587, 31926]\n",
      "var3 15587\n",
      "var0 41626\n",
      "var1 0\n",
      "var2 5831\n",
      "[15588, 31914]\n",
      "var3 15588\n",
      "var0 41637\n",
      "var1 0\n",
      "var2 5831\n",
      "[31916, 15588]\n",
      "var3 15588\n",
      "var0 41635\n",
      "var1 0\n",
      "var2 5831\n",
      "[15588, 31914]\n",
      "var3 15588\n",
      "var0 41637\n",
      "var1 0\n",
      "var2 5831\n",
      "[31916, 15588]\n",
      "var3 15588\n",
      "var0 41635\n",
      "var1 0\n",
      "var2 5831\n",
      "[31916, 15588]\n",
      "var3 15588\n",
      "var0 41635\n",
      "var1 0\n",
      "var2 5831\n",
      "[31916, 15588]\n",
      "var3 15588\n",
      "var0 41635\n",
      "var1 0\n",
      "var2 5831\n",
      "[31910, 15587]\n",
      "var3 15587\n",
      "var0 41642\n",
      "var1 0\n",
      "var2 5831\n",
      "[31921, 15588]\n",
      "var3 15588\n",
      "var0 41630\n",
      "var1 0\n",
      "var2 5831\n",
      "[31916, 15588]\n",
      "var3 15588\n",
      "var0 41635\n",
      "var1 0\n",
      "var2 5831\n",
      "[31852, 15596]\n",
      "var3 15596\n",
      "var0 41691\n",
      "var1 0\n",
      "var2 5831\n",
      "[15586, 31925]\n",
      "var3 15586\n",
      "var0 41628\n",
      "var1 0\n",
      "var2 5831\n",
      "[31915, 15588]\n",
      "var3 15588\n",
      "var0 41636\n",
      "var1 0\n",
      "var2 5831\n",
      "[31926, 15586]\n",
      "var3 15586\n",
      "var0 41627\n",
      "var1 0\n",
      "var2 5831\n",
      "[31919, 15588]\n",
      "var3 15588\n",
      "var0 41632\n",
      "var1 0\n",
      "var2 5831\n",
      "[15588, 31915]\n",
      "var3 15588\n",
      "var0 41636\n",
      "var1 0\n",
      "var2 5831\n",
      "[15588, 31914]\n",
      "var3 15588\n",
      "var0 41637\n",
      "var1 0\n",
      "var2 5831\n",
      "[31926, 15580]\n",
      "var3 15580\n",
      "var0 41633\n",
      "var1 0\n",
      "var2 5834\n",
      "[31912, 15588]\n",
      "var3 15588\n",
      "var0 41636\n",
      "var1 0\n",
      "var2 5834\n",
      "[31913, 15590]\n",
      "var3 15590\n",
      "var0 41633\n",
      "var1 0\n",
      "var2 5831\n",
      "[31927, 15588]\n",
      "var3 15588\n",
      "var0 41624\n",
      "var1 0\n",
      "var2 5851\n",
      "[31927, 15585]\n",
      "var3 15585\n",
      "var0 41607\n",
      "var1 0\n",
      "var2 5831\n",
      "[31934, 15573]\n",
      "var3 15573\n",
      "var0 41632\n",
      "var1 0\n",
      "var2 5831\n",
      "[15575, 31933]\n",
      "var3 15575\n",
      "var0 41631\n",
      "var1 0\n",
      "var2 5831\n",
      "[31931, 15577]\n",
      "var3 15577\n",
      "var0 41631\n",
      "var1 0\n",
      "var2 5835\n",
      "[31928, 15575]\n",
      "var3 15575\n",
      "var0 41632\n",
      "var1 0\n",
      "var2 5834\n",
      "[31904, 15573]\n",
      "var3 15573\n",
      "var0 41659\n",
      "var1 0\n",
      "var2 5843\n",
      "[31986, 15553]\n",
      "var3 15553\n",
      "var0 41588\n",
      "var1 0\n",
      "var2 5835\n",
      "[31989, 15537]\n",
      "var3 15537\n",
      "var0 41609\n",
      "var1 0\n",
      "var2 5853\n",
      "[15533, 31991]\n",
      "var3 15533\n",
      "var0 41593\n",
      "var1 0\n",
      "var2 5854\n",
      "[15522, 31973]\n",
      "var3 15522\n",
      "var0 41621\n",
      "var1 0\n",
      "var2 5835\n",
      "[31956, 15525]\n",
      "var3 15525\n",
      "var0 41654\n",
      "var1 0\n",
      "var2 5831\n",
      "[31964, 15493]\n",
      "var3 15493\n",
      "var0 41682\n",
      "var1 0\n",
      "var2 5835\n",
      "[15533, 31920]\n",
      "var3 15533\n",
      "var0 41682\n",
      "var1 0\n",
      "var2 5835\n",
      "[15546, 31912]\n",
      "var3 15546\n",
      "var0 41677\n",
      "var1 0\n",
      "var2 5834\n",
      "[15447, 31907]\n",
      "var3 15447\n",
      "var0 41782\n",
      "var1 0\n",
      "var2 5858\n",
      "[31873, 15532]\n",
      "var3 15532\n",
      "var0 41707\n",
      "var1 0\n",
      "var2 5829\n",
      "[31875, 15534]\n",
      "var3 15534\n",
      "var0 41732\n",
      "var1 0\n",
      "var2 5856\n",
      "[15488, 31893]\n",
      "var3 15488\n",
      "var0 41733\n",
      "var1 0\n",
      "var2 5839\n",
      "[31941, 15488]\n",
      "var3 15488\n",
      "var0 41702\n",
      "var1 0\n",
      "var2 5857\n",
      "[31872, 15508]\n",
      "var3 15508\n",
      "var0 41733\n",
      "var1 0\n",
      "var2 5846\n",
      "[31874, 15486]\n",
      "var3 15486\n",
      "var0 41764\n",
      "var1 0\n",
      "var2 5845\n",
      "[15484, 31855]\n",
      "var3 15484\n",
      "var0 41786\n",
      "var1 0\n",
      "var2 5832\n",
      "[31838, 15497]\n",
      "var3 15497\n",
      "var0 41803\n",
      "var1 0\n",
      "var2 5840\n",
      "[15498, 31840]\n",
      "var3 15498\n",
      "var0 41792\n",
      "var1 0\n",
      "var2 5845\n",
      "[15472, 31927]\n",
      "var3 15472\n",
      "var0 41726\n",
      "var1 0\n",
      "var2 5845\n",
      "[31948, 15471]\n",
      "var3 15471\n",
      "var0 41706\n",
      "var1 0\n",
      "var2 5848\n",
      "[31998, 15467]\n",
      "var3 15467\n",
      "var0 41657\n",
      "var1 0\n",
      "var2 5863\n",
      "[32011, 15478]\n",
      "var3 15478\n",
      "var0 41618\n",
      "var1 0\n",
      "var2 5866\n",
      "[15471, 32080]\n",
      "var3 15471\n",
      "var0 41553\n",
      "var1 0\n",
      "var2 5865\n",
      "[15456, 32177]\n",
      "var3 15456\n",
      "var0 41472\n",
      "var1 0\n",
      "var2 5867\n",
      "[15446, 32305]\n",
      "var3 15446\n",
      "var0 41352\n",
      "var1 0\n",
      "var2 5869\n",
      "[32384, 15439]\n",
      "var3 15439\n",
      "var0 41278\n",
      "var1 0\n",
      "var2 5869\n",
      "[32482, 15437]\n",
      "var3 15437\n",
      "var0 41182\n",
      "var1 0\n",
      "var2 5869\n",
      "[32614, 15430]\n",
      "var3 15430\n",
      "var0 41057\n",
      "var1 0\n",
      "var2 5869\n",
      "[15409, 32678]\n",
      "var3 15409\n",
      "var0 41014\n",
      "var1 0\n",
      "var2 5869\n",
      "[32678, 15401]\n",
      "var3 15401\n",
      "var0 41022\n",
      "var1 0\n",
      "var2 5871\n",
      "[32757, 15389]\n",
      "var3 15389\n",
      "var0 40953\n",
      "var1 0\n",
      "var2 5871\n",
      "[32816, 15380]\n",
      "var3 15380\n",
      "var0 40903\n",
      "var1 0\n",
      "var2 5871\n",
      "[32810, 15381]\n",
      "var3 15381\n",
      "var0 40908\n",
      "var1 0\n",
      "var2 5871\n",
      "[32809, 15368]\n",
      "var3 15368\n",
      "var0 40922\n",
      "var1 0\n",
      "var2 5871\n",
      "[32820, 15367]\n",
      "var3 15367\n",
      "var0 40912\n",
      "var1 0\n",
      "var2 5873\n",
      "[15356, 32870]\n",
      "var3 15356\n",
      "var0 40871\n",
      "var1 0\n",
      "var2 5873\n",
      "[15347, 32886]\n",
      "var3 15347\n",
      "var0 40864\n",
      "var1 0\n",
      "var2 5873\n",
      "[32907, 15342]\n",
      "var3 15342\n",
      "var0 40848\n",
      "var1 0\n",
      "var2 5873\n",
      "[32910, 15327]\n",
      "var3 15327\n",
      "var0 40860\n",
      "var1 0\n",
      "var2 5873\n",
      "[33006, 15330]\n",
      "var3 15330\n",
      "var0 40761\n",
      "var1 0\n",
      "var2 5881\n",
      "[33058, 15333]\n",
      "var3 15333\n",
      "var0 40698\n",
      "var1 0\n",
      "var2 5874\n",
      "[15325, 33075]\n",
      "var3 15325\n",
      "var0 40696\n",
      "var1 0\n",
      "var2 5874\n",
      "[15317, 33088]\n",
      "var3 15317\n",
      "var0 40691\n",
      "var1 0\n",
      "var2 5884\n",
      "[33086, 15311]\n",
      "var3 15311\n",
      "var0 40689\n",
      "var1 0\n",
      "var2 5877\n",
      "[15302, 33084]\n",
      "var3 15302\n",
      "var0 40707\n",
      "var1 0\n",
      "var2 5878\n",
      "[15285, 33087]\n",
      "var3 15285\n",
      "var0 40720\n",
      "var1 0\n",
      "var2 5879\n",
      "[15236, 33155]\n",
      "var3 15236\n",
      "var0 40700\n",
      "var1 0\n",
      "var2 5880\n",
      "[15191, 33260]\n",
      "var3 15191\n",
      "var0 40639\n",
      "var1 0\n",
      "var2 5887\n",
      "[15191, 33288]\n",
      "var3 15191\n",
      "var0 40604\n",
      "var1 0\n",
      "var2 5882\n",
      "[15184, 33324]\n",
      "var3 15184\n",
      "var0 40580\n",
      "var1 0\n",
      "var2 5895\n",
      "[33350, 15163]\n",
      "var3 15163\n",
      "var0 40562\n",
      "var1 0\n",
      "var2 5897\n",
      "[33395, 15139]\n",
      "var3 15139\n",
      "var0 40539\n",
      "var1 0\n",
      "var2 5896\n",
      "[33417, 15132]\n",
      "var3 15132\n",
      "var0 40525\n",
      "var1 0\n",
      "var2 5897\n",
      "[33414, 15110]\n",
      "var3 15110\n",
      "var0 40549\n",
      "var1 0\n",
      "var2 5899\n",
      "[15102, 33424]\n",
      "var3 15102\n",
      "var0 40545\n",
      "var1 0\n",
      "var2 5899\n",
      "[15105, 33443]\n",
      "var3 15105\n",
      "var0 40523\n",
      "var1 0\n",
      "var2 5897\n",
      "[33482, 15103]\n",
      "var3 15103\n",
      "var0 40488\n",
      "var1 0\n",
      "var2 5901\n",
      "[33475, 15119]\n",
      "var3 15119\n",
      "var0 40475\n",
      "var1 0\n",
      "var2 5897\n",
      "[33477, 15117]\n",
      "var3 15117\n",
      "var0 40479\n",
      "var1 0\n",
      "var2 5910\n",
      "[33473, 15132]\n",
      "var3 15132\n",
      "var0 40455\n",
      "var1 0\n",
      "var2 5898\n",
      "[15120, 33487]\n",
      "var3 15120\n",
      "var0 40465\n",
      "var1 0\n",
      "var2 5897\n",
      "[33481, 15121]\n",
      "var3 15121\n",
      "var0 40471\n",
      "var1 0\n",
      "var2 5911\n",
      "[15114, 33476]\n",
      "var3 15114\n",
      "var0 40469\n",
      "var1 0\n",
      "var2 5915\n",
      "[33467, 15109]\n",
      "var3 15109\n",
      "var0 40479\n",
      "var1 0\n",
      "var2 5927\n",
      "[33449, 15115]\n",
      "var3 15115\n",
      "var0 40479\n",
      "var1 0\n",
      "var2 5931\n",
      "[15120, 33432]\n",
      "var3 15120\n",
      "var0 40487\n",
      "var1 0\n",
      "var2 5930\n",
      "[15121, 33432]\n",
      "var3 15121\n",
      "var0 40487\n",
      "var1 0\n",
      "var2 5931\n",
      "[15112, 33421]\n",
      "var3 15112\n",
      "var0 40506\n",
      "var1 0\n",
      "var2 5930\n",
      "[33426, 15102]\n",
      "var3 15102\n",
      "var0 40512\n",
      "var1 0\n",
      "var2 5930\n",
      "[15084, 33434]\n",
      "var3 15084\n",
      "var0 40522\n",
      "var1 0\n",
      "var2 5917\n",
      "[33456, 15085]\n",
      "var3 15085\n",
      "var0 40512\n",
      "var1 0\n",
      "var2 5930\n",
      "[15076, 33459]\n",
      "var3 15076\n",
      "var0 40505\n",
      "var1 0\n",
      "var2 5931\n",
      "[33530, 15070]\n",
      "var3 15070\n",
      "var0 40439\n",
      "var1 0\n",
      "var2 5932\n",
      "[15063, 33603]\n",
      "var3 15063\n",
      "var0 40372\n",
      "var1 0\n",
      "var2 5935\n",
      "[15057, 33637]\n",
      "var3 15057\n",
      "var0 40341\n",
      "var1 0\n",
      "var2 5935\n",
      "[15066, 33638]\n",
      "var3 15066\n",
      "var0 40331\n",
      "var1 0\n",
      "var2 5935\n",
      "[33646, 15061]\n",
      "var3 15061\n",
      "var0 40328\n",
      "var1 0\n",
      "var2 5935\n",
      "[33676, 15058]\n",
      "var3 15058\n",
      "var0 40301\n",
      "var1 0\n",
      "var2 5940\n",
      "[15064, 33676]\n",
      "var3 15064\n",
      "var0 40290\n",
      "var1 0\n",
      "var2 5941\n",
      "[33666, 15071]\n",
      "var3 15071\n",
      "var0 40292\n",
      "var1 0\n",
      "var2 5943\n",
      "[15065, 33636]\n",
      "var3 15065\n",
      "var0 40326\n",
      "var1 0\n",
      "var2 5946\n",
      "[15044, 33604]\n",
      "var3 15044\n",
      "var0 40376\n",
      "var1 0\n",
      "var2 5948\n",
      "[15045, 33571]\n",
      "var3 15045\n",
      "var0 40406\n",
      "var1 0\n",
      "var2 5952\n",
      "[15039, 33581]\n",
      "var3 15039\n",
      "var0 40398\n",
      "var1 0\n",
      "var2 5955\n",
      "[15036, 33587]\n",
      "var3 15036\n",
      "var0 40392\n",
      "var1 0\n",
      "var2 5955\n",
      "[15030, 33644]\n",
      "var3 15030\n",
      "var0 40341\n",
      "var1 0\n",
      "var2 5959\n",
      "[33631, 15033]\n",
      "var3 15033\n",
      "var0 40347\n",
      "var1 0\n",
      "var2 5979\n",
      "[15028, 33604]\n",
      "var3 15028\n",
      "var0 40359\n",
      "var1 0\n",
      "var2 5982\n",
      "[14960, 33621]\n",
      "var3 14960\n",
      "var0 40407\n",
      "var1 0\n",
      "var2 5981\n",
      "[33570, 14930]\n",
      "var3 14930\n",
      "var0 40489\n",
      "var1 0\n",
      "var2 5984\n",
      "[14896, 33733]\n",
      "var3 14896\n",
      "var0 40357\n",
      "var1 0\n",
      "var2 5981\n",
      "[14863, 33871]\n",
      "var3 14863\n",
      "var0 40255\n",
      "var1 0\n",
      "var2 5982\n",
      "[14812, 33896]\n",
      "var3 14812\n",
      "var0 40280\n",
      "var1 0\n",
      "var2 5983\n",
      "[14786, 33994]\n",
      "var3 14786\n",
      "var0 40207\n",
      "var1 0\n",
      "var2 5987\n",
      "[14771, 34205]\n",
      "var3 14771\n",
      "var0 40007\n",
      "var1 0\n",
      "var2 5984\n",
      "[14747, 34359]\n",
      "var3 14747\n",
      "var0 39880\n",
      "var1 0\n",
      "var2 5981\n",
      "[14772, 34404]\n",
      "var3 14772\n",
      "var0 39813\n",
      "var1 0\n",
      "var2 5991\n",
      "[34369, 14715]\n",
      "var3 14715\n",
      "var0 39895\n",
      "var1 0\n",
      "var2 5997\n",
      "[14701, 34376]\n",
      "var3 14701\n",
      "var0 39896\n",
      "var1 0\n",
      "var2 6001\n",
      "[34446, 14688]\n",
      "var3 14688\n",
      "var0 39835\n",
      "var1 0\n",
      "var2 6001\n",
      "[14673, 34723]\n",
      "var3 14673\n",
      "var0 39573\n",
      "var1 0\n",
      "var2 5993\n",
      "[34993, 14692]\n",
      "var3 14692\n",
      "var0 39292\n",
      "var1 0\n",
      "var2 6009\n",
      "[35244, 14672]\n",
      "var3 14672\n",
      "var0 39045\n",
      "var1 0\n",
      "var2 6015\n",
      "[14697, 35819]\n",
      "var3 14697\n",
      "var0 38439\n",
      "var1 0\n",
      "var2 6013\n",
      "[35884, 14715]\n",
      "var3 14715\n",
      "var0 38358\n",
      "var1 0\n",
      "var2 6010\n",
      "[14745, 36524]\n",
      "var3 14745\n",
      "var0 37691\n",
      "var1 0\n",
      "var2 6028\n",
      "[36663, 14756]\n",
      "var3 14756\n",
      "var0 37523\n",
      "var1 0\n",
      "var2 6020\n",
      "[14765, 36547]\n",
      "var3 14765\n",
      "var0 37638\n",
      "var1 0\n",
      "var2 6011\n",
      "[14749, 36539]\n",
      "var3 14749\n",
      "var0 37671\n",
      "var1 0\n",
      "var2 6036\n",
      "[36398, 14819]\n",
      "var3 14819\n",
      "var0 37717\n",
      "var1 0\n",
      "var2 6026\n",
      "[14862, 36297]\n",
      "var3 14862\n",
      "var0 37785\n",
      "var1 0\n",
      "var2 6034\n",
      "[14764, 36210]\n",
      "var3 14764\n",
      "var0 37962\n",
      "var1 0\n",
      "var2 6034\n",
      "[14695, 35948]\n",
      "var3 14695\n",
      "var0 38293\n"
     ]
    }
   ],
   "source": [
    "data_clust[\"Class 0 True\"],data_clust[\"Class 1 True\"],data_clust[\"Class 2 True\"],data_clust[\"Class 3 True\"] = class_transformer(data_clust)"
   ]
  },
  {
   "cell_type": "code",
   "execution_count": 29,
   "id": "3e93252f",
   "metadata": {},
   "outputs": [
    {
     "data": {
      "text/html": [
       "<div>\n",
       "<style scoped>\n",
       "    .dataframe tbody tr th:only-of-type {\n",
       "        vertical-align: middle;\n",
       "    }\n",
       "\n",
       "    .dataframe tbody tr th {\n",
       "        vertical-align: top;\n",
       "    }\n",
       "\n",
       "    .dataframe thead th {\n",
       "        text-align: right;\n",
       "    }\n",
       "</style>\n",
       "<table border=\"1\" class=\"dataframe\">\n",
       "  <thead>\n",
       "    <tr style=\"text-align: right;\">\n",
       "      <th></th>\n",
       "      <th>times</th>\n",
       "      <th>Class 0 True</th>\n",
       "      <th>Class 1 True</th>\n",
       "      <th>Class 2 True</th>\n",
       "      <th>Class 3 True</th>\n",
       "      <th>Class 0 Pred</th>\n",
       "      <th>Class 1 Pred</th>\n",
       "      <th>Class 2 Pred</th>\n",
       "      <th>Class 3 Pred</th>\n",
       "    </tr>\n",
       "  </thead>\n",
       "  <tbody>\n",
       "    <tr>\n",
       "      <th>0</th>\n",
       "      <td>1</td>\n",
       "      <td>41683</td>\n",
       "      <td>31948</td>\n",
       "      <td>5751</td>\n",
       "      <td>15588</td>\n",
       "      <td>41701</td>\n",
       "      <td>31836</td>\n",
       "      <td>5831</td>\n",
       "      <td>15602</td>\n",
       "    </tr>\n",
       "    <tr>\n",
       "      <th>1</th>\n",
       "      <td>4</td>\n",
       "      <td>41655</td>\n",
       "      <td>31893</td>\n",
       "      <td>5831</td>\n",
       "      <td>15591</td>\n",
       "      <td>41701</td>\n",
       "      <td>31836</td>\n",
       "      <td>5831</td>\n",
       "      <td>15602</td>\n",
       "    </tr>\n",
       "    <tr>\n",
       "      <th>2</th>\n",
       "      <td>7</td>\n",
       "      <td>41643</td>\n",
       "      <td>31908</td>\n",
       "      <td>5831</td>\n",
       "      <td>15588</td>\n",
       "      <td>41701</td>\n",
       "      <td>31836</td>\n",
       "      <td>5831</td>\n",
       "      <td>15602</td>\n",
       "    </tr>\n",
       "    <tr>\n",
       "      <th>3</th>\n",
       "      <td>11</td>\n",
       "      <td>41635</td>\n",
       "      <td>31916</td>\n",
       "      <td>5831</td>\n",
       "      <td>15588</td>\n",
       "      <td>41701</td>\n",
       "      <td>31836</td>\n",
       "      <td>5831</td>\n",
       "      <td>15602</td>\n",
       "    </tr>\n",
       "    <tr>\n",
       "      <th>4</th>\n",
       "      <td>14</td>\n",
       "      <td>41635</td>\n",
       "      <td>31916</td>\n",
       "      <td>5831</td>\n",
       "      <td>15588</td>\n",
       "      <td>41701</td>\n",
       "      <td>31836</td>\n",
       "      <td>5831</td>\n",
       "      <td>15602</td>\n",
       "    </tr>\n",
       "    <tr>\n",
       "      <th>...</th>\n",
       "      <td>...</td>\n",
       "      <td>...</td>\n",
       "      <td>...</td>\n",
       "      <td>...</td>\n",
       "      <td>...</td>\n",
       "      <td>...</td>\n",
       "      <td>...</td>\n",
       "      <td>...</td>\n",
       "      <td>...</td>\n",
       "    </tr>\n",
       "    <tr>\n",
       "      <th>145</th>\n",
       "      <td>486</td>\n",
       "      <td>37671</td>\n",
       "      <td>36539</td>\n",
       "      <td>6011</td>\n",
       "      <td>14749</td>\n",
       "      <td>41701</td>\n",
       "      <td>31836</td>\n",
       "      <td>5831</td>\n",
       "      <td>15602</td>\n",
       "    </tr>\n",
       "    <tr>\n",
       "      <th>146</th>\n",
       "      <td>489</td>\n",
       "      <td>37717</td>\n",
       "      <td>36398</td>\n",
       "      <td>6036</td>\n",
       "      <td>14819</td>\n",
       "      <td>41701</td>\n",
       "      <td>31836</td>\n",
       "      <td>5831</td>\n",
       "      <td>15602</td>\n",
       "    </tr>\n",
       "    <tr>\n",
       "      <th>147</th>\n",
       "      <td>493</td>\n",
       "      <td>37785</td>\n",
       "      <td>36297</td>\n",
       "      <td>6026</td>\n",
       "      <td>14862</td>\n",
       "      <td>41701</td>\n",
       "      <td>31836</td>\n",
       "      <td>5831</td>\n",
       "      <td>15602</td>\n",
       "    </tr>\n",
       "    <tr>\n",
       "      <th>148</th>\n",
       "      <td>496</td>\n",
       "      <td>37962</td>\n",
       "      <td>36210</td>\n",
       "      <td>6034</td>\n",
       "      <td>14764</td>\n",
       "      <td>41701</td>\n",
       "      <td>31836</td>\n",
       "      <td>5831</td>\n",
       "      <td>15602</td>\n",
       "    </tr>\n",
       "    <tr>\n",
       "      <th>149</th>\n",
       "      <td>500</td>\n",
       "      <td>38293</td>\n",
       "      <td>35948</td>\n",
       "      <td>6034</td>\n",
       "      <td>14695</td>\n",
       "      <td>41701</td>\n",
       "      <td>31836</td>\n",
       "      <td>5831</td>\n",
       "      <td>15602</td>\n",
       "    </tr>\n",
       "  </tbody>\n",
       "</table>\n",
       "<p>150 rows × 9 columns</p>\n",
       "</div>"
      ],
      "text/plain": [
       "     times  Class 0 True  Class 1 True  Class 2 True  Class 3 True  \\\n",
       "0        1         41683         31948          5751         15588   \n",
       "1        4         41655         31893          5831         15591   \n",
       "2        7         41643         31908          5831         15588   \n",
       "3       11         41635         31916          5831         15588   \n",
       "4       14         41635         31916          5831         15588   \n",
       "..     ...           ...           ...           ...           ...   \n",
       "145    486         37671         36539          6011         14749   \n",
       "146    489         37717         36398          6036         14819   \n",
       "147    493         37785         36297          6026         14862   \n",
       "148    496         37962         36210          6034         14764   \n",
       "149    500         38293         35948          6034         14695   \n",
       "\n",
       "     Class 0 Pred  Class 1 Pred  Class 2 Pred  Class 3 Pred  \n",
       "0           41701         31836          5831         15602  \n",
       "1           41701         31836          5831         15602  \n",
       "2           41701         31836          5831         15602  \n",
       "3           41701         31836          5831         15602  \n",
       "4           41701         31836          5831         15602  \n",
       "..            ...           ...           ...           ...  \n",
       "145         41701         31836          5831         15602  \n",
       "146         41701         31836          5831         15602  \n",
       "147         41701         31836          5831         15602  \n",
       "148         41701         31836          5831         15602  \n",
       "149         41701         31836          5831         15602  \n",
       "\n",
       "[150 rows x 9 columns]"
      ]
     },
     "execution_count": 29,
     "metadata": {},
     "output_type": "execute_result"
    }
   ],
   "source": [
    "data_clust"
   ]
  },
  {
   "cell_type": "markdown",
   "id": "71fa34aa",
   "metadata": {},
   "source": [
    "On calcule le pourentage d'erreurs de la prédiction entre le modèle M0 et Mt."
   ]
  },
  {
   "cell_type": "code",
   "execution_count": 30,
   "id": "f0e1d05c",
   "metadata": {},
   "outputs": [],
   "source": [
    "data_clust[\"% Class 0\"] = (data_clust[\"Class 0 True\"]/ data_clust[\"Class 0 Pred\"])*100\n",
    "data_clust[\"% Class 1\"] = (data_clust[\"Class 1 True\"]/ data_clust[\"Class 1 Pred\"])*100\n",
    "data_clust[\"% Class 2\"] = (data_clust[\"Class 2 True\"]/ data_clust[\"Class 2 Pred\"])*100\n",
    "data_clust[\"% Class 3\"] = (data_clust[\"Class 3 True\"]/ data_clust[\"Class 3 Pred\"])*100"
   ]
  },
  {
   "cell_type": "code",
   "execution_count": 31,
   "id": "8f198cbd",
   "metadata": {},
   "outputs": [
    {
     "data": {
      "text/plain": [
       "<pandas.plotting._core.PlotAccessor object at 0x00000245A3C2BA30>"
      ]
     },
     "execution_count": 31,
     "metadata": {},
     "output_type": "execute_result"
    }
   ],
   "source": [
    "data_clust.plot"
   ]
  },
  {
   "cell_type": "code",
   "execution_count": 32,
   "id": "b7e32e0a",
   "metadata": {},
   "outputs": [
    {
     "name": "stderr",
     "output_type": "stream",
     "text": [
      "No handles with labels found to put in legend.\n"
     ]
    },
    {
     "data": {
      "text/plain": [
       "<AxesSubplot:title={'center':'Divergence des clusters'}, xlabel='Temps en jours', ylabel='Nbr Population'>"
      ]
     },
     "execution_count": 32,
     "metadata": {},
     "output_type": "execute_result"
    },
    {
     "data": {
      "image/png": "[encoded data removed]",
      "text/plain": [
       "<Figure size 1440x720 with 1 Axes>"
      ]
     },
     "metadata": {},
     "output_type": "display_data"
    }
   ],
   "source": [
    "plt.legend()\n",
    "plt.title(\"Divergence des clusters\")\n",
    "plt.ylabel(\"Nbr Population\")\n",
    "plt.xlabel(\"Temps en jours\")\n",
    "\n",
    "data_clust[\"Class 0 True\"].plot(figsize = (20,10),color = 'green')\n",
    "data_clust[\"Class 0 Pred\"].plot(figsize = (20,10),color = 'red')"
   ]
  },
  {
   "cell_type": "code",
   "execution_count": 33,
   "id": "09e1583e",
   "metadata": {},
   "outputs": [
    {
     "name": "stderr",
     "output_type": "stream",
     "text": [
      "No handles with labels found to put in legend.\n"
     ]
    },
    {
     "data": {
      "text/plain": [
       "<AxesSubplot:title={'center':'Divergence des clusters'}, xlabel='Temps en jours', ylabel='Nbr Population'>"
      ]
     },
     "execution_count": 33,
     "metadata": {},
     "output_type": "execute_result"
    },
    {
     "data": {
      "image/png": "[encoded data removed]",
      "text/plain": [
       "<Figure size 1440x720 with 1 Axes>"
      ]
     },
     "metadata": {},
     "output_type": "display_data"
    }
   ],
   "source": [
    "plt.legend()\n",
    "plt.title(\"Divergence des clusters\")\n",
    "plt.ylabel(\"Nbr Population\")\n",
    "plt.xlabel(\"Temps en jours\")\n",
    "\n",
    "data_clust[\"Class 1 True\"].plot(figsize = (20,10),color = 'green')\n",
    "data_clust[\"Class 1 Pred\"].plot(figsize = (20,10),color = 'red')"
   ]
  },
  {
   "cell_type": "code",
   "execution_count": 34,
   "id": "0f710069",
   "metadata": {},
   "outputs": [
    {
     "name": "stderr",
     "output_type": "stream",
     "text": [
      "No handles with labels found to put in legend.\n"
     ]
    },
    {
     "data": {
      "text/plain": [
       "<AxesSubplot:title={'center':'Divergence des clusters'}, xlabel='Temps en jours', ylabel='Nbr Population'>"
      ]
     },
     "execution_count": 34,
     "metadata": {},
     "output_type": "execute_result"
    },
    {
     "data": {
      "image/png": "[encoded data removed]",
      "text/plain": [
       "<Figure size 1440x720 with 1 Axes>"
      ]
     },
     "metadata": {},
     "output_type": "display_data"
    }
   ],
   "source": [
    "plt.legend()\n",
    "plt.title(\"Divergence des clusters\")\n",
    "plt.ylabel(\"Nbr Population\")\n",
    "plt.xlabel(\"Temps en jours\")\n",
    "\n",
    "data_clust[\"Class 2 True\"].plot(figsize = (20,10),color = 'blue')\n",
    "data_clust[\"Class 2 Pred\"].plot(figsize = (20,10),color = 'red')"
   ]
  },
  {
   "cell_type": "code",
   "execution_count": 35,
   "id": "9ab7c959",
   "metadata": {},
   "outputs": [
    {
     "name": "stderr",
     "output_type": "stream",
     "text": [
      "No handles with labels found to put in legend.\n"
     ]
    },
    {
     "data": {
      "text/plain": [
       "<AxesSubplot:title={'center':'Divergence des clusters'}, xlabel='Temps en jours', ylabel='Nbr Population'>"
      ]
     },
     "execution_count": 35,
     "metadata": {},
     "output_type": "execute_result"
    },
    {
     "data": {
      "image/png": "[encoded data removed]",
      "text/plain": [
       "<Figure size 1440x720 with 1 Axes>"
      ]
     },
     "metadata": {},
     "output_type": "display_data"
    }
   ],
   "source": [
    "plt.legend()\n",
    "plt.title(\"Divergence des clusters\")\n",
    "plt.ylabel(\"Nbr Population\")\n",
    "plt.xlabel(\"Temps en jours\")\n",
    "\n",
    "data_clust[\"Class 3 True\"].plot(figsize = (20,10),color = 'black')\n",
    "data_clust[\"Class 3 Pred\"].plot(figsize = (20,10),color = 'red')"
   ]
  },
  {
   "cell_type": "code",
   "execution_count": 36,
   "id": "d4577a35",
   "metadata": {},
   "outputs": [
    {
     "data": {
      "text/plain": [
       "<matplotlib.legend.Legend at 0x245a65469d0>"
      ]
     },
     "execution_count": 36,
     "metadata": {},
     "output_type": "execute_result"
    },
    {
     "data": {
      "image/png": "[encoded data removed]",
      "text/plain": [
       "<Figure size 1440x720 with 1 Axes>"
      ]
     },
     "metadata": {},
     "output_type": "display_data"
    }
   ],
   "source": [
    "\n",
    "plt.title(\"Divergence des clusters\")\n",
    "plt.ylabel(\"Nbr Population\")\n",
    "plt.xlabel(\"Temps en jours\")\n",
    "\n",
    "data_clust[\"Class 0 True\"].plot(figsize = (20,10),color = 'black')\n",
    "data_clust[\"Class 1 True\"].plot(figsize = (20,10),color = 'red')\n",
    "data_clust[\"Class 2 True\"].plot(figsize = (20,10),color = 'blue')\n",
    "data_clust[\"Class 3 True\"].plot(figsize = (20,10),color = 'green')\n",
    "plt.grid(False)\n",
    "plt.legend()\n"
   ]
  },
  {
   "cell_type": "markdown",
   "id": "22301b8e",
   "metadata": {},
   "source": [
    "Les deux gros clusters sont le plus impactés par l'instabilité du modèle."
   ]
  },
  {
   "cell_type": "code",
   "execution_count": 37,
   "id": "60e65048",
   "metadata": {},
   "outputs": [
    {
     "data": {
      "text/plain": [
       "<matplotlib.legend.Legend at 0x245a5e74a60>"
      ]
     },
     "execution_count": 37,
     "metadata": {},
     "output_type": "execute_result"
    },
    {
     "data": {
      "image/png": "[encoded data removed]",
      "text/plain": [
       "<Figure size 1440x720 with 1 Axes>"
      ]
     },
     "metadata": {},
     "output_type": "display_data"
    }
   ],
   "source": [
    "plt.title(\"Divergence des clusters en %\")\n",
    "plt.ylabel(\"Ratio\")\n",
    "plt.xlabel(\"Temps en jours\")\n",
    "\n",
    "data_clust[\"% Class 0\"].plot(figsize = (20,10),color = 'black')\n",
    "data_clust[\"% Class 1\"].plot(figsize = (20,10),color = 'red')\n",
    "data_clust[\"% Class 2\"].plot(figsize = (20,10),color = 'blue')\n",
    "data_clust[\"% Class 3\"].plot(figsize = (20,10),color = 'green')\n",
    "plt.grid(False)\n",
    "plt.legend()\n"
   ]
  },
  {
   "cell_type": "markdown",
   "id": "a17ca13e",
   "metadata": {},
   "source": [
    "En pourcentage c'est le clusters 3 ET 0 sont très impacté et voient leurs population diminuer au fil du temps que le modèle devient instable. Le cluster 1 lui voit se population augmenter. Le Cluster 2 reste stable."
   ]
  }
 ],
 "metadata": {
  "kernelspec": {
   "display_name": "Python 3 (ipykernel)",
   "language": "python",
   "name": "python3"
  },
  "language_info": {
   "codemirror_mode": {
    "name": "ipython",
    "version": 3
   },
   "file_extension": ".py",
   "mimetype": "text/x-python",
   "name": "python",
   "nbconvert_exporter": "python",
   "pygments_lexer": "ipython3",
   "version": "3.9.7"
  }
 },
 "nbformat": 4,
 "nbformat_minor": 5
}
